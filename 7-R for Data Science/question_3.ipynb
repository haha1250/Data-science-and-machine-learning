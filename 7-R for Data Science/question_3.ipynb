{
 "cells": [
  {
   "cell_type": "markdown",
   "metadata": {},
   "source": [
    "# Lung Function in 1 to 10 Year Old Children"
   ]
  },
  {
   "cell_type": "markdown",
   "metadata": {},
   "source": [
    "output y = FEV (forced exhalation volume)\n",
    "\n",
    "Sử dụng Linenear Regression để thực hiện việc dự đoán **FEV** dựa trên các thuộc tính **age/ age** và **ht**"
   ]
  },
  {
   "cell_type": "code",
   "execution_count": 1,
   "metadata": {},
   "outputs": [
    {
     "data": {
      "text/html": [
       "<table class=\"dataframe\">\n",
       "<caption>A data.frame: 6 × 5</caption>\n",
       "<thead>\n",
       "\t<tr><th></th><th scope=col>age</th><th scope=col>FEV</th><th scope=col>ht</th><th scope=col>sex</th><th scope=col>smoke</th></tr>\n",
       "\t<tr><th></th><th scope=col>&lt;dbl&gt;</th><th scope=col>&lt;dbl&gt;</th><th scope=col>&lt;dbl&gt;</th><th scope=col>&lt;int&gt;</th><th scope=col>&lt;int&gt;</th></tr>\n",
       "</thead>\n",
       "<tbody>\n",
       "\t<tr><th scope=row>1</th><td>9</td><td>1.708</td><td>57.0</td><td>0</td><td>0</td></tr>\n",
       "\t<tr><th scope=row>2</th><td>8</td><td>1.724</td><td>67.5</td><td>0</td><td>0</td></tr>\n",
       "\t<tr><th scope=row>3</th><td>7</td><td>1.720</td><td>54.5</td><td>0</td><td>0</td></tr>\n",
       "\t<tr><th scope=row>4</th><td>9</td><td>1.558</td><td>53.0</td><td>1</td><td>0</td></tr>\n",
       "\t<tr><th scope=row>5</th><td>9</td><td>1.895</td><td>57.0</td><td>1</td><td>0</td></tr>\n",
       "\t<tr><th scope=row>6</th><td>8</td><td>2.336</td><td>61.0</td><td>0</td><td>0</td></tr>\n",
       "</tbody>\n",
       "</table>\n"
      ],
      "text/latex": [
       "A data.frame: 6 × 5\n",
       "\\begin{tabular}{r|lllll}\n",
       "  & age & FEV & ht & sex & smoke\\\\\n",
       "  & <dbl> & <dbl> & <dbl> & <int> & <int>\\\\\n",
       "\\hline\n",
       "\t1 & 9 & 1.708 & 57.0 & 0 & 0\\\\\n",
       "\t2 & 8 & 1.724 & 67.5 & 0 & 0\\\\\n",
       "\t3 & 7 & 1.720 & 54.5 & 0 & 0\\\\\n",
       "\t4 & 9 & 1.558 & 53.0 & 1 & 0\\\\\n",
       "\t5 & 9 & 1.895 & 57.0 & 1 & 0\\\\\n",
       "\t6 & 8 & 2.336 & 61.0 & 0 & 0\\\\\n",
       "\\end{tabular}\n"
      ],
      "text/markdown": [
       "\n",
       "A data.frame: 6 × 5\n",
       "\n",
       "| <!--/--> | age &lt;dbl&gt; | FEV &lt;dbl&gt; | ht &lt;dbl&gt; | sex &lt;int&gt; | smoke &lt;int&gt; |\n",
       "|---|---|---|---|---|---|\n",
       "| 1 | 9 | 1.708 | 57.0 | 0 | 0 |\n",
       "| 2 | 8 | 1.724 | 67.5 | 0 | 0 |\n",
       "| 3 | 7 | 1.720 | 54.5 | 0 | 0 |\n",
       "| 4 | 9 | 1.558 | 53.0 | 1 | 0 |\n",
       "| 5 | 9 | 1.895 | 57.0 | 1 | 0 |\n",
       "| 6 | 8 | 2.336 | 61.0 | 0 | 0 |\n",
       "\n"
      ],
      "text/plain": [
       "  age FEV   ht   sex smoke\n",
       "1 9   1.708 57.0 0   0    \n",
       "2 8   1.724 67.5 0   0    \n",
       "3 7   1.720 54.5 0   0    \n",
       "4 9   1.558 53.0 1   0    \n",
       "5 9   1.895 57.0 1   0    \n",
       "6 8   2.336 61.0 0   0    "
      ]
     },
     "metadata": {},
     "output_type": "display_data"
    }
   ],
   "source": [
    "data <- read.csv(\"./Du lieu cung cap/children_lung.csv\",header=TRUE)\n",
    "head(data)"
   ]
  },
  {
   "cell_type": "code",
   "execution_count": 2,
   "metadata": {},
   "outputs": [],
   "source": [
    "data$sex = as.factor(data$sex)\n",
    "data$smoke = as.factor(data$smoke)"
   ]
  },
  {
   "cell_type": "code",
   "execution_count": 3,
   "metadata": {},
   "outputs": [
    {
     "name": "stdout",
     "output_type": "stream",
     "text": [
      "[1] TRUE\n"
     ]
    }
   ],
   "source": [
    "print(is.data.frame(data))"
   ]
  },
  {
   "cell_type": "code",
   "execution_count": 4,
   "metadata": {},
   "outputs": [
    {
     "name": "stdout",
     "output_type": "stream",
     "text": [
      "[1] \"cols:  5\"\n",
      "[1] \"rows:  654\"\n"
     ]
    }
   ],
   "source": [
    "print(paste(\"cols: \", ncol(data)))\n",
    "print(paste(\"rows: \", nrow(data)))"
   ]
  },
  {
   "cell_type": "code",
   "execution_count": 5,
   "metadata": {},
   "outputs": [
    {
     "data": {
      "text/plain": [
       "      age             FEV               ht          sex       smoke    \n",
       " Min.   :1.458   Min.   : 0.791   Min.   :46.00   0   :155   0   :308  \n",
       " 1st Qu.:3.049   1st Qu.: 2.041   1st Qu.:53.50   1   :154   1   :  1  \n",
       " Median :4.330   Median :59.000   Median :57.00   NA's:345   NA's:345  \n",
       " Mean   :5.205   Mean   :35.210   Mean   :56.92                        \n",
       " 3rd Qu.:8.000   3rd Qu.:65.000   3rd Qu.:60.00                        \n",
       " Max.   :9.000   Max.   :74.000   Max.   :69.00                        \n",
       "                                  NA's   :345                          "
      ]
     },
     "metadata": {},
     "output_type": "display_data"
    }
   ],
   "source": [
    "summary(data)"
   ]
  },
  {
   "cell_type": "code",
   "execution_count": 6,
   "metadata": {},
   "outputs": [
    {
     "name": "stdout",
     "output_type": "stream",
     "text": [
      "'data.frame':\t654 obs. of  5 variables:\n",
      " $ age  : num  9 8 7 9 9 8 6 6 8 9 ...\n",
      " $ FEV  : num  1.71 1.72 1.72 1.56 1.9 ...\n",
      " $ ht   : num  57 67.5 54.5 53 57 61 58 56 58.5 60 ...\n",
      " $ sex  : Factor w/ 2 levels \"0\",\"1\": 1 1 1 2 2 1 1 1 1 1 ...\n",
      " $ smoke: Factor w/ 2 levels \"0\",\"1\": 1 1 1 1 1 1 1 1 1 1 ...\n"
     ]
    }
   ],
   "source": [
    "str(data)"
   ]
  },
  {
   "cell_type": "code",
   "execution_count": 7,
   "metadata": {},
   "outputs": [
    {
     "name": "stderr",
     "output_type": "stream",
     "text": [
      "Warning message:\n",
      "\"package 'Amelia' was built under R version 3.6.3\"\n",
      "Loading required package: Rcpp\n",
      "\n",
      "## \n",
      "## Amelia II: Multiple Imputation\n",
      "## (Version 1.7.6, built: 2019-11-24)\n",
      "## Copyright (C) 2005-2021 James Honaker, Gary King and Matthew Blackwell\n",
      "## Refer to http://gking.harvard.edu/amelia/ for more information\n",
      "## \n",
      "\n"
     ]
    }
   ],
   "source": [
    "library(Amelia)"
   ]
  },
  {
   "cell_type": "code",
   "execution_count": 8,
   "metadata": {},
   "outputs": [
    {
     "data": {
      "image/png": "[encoded data removed]",
      "text/plain": [
       "Plot with title \"Missing values vs observed\""
      ]
     },
     "metadata": {
      "image/png": {
       "height": 420,
       "width": 420
      }
     },
     "output_type": "display_data"
    }
   ],
   "source": [
    "missmap(data, main=\"Missing values vs observed\")"
   ]
  },
  {
   "cell_type": "markdown",
   "metadata": {},
   "source": [
    "Có 32% dữ liệu bị thiếu ở cột smoke, sex và ht, tương đối nhiều so với tập dữ liệu"
   ]
  },
  {
   "cell_type": "code",
   "execution_count": 9,
   "metadata": {},
   "outputs": [
    {
     "data": {
      "image/png": "[encoded data removed]",
      "text/plain": [
       "plot without title"
      ]
     },
     "metadata": {
      "image/png": {
       "height": 420,
       "width": 420
      }
     },
     "output_type": "display_data"
    }
   ],
   "source": [
    "plot(data$age, data$FEV)"
   ]
  },
  {
   "cell_type": "markdown",
   "metadata": {},
   "source": [
    "Biểu đồ trên cho thấy với FEV < 10, age tăng không làm FEV tăng đáng kể. Với FEV > 10, có sự thay đổi rõ rệt ở FEV khi age tăng.\n",
    "--> chia dữ liệu thành 2 phần : FEV <10 và FEV >10."
   ]
  },
  {
   "cell_type": "code",
   "execution_count": 10,
   "metadata": {},
   "outputs": [
    {
     "data": {
      "image/png": "[encoded data removed]",
      "text/plain": [
       "plot without title"
      ]
     },
     "metadata": {
      "image/png": {
       "height": 420,
       "width": 420
      }
     },
     "output_type": "display_data"
    }
   ],
   "source": [
    "plot(data$ht, data$FEV)"
   ]
  },
  {
   "cell_type": "markdown",
   "metadata": {},
   "source": [
    "Biểu đồ trên cho thấy với FEV > 10, không có dữ liệu ht. Sẽ điền dữ liệu thiếu ở cột ht sau khi chia dữ liệu FEV."
   ]
  },
  {
   "cell_type": "markdown",
   "metadata": {},
   "source": [
    "**Chia dữ liệu**"
   ]
  },
  {
   "cell_type": "code",
   "execution_count": 11,
   "metadata": {},
   "outputs": [],
   "source": [
    "data_FEV_less_10 <- data[data$FEV <10,]\n",
    "data_FEV_more_10 <- data[data$FEV >10,]"
   ]
  },
  {
   "cell_type": "code",
   "execution_count": 12,
   "metadata": {},
   "outputs": [
    {
     "name": "stdout",
     "output_type": "stream",
     "text": [
      "[1] 309\n"
     ]
    }
   ],
   "source": [
    "print(nrow(data_FEV_less_10))"
   ]
  },
  {
   "cell_type": "code",
   "execution_count": 13,
   "metadata": {},
   "outputs": [
    {
     "name": "stdout",
     "output_type": "stream",
     "text": [
      "[1] 345\n"
     ]
    }
   ],
   "source": [
    "print(nrow(data_FEV_more_10))"
   ]
  },
  {
   "cell_type": "markdown",
   "metadata": {},
   "source": [
    "### Với data_FEV_more_10 :\n",
    "\n",
    "a. Thực hiện Simple Linear Regression để dự đoán FEV từ age. Xây dựng model. Đánh giá model.\n",
    "\n",
    "b. Cho age lần lượt là: [2, 3, 4, 5]. Hãy cho biết FEV lần lượt là bao nhiêu?\n",
    "\n",
    "c. Trực quan hóa kết quả."
   ]
  },
  {
   "cell_type": "code",
   "execution_count": 14,
   "metadata": {},
   "outputs": [
    {
     "name": "stderr",
     "output_type": "stream",
     "text": [
      "Warning message:\n",
      "\"package 'ggplot2' was built under R version 3.6.3\"\n"
     ]
    }
   ],
   "source": [
    "library(\"ggplot2\")"
   ]
  },
  {
   "cell_type": "code",
   "execution_count": 15,
   "metadata": {},
   "outputs": [],
   "source": [
    "plot <- ggplot(data = data_FEV_more_10, aes(x=age, y=FEV))+\n",
    "        geom_point() + geom_smooth(formula = y ~ x,method=\"lm\") +\n",
    "        theme_bw(base_size = 14)"
   ]
  },
  {
   "cell_type": "code",
   "execution_count": 16,
   "metadata": {},
   "outputs": [
    {
     "data": {
      "image/png": "[encoded data removed]",
      "text/plain": [
       "plot without title"
      ]
     },
     "metadata": {
      "image/png": {
       "height": 420,
       "width": 420
      }
     },
     "output_type": "display_data"
    }
   ],
   "source": [
    "plot"
   ]
  },
  {
   "cell_type": "code",
   "execution_count": 17,
   "metadata": {},
   "outputs": [
    {
     "name": "stdout",
     "output_type": "stream",
     "text": [
      "[1] 0.7607791\n"
     ]
    }
   ],
   "source": [
    "print(cor(data_FEV_more_10$FEV, data_FEV_more_10$age))"
   ]
  },
  {
   "cell_type": "markdown",
   "metadata": {},
   "source": [
    "Với FEV >10, FEV và age có tương quan tuyến tính thuận cao."
   ]
  },
  {
   "cell_type": "code",
   "execution_count": 18,
   "metadata": {},
   "outputs": [
    {
     "data": {
      "image/png": "[encoded data removed]",
      "text/plain": [
       "Plot with title \"FEV\""
      ]
     },
     "metadata": {
      "image/png": {
       "height": 420,
       "width": 420
      }
     },
     "output_type": "display_data"
    }
   ],
   "source": [
    "par(mfrow = c(1,2))\n",
    "boxplot(data_FEV_more_10$age, main=\"age\",\n",
    "       sub=paste(\"Outlier rows: \", boxplot.stats(data_FEV_more_10$age)$out))\n",
    "boxplot(data_FEV_more_10$FEV, main=\"FEV\",\n",
    "       sub=paste(\"Outlier rows: \", boxplot.stats(data_FEV_more_10$FEV)$out))"
   ]
  },
  {
   "cell_type": "markdown",
   "metadata": {},
   "source": [
    "Cột age có khoảng 6 outliers trên, cột FEV có 1 outlier dưới."
   ]
  },
  {
   "cell_type": "code",
   "execution_count": 19,
   "metadata": {},
   "outputs": [],
   "source": [
    "fev_out <- boxplot.stats(data_FEV_more_10$FEV)$out\n",
    "age_out <- boxplot.stats(data_FEV_more_10$age)$out"
   ]
  },
  {
   "cell_type": "code",
   "execution_count": 20,
   "metadata": {},
   "outputs": [],
   "source": [
    "data_FEV_more_10_new <- data_FEV_more_10[!(data_FEV_more_10$FEV %in% fev_out),]\n",
    "data_FEV_more_10_new <- data_FEV_more_10_new[!(data_FEV_more_10_new$age %in% age_out),]"
   ]
  },
  {
   "cell_type": "code",
   "execution_count": 21,
   "metadata": {},
   "outputs": [
    {
     "name": "stdout",
     "output_type": "stream",
     "text": [
      "[1] 338\n"
     ]
    }
   ],
   "source": [
    "print(nrow(data_FEV_more_10_new))"
   ]
  },
  {
   "cell_type": "code",
   "execution_count": 22,
   "metadata": {},
   "outputs": [
    {
     "data": {
      "image/png": "[encoded data removed]",
      "text/plain": [
       "Plot with title \"FEV\""
      ]
     },
     "metadata": {
      "image/png": {
       "height": 420,
       "width": 420
      }
     },
     "output_type": "display_data"
    }
   ],
   "source": [
    "par(mfrow = c(1,2))\n",
    "boxplot(data_FEV_more_10_new$age, main=\"age\",\n",
    "       sub=paste(\"Outlier rows: \", boxplot.stats(data_FEV_more_10_new$age)$out))\n",
    "boxplot(data_FEV_more_10_new$FEV, main=\"FEV\",\n",
    "       sub=paste(\"Outlier rows: \", boxplot.stats(data_FEV_more_10_new$FEV)$out))"
   ]
  },
  {
   "cell_type": "code",
   "execution_count": 23,
   "metadata": {},
   "outputs": [
    {
     "data": {
      "image/png": "[encoded data removed]",
      "text/plain": [
       "Plot with title \"Missing values vs observed\""
      ]
     },
     "metadata": {
      "image/png": {
       "height": 420,
       "width": 420
      }
     },
     "output_type": "display_data"
    }
   ],
   "source": [
    "missmap(data_FEV_more_10_new, main=\"Missing values vs observed\")"
   ]
  },
  {
   "cell_type": "markdown",
   "metadata": {},
   "source": [
    "Remove the missing value row in FEV and Age"
   ]
  },
  {
   "cell_type": "code",
   "execution_count": 24,
   "metadata": {},
   "outputs": [],
   "source": [
    "data_FEV_more_10_new <- data_FEV_more_10_new[!is.na(data_FEV_more_10_new$FEV),]\n",
    "data_FEV_more_10_new <- data_FEV_more_10_new[!is.na(data_FEV_more_10_new$age),]"
   ]
  },
  {
   "cell_type": "code",
   "execution_count": 25,
   "metadata": {},
   "outputs": [
    {
     "data": {
      "image/png": "[encoded data removed]",
      "text/plain": [
       "Plot with title \"Missing values vs observed\""
      ]
     },
     "metadata": {
      "image/png": {
       "height": 420,
       "width": 420
      }
     },
     "output_type": "display_data"
    }
   ],
   "source": [
    "missmap(data_FEV_more_10_new, main=\"Missing values vs observed\")"
   ]
  },
  {
   "cell_type": "code",
   "execution_count": 26,
   "metadata": {},
   "outputs": [
    {
     "name": "stdout",
     "output_type": "stream",
     "text": [
      "[1] \"Selected training row indexes\"\n",
      "  [1]  49 321 153  74 228 146 122 338 128 303  24 327  89 165 110  20 297 326\n",
      " [19] 283 109   5 212 259 314 298 328 158 299 136 292 333 319 197   4 226 215\n",
      " [37] 245 114 262 130   3 258 186 138  40 318  33 103 334 307 157  76 265  35\n",
      " [55] 221  16 220 248 118 311  82 324 149  57 100  91 269 181  54 208 246  60\n",
      " [73] 108 126 112  72   1 141 206  42 316 281  97 251 185 288  25 115 191  32\n",
      " [91]  81 238  14 111   6 175  43 190 325 272 113 247  31 162  94 224 244 214\n",
      "[109]  38  95 232  84  15  34 170 329 188  12 330 154  41 193  66  56 152  98\n",
      "[127] 252  92 107  61 241 268 235 124 194 229 249 155 295 254  28 280  37 200\n",
      "[145] 237 293 285  78 207 156 332 256 182 127 236 242 180 257  27  30 274  75\n",
      "[163] 145  62  13 286 205  63 331 209 116 300 176 161 198   2 159 310 199 315\n",
      "[181] 174 284  51 203  47 223 144  10 260 278 164  93 275 227 306 169 102 270\n",
      "[199]  55 261  58 183  85 142 233  18 140  36  71 204 296 234 217  86 323 301\n",
      "[217] 222 218  11 211 230 106  73  23  90 105 120  19 119 240 131 322 125 337\n",
      "[235] 139  59\n",
      "[1] \"Rows of training data and test data:\"\n",
      "[1] 236\n",
      "[1] 102\n"
     ]
    }
   ],
   "source": [
    "# create train, test\n",
    "set.seed(42)\n",
    "trainingRowIndex <- sample(1:nrow(data_FEV_more_10_new), 0.7*nrow(data_FEV_more_10_new))\n",
    "print(\"Selected training row indexes\")\n",
    "print(trainingRowIndex)\n",
    "trainingData <- data_FEV_more_10_new[trainingRowIndex,]\n",
    "testData <- data_FEV_more_10_new[-trainingRowIndex,]\n",
    "print(\"Rows of training data and test data:\")\n",
    "print(nrow(trainingData))\n",
    "print(nrow(testData))"
   ]
  },
  {
   "cell_type": "markdown",
   "metadata": {},
   "source": [
    "Train : 236 samples, test: 102 samples"
   ]
  },
  {
   "cell_type": "code",
   "execution_count": 27,
   "metadata": {},
   "outputs": [],
   "source": [
    "lmMod <- lm(FEV ~ age, data= trainingData)\n",
    "iPred <- predict(lmMod, testData)"
   ]
  },
  {
   "cell_type": "code",
   "execution_count": 28,
   "metadata": {},
   "outputs": [
    {
     "name": "stdout",
     "output_type": "stream",
     "text": [
      "[1] \"mse:  6.32773422206621\"\n"
     ]
    }
   ],
   "source": [
    "mse <- mean(lmMod$residuals^2)\n",
    "print(paste(\"mse: \", mse))"
   ]
  },
  {
   "cell_type": "code",
   "execution_count": 29,
   "metadata": {},
   "outputs": [
    {
     "name": "stdout",
     "output_type": "stream",
     "text": [
      "[1] \"mse in test:  4.10520968836235\"\n"
     ]
    }
   ],
   "source": [
    "mse_test = mean((testData$FEV - iPred)^2)\n",
    "print(paste(\"mse in test: \", mse_test))"
   ]
  },
  {
   "cell_type": "markdown",
   "metadata": {},
   "source": [
    "Nhan xet: mse của train và test đều thấp so với dữ liệu và gần nhau."
   ]
  },
  {
   "cell_type": "code",
   "execution_count": 30,
   "metadata": {},
   "outputs": [
    {
     "name": "stdout",
     "output_type": "stream",
     "text": [
      "\n",
      "Call:\n",
      "lm(formula = FEV ~ age, data = trainingData)\n",
      "\n",
      "Residuals:\n",
      "    Min      1Q  Median      3Q     Max \n",
      "-5.4314 -1.7198 -0.2345  1.5318  8.4069 \n",
      "\n",
      "Coefficients:\n",
      "            Estimate Std. Error t value Pr(>|t|)    \n",
      "(Intercept)  52.6025     0.7633   68.91   <2e-16 ***\n",
      "age           3.9364     0.2346   16.78   <2e-16 ***\n",
      "---\n",
      "Signif. codes:  0 '***' 0.001 '**' 0.01 '*' 0.05 '.' 0.1 ' ' 1\n",
      "\n",
      "Residual standard error: 2.526 on 234 degrees of freedom\n",
      "Multiple R-squared:  0.546,\tAdjusted R-squared:  0.5441 \n",
      "F-statistic: 281.4 on 1 and 234 DF,  p-value: < 2.2e-16\n",
      "\n"
     ]
    }
   ],
   "source": [
    "print(summary(lmMod))"
   ]
  },
  {
   "cell_type": "markdown",
   "metadata": {},
   "source": [
    "Model có chỉ số R^2 = 0.55 ~ 55% --> Model không tương thích với bộ dữ liệu."
   ]
  },
  {
   "cell_type": "markdown",
   "metadata": {},
   "source": [
    "**Dự đoán kết quả mới**"
   ]
  },
  {
   "cell_type": "code",
   "execution_count": 31,
   "metadata": {},
   "outputs": [
    {
     "name": "stdout",
     "output_type": "stream",
     "text": [
      "(Intercept)         age \n",
      "  52.602466    3.936427 \n",
      "[1] \"slope:  3.93642695971993\"\n",
      "[1] \"Intercept:  52.602466015927\"\n"
     ]
    }
   ],
   "source": [
    "print(coef(lmMod))\n",
    "beta_age <- coef(lmMod)['age']\n",
    "print(paste(\"slope: \", beta_age))\n",
    "Intercept <- coef(lmMod)['(Intercept)']\n",
    "print(paste(\"Intercept: \", Intercept))"
   ]
  },
  {
   "cell_type": "code",
   "execution_count": 32,
   "metadata": {},
   "outputs": [
    {
     "name": "stdout",
     "output_type": "stream",
     "text": [
      "[1] \"solution 1 - results:\"\n",
      "[1] 60.47532 64.41175 68.34817 72.28460\n"
     ]
    }
   ],
   "source": [
    "# new predictions\n",
    "x <- c(2, 3, 4, 5)\n",
    "y <- Intercept + beta_age * x\n",
    "print(\"solution 1 - results:\")\n",
    "print(y)"
   ]
  },
  {
   "cell_type": "code",
   "execution_count": 33,
   "metadata": {},
   "outputs": [
    {
     "data": {
      "image/png": "[encoded data removed]",
      "text/plain": [
       "Plot with title \"Simple Linear regression\""
      ]
     },
     "metadata": {
      "image/png": {
       "height": 420,
       "width": 420
      }
     },
     "output_type": "display_data"
    }
   ],
   "source": [
    "plot(data_FEV_more_10_new$age, data_FEV_more_10_new$FEV,\n",
    "    main=\"Simple Linear regression\",\n",
    "    xlab=\"age\", ylab=\"FEV\",\n",
    "    pch=19, frame=FALSE, col=\"blue\")\n",
    "lines(x,y, col=\"red\", type=\"p\")\n",
    "abline(lmMod, data_FEV_more_10_new, col=\"green\")\n",
    "legend(\"topleft\",\n",
    "      c(\"dataset\",\"data_predict\"),\n",
    "\n",
    "       cex=0.8,\n",
    "      fill=c(\"blue\",\"red\"))"
   ]
  },
  {
   "cell_type": "markdown",
   "metadata": {},
   "source": [
    "### Với data_FEV_less_10\n",
    "a. Thực hiện **Multiple Linear Regression** để dự đoán **FEV** từ **age** và **ht**.\n",
    "\n",
    "b. Cho age và ht lần lượt là: age = [5, 6, 7, 8, 9], ht = [49.5,55, 57, 60, 62] . Hãy cho biết FEV lần lượt là \n",
    "bao nhiêu?\n",
    "\n",
    "c. Trực quan hóa kết quả."
   ]
  },
  {
   "cell_type": "code",
   "execution_count": 34,
   "metadata": {},
   "outputs": [
    {
     "data": {
      "image/png": "[encoded data removed]",
      "text/plain": [
       "plot without title"
      ]
     },
     "metadata": {
      "image/png": {
       "height": 420,
       "width": 420
      }
     },
     "output_type": "display_data"
    }
   ],
   "source": [
    "pairs(~FEV+age+ht, data=data_FEV_less_10)"
   ]
  },
  {
   "cell_type": "code",
   "execution_count": 35,
   "metadata": {},
   "outputs": [
    {
     "name": "stdout",
     "output_type": "stream",
     "text": [
      "[1] 0.6513871\n",
      "[1] 0.8198856\n"
     ]
    }
   ],
   "source": [
    "print(cor(data_FEV_less_10$age,data_FEV_less_10$FEV))\n",
    "print(cor(data_FEV_less_10$ht,data_FEV_less_10$FEV))"
   ]
  },
  {
   "cell_type": "markdown",
   "metadata": {},
   "source": [
    "Biểu đồ và chỉ số correlation cho thấy quan hệ tuyến không cao giữa age và FEV (cor = 0.65), trong khi đó ht và FEV có mối quan hệ tuyến tính cao (cor = 0.82)."
   ]
  },
  {
   "cell_type": "code",
   "execution_count": 36,
   "metadata": {},
   "outputs": [
    {
     "data": {
      "image/png": "[encoded data removed]",
      "text/plain": [
       "Plot with title \"FEV\""
      ]
     },
     "metadata": {
      "image/png": {
       "height": 420,
       "width": 420
      }
     },
     "output_type": "display_data"
    }
   ],
   "source": [
    "par(mfrow = c(1,3))\n",
    "boxplot(data_FEV_less_10$age, main=\"age\",\n",
    "       sub=paste(\"Outlier rows: \", boxplot.stats(data_FEV_less_10$age)$out))\n",
    "boxplot(data_FEV_less_10$ht, main=\"ht\",\n",
    "       sub=paste(\"Outlier rows: \", boxplot.stats(data_FEV_less_10$ht)$out))\n",
    "boxplot(data_FEV_less_10$FEV, main=\"FEV\",\n",
    "       sub=paste(\"Outlier rows: \", boxplot.stats(data_FEV_less_10$FEV)$out))"
   ]
  },
  {
   "cell_type": "markdown",
   "metadata": {},
   "source": [
    "Cột age và FEV có vài outliers"
   ]
  },
  {
   "cell_type": "code",
   "execution_count": 37,
   "metadata": {},
   "outputs": [
    {
     "name": "stdout",
     "output_type": "stream",
     "text": [
      "[1] \"fev_outliers: \"\n",
      "[1] 3.556 3.842 3.681\n",
      "[1] \"Numrows:  3\"\n",
      "[1] \"age_outliers: \"\n",
      "[1] 3 3\n",
      "[1] \"Numrows:  2\"\n",
      "[1] \"Before drop: 309\"\n",
      "[1] \"After drop: 304\"\n"
     ]
    }
   ],
   "source": [
    "# xu ly cac dong chua outliers\n",
    "fev_outliers <- boxplot.stats(data_FEV_less_10$FEV)$out\n",
    "print(\"fev_outliers: \")\n",
    "print(fev_outliers)\n",
    "print(paste(\"Numrows: \", sum(data_FEV_less_10$FEV %in% fev_outliers)))\n",
    "\n",
    "age_outliers <- boxplot.stats(data_FEV_less_10$age)$out\n",
    "print(\"age_outliers: \")\n",
    "print(age_outliers)\n",
    "print(paste(\"Numrows: \", sum(data_FEV_less_10$age %in% age_outliers)))\n",
    "\n",
    "# drop rows have outliers\n",
    "print(paste(\"Before drop:\", nrow(data_FEV_less_10)))\n",
    "\n",
    "data_FEV_less_10_new <- data_FEV_less_10[!(data_FEV_less_10$FEV %in% fev_outliers),]\n",
    "data_FEV_less_10_new <- data_FEV_less_10_new[!(data_FEV_less_10_new$age %in% age_outliers),]\n",
    "\n",
    "print(paste(\"After drop:\", nrow(data_FEV_less_10_new)))"
   ]
  },
  {
   "cell_type": "code",
   "execution_count": 38,
   "metadata": {},
   "outputs": [
    {
     "name": "stdout",
     "output_type": "stream",
     "text": [
      "[1] \"Selected training row indexes\"\n",
      "  [1]  49 153  74 228 146 122 304 128  24  89 165 110  20 295 283 109   5 212\n",
      " [19] 259 296 158 136 300 289 197   4 226 215 245 114 262 130   3 258 186 138\n",
      " [37]  40 288  33 103 301 281 157  76  35 221  16 220 248 238  69 257 118 273\n",
      " [55]  82 152 113 282 254 293 104 183 268 149 264  57 100 231  42 247  91  13\n",
      " [73] 181  54  83  32 208  60  29  81 108 201 121  85 126 171 270 112  72 278\n",
      " [91] 243 166   1 141 206 133 223  55 144  43 236 204  97 185 274  25 115 191\n",
      "[109] 229 225  14 111   6 175 205 294 256 188  31 162  94 192  38  95 214  84\n",
      "[127]  15  34 170  12 297 154  41  66  56 249  98 199  92 107  61 194 240 124\n",
      "[145] 232 196 155 269  28 252  37 200 187 267 260  78 163 299 202 127 218 190\n",
      "[163] 195  27  30 255  75  62 233 253 161  63 298 164 116 287  17 266 156   2\n",
      "[181] 210   8  80 272 101 290 280  65 140  51 227 160 173  47 176  70 271  10\n",
      "[199]  71  73 167 222 250  53 135  79  93 239 179 291 147  88\n",
      "[1] \"Rows of training data and test data:\"\n",
      "[1] 212\n",
      "[1] 92\n"
     ]
    }
   ],
   "source": [
    "# create train, test\n",
    "set.seed(42)\n",
    "trainingRowIndex <- sample(1:nrow(data_FEV_less_10_new), 0.7*nrow(data_FEV_less_10_new))\n",
    "print(\"Selected training row indexes\")\n",
    "print(trainingRowIndex)\n",
    "trainingData_l <- data_FEV_less_10_new[trainingRowIndex,]\n",
    "testData_l <- data_FEV_less_10_new[-trainingRowIndex,]\n",
    "print(\"Rows of training data and test data:\")\n",
    "print(nrow(trainingData_l))\n",
    "print(nrow(testData_l))"
   ]
  },
  {
   "cell_type": "markdown",
   "metadata": {},
   "source": [
    "Train có 212 mẫu, test có 92 mẫu"
   ]
  },
  {
   "cell_type": "code",
   "execution_count": 39,
   "metadata": {},
   "outputs": [],
   "source": [
    "mlmMod <- lm(FEV~age+ht, data= trainingData_l)\n",
    "cPred <- predict(mlmMod, testData_l)"
   ]
  },
  {
   "cell_type": "code",
   "execution_count": 40,
   "metadata": {},
   "outputs": [
    {
     "name": "stdout",
     "output_type": "stream",
     "text": [
      "[1] \"mse:  0.0793638773894001\"\n"
     ]
    }
   ],
   "source": [
    "mse_l <- mean(mlmMod$residuals^2)\n",
    "print(paste(\"mse: \", mse_l))"
   ]
  },
  {
   "cell_type": "code",
   "execution_count": 41,
   "metadata": {},
   "outputs": [
    {
     "name": "stdout",
     "output_type": "stream",
     "text": [
      "[1] \"mse in test:  0.0828937724965587\"\n"
     ]
    }
   ],
   "source": [
    "mse_test_l = mean((testData_l$FEV - cPred)^2)\n",
    "print(paste(\"mse in test: \", mse_test_l))"
   ]
  },
  {
   "cell_type": "markdown",
   "metadata": {},
   "source": [
    "Nhan xet: mse của train và test đều thấp và gần nhau."
   ]
  },
  {
   "cell_type": "code",
   "execution_count": 42,
   "metadata": {},
   "outputs": [
    {
     "name": "stdout",
     "output_type": "stream",
     "text": [
      "\n",
      "Call:\n",
      "lm(formula = FEV ~ age + ht, data = trainingData_l)\n",
      "\n",
      "Residuals:\n",
      "     Min       1Q   Median       3Q      Max \n",
      "-1.25828 -0.19223  0.00972  0.18757  0.80073 \n",
      "\n",
      "Coefficients:\n",
      "             Estimate Std. Error t value Pr(>|t|)    \n",
      "(Intercept) -3.068397   0.297097 -10.328   <2e-16 ***\n",
      "age          0.012859   0.021824   0.589    0.556    \n",
      "ht           0.088116   0.007101  12.409   <2e-16 ***\n",
      "---\n",
      "Signif. codes:  0 '***' 0.001 '**' 0.01 '*' 0.05 '.' 0.1 ' ' 1\n",
      "\n",
      "Residual standard error: 0.2837 on 209 degrees of freedom\n",
      "Multiple R-squared:  0.6657,\tAdjusted R-squared:  0.6625 \n",
      "F-statistic: 208.1 on 2 and 209 DF,  p-value: < 2.2e-16\n",
      "\n"
     ]
    }
   ],
   "source": [
    "print(summary(mlmMod))"
   ]
  },
  {
   "cell_type": "markdown",
   "metadata": {},
   "source": [
    "Model Multiple linear regression có R^2 là 66%, không cao --> model này chưa hoàn toàn thích hợp với bài toán này."
   ]
  },
  {
   "cell_type": "markdown",
   "metadata": {},
   "source": [
    "**Dự đoán kết quả mới**"
   ]
  },
  {
   "cell_type": "code",
   "execution_count": 43,
   "metadata": {},
   "outputs": [
    {
     "name": "stdout",
     "output_type": "stream",
     "text": [
      "# # # # The coefficient values # # # \n",
      "(Intercept) \n",
      "  -3.068397 \n",
      "       age \n",
      "0.01285944 \n",
      "        ht \n",
      "0.08811551 \n"
     ]
    }
   ],
   "source": [
    "cat(\"# # # # The coefficient values # # #\",\"\\n\")\n",
    "b <- coef(mlmMod)[1]\n",
    "print(b)\n",
    "\n",
    "mage <- coef(mlmMod)['age']\n",
    "mht <- coef(mlmMod)['ht']\n",
    "\n",
    "\n",
    "print(mage)\n",
    "print(mht)"
   ]
  },
  {
   "cell_type": "code",
   "execution_count": 44,
   "metadata": {},
   "outputs": [
    {
     "name": "stdout",
     "output_type": "stream",
     "text": [
      "[1] \"solution 2 - results:\"\n",
      "       1        2        3        4        5 \n",
      "1.357618 1.855112 2.044203 2.321409 2.510499 \n"
     ]
    }
   ],
   "source": [
    "x1 <- c(5, 6, 7, 8, 9)\n",
    "x2 <- c(49.5,55, 57, 60, 62)\n",
    "y1 <- predict(mlmMod, data.frame(age=x1, ht=x2))\n",
    "print(\"solution 2 - results:\")\n",
    "print(y1)"
   ]
  },
  {
   "cell_type": "code",
   "execution_count": 45,
   "metadata": {},
   "outputs": [
    {
     "name": "stderr",
     "output_type": "stream",
     "text": [
      "Warning message in abline(mlmMod, data_FEV_less_10_new, col = \"green\"):\n",
      "\"only using the first two of 3 regression coefficients\"\n"
     ]
    },
    {
     "data": {
      "image/png": "[encoded data removed]",
      "text/plain": [
       "Plot with title \"Multiple Linear regression\""
      ]
     },
     "metadata": {
      "image/png": {
       "height": 420,
       "width": 420
      }
     },
     "output_type": "display_data"
    }
   ],
   "source": [
    "plot(data_FEV_less_10_new$ht, data_FEV_less_10_new$FEV,\n",
    "    main=\"Multiple Linear regression\",\n",
    "    xlab=\"ht\", ylab=\"FEV\",\n",
    "    pch=19, frame=FALSE, col=\"steelblue\")\n",
    "lines(x2,y1, col=\"red\", type=\"p\")\n",
    "abline(mlmMod, data_FEV_less_10_new, col=\"green\")\n",
    "legend(\"topleft\",\n",
    "      c(\"dataset\",\"data_predict\"),\n",
    "      cex=0.8,\n",
    "      fill=c(\"blue\",\"red\"))"
   ]
  },
  {
   "cell_type": "code",
   "execution_count": 46,
   "metadata": {},
   "outputs": [
    {
     "name": "stderr",
     "output_type": "stream",
     "text": [
      "Installing package into 'C:/Users/ASUS/Documents/R/win-library/3.6'\n",
      "(as 'lib' is unspecified)\n",
      "\n"
     ]
    },
    {
     "name": "stdout",
     "output_type": "stream",
     "text": [
      "package 'scatterplot3d' successfully unpacked and MD5 sums checked\n",
      "\n",
      "The downloaded binary packages are in\n",
      "\tC:\\Users\\ASUS\\AppData\\Local\\Temp\\Rtmp84LqXk\\downloaded_packages\n"
     ]
    }
   ],
   "source": [
    "install.packages(\"scatterplot3d\")\n",
    "library(\"scatterplot3d\") "
   ]
  },
  {
   "cell_type": "code",
   "execution_count": 47,
   "metadata": {},
   "outputs": [
    {
     "data": {
      "image/png": "[encoded data removed]",
      "text/plain": [
       "plot without title"
      ]
     },
     "metadata": {
      "image/png": {
       "height": 420,
       "width": 420
      }
     },
     "output_type": "display_data"
    }
   ],
   "source": [
    "s3d <- scatterplot3d(data_FEV_less_10_new[,1:3], pch = 16, color=\"steelblue\", angle=55)\n",
    "s3d$plane3d(mlmMod,lty = \"dashed\")\n",
    "s3d$points3d(x1, y1, x2,\n",
    "    col = \"red\", type = \"p\", pch = 16)"
   ]
  },
  {
   "cell_type": "code",
   "execution_count": null,
   "metadata": {},
   "outputs": [],
   "source": []
  }
 ],
 "metadata": {
  "kernelspec": {
   "display_name": "R",
   "language": "R",
   "name": "ir"
  },
  "language_info": {
   "codemirror_mode": "r",
   "file_extension": ".r",
   "mimetype": "text/x-r-source",
   "name": "R",
   "pygments_lexer": "r",
   "version": "3.6.1"
  }
 },
 "nbformat": 4,
 "nbformat_minor": 4
}
