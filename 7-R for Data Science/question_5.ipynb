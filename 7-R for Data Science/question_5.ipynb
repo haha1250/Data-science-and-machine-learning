{
 "cells": [
  {
   "cell_type": "markdown",
   "metadata": {},
   "source": [
    "# 5. Attitude"
   ]
  },
  {
   "cell_type": "code",
   "execution_count": 1,
   "metadata": {},
   "outputs": [
    {
     "data": {
      "text/html": [
       "<table class=\"dataframe\">\n",
       "<caption>A data.frame: 6 × 7</caption>\n",
       "<thead>\n",
       "\t<tr><th></th><th scope=col>rating</th><th scope=col>complaints</th><th scope=col>privileges</th><th scope=col>learning</th><th scope=col>raises</th><th scope=col>critical</th><th scope=col>advance</th></tr>\n",
       "\t<tr><th></th><th scope=col>&lt;int&gt;</th><th scope=col>&lt;int&gt;</th><th scope=col>&lt;int&gt;</th><th scope=col>&lt;int&gt;</th><th scope=col>&lt;int&gt;</th><th scope=col>&lt;int&gt;</th><th scope=col>&lt;int&gt;</th></tr>\n",
       "</thead>\n",
       "<tbody>\n",
       "\t<tr><th scope=row>1</th><td>43</td><td>51</td><td>30</td><td>39</td><td>61</td><td>92</td><td>45</td></tr>\n",
       "\t<tr><th scope=row>2</th><td>63</td><td>64</td><td>51</td><td>54</td><td>63</td><td>73</td><td>47</td></tr>\n",
       "\t<tr><th scope=row>3</th><td>71</td><td>70</td><td>68</td><td>69</td><td>76</td><td>86</td><td>48</td></tr>\n",
       "\t<tr><th scope=row>4</th><td>61</td><td>63</td><td>45</td><td>47</td><td>54</td><td>84</td><td>35</td></tr>\n",
       "\t<tr><th scope=row>5</th><td>81</td><td>78</td><td>56</td><td>66</td><td>71</td><td>83</td><td>47</td></tr>\n",
       "\t<tr><th scope=row>6</th><td>43</td><td>55</td><td>49</td><td>44</td><td>54</td><td>49</td><td>34</td></tr>\n",
       "</tbody>\n",
       "</table>\n"
      ],
      "text/latex": [
       "A data.frame: 6 × 7\n",
       "\\begin{tabular}{r|lllllll}\n",
       "  & rating & complaints & privileges & learning & raises & critical & advance\\\\\n",
       "  & <int> & <int> & <int> & <int> & <int> & <int> & <int>\\\\\n",
       "\\hline\n",
       "\t1 & 43 & 51 & 30 & 39 & 61 & 92 & 45\\\\\n",
       "\t2 & 63 & 64 & 51 & 54 & 63 & 73 & 47\\\\\n",
       "\t3 & 71 & 70 & 68 & 69 & 76 & 86 & 48\\\\\n",
       "\t4 & 61 & 63 & 45 & 47 & 54 & 84 & 35\\\\\n",
       "\t5 & 81 & 78 & 56 & 66 & 71 & 83 & 47\\\\\n",
       "\t6 & 43 & 55 & 49 & 44 & 54 & 49 & 34\\\\\n",
       "\\end{tabular}\n"
      ],
      "text/markdown": [
       "\n",
       "A data.frame: 6 × 7\n",
       "\n",
       "| <!--/--> | rating &lt;int&gt; | complaints &lt;int&gt; | privileges &lt;int&gt; | learning &lt;int&gt; | raises &lt;int&gt; | critical &lt;int&gt; | advance &lt;int&gt; |\n",
       "|---|---|---|---|---|---|---|---|\n",
       "| 1 | 43 | 51 | 30 | 39 | 61 | 92 | 45 |\n",
       "| 2 | 63 | 64 | 51 | 54 | 63 | 73 | 47 |\n",
       "| 3 | 71 | 70 | 68 | 69 | 76 | 86 | 48 |\n",
       "| 4 | 61 | 63 | 45 | 47 | 54 | 84 | 35 |\n",
       "| 5 | 81 | 78 | 56 | 66 | 71 | 83 | 47 |\n",
       "| 6 | 43 | 55 | 49 | 44 | 54 | 49 | 34 |\n",
       "\n"
      ],
      "text/plain": [
       "  rating complaints privileges learning raises critical advance\n",
       "1 43     51         30         39       61     92       45     \n",
       "2 63     64         51         54       63     73       47     \n",
       "3 71     70         68         69       76     86       48     \n",
       "4 61     63         45         47       54     84       35     \n",
       "5 81     78         56         66       71     83       47     \n",
       "6 43     55         49         44       54     49       34     "
      ]
     },
     "metadata": {},
     "output_type": "display_data"
    }
   ],
   "source": [
    "data <- read.csv(\"./Du lieu cung cap/attitude.csv\",header=TRUE)\n",
    "head(data)"
   ]
  },
  {
   "cell_type": "code",
   "execution_count": 2,
   "metadata": {},
   "outputs": [
    {
     "name": "stdout",
     "output_type": "stream",
     "text": [
      "[1] TRUE\n"
     ]
    }
   ],
   "source": [
    "print(is.data.frame(data))"
   ]
  },
  {
   "cell_type": "code",
   "execution_count": 3,
   "metadata": {},
   "outputs": [
    {
     "name": "stdout",
     "output_type": "stream",
     "text": [
      "[1] \"cols:  7\"\n",
      "[1] \"rows:  30\"\n"
     ]
    }
   ],
   "source": [
    "print(paste(\"cols: \", ncol(data)))\n",
    "print(paste(\"rows: \", nrow(data)))"
   ]
  },
  {
   "cell_type": "code",
   "execution_count": 4,
   "metadata": {},
   "outputs": [
    {
     "data": {
      "text/plain": [
       "     rating        complaints     privileges       learning         raises     \n",
       " Min.   :40.00   Min.   :37.0   Min.   :30.00   Min.   :34.00   Min.   :43.00  \n",
       " 1st Qu.:58.75   1st Qu.:58.5   1st Qu.:45.00   1st Qu.:47.00   1st Qu.:58.25  \n",
       " Median :65.50   Median :65.0   Median :51.50   Median :56.50   Median :63.50  \n",
       " Mean   :64.63   Mean   :66.6   Mean   :53.13   Mean   :56.37   Mean   :64.63  \n",
       " 3rd Qu.:71.75   3rd Qu.:77.0   3rd Qu.:62.50   3rd Qu.:66.75   3rd Qu.:71.00  \n",
       " Max.   :85.00   Max.   :90.0   Max.   :83.00   Max.   :75.00   Max.   :88.00  \n",
       "    critical        advance     \n",
       " Min.   :49.00   Min.   :25.00  \n",
       " 1st Qu.:69.25   1st Qu.:35.00  \n",
       " Median :77.50   Median :41.00  \n",
       " Mean   :74.77   Mean   :42.93  \n",
       " 3rd Qu.:80.00   3rd Qu.:47.75  \n",
       " Max.   :92.00   Max.   :72.00  "
      ]
     },
     "metadata": {},
     "output_type": "display_data"
    }
   ],
   "source": [
    "summary(data)"
   ]
  },
  {
   "cell_type": "markdown",
   "metadata": {},
   "source": [
    "Dữ liệu đồng đều, nên không cần scale."
   ]
  },
  {
   "cell_type": "code",
   "execution_count": 5,
   "metadata": {},
   "outputs": [
    {
     "name": "stdout",
     "output_type": "stream",
     "text": [
      "'data.frame':\t30 obs. of  7 variables:\n",
      " $ rating    : int  43 63 71 61 81 43 58 71 72 67 ...\n",
      " $ complaints: int  51 64 70 63 78 55 67 75 82 61 ...\n",
      " $ privileges: int  30 51 68 45 56 49 42 50 72 45 ...\n",
      " $ learning  : int  39 54 69 47 66 44 56 55 67 47 ...\n",
      " $ raises    : int  61 63 76 54 71 54 66 70 71 62 ...\n",
      " $ critical  : int  92 73 86 84 83 49 68 66 83 80 ...\n",
      " $ advance   : int  45 47 48 35 47 34 35 41 31 41 ...\n"
     ]
    }
   ],
   "source": [
    "str(data)"
   ]
  },
  {
   "cell_type": "code",
   "execution_count": 6,
   "metadata": {},
   "outputs": [
    {
     "data": {
      "text/html": [
       "<table class=\"dataframe\">\n",
       "<caption>A matrix: 30 × 7 of type lgl</caption>\n",
       "<thead>\n",
       "\t<tr><th scope=col>rating</th><th scope=col>complaints</th><th scope=col>privileges</th><th scope=col>learning</th><th scope=col>raises</th><th scope=col>critical</th><th scope=col>advance</th></tr>\n",
       "</thead>\n",
       "<tbody>\n",
       "\t<tr><td>FALSE</td><td>FALSE</td><td>FALSE</td><td>FALSE</td><td>FALSE</td><td>FALSE</td><td>FALSE</td></tr>\n",
       "\t<tr><td>FALSE</td><td>FALSE</td><td>FALSE</td><td>FALSE</td><td>FALSE</td><td>FALSE</td><td>FALSE</td></tr>\n",
       "\t<tr><td>FALSE</td><td>FALSE</td><td>FALSE</td><td>FALSE</td><td>FALSE</td><td>FALSE</td><td>FALSE</td></tr>\n",
       "\t<tr><td>FALSE</td><td>FALSE</td><td>FALSE</td><td>FALSE</td><td>FALSE</td><td>FALSE</td><td>FALSE</td></tr>\n",
       "\t<tr><td>FALSE</td><td>FALSE</td><td>FALSE</td><td>FALSE</td><td>FALSE</td><td>FALSE</td><td>FALSE</td></tr>\n",
       "\t<tr><td>FALSE</td><td>FALSE</td><td>FALSE</td><td>FALSE</td><td>FALSE</td><td>FALSE</td><td>FALSE</td></tr>\n",
       "\t<tr><td>FALSE</td><td>FALSE</td><td>FALSE</td><td>FALSE</td><td>FALSE</td><td>FALSE</td><td>FALSE</td></tr>\n",
       "\t<tr><td>FALSE</td><td>FALSE</td><td>FALSE</td><td>FALSE</td><td>FALSE</td><td>FALSE</td><td>FALSE</td></tr>\n",
       "\t<tr><td>FALSE</td><td>FALSE</td><td>FALSE</td><td>FALSE</td><td>FALSE</td><td>FALSE</td><td>FALSE</td></tr>\n",
       "\t<tr><td>FALSE</td><td>FALSE</td><td>FALSE</td><td>FALSE</td><td>FALSE</td><td>FALSE</td><td>FALSE</td></tr>\n",
       "\t<tr><td>FALSE</td><td>FALSE</td><td>FALSE</td><td>FALSE</td><td>FALSE</td><td>FALSE</td><td>FALSE</td></tr>\n",
       "\t<tr><td>FALSE</td><td>FALSE</td><td>FALSE</td><td>FALSE</td><td>FALSE</td><td>FALSE</td><td>FALSE</td></tr>\n",
       "\t<tr><td>FALSE</td><td>FALSE</td><td>FALSE</td><td>FALSE</td><td>FALSE</td><td>FALSE</td><td>FALSE</td></tr>\n",
       "\t<tr><td>FALSE</td><td>FALSE</td><td>FALSE</td><td>FALSE</td><td>FALSE</td><td>FALSE</td><td>FALSE</td></tr>\n",
       "\t<tr><td>FALSE</td><td>FALSE</td><td>FALSE</td><td>FALSE</td><td>FALSE</td><td>FALSE</td><td>FALSE</td></tr>\n",
       "\t<tr><td>FALSE</td><td>FALSE</td><td>FALSE</td><td>FALSE</td><td>FALSE</td><td>FALSE</td><td>FALSE</td></tr>\n",
       "\t<tr><td>FALSE</td><td>FALSE</td><td>FALSE</td><td>FALSE</td><td>FALSE</td><td>FALSE</td><td>FALSE</td></tr>\n",
       "\t<tr><td>FALSE</td><td>FALSE</td><td>FALSE</td><td>FALSE</td><td>FALSE</td><td>FALSE</td><td>FALSE</td></tr>\n",
       "\t<tr><td>FALSE</td><td>FALSE</td><td>FALSE</td><td>FALSE</td><td>FALSE</td><td>FALSE</td><td>FALSE</td></tr>\n",
       "\t<tr><td>FALSE</td><td>FALSE</td><td>FALSE</td><td>FALSE</td><td>FALSE</td><td>FALSE</td><td>FALSE</td></tr>\n",
       "\t<tr><td>FALSE</td><td>FALSE</td><td>FALSE</td><td>FALSE</td><td>FALSE</td><td>FALSE</td><td>FALSE</td></tr>\n",
       "\t<tr><td>FALSE</td><td>FALSE</td><td>FALSE</td><td>FALSE</td><td>FALSE</td><td>FALSE</td><td>FALSE</td></tr>\n",
       "\t<tr><td>FALSE</td><td>FALSE</td><td>FALSE</td><td>FALSE</td><td>FALSE</td><td>FALSE</td><td>FALSE</td></tr>\n",
       "\t<tr><td>FALSE</td><td>FALSE</td><td>FALSE</td><td>FALSE</td><td>FALSE</td><td>FALSE</td><td>FALSE</td></tr>\n",
       "\t<tr><td>FALSE</td><td>FALSE</td><td>FALSE</td><td>FALSE</td><td>FALSE</td><td>FALSE</td><td>FALSE</td></tr>\n",
       "\t<tr><td>FALSE</td><td>FALSE</td><td>FALSE</td><td>FALSE</td><td>FALSE</td><td>FALSE</td><td>FALSE</td></tr>\n",
       "\t<tr><td>FALSE</td><td>FALSE</td><td>FALSE</td><td>FALSE</td><td>FALSE</td><td>FALSE</td><td>FALSE</td></tr>\n",
       "\t<tr><td>FALSE</td><td>FALSE</td><td>FALSE</td><td>FALSE</td><td>FALSE</td><td>FALSE</td><td>FALSE</td></tr>\n",
       "\t<tr><td>FALSE</td><td>FALSE</td><td>FALSE</td><td>FALSE</td><td>FALSE</td><td>FALSE</td><td>FALSE</td></tr>\n",
       "\t<tr><td>FALSE</td><td>FALSE</td><td>FALSE</td><td>FALSE</td><td>FALSE</td><td>FALSE</td><td>FALSE</td></tr>\n",
       "</tbody>\n",
       "</table>\n"
      ],
      "text/latex": [
       "A matrix: 30 × 7 of type lgl\n",
       "\\begin{tabular}{lllllll}\n",
       " rating & complaints & privileges & learning & raises & critical & advance\\\\\n",
       "\\hline\n",
       "\t FALSE & FALSE & FALSE & FALSE & FALSE & FALSE & FALSE\\\\\n",
       "\t FALSE & FALSE & FALSE & FALSE & FALSE & FALSE & FALSE\\\\\n",
       "\t FALSE & FALSE & FALSE & FALSE & FALSE & FALSE & FALSE\\\\\n",
       "\t FALSE & FALSE & FALSE & FALSE & FALSE & FALSE & FALSE\\\\\n",
       "\t FALSE & FALSE & FALSE & FALSE & FALSE & FALSE & FALSE\\\\\n",
       "\t FALSE & FALSE & FALSE & FALSE & FALSE & FALSE & FALSE\\\\\n",
       "\t FALSE & FALSE & FALSE & FALSE & FALSE & FALSE & FALSE\\\\\n",
       "\t FALSE & FALSE & FALSE & FALSE & FALSE & FALSE & FALSE\\\\\n",
       "\t FALSE & FALSE & FALSE & FALSE & FALSE & FALSE & FALSE\\\\\n",
       "\t FALSE & FALSE & FALSE & FALSE & FALSE & FALSE & FALSE\\\\\n",
       "\t FALSE & FALSE & FALSE & FALSE & FALSE & FALSE & FALSE\\\\\n",
       "\t FALSE & FALSE & FALSE & FALSE & FALSE & FALSE & FALSE\\\\\n",
       "\t FALSE & FALSE & FALSE & FALSE & FALSE & FALSE & FALSE\\\\\n",
       "\t FALSE & FALSE & FALSE & FALSE & FALSE & FALSE & FALSE\\\\\n",
       "\t FALSE & FALSE & FALSE & FALSE & FALSE & FALSE & FALSE\\\\\n",
       "\t FALSE & FALSE & FALSE & FALSE & FALSE & FALSE & FALSE\\\\\n",
       "\t FALSE & FALSE & FALSE & FALSE & FALSE & FALSE & FALSE\\\\\n",
       "\t FALSE & FALSE & FALSE & FALSE & FALSE & FALSE & FALSE\\\\\n",
       "\t FALSE & FALSE & FALSE & FALSE & FALSE & FALSE & FALSE\\\\\n",
       "\t FALSE & FALSE & FALSE & FALSE & FALSE & FALSE & FALSE\\\\\n",
       "\t FALSE & FALSE & FALSE & FALSE & FALSE & FALSE & FALSE\\\\\n",
       "\t FALSE & FALSE & FALSE & FALSE & FALSE & FALSE & FALSE\\\\\n",
       "\t FALSE & FALSE & FALSE & FALSE & FALSE & FALSE & FALSE\\\\\n",
       "\t FALSE & FALSE & FALSE & FALSE & FALSE & FALSE & FALSE\\\\\n",
       "\t FALSE & FALSE & FALSE & FALSE & FALSE & FALSE & FALSE\\\\\n",
       "\t FALSE & FALSE & FALSE & FALSE & FALSE & FALSE & FALSE\\\\\n",
       "\t FALSE & FALSE & FALSE & FALSE & FALSE & FALSE & FALSE\\\\\n",
       "\t FALSE & FALSE & FALSE & FALSE & FALSE & FALSE & FALSE\\\\\n",
       "\t FALSE & FALSE & FALSE & FALSE & FALSE & FALSE & FALSE\\\\\n",
       "\t FALSE & FALSE & FALSE & FALSE & FALSE & FALSE & FALSE\\\\\n",
       "\\end{tabular}\n"
      ],
      "text/markdown": [
       "\n",
       "A matrix: 30 × 7 of type lgl\n",
       "\n",
       "| rating | complaints | privileges | learning | raises | critical | advance |\n",
       "|---|---|---|---|---|---|---|\n",
       "| FALSE | FALSE | FALSE | FALSE | FALSE | FALSE | FALSE |\n",
       "| FALSE | FALSE | FALSE | FALSE | FALSE | FALSE | FALSE |\n",
       "| FALSE | FALSE | FALSE | FALSE | FALSE | FALSE | FALSE |\n",
       "| FALSE | FALSE | FALSE | FALSE | FALSE | FALSE | FALSE |\n",
       "| FALSE | FALSE | FALSE | FALSE | FALSE | FALSE | FALSE |\n",
       "| FALSE | FALSE | FALSE | FALSE | FALSE | FALSE | FALSE |\n",
       "| FALSE | FALSE | FALSE | FALSE | FALSE | FALSE | FALSE |\n",
       "| FALSE | FALSE | FALSE | FALSE | FALSE | FALSE | FALSE |\n",
       "| FALSE | FALSE | FALSE | FALSE | FALSE | FALSE | FALSE |\n",
       "| FALSE | FALSE | FALSE | FALSE | FALSE | FALSE | FALSE |\n",
       "| FALSE | FALSE | FALSE | FALSE | FALSE | FALSE | FALSE |\n",
       "| FALSE | FALSE | FALSE | FALSE | FALSE | FALSE | FALSE |\n",
       "| FALSE | FALSE | FALSE | FALSE | FALSE | FALSE | FALSE |\n",
       "| FALSE | FALSE | FALSE | FALSE | FALSE | FALSE | FALSE |\n",
       "| FALSE | FALSE | FALSE | FALSE | FALSE | FALSE | FALSE |\n",
       "| FALSE | FALSE | FALSE | FALSE | FALSE | FALSE | FALSE |\n",
       "| FALSE | FALSE | FALSE | FALSE | FALSE | FALSE | FALSE |\n",
       "| FALSE | FALSE | FALSE | FALSE | FALSE | FALSE | FALSE |\n",
       "| FALSE | FALSE | FALSE | FALSE | FALSE | FALSE | FALSE |\n",
       "| FALSE | FALSE | FALSE | FALSE | FALSE | FALSE | FALSE |\n",
       "| FALSE | FALSE | FALSE | FALSE | FALSE | FALSE | FALSE |\n",
       "| FALSE | FALSE | FALSE | FALSE | FALSE | FALSE | FALSE |\n",
       "| FALSE | FALSE | FALSE | FALSE | FALSE | FALSE | FALSE |\n",
       "| FALSE | FALSE | FALSE | FALSE | FALSE | FALSE | FALSE |\n",
       "| FALSE | FALSE | FALSE | FALSE | FALSE | FALSE | FALSE |\n",
       "| FALSE | FALSE | FALSE | FALSE | FALSE | FALSE | FALSE |\n",
       "| FALSE | FALSE | FALSE | FALSE | FALSE | FALSE | FALSE |\n",
       "| FALSE | FALSE | FALSE | FALSE | FALSE | FALSE | FALSE |\n",
       "| FALSE | FALSE | FALSE | FALSE | FALSE | FALSE | FALSE |\n",
       "| FALSE | FALSE | FALSE | FALSE | FALSE | FALSE | FALSE |\n",
       "\n"
      ],
      "text/plain": [
       "      rating complaints privileges learning raises critical advance\n",
       " [1,] FALSE  FALSE      FALSE      FALSE    FALSE  FALSE    FALSE  \n",
       " [2,] FALSE  FALSE      FALSE      FALSE    FALSE  FALSE    FALSE  \n",
       " [3,] FALSE  FALSE      FALSE      FALSE    FALSE  FALSE    FALSE  \n",
       " [4,] FALSE  FALSE      FALSE      FALSE    FALSE  FALSE    FALSE  \n",
       " [5,] FALSE  FALSE      FALSE      FALSE    FALSE  FALSE    FALSE  \n",
       " [6,] FALSE  FALSE      FALSE      FALSE    FALSE  FALSE    FALSE  \n",
       " [7,] FALSE  FALSE      FALSE      FALSE    FALSE  FALSE    FALSE  \n",
       " [8,] FALSE  FALSE      FALSE      FALSE    FALSE  FALSE    FALSE  \n",
       " [9,] FALSE  FALSE      FALSE      FALSE    FALSE  FALSE    FALSE  \n",
       "[10,] FALSE  FALSE      FALSE      FALSE    FALSE  FALSE    FALSE  \n",
       "[11,] FALSE  FALSE      FALSE      FALSE    FALSE  FALSE    FALSE  \n",
       "[12,] FALSE  FALSE      FALSE      FALSE    FALSE  FALSE    FALSE  \n",
       "[13,] FALSE  FALSE      FALSE      FALSE    FALSE  FALSE    FALSE  \n",
       "[14,] FALSE  FALSE      FALSE      FALSE    FALSE  FALSE    FALSE  \n",
       "[15,] FALSE  FALSE      FALSE      FALSE    FALSE  FALSE    FALSE  \n",
       "[16,] FALSE  FALSE      FALSE      FALSE    FALSE  FALSE    FALSE  \n",
       "[17,] FALSE  FALSE      FALSE      FALSE    FALSE  FALSE    FALSE  \n",
       "[18,] FALSE  FALSE      FALSE      FALSE    FALSE  FALSE    FALSE  \n",
       "[19,] FALSE  FALSE      FALSE      FALSE    FALSE  FALSE    FALSE  \n",
       "[20,] FALSE  FALSE      FALSE      FALSE    FALSE  FALSE    FALSE  \n",
       "[21,] FALSE  FALSE      FALSE      FALSE    FALSE  FALSE    FALSE  \n",
       "[22,] FALSE  FALSE      FALSE      FALSE    FALSE  FALSE    FALSE  \n",
       "[23,] FALSE  FALSE      FALSE      FALSE    FALSE  FALSE    FALSE  \n",
       "[24,] FALSE  FALSE      FALSE      FALSE    FALSE  FALSE    FALSE  \n",
       "[25,] FALSE  FALSE      FALSE      FALSE    FALSE  FALSE    FALSE  \n",
       "[26,] FALSE  FALSE      FALSE      FALSE    FALSE  FALSE    FALSE  \n",
       "[27,] FALSE  FALSE      FALSE      FALSE    FALSE  FALSE    FALSE  \n",
       "[28,] FALSE  FALSE      FALSE      FALSE    FALSE  FALSE    FALSE  \n",
       "[29,] FALSE  FALSE      FALSE      FALSE    FALSE  FALSE    FALSE  \n",
       "[30,] FALSE  FALSE      FALSE      FALSE    FALSE  FALSE    FALSE  "
      ]
     },
     "metadata": {},
     "output_type": "display_data"
    }
   ],
   "source": [
    "is.na(data)"
   ]
  },
  {
   "cell_type": "code",
   "execution_count": 7,
   "metadata": {},
   "outputs": [
    {
     "name": "stderr",
     "output_type": "stream",
     "text": [
      "Warning message:\n",
      "\"package 'Amelia' was built under R version 3.6.3\"\n",
      "Loading required package: Rcpp\n",
      "\n",
      "## \n",
      "## Amelia II: Multiple Imputation\n",
      "## (Version 1.7.6, built: 2019-11-24)\n",
      "## Copyright (C) 2005-2021 James Honaker, Gary King and Matthew Blackwell\n",
      "## Refer to http://gking.harvard.edu/amelia/ for more information\n",
      "## \n",
      "\n"
     ]
    }
   ],
   "source": [
    "library(Amelia)"
   ]
  },
  {
   "cell_type": "code",
   "execution_count": 8,
   "metadata": {},
   "outputs": [
    {
     "data": {
      "image/png": "[encoded data removed]",
      "text/plain": [
       "Plot with title \"Missing values vs observed\""
      ]
     },
     "metadata": {
      "image/png": {
       "height": 420,
       "width": 420
      }
     },
     "output_type": "display_data"
    }
   ],
   "source": [
    "missmap(data, main=\"Missing values vs observed\")"
   ]
  },
  {
   "cell_type": "code",
   "execution_count": 9,
   "metadata": {},
   "outputs": [
    {
     "data": {
      "image/png": "[encoded data removed]",
      "text/plain": [
       "plot without title"
      ]
     },
     "metadata": {
      "image/png": {
       "height": 420,
       "width": 420
      }
     },
     "output_type": "display_data"
    }
   ],
   "source": [
    "plot(x=data$privileges, y=data$learning)"
   ]
  },
  {
   "cell_type": "markdown",
   "metadata": {},
   "source": [
    "Nhìn biểu đồ trên ta thấy có thể chia dữ liệu thành 4 cụm, nếu tính cả 4 giá trị nằm đơn lẻ. Cụm dữ liệu ở góc trái và góc phải có vẻ nhỏ so với cụm trên, với chỉ 2 thành phần.\n",
    "\n",
    "Giữa priviledge và learning không có mối quan hệ tuyến tính rõ ràng.\n",
    "\n",
    "Nếu không tính 4 giá trị đơn lẻ ngoại lai, thì có thể phân thành 2 cụm."
   ]
  },
  {
   "cell_type": "code",
   "execution_count": 27,
   "metadata": {},
   "outputs": [
    {
     "data": {
      "image/png": "[encoded data removed]",
      "text/plain": [
       "Plot with title \"learning\""
      ]
     },
     "metadata": {
      "image/png": {
       "height": 420,
       "width": 420
      }
     },
     "output_type": "display_data"
    }
   ],
   "source": [
    "par(mfrow = c(1,2))\n",
    "boxplot(data$privileges, main=\"privileges\",\n",
    "       sub=paste(\"Outlier rows: \", boxplot.stats(data$privileges)$out))\n",
    "boxplot(data$learning, main=\"learning\",\n",
    "       sub=paste(\"Outlier rows: \", boxplot.stats(data$learning)$out))"
   ]
  },
  {
   "cell_type": "markdown",
   "metadata": {},
   "source": [
    "Box plot cho thấy không có giá trị ngoại lai (outliers) ở privileges và learning"
   ]
  },
  {
   "cell_type": "code",
   "execution_count": 10,
   "metadata": {},
   "outputs": [],
   "source": [
    "# wss cho ca bo du lieu (1 cum, 2 thuoc tinh)\n",
    "wss = (nrow(data)-1)*sum(apply(data[,3:4],2,var))"
   ]
  },
  {
   "cell_type": "code",
   "execution_count": 11,
   "metadata": {},
   "outputs": [
    {
     "name": "stdout",
     "output_type": "stream",
     "text": [
      "[1] 8336.433\n"
     ]
    }
   ],
   "source": [
    "print(wss)"
   ]
  },
  {
   "cell_type": "code",
   "execution_count": 15,
   "metadata": {},
   "outputs": [],
   "source": [
    "# chon k clusters phu hop\n",
    "for (i in 1:10) wss[i] = sum(kmeans(data[,3:4],\n",
    "                                  centers=i,\n",
    "                                  nstart=20)$withinss)"
   ]
  },
  {
   "cell_type": "code",
   "execution_count": 16,
   "metadata": {},
   "outputs": [
    {
     "name": "stdout",
     "output_type": "stream",
     "text": [
      " [1] 8336.4333 3652.7059 2669.3422 1799.2222 1300.1250  874.4583  697.7976\n",
      " [8]  540.7643  412.4667  343.8833\n"
     ]
    }
   ],
   "source": [
    "print(wss)"
   ]
  },
  {
   "cell_type": "code",
   "execution_count": 18,
   "metadata": {},
   "outputs": [
    {
     "data": {
      "image/png": "[encoded data removed]",
      "text/plain": [
       "plot without title"
      ]
     },
     "metadata": {
      "image/png": {
       "height": 420,
       "width": 420
      }
     },
     "output_type": "display_data"
    }
   ],
   "source": [
    "plot(1:10, wss, type=\"b\",\n",
    "    xlab=\"Number of clusters\",\n",
    "    ylab=\"WSS\")"
   ]
  },
  {
   "cell_type": "markdown",
   "metadata": {},
   "source": [
    "Dựa trên biểu đồ trên, với k=4, wss không thay đổi nhiều sau đó. --> chọn k =4"
   ]
  },
  {
   "cell_type": "code",
   "execution_count": 12,
   "metadata": {},
   "outputs": [],
   "source": [
    "set.seed(20)"
   ]
  },
  {
   "cell_type": "code",
   "execution_count": 19,
   "metadata": {},
   "outputs": [],
   "source": [
    "dataCluster = kmeans(data[,3:4],centers=4,nstart=20)"
   ]
  },
  {
   "cell_type": "code",
   "execution_count": 20,
   "metadata": {},
   "outputs": [
    {
     "name": "stdout",
     "output_type": "stream",
     "text": [
      "K-means clustering with 4 clusters of sizes 2, 10, 9, 9\n",
      "\n",
      "Cluster means:\n",
      "  privileges learning\n",
      "1   75.50000 49.50000\n",
      "2   62.40000 69.80000\n",
      "3   47.44444 56.55556\n",
      "4   43.55556 42.77778\n",
      "\n",
      "Clustering vector:\n",
      " [1] 4 3 2 4 2 4 3 3 2 4 3 4 4 1 2 2 2 2 3 1 4 3 3 3 4 2 2 4 2 3\n",
      "\n",
      "Within cluster sum of squares by cluster:\n",
      "[1] 153.0000 630.0000 316.4444 699.7778\n",
      " (between_SS / total_SS =  78.4 %)\n",
      "\n",
      "Available components:\n",
      "\n",
      "[1] \"cluster\"      \"centers\"      \"totss\"        \"withinss\"     \"tot.withinss\"\n",
      "[6] \"betweenss\"    \"size\"         \"iter\"         \"ifault\"      \n"
     ]
    }
   ],
   "source": [
    "print(dataCluster)"
   ]
  },
  {
   "cell_type": "markdown",
   "metadata": {},
   "source": [
    "Có 4 cụm, kích thước lần lượt là 2,10,9,9. Cụm 1 với 2 mẫu ít hơn nhiều so với các cụm còn lại."
   ]
  },
  {
   "cell_type": "code",
   "execution_count": 22,
   "metadata": {},
   "outputs": [
    {
     "name": "stdout",
     "output_type": "stream",
     "text": [
      "  privileges learning\n",
      "1   75.50000 49.50000\n",
      "2   62.40000 69.80000\n",
      "3   47.44444 56.55556\n",
      "4   43.55556 42.77778\n"
     ]
    }
   ],
   "source": [
    "print(dataCluster$centers)"
   ]
  },
  {
   "cell_type": "code",
   "execution_count": 23,
   "metadata": {},
   "outputs": [
    {
     "name": "stdout",
     "output_type": "stream",
     "text": [
      "\n",
      " 1  2  3  4 \n",
      " 2 10  9  9 \n"
     ]
    }
   ],
   "source": [
    "compare = table(dataCluster$cluster)\n",
    "print(compare)"
   ]
  },
  {
   "cell_type": "markdown",
   "metadata": {},
   "source": [
    "* Cụm đầu tiên có privileges lớn, learning không cao.\n",
    "* cụm 2 có privileges và learning khoảng 60\n",
    "* cụm 3 có privileges không cao, learning trung bình (mean của learning = 56)\n",
    "* cụm 4 có privileges và learning cùng thấp."
   ]
  },
  {
   "cell_type": "code",
   "execution_count": 31,
   "metadata": {},
   "outputs": [
    {
     "data": {
      "text/html": [
       "<table class=\"dataframe\">\n",
       "<caption>A data.frame: 30 × 8</caption>\n",
       "<thead>\n",
       "\t<tr><th scope=col>rating</th><th scope=col>complaints</th><th scope=col>privileges</th><th scope=col>learning</th><th scope=col>raises</th><th scope=col>critical</th><th scope=col>advance</th><th scope=col>dataCluster.cluster</th></tr>\n",
       "\t<tr><th scope=col>&lt;int&gt;</th><th scope=col>&lt;int&gt;</th><th scope=col>&lt;int&gt;</th><th scope=col>&lt;int&gt;</th><th scope=col>&lt;int&gt;</th><th scope=col>&lt;int&gt;</th><th scope=col>&lt;int&gt;</th><th scope=col>&lt;int&gt;</th></tr>\n",
       "</thead>\n",
       "<tbody>\n",
       "\t<tr><td>43</td><td>51</td><td>30</td><td>39</td><td>61</td><td>92</td><td>45</td><td>4</td></tr>\n",
       "\t<tr><td>63</td><td>64</td><td>51</td><td>54</td><td>63</td><td>73</td><td>47</td><td>3</td></tr>\n",
       "\t<tr><td>71</td><td>70</td><td>68</td><td>69</td><td>76</td><td>86</td><td>48</td><td>2</td></tr>\n",
       "\t<tr><td>61</td><td>63</td><td>45</td><td>47</td><td>54</td><td>84</td><td>35</td><td>4</td></tr>\n",
       "\t<tr><td>81</td><td>78</td><td>56</td><td>66</td><td>71</td><td>83</td><td>47</td><td>2</td></tr>\n",
       "\t<tr><td>43</td><td>55</td><td>49</td><td>44</td><td>54</td><td>49</td><td>34</td><td>4</td></tr>\n",
       "\t<tr><td>58</td><td>67</td><td>42</td><td>56</td><td>66</td><td>68</td><td>35</td><td>3</td></tr>\n",
       "\t<tr><td>71</td><td>75</td><td>50</td><td>55</td><td>70</td><td>66</td><td>41</td><td>3</td></tr>\n",
       "\t<tr><td>72</td><td>82</td><td>72</td><td>67</td><td>71</td><td>83</td><td>31</td><td>2</td></tr>\n",
       "\t<tr><td>67</td><td>61</td><td>45</td><td>47</td><td>62</td><td>80</td><td>41</td><td>4</td></tr>\n",
       "\t<tr><td>64</td><td>53</td><td>53</td><td>58</td><td>58</td><td>67</td><td>34</td><td>3</td></tr>\n",
       "\t<tr><td>67</td><td>60</td><td>47</td><td>39</td><td>59</td><td>74</td><td>41</td><td>4</td></tr>\n",
       "\t<tr><td>69</td><td>62</td><td>57</td><td>42</td><td>55</td><td>63</td><td>25</td><td>4</td></tr>\n",
       "\t<tr><td>68</td><td>83</td><td>83</td><td>45</td><td>59</td><td>77</td><td>35</td><td>1</td></tr>\n",
       "\t<tr><td>77</td><td>77</td><td>54</td><td>72</td><td>79</td><td>77</td><td>46</td><td>2</td></tr>\n",
       "\t<tr><td>81</td><td>90</td><td>50</td><td>72</td><td>60</td><td>54</td><td>36</td><td>2</td></tr>\n",
       "\t<tr><td>74</td><td>85</td><td>64</td><td>69</td><td>79</td><td>79</td><td>63</td><td>2</td></tr>\n",
       "\t<tr><td>65</td><td>60</td><td>65</td><td>75</td><td>55</td><td>80</td><td>60</td><td>2</td></tr>\n",
       "\t<tr><td>65</td><td>70</td><td>46</td><td>57</td><td>75</td><td>85</td><td>46</td><td>3</td></tr>\n",
       "\t<tr><td>50</td><td>58</td><td>68</td><td>54</td><td>64</td><td>78</td><td>52</td><td>1</td></tr>\n",
       "\t<tr><td>50</td><td>40</td><td>33</td><td>34</td><td>43</td><td>64</td><td>33</td><td>4</td></tr>\n",
       "\t<tr><td>64</td><td>61</td><td>52</td><td>62</td><td>66</td><td>80</td><td>41</td><td>3</td></tr>\n",
       "\t<tr><td>53</td><td>66</td><td>52</td><td>50</td><td>63</td><td>80</td><td>37</td><td>3</td></tr>\n",
       "\t<tr><td>40</td><td>37</td><td>42</td><td>58</td><td>50</td><td>57</td><td>49</td><td>3</td></tr>\n",
       "\t<tr><td>63</td><td>54</td><td>42</td><td>48</td><td>66</td><td>75</td><td>33</td><td>4</td></tr>\n",
       "\t<tr><td>66</td><td>77</td><td>66</td><td>63</td><td>88</td><td>76</td><td>72</td><td>2</td></tr>\n",
       "\t<tr><td>78</td><td>75</td><td>58</td><td>74</td><td>80</td><td>78</td><td>49</td><td>2</td></tr>\n",
       "\t<tr><td>48</td><td>57</td><td>44</td><td>45</td><td>51</td><td>83</td><td>38</td><td>4</td></tr>\n",
       "\t<tr><td>85</td><td>85</td><td>71</td><td>71</td><td>77</td><td>74</td><td>55</td><td>2</td></tr>\n",
       "\t<tr><td>82</td><td>82</td><td>39</td><td>59</td><td>64</td><td>78</td><td>39</td><td>3</td></tr>\n",
       "</tbody>\n",
       "</table>\n"
      ],
      "text/latex": [
       "A data.frame: 30 × 8\n",
       "\\begin{tabular}{llllllll}\n",
       " rating & complaints & privileges & learning & raises & critical & advance & dataCluster.cluster\\\\\n",
       " <int> & <int> & <int> & <int> & <int> & <int> & <int> & <int>\\\\\n",
       "\\hline\n",
       "\t 43 & 51 & 30 & 39 & 61 & 92 & 45 & 4\\\\\n",
       "\t 63 & 64 & 51 & 54 & 63 & 73 & 47 & 3\\\\\n",
       "\t 71 & 70 & 68 & 69 & 76 & 86 & 48 & 2\\\\\n",
       "\t 61 & 63 & 45 & 47 & 54 & 84 & 35 & 4\\\\\n",
       "\t 81 & 78 & 56 & 66 & 71 & 83 & 47 & 2\\\\\n",
       "\t 43 & 55 & 49 & 44 & 54 & 49 & 34 & 4\\\\\n",
       "\t 58 & 67 & 42 & 56 & 66 & 68 & 35 & 3\\\\\n",
       "\t 71 & 75 & 50 & 55 & 70 & 66 & 41 & 3\\\\\n",
       "\t 72 & 82 & 72 & 67 & 71 & 83 & 31 & 2\\\\\n",
       "\t 67 & 61 & 45 & 47 & 62 & 80 & 41 & 4\\\\\n",
       "\t 64 & 53 & 53 & 58 & 58 & 67 & 34 & 3\\\\\n",
       "\t 67 & 60 & 47 & 39 & 59 & 74 & 41 & 4\\\\\n",
       "\t 69 & 62 & 57 & 42 & 55 & 63 & 25 & 4\\\\\n",
       "\t 68 & 83 & 83 & 45 & 59 & 77 & 35 & 1\\\\\n",
       "\t 77 & 77 & 54 & 72 & 79 & 77 & 46 & 2\\\\\n",
       "\t 81 & 90 & 50 & 72 & 60 & 54 & 36 & 2\\\\\n",
       "\t 74 & 85 & 64 & 69 & 79 & 79 & 63 & 2\\\\\n",
       "\t 65 & 60 & 65 & 75 & 55 & 80 & 60 & 2\\\\\n",
       "\t 65 & 70 & 46 & 57 & 75 & 85 & 46 & 3\\\\\n",
       "\t 50 & 58 & 68 & 54 & 64 & 78 & 52 & 1\\\\\n",
       "\t 50 & 40 & 33 & 34 & 43 & 64 & 33 & 4\\\\\n",
       "\t 64 & 61 & 52 & 62 & 66 & 80 & 41 & 3\\\\\n",
       "\t 53 & 66 & 52 & 50 & 63 & 80 & 37 & 3\\\\\n",
       "\t 40 & 37 & 42 & 58 & 50 & 57 & 49 & 3\\\\\n",
       "\t 63 & 54 & 42 & 48 & 66 & 75 & 33 & 4\\\\\n",
       "\t 66 & 77 & 66 & 63 & 88 & 76 & 72 & 2\\\\\n",
       "\t 78 & 75 & 58 & 74 & 80 & 78 & 49 & 2\\\\\n",
       "\t 48 & 57 & 44 & 45 & 51 & 83 & 38 & 4\\\\\n",
       "\t 85 & 85 & 71 & 71 & 77 & 74 & 55 & 2\\\\\n",
       "\t 82 & 82 & 39 & 59 & 64 & 78 & 39 & 3\\\\\n",
       "\\end{tabular}\n"
      ],
      "text/markdown": [
       "\n",
       "A data.frame: 30 × 8\n",
       "\n",
       "| rating &lt;int&gt; | complaints &lt;int&gt; | privileges &lt;int&gt; | learning &lt;int&gt; | raises &lt;int&gt; | critical &lt;int&gt; | advance &lt;int&gt; | dataCluster.cluster &lt;int&gt; |\n",
       "|---|---|---|---|---|---|---|---|\n",
       "| 43 | 51 | 30 | 39 | 61 | 92 | 45 | 4 |\n",
       "| 63 | 64 | 51 | 54 | 63 | 73 | 47 | 3 |\n",
       "| 71 | 70 | 68 | 69 | 76 | 86 | 48 | 2 |\n",
       "| 61 | 63 | 45 | 47 | 54 | 84 | 35 | 4 |\n",
       "| 81 | 78 | 56 | 66 | 71 | 83 | 47 | 2 |\n",
       "| 43 | 55 | 49 | 44 | 54 | 49 | 34 | 4 |\n",
       "| 58 | 67 | 42 | 56 | 66 | 68 | 35 | 3 |\n",
       "| 71 | 75 | 50 | 55 | 70 | 66 | 41 | 3 |\n",
       "| 72 | 82 | 72 | 67 | 71 | 83 | 31 | 2 |\n",
       "| 67 | 61 | 45 | 47 | 62 | 80 | 41 | 4 |\n",
       "| 64 | 53 | 53 | 58 | 58 | 67 | 34 | 3 |\n",
       "| 67 | 60 | 47 | 39 | 59 | 74 | 41 | 4 |\n",
       "| 69 | 62 | 57 | 42 | 55 | 63 | 25 | 4 |\n",
       "| 68 | 83 | 83 | 45 | 59 | 77 | 35 | 1 |\n",
       "| 77 | 77 | 54 | 72 | 79 | 77 | 46 | 2 |\n",
       "| 81 | 90 | 50 | 72 | 60 | 54 | 36 | 2 |\n",
       "| 74 | 85 | 64 | 69 | 79 | 79 | 63 | 2 |\n",
       "| 65 | 60 | 65 | 75 | 55 | 80 | 60 | 2 |\n",
       "| 65 | 70 | 46 | 57 | 75 | 85 | 46 | 3 |\n",
       "| 50 | 58 | 68 | 54 | 64 | 78 | 52 | 1 |\n",
       "| 50 | 40 | 33 | 34 | 43 | 64 | 33 | 4 |\n",
       "| 64 | 61 | 52 | 62 | 66 | 80 | 41 | 3 |\n",
       "| 53 | 66 | 52 | 50 | 63 | 80 | 37 | 3 |\n",
       "| 40 | 37 | 42 | 58 | 50 | 57 | 49 | 3 |\n",
       "| 63 | 54 | 42 | 48 | 66 | 75 | 33 | 4 |\n",
       "| 66 | 77 | 66 | 63 | 88 | 76 | 72 | 2 |\n",
       "| 78 | 75 | 58 | 74 | 80 | 78 | 49 | 2 |\n",
       "| 48 | 57 | 44 | 45 | 51 | 83 | 38 | 4 |\n",
       "| 85 | 85 | 71 | 71 | 77 | 74 | 55 | 2 |\n",
       "| 82 | 82 | 39 | 59 | 64 | 78 | 39 | 3 |\n",
       "\n"
      ],
      "text/plain": [
       "   rating complaints privileges learning raises critical advance\n",
       "1  43     51         30         39       61     92       45     \n",
       "2  63     64         51         54       63     73       47     \n",
       "3  71     70         68         69       76     86       48     \n",
       "4  61     63         45         47       54     84       35     \n",
       "5  81     78         56         66       71     83       47     \n",
       "6  43     55         49         44       54     49       34     \n",
       "7  58     67         42         56       66     68       35     \n",
       "8  71     75         50         55       70     66       41     \n",
       "9  72     82         72         67       71     83       31     \n",
       "10 67     61         45         47       62     80       41     \n",
       "11 64     53         53         58       58     67       34     \n",
       "12 67     60         47         39       59     74       41     \n",
       "13 69     62         57         42       55     63       25     \n",
       "14 68     83         83         45       59     77       35     \n",
       "15 77     77         54         72       79     77       46     \n",
       "16 81     90         50         72       60     54       36     \n",
       "17 74     85         64         69       79     79       63     \n",
       "18 65     60         65         75       55     80       60     \n",
       "19 65     70         46         57       75     85       46     \n",
       "20 50     58         68         54       64     78       52     \n",
       "21 50     40         33         34       43     64       33     \n",
       "22 64     61         52         62       66     80       41     \n",
       "23 53     66         52         50       63     80       37     \n",
       "24 40     37         42         58       50     57       49     \n",
       "25 63     54         42         48       66     75       33     \n",
       "26 66     77         66         63       88     76       72     \n",
       "27 78     75         58         74       80     78       49     \n",
       "28 48     57         44         45       51     83       38     \n",
       "29 85     85         71         71       77     74       55     \n",
       "30 82     82         39         59       64     78       39     \n",
       "   dataCluster.cluster\n",
       "1  4                  \n",
       "2  3                  \n",
       "3  2                  \n",
       "4  4                  \n",
       "5  2                  \n",
       "6  4                  \n",
       "7  3                  \n",
       "8  3                  \n",
       "9  2                  \n",
       "10 4                  \n",
       "11 3                  \n",
       "12 4                  \n",
       "13 4                  \n",
       "14 1                  \n",
       "15 2                  \n",
       "16 2                  \n",
       "17 2                  \n",
       "18 2                  \n",
       "19 3                  \n",
       "20 1                  \n",
       "21 4                  \n",
       "22 3                  \n",
       "23 3                  \n",
       "24 3                  \n",
       "25 4                  \n",
       "26 2                  \n",
       "27 2                  \n",
       "28 4                  \n",
       "29 2                  \n",
       "30 3                  "
      ]
     },
     "metadata": {},
     "output_type": "display_data"
    }
   ],
   "source": [
    "predict_df <- data.frame(data, dataCluster$cluster)\n",
    "predict_df"
   ]
  },
  {
   "cell_type": "code",
   "execution_count": 24,
   "metadata": {},
   "outputs": [
    {
     "name": "stderr",
     "output_type": "stream",
     "text": [
      "Warning message:\n",
      "\"package 'factoextra' was built under R version 3.6.3\"\n",
      "Loading required package: ggplot2\n",
      "\n",
      "Warning message:\n",
      "\"package 'ggplot2' was built under R version 3.6.3\"\n",
      "Welcome! Want to learn more? See two factoextra-related books at https://goo.gl/ve3WBa\n",
      "\n"
     ]
    }
   ],
   "source": [
    "library(factoextra)"
   ]
  },
  {
   "cell_type": "code",
   "execution_count": 26,
   "metadata": {},
   "outputs": [
    {
     "data": {
      "image/png": "[encoded data removed]",
      "text/plain": [
       "plot without title"
      ]
     },
     "metadata": {
      "image/png": {
       "height": 420,
       "width": 420
      }
     },
     "output_type": "display_data"
    }
   ],
   "source": [
    "fviz_cluster(dataCluster, geom=\"point\",\n",
    "            data=data[,3:4], stand=F) + ggtitle(\"k=4\")"
   ]
  },
  {
   "cell_type": "markdown",
   "metadata": {},
   "source": [
    "* Cụm 1: gồm 2 mẫu có privileges rất cao nhưng learning lại không tương đương. Có thể thấy đây là 2 thành phần không theo quy tắc thường (privileges cao, learning cao)\n",
    "* Cụm 2: gồm các mẫu có privileges và learning cao, đồng đều, các mẫu này tuân theo quy tắc thường. \n",
    "* Cụm 3: gồm các mẫu có giá trị trung bình ở cả privileges lẫn learning.\n",
    "* Cụm 4: gồm các mẫu có giá trị privileges và learning thấp đều.\n",
    "\n",
    "4 cụm này cho ta thấy privileges càng cao thì learning càng cao, tuy nhiên có 1 số ngoại lệ như ở cụm 1, privileges cao nhưng learning lại thấp. Có thể dựa vào kết quả này để thay đổi priviledge tùy thuộc đối tượng trong cụm nào.\n",
    "\n",
    "Dữ liệu này chỉ có 30 mẫu, là 1 số lượng nhỏ khi phân tích. Do đó kết quả số cụm và lượng mẫu trong mỗi cụm cũng có thể bị ảnh hưởng."
   ]
  },
  {
   "cell_type": "code",
   "execution_count": null,
   "metadata": {},
   "outputs": [],
   "source": []
  }
 ],
 "metadata": {
  "kernelspec": {
   "display_name": "R",
   "language": "R",
   "name": "ir"
  },
  "language_info": {
   "codemirror_mode": "r",
   "file_extension": ".r",
   "mimetype": "text/x-r-source",
   "name": "R",
   "pygments_lexer": "r",
   "version": "3.6.1"
  }
 },
 "nbformat": 4,
 "nbformat_minor": 4
}
