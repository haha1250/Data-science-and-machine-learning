{
 "cells": [
  {
   "cell_type": "markdown",
   "metadata": {},
   "source": [
    "# 1.\n",
    "Giả sử chỉ số IQ thường được phân phối với giá trị trung bình là 100 và độ lệch chuẩn là 15.\n",
    "* a. Vậy tỷ lệ bao nhiêu phần trăm người có IQ nhỏ hơn 125 ?\n",
    "* b. Vậy tỷ lệ bao nhiêu phần trăm người có IQ lớn hơn 110 ?\n",
    "* c. Vậy tỷ lệ bao nhiều phần trăm người có IQ trong khoảng từ 110 và 125 ?"
   ]
  },
  {
   "cell_type": "code",
   "execution_count": 11,
   "metadata": {},
   "outputs": [
    {
     "name": "stdout",
     "output_type": "stream",
     "text": [
      "[1] \"Ty le phan tram nguoi co IQ < 125:  95.2209647727185\"\n"
     ]
    }
   ],
   "source": [
    "# a. ty le phan tram nguoi co IQ < 125 - p(x<125), mean=100, sd=15\n",
    "p_a <- pnorm(125, mean=100, sd=15)\n",
    "print(paste(\"Ty le phan tram nguoi co IQ < 125: \",p_a*100))"
   ]
  },
  {
   "cell_type": "code",
   "execution_count": 12,
   "metadata": {},
   "outputs": [
    {
     "name": "stdout",
     "output_type": "stream",
     "text": [
      "[1] \"Ty le phan tram nguoi co IQ > 110:  95.2209647727185\"\n"
     ]
    }
   ],
   "source": [
    "# b. ty le phan tram nguoi co IQ > 110 - p(x>110), mean=100, sd=15\n",
    "p_b <- pnorm(110, mean=100, sd=15, lower.tail = FALSE)\n",
    "print(paste(\"Ty le phan tram nguoi co IQ > 110: \",p_a*100))"
   ]
  },
  {
   "cell_type": "code",
   "execution_count": 13,
   "metadata": {},
   "outputs": [
    {
     "name": "stdout",
     "output_type": "stream",
     "text": [
      "[1] \"Ty le phan tram nguoi co 110 < IQ < 125:  20.4702185274108\"\n"
     ]
    }
   ],
   "source": [
    "# c. ty le phan tram nguoi co 110< IQ < 125 - p(110<x<125), mean=100, sd=15\n",
    "p_c <- p_a - pnorm(110, mean=100, sd=15)\n",
    "print(paste(\"Ty le phan tram nguoi co 110 < IQ < 125: \",p_c*100))"
   ]
  },
  {
   "cell_type": "markdown",
   "metadata": {},
   "source": [
    "# 2. \n",
    "Xúc xắc có 6 mặt :\n",
    "* a. Tìm xác suất để có được 2 lần mặt 4 nút trong 5 lần đổ xúc xắc.\n",
    "* b. Có bao nhiêu mặt 4 nút khi có xác suất 25% xuất hiện khi một xúc xắc được đổ 50 lần?"
   ]
  },
  {
   "cell_type": "code",
   "execution_count": 10,
   "metadata": {},
   "outputs": [
    {
     "name": "stdout",
     "output_type": "stream",
     "text": [
      "[1] \"Xac suat de co duoc 2 lan mat 4 nut trong 5 lan do xuc xac:  0.160751028806584\"\n"
     ]
    }
   ],
   "source": [
    "# xac suat lac duoc mat 4 nut : p = 1/6\n",
    "# a. tim xac suat de co duoc 2 lan mat 4 nut trong 5 lan do\n",
    "p2_a <- dbinom(2,5,1/6)\n",
    "print(paste(\"Xac suat de co duoc 2 lan mat 4 nut trong 5 lan do xuc xac: \", p2_a))"
   ]
  },
  {
   "cell_type": "code",
   "execution_count": 15,
   "metadata": {},
   "outputs": [
    {
     "name": "stdout",
     "output_type": "stream",
     "text": [
      "[1] \"So lan mat 4 nut xuat hien khi do xuc xac 50 lan, p=0.25:  6\"\n"
     ]
    }
   ],
   "source": [
    "# b. co bao nhieu mat 4 nut khi co xac suat 25% xuat hien khi 1 xuc xac duoc do 50 lan\n",
    "n <- qbinom(0.25,50,1/6)\n",
    "print(paste(\"So lan mat 4 nut xuat hien khi do xuc xac 50 lan, p=0.25: \", n))"
   ]
  },
  {
   "cell_type": "code",
   "execution_count": null,
   "metadata": {},
   "outputs": [],
   "source": []
  }
 ],
 "metadata": {
  "kernelspec": {
   "display_name": "R",
   "language": "R",
   "name": "ir"
  },
  "language_info": {
   "codemirror_mode": "r",
   "file_extension": ".r",
   "mimetype": "text/x-r-source",
   "name": "R",
   "pygments_lexer": "r",
   "version": "3.6.1"
  }
 },
 "nbformat": 4,
 "nbformat_minor": 4
}
