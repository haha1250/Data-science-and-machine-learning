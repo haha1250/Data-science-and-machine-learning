{
 "cells": [
  {
   "cell_type": "code",
   "execution_count": 1,
   "metadata": {},
   "outputs": [],
   "source": [
    "import folium\n",
    "import pandas as pd\n",
    "import numpy as np\n",
    "import matplotlib.pyplot as plt\n",
    "import seaborn as sb\n",
    "\n",
    "%matplotlib inline"
   ]
  },
  {
   "cell_type": "code",
   "execution_count": 2,
   "metadata": {},
   "outputs": [],
   "source": [
    "df = pd.read_excel(\"./DE_thi_LDS2_K255_S/Tai_nguyen_cung_cap/finalhsx.xlsx\", sheet_name=\"Sheet1\")"
   ]
  },
  {
   "cell_type": "code",
   "execution_count": 3,
   "metadata": {},
   "outputs": [
    {
     "data": {
      "text/html": [
       "<div>\n",
       "<style scoped>\n",
       "    .dataframe tbody tr th:only-of-type {\n",
       "        vertical-align: middle;\n",
       "    }\n",
       "\n",
       "    .dataframe tbody tr th {\n",
       "        vertical-align: top;\n",
       "    }\n",
       "\n",
       "    .dataframe thead th {\n",
       "        text-align: right;\n",
       "    }\n",
       "</style>\n",
       "<table border=\"1\" class=\"dataframe\">\n",
       "  <thead>\n",
       "    <tr style=\"text-align: right;\">\n",
       "      <th></th>\n",
       "      <th>Ticker-1</th>\n",
       "      <th>Ticker</th>\n",
       "      <th>Year</th>\n",
       "      <th>Crt</th>\n",
       "      <th>Lag_roa</th>\n",
       "      <th>Firm_size</th>\n",
       "      <th>Leverage</th>\n",
       "      <th>Growth</th>\n",
       "      <th>B_Size</th>\n",
       "      <th>Ln_B_Size</th>\n",
       "      <th>Independent</th>\n",
       "      <th>B_Diversity</th>\n",
       "      <th>B_Age</th>\n",
       "      <th>CEO_duality</th>\n",
       "      <th>B_Ownership</th>\n",
       "      <th>Age</th>\n",
       "    </tr>\n",
       "  </thead>\n",
       "  <tbody>\n",
       "    <tr>\n",
       "      <th>1161</th>\n",
       "      <td>VTO</td>\n",
       "      <td>250</td>\n",
       "      <td>2010</td>\n",
       "      <td>0.644186</td>\n",
       "      <td>5.03</td>\n",
       "      <td>21.843847</td>\n",
       "      <td>61.17</td>\n",
       "      <td>-6.555627</td>\n",
       "      <td>7</td>\n",
       "      <td>1.94591</td>\n",
       "      <td>42.857143</td>\n",
       "      <td>0.000000</td>\n",
       "      <td>346</td>\n",
       "      <td>0</td>\n",
       "      <td>0.712647</td>\n",
       "      <td>18</td>\n",
       "    </tr>\n",
       "    <tr>\n",
       "      <th>1162</th>\n",
       "      <td>VTO</td>\n",
       "      <td>250</td>\n",
       "      <td>2011</td>\n",
       "      <td>0.662488</td>\n",
       "      <td>5.75</td>\n",
       "      <td>21.773101</td>\n",
       "      <td>58.70</td>\n",
       "      <td>-6.830120</td>\n",
       "      <td>7</td>\n",
       "      <td>1.94591</td>\n",
       "      <td>42.857143</td>\n",
       "      <td>0.000000</td>\n",
       "      <td>353</td>\n",
       "      <td>0</td>\n",
       "      <td>0.712647</td>\n",
       "      <td>19</td>\n",
       "    </tr>\n",
       "    <tr>\n",
       "      <th>1163</th>\n",
       "      <td>VTO</td>\n",
       "      <td>250</td>\n",
       "      <td>2012</td>\n",
       "      <td>0.660865</td>\n",
       "      <td>6.23</td>\n",
       "      <td>21.674660</td>\n",
       "      <td>51.67</td>\n",
       "      <td>-9.375059</td>\n",
       "      <td>7</td>\n",
       "      <td>1.94591</td>\n",
       "      <td>28.571429</td>\n",
       "      <td>0.000000</td>\n",
       "      <td>364</td>\n",
       "      <td>0</td>\n",
       "      <td>1.097249</td>\n",
       "      <td>20</td>\n",
       "    </tr>\n",
       "    <tr>\n",
       "      <th>1164</th>\n",
       "      <td>VTO</td>\n",
       "      <td>250</td>\n",
       "      <td>2013</td>\n",
       "      <td>1.060089</td>\n",
       "      <td>4.92</td>\n",
       "      <td>21.528761</td>\n",
       "      <td>45.34</td>\n",
       "      <td>-13.575544</td>\n",
       "      <td>7</td>\n",
       "      <td>1.94591</td>\n",
       "      <td>28.571429</td>\n",
       "      <td>0.000000</td>\n",
       "      <td>364</td>\n",
       "      <td>1</td>\n",
       "      <td>1.147968</td>\n",
       "      <td>21</td>\n",
       "    </tr>\n",
       "    <tr>\n",
       "      <th>1165</th>\n",
       "      <td>VTO</td>\n",
       "      <td>250</td>\n",
       "      <td>2014</td>\n",
       "      <td>1.378082</td>\n",
       "      <td>4.10</td>\n",
       "      <td>21.469387</td>\n",
       "      <td>41.36</td>\n",
       "      <td>-5.764578</td>\n",
       "      <td>7</td>\n",
       "      <td>1.94591</td>\n",
       "      <td>42.857143</td>\n",
       "      <td>14.285714</td>\n",
       "      <td>354</td>\n",
       "      <td>1</td>\n",
       "      <td>0.797833</td>\n",
       "      <td>22</td>\n",
       "    </tr>\n",
       "  </tbody>\n",
       "</table>\n",
       "</div>"
      ],
      "text/plain": [
       "     Ticker-1  Ticker  Year       Crt  Lag_roa  Firm_size  Leverage  \\\n",
       "1161      VTO     250  2010  0.644186     5.03  21.843847     61.17   \n",
       "1162      VTO     250  2011  0.662488     5.75  21.773101     58.70   \n",
       "1163      VTO     250  2012  0.660865     6.23  21.674660     51.67   \n",
       "1164      VTO     250  2013  1.060089     4.92  21.528761     45.34   \n",
       "1165      VTO     250  2014  1.378082     4.10  21.469387     41.36   \n",
       "\n",
       "         Growth  B_Size  Ln_B_Size  Independent  B_Diversity  B_Age  \\\n",
       "1161  -6.555627       7    1.94591    42.857143     0.000000    346   \n",
       "1162  -6.830120       7    1.94591    42.857143     0.000000    353   \n",
       "1163  -9.375059       7    1.94591    28.571429     0.000000    364   \n",
       "1164 -13.575544       7    1.94591    28.571429     0.000000    364   \n",
       "1165  -5.764578       7    1.94591    42.857143    14.285714    354   \n",
       "\n",
       "      CEO_duality  B_Ownership  Age  \n",
       "1161            0     0.712647   18  \n",
       "1162            0     0.712647   19  \n",
       "1163            0     1.097249   20  \n",
       "1164            1     1.147968   21  \n",
       "1165            1     0.797833   22  "
      ]
     },
     "execution_count": 3,
     "metadata": {},
     "output_type": "execute_result"
    }
   ],
   "source": [
    "df.tail()"
   ]
  },
  {
   "cell_type": "code",
   "execution_count": 4,
   "metadata": {},
   "outputs": [
    {
     "data": {
      "text/html": [
       "<div>\n",
       "<style scoped>\n",
       "    .dataframe tbody tr th:only-of-type {\n",
       "        vertical-align: middle;\n",
       "    }\n",
       "\n",
       "    .dataframe tbody tr th {\n",
       "        vertical-align: top;\n",
       "    }\n",
       "\n",
       "    .dataframe thead th {\n",
       "        text-align: right;\n",
       "    }\n",
       "</style>\n",
       "<table border=\"1\" class=\"dataframe\">\n",
       "  <thead>\n",
       "    <tr style=\"text-align: right;\">\n",
       "      <th></th>\n",
       "      <th>Ticker-1</th>\n",
       "      <th>Ticker</th>\n",
       "      <th>Year</th>\n",
       "      <th>Crt</th>\n",
       "      <th>Lag_roa</th>\n",
       "      <th>Firm_size</th>\n",
       "      <th>Leverage</th>\n",
       "      <th>Growth</th>\n",
       "      <th>B_Size</th>\n",
       "      <th>Ln_B_Size</th>\n",
       "      <th>Independent</th>\n",
       "      <th>B_Diversity</th>\n",
       "      <th>B_Age</th>\n",
       "      <th>CEO_duality</th>\n",
       "      <th>B_Ownership</th>\n",
       "      <th>Age</th>\n",
       "    </tr>\n",
       "  </thead>\n",
       "  <tbody>\n",
       "    <tr>\n",
       "      <th>0</th>\n",
       "      <td>AAA</td>\n",
       "      <td>1</td>\n",
       "      <td>2010</td>\n",
       "      <td>3.142590</td>\n",
       "      <td>10.7</td>\n",
       "      <td>20.285215</td>\n",
       "      <td>39.54</td>\n",
       "      <td>48.053585</td>\n",
       "      <td>5</td>\n",
       "      <td>1.609438</td>\n",
       "      <td>60.0</td>\n",
       "      <td>20.0</td>\n",
       "      <td>165</td>\n",
       "      <td>1</td>\n",
       "      <td>17.084848</td>\n",
       "      <td>9</td>\n",
       "    </tr>\n",
       "    <tr>\n",
       "      <th>1</th>\n",
       "      <td>AAA</td>\n",
       "      <td>1</td>\n",
       "      <td>2011</td>\n",
       "      <td>0.753422</td>\n",
       "      <td>16.7</td>\n",
       "      <td>20.520682</td>\n",
       "      <td>47.27</td>\n",
       "      <td>26.549995</td>\n",
       "      <td>5</td>\n",
       "      <td>1.609438</td>\n",
       "      <td>80.0</td>\n",
       "      <td>20.0</td>\n",
       "      <td>185</td>\n",
       "      <td>0</td>\n",
       "      <td>7.978788</td>\n",
       "      <td>10</td>\n",
       "    </tr>\n",
       "    <tr>\n",
       "      <th>2</th>\n",
       "      <td>AAA</td>\n",
       "      <td>1</td>\n",
       "      <td>2012</td>\n",
       "      <td>0.462816</td>\n",
       "      <td>9.0</td>\n",
       "      <td>20.618454</td>\n",
       "      <td>27.29</td>\n",
       "      <td>10.271120</td>\n",
       "      <td>5</td>\n",
       "      <td>1.609438</td>\n",
       "      <td>60.0</td>\n",
       "      <td>20.0</td>\n",
       "      <td>190</td>\n",
       "      <td>0</td>\n",
       "      <td>3.837879</td>\n",
       "      <td>11</td>\n",
       "    </tr>\n",
       "    <tr>\n",
       "      <th>3</th>\n",
       "      <td>AAA</td>\n",
       "      <td>1</td>\n",
       "      <td>2013</td>\n",
       "      <td>0.419230</td>\n",
       "      <td>6.5</td>\n",
       "      <td>20.863279</td>\n",
       "      <td>36.28</td>\n",
       "      <td>27.739818</td>\n",
       "      <td>5</td>\n",
       "      <td>1.609438</td>\n",
       "      <td>60.0</td>\n",
       "      <td>20.0</td>\n",
       "      <td>195</td>\n",
       "      <td>0</td>\n",
       "      <td>3.837879</td>\n",
       "      <td>12</td>\n",
       "    </tr>\n",
       "    <tr>\n",
       "      <th>4</th>\n",
       "      <td>AAA</td>\n",
       "      <td>1</td>\n",
       "      <td>2014</td>\n",
       "      <td>0.424633</td>\n",
       "      <td>5.4</td>\n",
       "      <td>21.075059</td>\n",
       "      <td>32.12</td>\n",
       "      <td>23.587591</td>\n",
       "      <td>5</td>\n",
       "      <td>1.609438</td>\n",
       "      <td>60.0</td>\n",
       "      <td>20.0</td>\n",
       "      <td>200</td>\n",
       "      <td>0</td>\n",
       "      <td>2.648485</td>\n",
       "      <td>13</td>\n",
       "    </tr>\n",
       "  </tbody>\n",
       "</table>\n",
       "</div>"
      ],
      "text/plain": [
       "  Ticker-1  Ticker  Year       Crt  Lag_roa  Firm_size  Leverage     Growth  \\\n",
       "0      AAA       1  2010  3.142590     10.7  20.285215     39.54  48.053585   \n",
       "1      AAA       1  2011  0.753422     16.7  20.520682     47.27  26.549995   \n",
       "2      AAA       1  2012  0.462816      9.0  20.618454     27.29  10.271120   \n",
       "3      AAA       1  2013  0.419230      6.5  20.863279     36.28  27.739818   \n",
       "4      AAA       1  2014  0.424633      5.4  21.075059     32.12  23.587591   \n",
       "\n",
       "   B_Size  Ln_B_Size  Independent  B_Diversity  B_Age  CEO_duality  \\\n",
       "0       5   1.609438         60.0         20.0    165            1   \n",
       "1       5   1.609438         80.0         20.0    185            0   \n",
       "2       5   1.609438         60.0         20.0    190            0   \n",
       "3       5   1.609438         60.0         20.0    195            0   \n",
       "4       5   1.609438         60.0         20.0    200            0   \n",
       "\n",
       "   B_Ownership  Age  \n",
       "0    17.084848    9  \n",
       "1     7.978788   10  \n",
       "2     3.837879   11  \n",
       "3     3.837879   12  \n",
       "4     2.648485   13  "
      ]
     },
     "execution_count": 4,
     "metadata": {},
     "output_type": "execute_result"
    }
   ],
   "source": [
    "df.head()"
   ]
  },
  {
   "cell_type": "code",
   "execution_count": 5,
   "metadata": {},
   "outputs": [
    {
     "name": "stdout",
     "output_type": "stream",
     "text": [
      "<class 'pandas.core.frame.DataFrame'>\n",
      "RangeIndex: 1166 entries, 0 to 1165\n",
      "Data columns (total 16 columns):\n",
      "Ticker-1       1166 non-null object\n",
      "Ticker         1166 non-null int64\n",
      "Year           1166 non-null int64\n",
      "Crt            1162 non-null float64\n",
      "Lag_roa        1150 non-null float64\n",
      "Firm_size      1136 non-null float64\n",
      "Leverage       1141 non-null float64\n",
      "Growth         1124 non-null float64\n",
      "B_Size         1166 non-null int64\n",
      "Ln_B_Size      1158 non-null float64\n",
      "Independent    1166 non-null float64\n",
      "B_Diversity    1166 non-null float64\n",
      "B_Age          1166 non-null int64\n",
      "CEO_duality    1166 non-null int64\n",
      "B_Ownership    1166 non-null float64\n",
      "Age            1166 non-null int64\n",
      "dtypes: float64(9), int64(6), object(1)\n",
      "memory usage: 145.8+ KB\n"
     ]
    }
   ],
   "source": [
    "df.info()"
   ]
  },
  {
   "cell_type": "code",
   "execution_count": 6,
   "metadata": {},
   "outputs": [
    {
     "data": {
      "text/plain": [
       "(1166, 16)"
      ]
     },
     "execution_count": 6,
     "metadata": {},
     "output_type": "execute_result"
    }
   ],
   "source": [
    "df.shape"
   ]
  },
  {
   "cell_type": "code",
   "execution_count": 7,
   "metadata": {},
   "outputs": [
    {
     "data": {
      "text/plain": [
       "<bound method NDFrame.describe of      Ticker-1  Ticker  Year        Crt     Lag_roa  Firm_size  Leverage  \\\n",
       "0         AAA       1  2010   3.142590   10.700000  20.285215     39.54   \n",
       "1         AAA       1  2011   0.753422   16.700000  20.520682     47.27   \n",
       "2         AAA       1  2012   0.462816    9.000000  20.618454     27.29   \n",
       "3         AAA       1  2013   0.419230    6.500000  20.863279     36.28   \n",
       "4         AAA       1  2014   0.424633    5.400000  21.075059     32.12   \n",
       "5         AAM       2  2010   4.348767   15.850000  19.618644      1.86   \n",
       "6         AAM       2  2011   4.570413         NaN  19.614533      1.40   \n",
       "7         AAM       2  2012   1.417869         NaN  19.470665      1.06   \n",
       "8         AAM       2  2013   1.352759         NaN  19.526174      4.73   \n",
       "9         AAM       2  2014   1.274936         NaN  19.509865      6.55   \n",
       "10        ABT       3  2010   1.196644   20.070000  20.215644     10.24   \n",
       "11        ABT       3  2011   1.635240   16.680000  19.985349      5.64   \n",
       "12        ABT       3  2012   1.665231   19.670000  20.061875     18.39   \n",
       "13        ABT       3  2013   2.329944   16.610000  20.349691     33.30   \n",
       "14        ABT       3  2014   2.118289   12.730000  20.300350     29.95   \n",
       "15        ACC       4  2010   3.526552   29.190000  19.296667      0.00   \n",
       "16        ACC       4  2011   3.862080   26.160000  19.352938      0.00   \n",
       "17        ACC       4  2012   3.521759   24.860000  19.439247      0.00   \n",
       "18        ACC       4  2013   2.654896   23.130000  19.326800      0.00   \n",
       "19        ACC       4  2014   2.404126   13.070000  19.630648      1.22   \n",
       "20        ACL       5  2010  38.866294   13.540000  20.403178     59.15   \n",
       "21        ACL       5  2011  36.589256   14.680000  20.491810     50.29   \n",
       "22        ACL       5  2012  36.404054   20.920000  20.539046     52.85   \n",
       "23        ACL       5  2013   1.270888  116.610000  20.390766     54.26   \n",
       "24        ACL       5  2014   6.611830    3.950000  20.544634     57.88   \n",
       "25        AGF       6  2010   1.783110    3.580000        NaN     42.82   \n",
       "26        AGF       6  2011   1.701280    6.400000        NaN     47.99   \n",
       "27        AGF       6  2012   1.620510    7.960000        NaN     43.18   \n",
       "28        AGF       6  2013   3.272819    5.050000        NaN     47.05   \n",
       "29        AGF       6  2014   4.575454    2.460000  21.517171     42.06   \n",
       "...       ...     ...   ...        ...         ...        ...       ...   \n",
       "1136      VPH     244  2014   3.157299    1.190000  21.252410     38.42   \n",
       "1137      VPK     245  2010   7.386159   10.180000  18.861925     27.76   \n",
       "1138      VPK     245  2011   6.415244   10.770000  18.863875     20.23   \n",
       "1139      VPK     245  2012   9.580517   20.110000  19.046490     10.60   \n",
       "1140      VPK     245  2014   7.432398   24.030000  19.277489     15.09   \n",
       "1141      VRC     246  2010   5.511974   10.640000  19.950669     28.00   \n",
       "1142      VRC     246  2011   1.800107   19.560000  19.878930     34.05   \n",
       "1143      VRC     246  2012   1.002784    6.140000  19.833445     30.63   \n",
       "1144      VRC     246  2013   4.801110    0.780000  19.614200     29.57   \n",
       "1145      VRC     246  2014   8.696602    2.200000  19.651515     27.32   \n",
       "1146      VSH     247  2010   2.962019   15.040000  21.831442     17.12   \n",
       "1147      VSH     247  2011   2.113404   10.890000  21.930952     23.31   \n",
       "1148      VSH     247  2012   1.048356   10.440000  21.941855     23.74   \n",
       "1149      VSH     247  2013   1.863999    7.070000  22.021368     22.34   \n",
       "1150      VSH     247  2014   2.380122    5.700000  22.014407     10.87   \n",
       "1151      VSI     248  2010   2.250187    3.393649  20.432174     24.73   \n",
       "1152      VSI     248  2011   1.513749    2.698695  20.515599     27.60   \n",
       "1153      VSI     248  2012   2.312913    4.002533  20.448200     24.21   \n",
       "1154      VSI     248  2013   2.429662    1.071744  20.480868     27.59   \n",
       "1155      VSI     248  2014   1.913032    0.436654  20.433039      9.44   \n",
       "1156      VTB     249  2010   1.176004   10.020000  19.497776      9.77   \n",
       "1157      VTB     249  2011   1.234886    8.600000  19.445286      8.58   \n",
       "1158      VTB     249  2012   1.150148    6.210000  19.397442      5.51   \n",
       "1159      VTB     249  2013   1.265446    4.630000  19.408388      8.99   \n",
       "1160      VTB     249  2014   1.114369    5.360000  19.422680      8.77   \n",
       "1161      VTO     250  2010   0.644186    5.030000  21.843847     61.17   \n",
       "1162      VTO     250  2011   0.662488    5.750000  21.773101     58.70   \n",
       "1163      VTO     250  2012   0.660865    6.230000  21.674660     51.67   \n",
       "1164      VTO     250  2013   1.060089    4.920000  21.528761     45.34   \n",
       "1165      VTO     250  2014   1.378082    4.100000  21.469387     41.36   \n",
       "\n",
       "         Growth  B_Size  Ln_B_Size  Independent  B_Diversity  B_Age  \\\n",
       "0     48.053585       5   1.609438    60.000000    20.000000    165   \n",
       "1     26.549995       5   1.609438    80.000000    20.000000    185   \n",
       "2     10.271120       5   1.609438    60.000000    20.000000    190   \n",
       "3     27.739818       5   1.609438    60.000000    20.000000    195   \n",
       "4     23.587591       5   1.609438    60.000000    20.000000    200   \n",
       "5     -8.957290       5   1.609438    40.000000    60.000000    262   \n",
       "6     -0.410328       5   1.609438    40.000000    60.000000    267   \n",
       "7    -13.399734       5   1.609438    80.000000    40.000000    247   \n",
       "8      5.707864       5   1.609438    80.000000    40.000000    252   \n",
       "9     -1.617682       5   1.609438    60.000000    40.000000    257   \n",
       "10    12.089511       5   1.609438    80.000000    20.000000    228   \n",
       "11   -20.570042       5   1.609438    80.000000    20.000000    233   \n",
       "12     7.953054       5   1.609438    80.000000     0.000000    101   \n",
       "13    33.351096       5   1.609438    80.000000     0.000000    149   \n",
       "14    -4.814369       4   1.386294    75.000000     0.000000    152   \n",
       "15     8.361799       3   1.098612    66.666667     0.000000    119   \n",
       "16     5.788411       5   1.609438    60.000000    20.000000    219   \n",
       "17     9.014257       5   1.609438    60.000000    20.000000    224   \n",
       "18   -10.635461       5   1.609438    80.000000     0.000000    212   \n",
       "19    35.506267       5   1.609438    80.000000     0.000000    217   \n",
       "20    18.265586       5   1.609438    60.000000    20.000000    211   \n",
       "21     9.267891       5   1.609438    60.000000    20.000000    216   \n",
       "22     4.836930       5   1.609438    60.000000    20.000000    221   \n",
       "23   -13.781014       5   1.609438    40.000000    60.000000    172   \n",
       "24    16.633717       5   1.609438    40.000000    60.000000    176   \n",
       "25    11.957878       5   1.609438    60.000000     0.000000    255   \n",
       "26    26.746055       5   1.609438    40.000000     0.000000    251   \n",
       "27    -8.850322       5   1.609438    40.000000     0.000000    256   \n",
       "28    43.829705       6   1.791759    50.000000     0.000000    261   \n",
       "29    -1.727843       5   1.609438    40.000000     0.000000    266   \n",
       "...         ...     ...        ...          ...          ...    ...   \n",
       "1136  -4.535453       5   1.609438    40.000000    20.000000    194   \n",
       "1137   3.811393       5   1.609438    80.000000     0.000000    143   \n",
       "1138   0.195196       5   1.609438    80.000000     0.000000    146   \n",
       "1139  20.035219       5   1.609438    60.000000     0.000000    142   \n",
       "1140   8.694034       4   1.386294    75.000000     0.000000     96   \n",
       "1141  54.870758       5   1.609438    80.000000    20.000000    271   \n",
       "1142  -6.922563       5   1.609438    80.000000     0.000000    242   \n",
       "1143  -4.446627       5   1.609438    80.000000     0.000000    247   \n",
       "1144 -19.687503       5   1.609438    80.000000     0.000000    242   \n",
       "1145   3.802001       5   1.609438    80.000000     0.000000    203   \n",
       "1146  17.353343       5   1.609438    80.000000     0.000000    181   \n",
       "1147  10.462863       5   1.609438    80.000000     0.000000    226   \n",
       "1148   1.096304       5   1.609438    80.000000     0.000000    207   \n",
       "1149   8.275908       5   1.609438    80.000000     0.000000    213   \n",
       "1150  -0.693661       5   1.609438    80.000000     0.000000    180   \n",
       "1151   9.781500       5   1.609438    60.000000     0.000000    257   \n",
       "1152   8.700365       5   1.609438    60.000000     0.000000    262   \n",
       "1153  -6.517755       5   1.609438    60.000000     0.000000    248   \n",
       "1154   3.320757       5   1.609438    80.000000     0.000000    272   \n",
       "1155  -4.670343       5   1.609438    80.000000     0.000000    277   \n",
       "1156  -7.300266       5   1.609438    80.000000     0.000000    277   \n",
       "1157  -5.113685       4   1.386294    50.000000     0.000000    221   \n",
       "1158  -4.671760       5   1.609438    60.000000     0.000000    277   \n",
       "1159   1.100671       5   1.609438    60.000000     0.000000    262   \n",
       "1160   1.439418       5   1.609438    60.000000     0.000000    264   \n",
       "1161  -6.555627       7   1.945910    42.857143     0.000000    346   \n",
       "1162  -6.830120       7   1.945910    42.857143     0.000000    353   \n",
       "1163  -9.375059       7   1.945910    28.571429     0.000000    364   \n",
       "1164 -13.575544       7   1.945910    28.571429     0.000000    364   \n",
       "1165  -5.764578       7   1.945910    42.857143    14.285714    354   \n",
       "\n",
       "      CEO_duality  B_Ownership  Age  \n",
       "0               1    17.084848    9  \n",
       "1               0     7.978788   10  \n",
       "2               0     3.837879   11  \n",
       "3               0     3.837879   12  \n",
       "4               0     2.648485   13  \n",
       "5               1    10.318219    9  \n",
       "6               1    12.801854   10  \n",
       "7               1    14.779932   11  \n",
       "8               1    16.532734   12  \n",
       "9               1    27.704568   13  \n",
       "10              1    10.682067   20  \n",
       "11              1    11.642174   21  \n",
       "12              1    18.242339   22  \n",
       "13              1     7.579163   23  \n",
       "14              1     7.548964   24  \n",
       "15              0     0.305910    3  \n",
       "16              0     0.726580    4  \n",
       "17              0     0.420670    5  \n",
       "18              0     0.305910    6  \n",
       "19              0     0.305910    7  \n",
       "20              1    31.989891    4  \n",
       "21              1    39.222187    5  \n",
       "22              1    39.368924    6  \n",
       "23              1    27.929200    7  \n",
       "24              1    33.208804    8  \n",
       "25              0     1.945691   16  \n",
       "26              0     1.296637   17  \n",
       "27              0     2.080664   18  \n",
       "28              0     1.493982   19  \n",
       "29              0     1.493982   20  \n",
       "...           ...          ...  ...  \n",
       "1136            0    25.373118   16  \n",
       "1137            0     0.180913    9  \n",
       "1138            0     0.330912   10  \n",
       "1139            0     0.276300   11  \n",
       "1140            0     0.210512   13  \n",
       "1141            1     6.175206   31  \n",
       "1142            0     4.261998   32  \n",
       "1143            0     4.340059   33  \n",
       "1144            0     2.437132   34  \n",
       "1145            0     2.402833   35  \n",
       "1146            0     0.449434    6  \n",
       "1147            0     0.361965    7  \n",
       "1148            0     0.137896    8  \n",
       "1149            0     0.135222    9  \n",
       "1150            0     0.135222   10  \n",
       "1151            1     0.341667   36  \n",
       "1152            1     0.310606   37  \n",
       "1153            0     0.326136   38  \n",
       "1154            0     0.341667   39  \n",
       "1155            0     0.341667   40  \n",
       "1156            0     6.000573   21  \n",
       "1157            0     6.000573   22  \n",
       "1158            0     7.091776   23  \n",
       "1159            0     7.149628   24  \n",
       "1160            0     5.722651   25  \n",
       "1161            0     0.712647   18  \n",
       "1162            0     0.712647   19  \n",
       "1163            0     1.097249   20  \n",
       "1164            1     1.147968   21  \n",
       "1165            1     0.797833   22  \n",
       "\n",
       "[1166 rows x 16 columns]>"
      ]
     },
     "execution_count": 7,
     "metadata": {},
     "output_type": "execute_result"
    }
   ],
   "source": [
    "df.describe"
   ]
  },
  {
   "cell_type": "code",
   "execution_count": 8,
   "metadata": {},
   "outputs": [
    {
     "name": "stdout",
     "output_type": "stream",
     "text": [
      "So dong la:  1166\n",
      "So cot la:  16\n"
     ]
    }
   ],
   "source": [
    "print(\"So dong la: \",df.shape[0])\n",
    "print(\"So cot la: \", df.shape[1])"
   ]
  },
  {
   "cell_type": "code",
   "execution_count": 9,
   "metadata": {},
   "outputs": [
    {
     "data": {
      "text/plain": [
       "Ticker-1  Ticker-1\n",
       "AAA       AAA         5\n",
       "AAM       AAM         5\n",
       "ABT       ABT         5\n",
       "ACC       ACC         5\n",
       "ACL       ACL         5\n",
       "AGF       AGF         5\n",
       "AGM       AGM         5\n",
       "AMD       AMD         1\n",
       "ANV       ANV         5\n",
       "APC       APC         4\n",
       "ASM       ASM         5\n",
       "ASP       ASP         3\n",
       "BBC       BBC         5\n",
       "BCE       BCE         5\n",
       "BCG       BCG         1\n",
       "BMC       BMC         5\n",
       "BMP       BMP         5\n",
       "BRC       BRC         5\n",
       "BTP       BTP         5\n",
       "BTT       BTT         5\n",
       "C32       C32         5\n",
       "CAV       CAV         5\n",
       "CCI       CCI         5\n",
       "CCL       CCL         5\n",
       "CDC       CDC         5\n",
       "CHP       CHP         2\n",
       "CII       CII         5\n",
       "CLC       CLC         5\n",
       "CLG       CLG         5\n",
       "CLW       CLW         5\n",
       "                     ..\n",
       "TRA       TRA         5\n",
       "TRC       TRC         5\n",
       "TS4       TS4         5\n",
       "TTB       TTB         1\n",
       "TTF       TTF         5\n",
       "TV2       TV2         5\n",
       "TYA       TYA         5\n",
       "UDC       UDC         5\n",
       "UIC       UIC         5\n",
       "VCF       VCF         5\n",
       "VGC       VGC         1\n",
       "VHC       VHC         5\n",
       "VIC       VIC         5\n",
       "VID       VID         5\n",
       "VIP       VIP         5\n",
       "VIS       VIS         5\n",
       "VMD       VMD         5\n",
       "VNE       VNE         5\n",
       "VNG       VNG         2\n",
       "VNL       VNL         5\n",
       "VNM       VNM         5\n",
       "VNS       VNS         5\n",
       "VOS       VOS         5\n",
       "VPH       VPH         5\n",
       "VPK       VPK         4\n",
       "VRC       VRC         5\n",
       "VSH       VSH         5\n",
       "VSI       VSI         5\n",
       "VTB       VTB         5\n",
       "VTO       VTO         5\n",
       "Name: Ticker-1, Length: 250, dtype: int64"
      ]
     },
     "execution_count": 9,
     "metadata": {},
     "output_type": "execute_result"
    }
   ],
   "source": [
    "df.groupby(\"Ticker-1\")[\"Ticker-1\"].value_counts(sort=True)"
   ]
  },
  {
   "cell_type": "code",
   "execution_count": 10,
   "metadata": {},
   "outputs": [
    {
     "data": {
      "text/plain": [
       "Ticker-1       False\n",
       "Ticker         False\n",
       "Year           False\n",
       "Crt             True\n",
       "Lag_roa         True\n",
       "Firm_size       True\n",
       "Leverage        True\n",
       "Growth          True\n",
       "B_Size         False\n",
       "Ln_B_Size       True\n",
       "Independent    False\n",
       "B_Diversity    False\n",
       "B_Age          False\n",
       "CEO_duality    False\n",
       "B_Ownership    False\n",
       "Age            False\n",
       "dtype: bool"
      ]
     },
     "execution_count": 10,
     "metadata": {},
     "output_type": "execute_result"
    }
   ],
   "source": [
    "df.isnull().any()"
   ]
  },
  {
   "cell_type": "code",
   "execution_count": 11,
   "metadata": {},
   "outputs": [
    {
     "data": {
      "text/plain": [
       "Index(['Crt', 'Lag_roa', 'Firm_size', 'Leverage', 'Growth', 'Ln_B_Size'], dtype='object')"
      ]
     },
     "execution_count": 11,
     "metadata": {},
     "output_type": "execute_result"
    }
   ],
   "source": [
    "df.columns[df.isna().any()]"
   ]
  },
  {
   "cell_type": "code",
   "execution_count": 12,
   "metadata": {},
   "outputs": [],
   "source": [
    "df = df.drop(columns=[\"Ln_B_Size\",\"Independent\"])"
   ]
  },
  {
   "cell_type": "code",
   "execution_count": 13,
   "metadata": {},
   "outputs": [],
   "source": [
    "df[\"Lag_roa\"] = df[\"Lag_roa\"].dropna()"
   ]
  },
  {
   "cell_type": "code",
   "execution_count": 14,
   "metadata": {},
   "outputs": [
    {
     "data": {
      "text/plain": [
       "True"
      ]
     },
     "execution_count": 14,
     "metadata": {},
     "output_type": "execute_result"
    }
   ],
   "source": [
    "df[\"Lag_roa\"].isnull().any()"
   ]
  },
  {
   "cell_type": "code",
   "execution_count": 15,
   "metadata": {},
   "outputs": [
    {
     "data": {
      "image/png": "[encoded data removed]",
      "text/plain": [
       "<Figure size 432x288 with 1 Axes>"
      ]
     },
     "metadata": {
      "needs_background": "light"
     },
     "output_type": "display_data"
    }
   ],
   "source": [
    "bar1 = sb.boxplot(y=\"Lag_roa\", x=\"CEO_duality\",data=df)\n",
    "plt.show()"
   ]
  },
  {
   "cell_type": "markdown",
   "metadata": {},
   "source": [
    "nhan xet: CEO_duality = 0 and Lag_roa is highly concentrated with outliers are not far from median\n",
    "while CEO_duality = 1 and Lag_roa has outliers that is distant from median"
   ]
  },
  {
   "cell_type": "code",
   "execution_count": 16,
   "metadata": {},
   "outputs": [],
   "source": [
    "df[\"Crt\"] = df[\"Crt\"].interpolate()"
   ]
  },
  {
   "cell_type": "code",
   "execution_count": 17,
   "metadata": {},
   "outputs": [
    {
     "data": {
      "text/plain": [
       "False"
      ]
     },
     "execution_count": 17,
     "metadata": {},
     "output_type": "execute_result"
    }
   ],
   "source": [
    "df[\"Crt\"].isnull().any()"
   ]
  },
  {
   "cell_type": "code",
   "execution_count": 18,
   "metadata": {},
   "outputs": [],
   "source": [
    "df[\"Firm_size\"] = df[\"Firm_size\"].fillna(method=\"ffill\")"
   ]
  },
  {
   "cell_type": "code",
   "execution_count": 19,
   "metadata": {},
   "outputs": [
    {
     "data": {
      "text/plain": [
       "False"
      ]
     },
     "execution_count": 19,
     "metadata": {},
     "output_type": "execute_result"
    }
   ],
   "source": [
    "df[\"Firm_size\"].isnull().any()"
   ]
  },
  {
   "cell_type": "code",
   "execution_count": 20,
   "metadata": {},
   "outputs": [
    {
     "data": {
      "image/png": "[encoded data removed]",
      "text/plain": [
       "<Figure size 432x288 with 1 Axes>"
      ]
     },
     "metadata": {
      "needs_background": "light"
     },
     "output_type": "display_data"
    }
   ],
   "source": [
    "bar2 = sb.scatterplot(x=\"Leverage\", y=\"Growth\", data=df)\n",
    "plt.show()"
   ]
  },
  {
   "cell_type": "markdown",
   "metadata": {},
   "source": [
    "Nhan xet: Leverage va Growth khong co su tuong quan toi nhau"
   ]
  },
  {
   "cell_type": "code",
   "execution_count": 93,
   "metadata": {},
   "outputs": [
    {
     "data": {
      "text/html": [
       "<div>\n",
       "<style scoped>\n",
       "    .dataframe tbody tr th:only-of-type {\n",
       "        vertical-align: middle;\n",
       "    }\n",
       "\n",
       "    .dataframe tbody tr th {\n",
       "        vertical-align: top;\n",
       "    }\n",
       "\n",
       "    .dataframe thead th {\n",
       "        text-align: right;\n",
       "    }\n",
       "</style>\n",
       "<table border=\"1\" class=\"dataframe\">\n",
       "  <thead>\n",
       "    <tr style=\"text-align: right;\">\n",
       "      <th></th>\n",
       "      <th></th>\n",
       "      <th>B_Ownership</th>\n",
       "    </tr>\n",
       "    <tr>\n",
       "      <th>Age</th>\n",
       "      <th>B_Size</th>\n",
       "      <th></th>\n",
       "    </tr>\n",
       "  </thead>\n",
       "  <tbody>\n",
       "    <tr>\n",
       "      <th rowspan=\"3\" valign=\"top\">3</th>\n",
       "      <th>3</th>\n",
       "      <td>0.305910</td>\n",
       "    </tr>\n",
       "    <tr>\n",
       "      <th>4</th>\n",
       "      <td>36.004118</td>\n",
       "    </tr>\n",
       "    <tr>\n",
       "      <th>5</th>\n",
       "      <td>53.743818</td>\n",
       "    </tr>\n",
       "    <tr>\n",
       "      <th rowspan=\"3\" valign=\"top\">4</th>\n",
       "      <th>4</th>\n",
       "      <td>0.323251</td>\n",
       "    </tr>\n",
       "    <tr>\n",
       "      <th>5</th>\n",
       "      <td>14.079144</td>\n",
       "    </tr>\n",
       "    <tr>\n",
       "      <th>6</th>\n",
       "      <td>18.650434</td>\n",
       "    </tr>\n",
       "    <tr>\n",
       "      <th rowspan=\"5\" valign=\"top\">5</th>\n",
       "      <th>4</th>\n",
       "      <td>12.814104</td>\n",
       "    </tr>\n",
       "    <tr>\n",
       "      <th>5</th>\n",
       "      <td>14.489468</td>\n",
       "    </tr>\n",
       "    <tr>\n",
       "      <th>6</th>\n",
       "      <td>22.421358</td>\n",
       "    </tr>\n",
       "    <tr>\n",
       "      <th>7</th>\n",
       "      <td>18.486148</td>\n",
       "    </tr>\n",
       "    <tr>\n",
       "      <th>8</th>\n",
       "      <td>3.014601</td>\n",
       "    </tr>\n",
       "    <tr>\n",
       "      <th rowspan=\"3\" valign=\"top\">6</th>\n",
       "      <th>5</th>\n",
       "      <td>8.032210</td>\n",
       "    </tr>\n",
       "    <tr>\n",
       "      <th>6</th>\n",
       "      <td>14.023250</td>\n",
       "    </tr>\n",
       "    <tr>\n",
       "      <th>7</th>\n",
       "      <td>16.638913</td>\n",
       "    </tr>\n",
       "    <tr>\n",
       "      <th rowspan=\"6\" valign=\"top\">7</th>\n",
       "      <th>4</th>\n",
       "      <td>0.807541</td>\n",
       "    </tr>\n",
       "    <tr>\n",
       "      <th>5</th>\n",
       "      <td>8.105737</td>\n",
       "    </tr>\n",
       "    <tr>\n",
       "      <th>6</th>\n",
       "      <td>7.517261</td>\n",
       "    </tr>\n",
       "    <tr>\n",
       "      <th>7</th>\n",
       "      <td>14.033080</td>\n",
       "    </tr>\n",
       "    <tr>\n",
       "      <th>8</th>\n",
       "      <td>28.792094</td>\n",
       "    </tr>\n",
       "    <tr>\n",
       "      <th>9</th>\n",
       "      <td>21.046583</td>\n",
       "    </tr>\n",
       "    <tr>\n",
       "      <th rowspan=\"7\" valign=\"top\">8</th>\n",
       "      <th>4</th>\n",
       "      <td>0.184430</td>\n",
       "    </tr>\n",
       "    <tr>\n",
       "      <th>5</th>\n",
       "      <td>8.990933</td>\n",
       "    </tr>\n",
       "    <tr>\n",
       "      <th>6</th>\n",
       "      <td>6.168710</td>\n",
       "    </tr>\n",
       "    <tr>\n",
       "      <th>7</th>\n",
       "      <td>14.775039</td>\n",
       "    </tr>\n",
       "    <tr>\n",
       "      <th>8</th>\n",
       "      <td>23.295560</td>\n",
       "    </tr>\n",
       "    <tr>\n",
       "      <th>9</th>\n",
       "      <td>20.141644</td>\n",
       "    </tr>\n",
       "    <tr>\n",
       "      <th>11</th>\n",
       "      <td>2.832692</td>\n",
       "    </tr>\n",
       "    <tr>\n",
       "      <th rowspan=\"3\" valign=\"top\">9</th>\n",
       "      <th>5</th>\n",
       "      <td>9.215250</td>\n",
       "    </tr>\n",
       "    <tr>\n",
       "      <th>6</th>\n",
       "      <td>20.157787</td>\n",
       "    </tr>\n",
       "    <tr>\n",
       "      <th>7</th>\n",
       "      <td>15.094619</td>\n",
       "    </tr>\n",
       "    <tr>\n",
       "      <th>...</th>\n",
       "      <th>...</th>\n",
       "      <td>...</td>\n",
       "    </tr>\n",
       "    <tr>\n",
       "      <th rowspan=\"3\" valign=\"top\">30</th>\n",
       "      <th>5</th>\n",
       "      <td>0.793295</td>\n",
       "    </tr>\n",
       "    <tr>\n",
       "      <th>6</th>\n",
       "      <td>5.508440</td>\n",
       "    </tr>\n",
       "    <tr>\n",
       "      <th>7</th>\n",
       "      <td>6.798578</td>\n",
       "    </tr>\n",
       "    <tr>\n",
       "      <th rowspan=\"3\" valign=\"top\">31</th>\n",
       "      <th>5</th>\n",
       "      <td>2.741053</td>\n",
       "    </tr>\n",
       "    <tr>\n",
       "      <th>6</th>\n",
       "      <td>16.844949</td>\n",
       "    </tr>\n",
       "    <tr>\n",
       "      <th>7</th>\n",
       "      <td>2.837716</td>\n",
       "    </tr>\n",
       "    <tr>\n",
       "      <th rowspan=\"3\" valign=\"top\">32</th>\n",
       "      <th>5</th>\n",
       "      <td>2.173557</td>\n",
       "    </tr>\n",
       "    <tr>\n",
       "      <th>7</th>\n",
       "      <td>6.595100</td>\n",
       "    </tr>\n",
       "    <tr>\n",
       "      <th>9</th>\n",
       "      <td>7.892394</td>\n",
       "    </tr>\n",
       "    <tr>\n",
       "      <th rowspan=\"3\" valign=\"top\">33</th>\n",
       "      <th>5</th>\n",
       "      <td>2.299526</td>\n",
       "    </tr>\n",
       "    <tr>\n",
       "      <th>7</th>\n",
       "      <td>7.371730</td>\n",
       "    </tr>\n",
       "    <tr>\n",
       "      <th>9</th>\n",
       "      <td>10.768813</td>\n",
       "    </tr>\n",
       "    <tr>\n",
       "      <th rowspan=\"3\" valign=\"top\">34</th>\n",
       "      <th>5</th>\n",
       "      <td>2.540647</td>\n",
       "    </tr>\n",
       "    <tr>\n",
       "      <th>6</th>\n",
       "      <td>0.289439</td>\n",
       "    </tr>\n",
       "    <tr>\n",
       "      <th>7</th>\n",
       "      <td>0.000000</td>\n",
       "    </tr>\n",
       "    <tr>\n",
       "      <th rowspan=\"3\" valign=\"top\">35</th>\n",
       "      <th>5</th>\n",
       "      <td>3.285463</td>\n",
       "    </tr>\n",
       "    <tr>\n",
       "      <th>6</th>\n",
       "      <td>0.520473</td>\n",
       "    </tr>\n",
       "    <tr>\n",
       "      <th>7</th>\n",
       "      <td>0.000000</td>\n",
       "    </tr>\n",
       "    <tr>\n",
       "      <th rowspan=\"2\" valign=\"top\">36</th>\n",
       "      <th>5</th>\n",
       "      <td>4.723437</td>\n",
       "    </tr>\n",
       "    <tr>\n",
       "      <th>6</th>\n",
       "      <td>2.703823</td>\n",
       "    </tr>\n",
       "    <tr>\n",
       "      <th rowspan=\"3\" valign=\"top\">37</th>\n",
       "      <th>4</th>\n",
       "      <td>0.361661</td>\n",
       "    </tr>\n",
       "    <tr>\n",
       "      <th>5</th>\n",
       "      <td>4.734836</td>\n",
       "    </tr>\n",
       "    <tr>\n",
       "      <th>7</th>\n",
       "      <td>1.726628</td>\n",
       "    </tr>\n",
       "    <tr>\n",
       "      <th rowspan=\"3\" valign=\"top\">38</th>\n",
       "      <th>4</th>\n",
       "      <td>0.000000</td>\n",
       "    </tr>\n",
       "    <tr>\n",
       "      <th>5</th>\n",
       "      <td>5.343434</td>\n",
       "    </tr>\n",
       "    <tr>\n",
       "      <th>7</th>\n",
       "      <td>1.470807</td>\n",
       "    </tr>\n",
       "    <tr>\n",
       "      <th rowspan=\"2\" valign=\"top\">39</th>\n",
       "      <th>5</th>\n",
       "      <td>2.225087</td>\n",
       "    </tr>\n",
       "    <tr>\n",
       "      <th>6</th>\n",
       "      <td>15.858127</td>\n",
       "    </tr>\n",
       "    <tr>\n",
       "      <th>40</th>\n",
       "      <th>5</th>\n",
       "      <td>6.071833</td>\n",
       "    </tr>\n",
       "    <tr>\n",
       "      <th>41</th>\n",
       "      <th>5</th>\n",
       "      <td>4.153080</td>\n",
       "    </tr>\n",
       "  </tbody>\n",
       "</table>\n",
       "<p>175 rows × 1 columns</p>\n",
       "</div>"
      ],
      "text/plain": [
       "            B_Ownership\n",
       "Age B_Size             \n",
       "3   3          0.305910\n",
       "    4         36.004118\n",
       "    5         53.743818\n",
       "4   4          0.323251\n",
       "    5         14.079144\n",
       "    6         18.650434\n",
       "5   4         12.814104\n",
       "    5         14.489468\n",
       "    6         22.421358\n",
       "    7         18.486148\n",
       "    8          3.014601\n",
       "6   5          8.032210\n",
       "    6         14.023250\n",
       "    7         16.638913\n",
       "7   4          0.807541\n",
       "    5          8.105737\n",
       "    6          7.517261\n",
       "    7         14.033080\n",
       "    8         28.792094\n",
       "    9         21.046583\n",
       "8   4          0.184430\n",
       "    5          8.990933\n",
       "    6          6.168710\n",
       "    7         14.775039\n",
       "    8         23.295560\n",
       "    9         20.141644\n",
       "    11         2.832692\n",
       "9   5          9.215250\n",
       "    6         20.157787\n",
       "    7         15.094619\n",
       "...                 ...\n",
       "30  5          0.793295\n",
       "    6          5.508440\n",
       "    7          6.798578\n",
       "31  5          2.741053\n",
       "    6         16.844949\n",
       "    7          2.837716\n",
       "32  5          2.173557\n",
       "    7          6.595100\n",
       "    9          7.892394\n",
       "33  5          2.299526\n",
       "    7          7.371730\n",
       "    9         10.768813\n",
       "34  5          2.540647\n",
       "    6          0.289439\n",
       "    7          0.000000\n",
       "35  5          3.285463\n",
       "    6          0.520473\n",
       "    7          0.000000\n",
       "36  5          4.723437\n",
       "    6          2.703823\n",
       "37  4          0.361661\n",
       "    5          4.734836\n",
       "    7          1.726628\n",
       "38  4          0.000000\n",
       "    5          5.343434\n",
       "    7          1.470807\n",
       "39  5          2.225087\n",
       "    6         15.858127\n",
       "40  5          6.071833\n",
       "41  5          4.153080\n",
       "\n",
       "[175 rows x 1 columns]"
      ]
     },
     "execution_count": 93,
     "metadata": {},
     "output_type": "execute_result"
    }
   ],
   "source": [
    "df_group=df.groupby([\"Age\",\"B_Size\"])[\"B_Ownership\"].mean()\n",
    "df_group = pd.DataFrame(df_group)\n",
    "df_group"
   ]
  },
  {
   "cell_type": "code",
   "execution_count": 22,
   "metadata": {},
   "outputs": [
    {
     "name": "stderr",
     "output_type": "stream",
     "text": [
      "c:\\program files\\python36\\lib\\site-packages\\scipy\\stats\\stats.py:1713: FutureWarning: Using a non-tuple sequence for multidimensional indexing is deprecated; use `arr[tuple(seq)]` instead of `arr[seq]`. In the future this will be interpreted as an array index, `arr[np.array(seq)]`, which will result either in an error or a different result.\n",
      "  return np.add.reduce(sorted[indexer] * weights, axis=axis) / sumval\n"
     ]
    },
    {
     "data": {
      "image/png": "[encoded data removed]",
      "text/plain": [
       "<Figure size 432x432 with 3 Axes>"
      ]
     },
     "metadata": {
      "needs_background": "light"
     },
     "output_type": "display_data"
    }
   ],
   "source": [
    "bar3 = sb.jointplot(\"Firm_size\", \"Leverage\", data=df)\n",
    "plt.show()"
   ]
  },
  {
   "cell_type": "code",
   "execution_count": 23,
   "metadata": {},
   "outputs": [],
   "source": [
    "df_pie = df.groupby(\"CEO_duality\")[\"CEO_duality\"].value_counts()"
   ]
  },
  {
   "cell_type": "code",
   "execution_count": 24,
   "metadata": {},
   "outputs": [
    {
     "data": {
      "text/plain": [
       "CEO_duality  CEO_duality\n",
       "0            0              765\n",
       "1            1              401\n",
       "Name: CEO_duality, dtype: int64"
      ]
     },
     "execution_count": 24,
     "metadata": {},
     "output_type": "execute_result"
    }
   ],
   "source": [
    "df_pie"
   ]
  },
  {
   "cell_type": "code",
   "execution_count": 25,
   "metadata": {},
   "outputs": [
    {
     "data": {
      "text/plain": [
       "dtype('int64')"
      ]
     },
     "execution_count": 25,
     "metadata": {},
     "output_type": "execute_result"
    }
   ],
   "source": [
    "df_pie.dtype"
   ]
  },
  {
   "cell_type": "code",
   "execution_count": 26,
   "metadata": {},
   "outputs": [
    {
     "data": {
      "image/png": "[encoded data removed]",
      "text/plain": [
       "<Figure size 432x288 with 1 Axes>"
      ]
     },
     "metadata": {},
     "output_type": "display_data"
    }
   ],
   "source": [
    "x = [765,401]\n",
    "labels = [0,1]\n",
    "bar4 = plt.pie(x,labels=labels,autopct=\"%.1f\")\n",
    "plt.ylabel(\"CEO_duality\")\n",
    "plt.show()"
   ]
  },
  {
   "cell_type": "code",
   "execution_count": 27,
   "metadata": {},
   "outputs": [
    {
     "data": {
      "image/png": "[encoded data removed]",
      "text/plain": [
       "<Figure size 432x288 with 1 Axes>"
      ]
     },
     "metadata": {
      "needs_background": "light"
     },
     "output_type": "display_data"
    }
   ],
   "source": [
    "bar4 = sb.boxplot(x=\"B_Ownership\", data=df)\n",
    "plt.show()"
   ]
  },
  {
   "cell_type": "code",
   "execution_count": 33,
   "metadata": {},
   "outputs": [
    {
     "data": {
      "text/plain": [
       "16.685340599051187"
      ]
     },
     "execution_count": 33,
     "metadata": {},
     "output_type": "execute_result"
    }
   ],
   "source": [
    "Q1 = df[\"B_Ownership\"].quantile(0.25)\n",
    "Q3 = df[\"B_Ownership\"].quantile(0.75)\n",
    "IQR = Q3 - Q1\n",
    "df2 = df[\"B_Ownership\"]\n",
    "IQR"
   ]
  },
  {
   "cell_type": "code",
   "execution_count": 46,
   "metadata": {},
   "outputs": [],
   "source": [
    "condi = (df2 < (Q1 - 1.5*IQR)) | (df2 > (Q3 + 1.5*IQR))"
   ]
  },
  {
   "cell_type": "code",
   "execution_count": 49,
   "metadata": {},
   "outputs": [
    {
     "name": "stdout",
     "output_type": "stream",
     "text": [
      "So dong con lai sau khi loai outliers:  1089\n"
     ]
    }
   ],
   "source": [
    "df2_out = df2[~(condi)]\n",
    "df2_out.shape\n",
    "print(\"So dong con lai sau khi loai outliers: \",df2_out.shape[0])"
   ]
  },
  {
   "cell_type": "code",
   "execution_count": 41,
   "metadata": {},
   "outputs": [
    {
     "data": {
      "image/png": "[encoded data removed]",
      "text/plain": [
       "<Figure size 408.75x360 with 6 Axes>"
      ]
     },
     "metadata": {
      "needs_background": "light"
     },
     "output_type": "display_data"
    }
   ],
   "source": [
    "#15.\tVẽ pairplot của Crt, Lag_roa với hue='B_Size'\n",
    "bar5 = sb.pairplot(vars=[\"Crt\",\"Lag_roa\"],data=df,hue=\"B_Size\")\n",
    "plt.show()"
   ]
  },
  {
   "cell_type": "code",
   "execution_count": 100,
   "metadata": {},
   "outputs": [
    {
     "data": {
      "image/png": "[encoded data removed]",
      "text/plain": [
       "<Figure size 432x288 with 2 Axes>"
      ]
     },
     "metadata": {
      "needs_background": "light"
     },
     "output_type": "display_data"
    }
   ],
   "source": [
    "#Sử dụng subplot vẽ histogram của cột Age và vẽ scatter của 2 cột B_Age và B_Ownership \n",
    "fig, axes = plt.subplots(1,2)\n",
    "ax1 = axes[0].hist(df[\"Age\"])\n",
    "ax2 = sb.scatterplot(\"B_Age\",\"B_Ownership\", data=df)\n",
    "plt.xlabel(\"\")\n",
    "plt.ylabel(\"\")\n",
    "plt.show()"
   ]
  },
  {
   "cell_type": "code",
   "execution_count": null,
   "metadata": {},
   "outputs": [],
   "source": []
  },
  {
   "cell_type": "code",
   "execution_count": null,
   "metadata": {},
   "outputs": [],
   "source": []
  }
 ],
 "metadata": {
  "kernelspec": {
   "display_name": "Python 3",
   "language": "python",
   "name": "python3"
  },
  "language_info": {
   "codemirror_mode": {
    "name": "ipython",
    "version": 3
   },
   "file_extension": ".py",
   "mimetype": "text/x-python",
   "name": "python",
   "nbconvert_exporter": "python",
   "pygments_lexer": "ipython3",
   "version": "3.6.8"
  }
 },
 "nbformat": 4,
 "nbformat_minor": 4
}
