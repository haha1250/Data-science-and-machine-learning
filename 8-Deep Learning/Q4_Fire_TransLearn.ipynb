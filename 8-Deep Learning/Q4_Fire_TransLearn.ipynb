{
  "nbformat": 4,
  "nbformat_minor": 0,
  "metadata": {
    "kernelspec": {
      "display_name": "Python 3",
      "language": "python",
      "name": "python3"
    },
    "language_info": {
      "codemirror_mode": {
        "name": "ipython",
        "version": 3
      },
      "file_extension": ".py",
      "mimetype": "text/x-python",
      "name": "python",
      "nbconvert_exporter": "python",
      "pygments_lexer": "ipython3",
      "version": "3.6.8"
    },
    "colab": {
      "name": "Q4_Fire_TransLearn.ipynb",
      "provenance": []
    }
  },
  "cells": [
    {
      "cell_type": "code",
      "metadata": {
        "id": "b4_a8Da46rEd"
      },
      "source": [
        "import warnings\n",
        "warnings.filterwarnings('ignore')"
      ],
      "execution_count": null,
      "outputs": []
    },
    {
      "cell_type": "code",
      "metadata": {
        "id": "j7jR1EQYWwb0"
      },
      "source": [
        "from tensorflow.keras import applications\n",
        "from tensorflow.keras.preprocessing.image import ImageDataGenerator\n",
        "from tensorflow.keras import optimizers\n",
        "from tensorflow.keras import Sequential, Model\n",
        "from tensorflow.keras.layers import Dropout, Flatten, Dense\n",
        "from tensorflow.keras.layers import GlobalAveragePooling2D\n",
        "from tensorflow.keras import backend as k\n",
        "from tensorflow.keras.callbacks import EarlyStopping, ModelCheckpoint\n",
        "from tensorflow.keras.callbacks import TensorBoard, LearningRateScheduler"
      ],
      "execution_count": null,
      "outputs": []
    },
    {
      "cell_type": "markdown",
      "metadata": {
        "id": "75T_fUL3b8y8"
      },
      "source": [
        "VGG16: image(224,224)"
      ]
    },
    {
      "cell_type": "code",
      "metadata": {
        "id": "IZVTstzFXeUb"
      },
      "source": [
        "img_width, img_height = 224,224\n",
        "train_data_dir = \"images_translearn/training_set\"\n",
        "validation_data_dir = \"images_translearn/testing_set\""
      ],
      "execution_count": null,
      "outputs": []
    },
    {
      "cell_type": "code",
      "metadata": {
        "id": "kQp6AwC-Xrhj"
      },
      "source": [
        "model = applications.VGG16(weights='imagenet', include_top=False, \n",
        "                           input_shape= (img_width, img_height,3))"
      ],
      "execution_count": null,
      "outputs": []
    },
    {
      "cell_type": "code",
      "metadata": {
        "colab": {
          "base_uri": "https://localhost:8080/"
        },
        "id": "Hmd79xtKdww_",
        "outputId": "553a61b4-8bb5-471b-e9b6-580f1210de91"
      },
      "source": [
        "model.summary()"
      ],
      "execution_count": null,
      "outputs": [
        {
          "name": "stdout",
          "output_type": "stream",
          "text": [
            "Model: \"vgg16\"\n",
            "_________________________________________________________________\n",
            "Layer (type)                 Output Shape              Param #   \n",
            "=================================================================\n",
            "input_1 (InputLayer)         [(None, 224, 224, 3)]     0         \n",
            "_________________________________________________________________\n",
            "block1_conv1 (Conv2D)        (None, 224, 224, 64)      1792      \n",
            "_________________________________________________________________\n",
            "block1_conv2 (Conv2D)        (None, 224, 224, 64)      36928     \n",
            "_________________________________________________________________\n",
            "block1_pool (MaxPooling2D)   (None, 112, 112, 64)      0         \n",
            "_________________________________________________________________\n",
            "block2_conv1 (Conv2D)        (None, 112, 112, 128)     73856     \n",
            "_________________________________________________________________\n",
            "block2_conv2 (Conv2D)        (None, 112, 112, 128)     147584    \n",
            "_________________________________________________________________\n",
            "block2_pool (MaxPooling2D)   (None, 56, 56, 128)       0         \n",
            "_________________________________________________________________\n",
            "block3_conv1 (Conv2D)        (None, 56, 56, 256)       295168    \n",
            "_________________________________________________________________\n",
            "block3_conv2 (Conv2D)        (None, 56, 56, 256)       590080    \n",
            "_________________________________________________________________\n",
            "block3_conv3 (Conv2D)        (None, 56, 56, 256)       590080    \n",
            "_________________________________________________________________\n",
            "block3_pool (MaxPooling2D)   (None, 28, 28, 256)       0         \n",
            "_________________________________________________________________\n",
            "block4_conv1 (Conv2D)        (None, 28, 28, 512)       1180160   \n",
            "_________________________________________________________________\n",
            "block4_conv2 (Conv2D)        (None, 28, 28, 512)       2359808   \n",
            "_________________________________________________________________\n",
            "block4_conv3 (Conv2D)        (None, 28, 28, 512)       2359808   \n",
            "_________________________________________________________________\n",
            "block4_pool (MaxPooling2D)   (None, 14, 14, 512)       0         \n",
            "_________________________________________________________________\n",
            "block5_conv1 (Conv2D)        (None, 14, 14, 512)       2359808   \n",
            "_________________________________________________________________\n",
            "block5_conv2 (Conv2D)        (None, 14, 14, 512)       2359808   \n",
            "_________________________________________________________________\n",
            "block5_conv3 (Conv2D)        (None, 14, 14, 512)       2359808   \n",
            "_________________________________________________________________\n",
            "block5_pool (MaxPooling2D)   (None, 7, 7, 512)         0         \n",
            "=================================================================\n",
            "Total params: 14,714,688\n",
            "Trainable params: 14,714,688\n",
            "Non-trainable params: 0\n",
            "_________________________________________________________________\n"
          ]
        }
      ]
    },
    {
      "cell_type": "markdown",
      "metadata": {
        "id": "VTZz1Io9ZDwt"
      },
      "source": [
        "New dataset is similar but small compared to original's."
      ]
    },
    {
      "cell_type": "code",
      "metadata": {
        "id": "wg958xT4X2kD"
      },
      "source": [
        "# freeze all the VGG16 layers and train only the classifier\n",
        "for layer in model.layers:\n",
        "  layer.trainable = False"
      ],
      "execution_count": null,
      "outputs": []
    },
    {
      "cell_type": "code",
      "metadata": {
        "id": "HZsXVYw6dI0H"
      },
      "source": [
        "#adding custom layers -ANN\n",
        "x = model.output\n",
        "x = Flatten()(x)\n",
        "x = Dense(1024, activation=\"relu\")(x)\n",
        "x = Dropout(0.5)(x)\n",
        "x = Dense(1024, activation=\"relu\")(x)\n",
        "predictions = Dense(2, activation=\"softmax\")(x)"
      ],
      "execution_count": null,
      "outputs": []
    },
    {
      "cell_type": "code",
      "metadata": {
        "id": "DLeORXaxf3Iw"
      },
      "source": [
        "model_final = Model(inputs = model.input, outputs = predictions)"
      ],
      "execution_count": null,
      "outputs": []
    },
    {
      "cell_type": "code",
      "metadata": {
        "id": "eVFBxL7Jf8h4"
      },
      "source": [
        "#compile\n",
        "model_final.compile(loss=\"categorical_crossentropy\",\n",
        "                    optimizer = optimizers.SGD(lr=0.0001, momentum=0.9),\n",
        "                    metrics=[\"accuracy\"])"
      ],
      "execution_count": null,
      "outputs": []
    },
    {
      "cell_type": "code",
      "metadata": {
        "id": "Bc6o3d1_grY4"
      },
      "source": [
        "train_datagen = ImageDataGenerator(rescale=1./255,\n",
        "                                   horizontal_flip=True,\n",
        "                                   fill_mode = \"nearest\",\n",
        "                                   zoom_range=0.3,\n",
        "                                   width_shift_range=0.3,\n",
        "                                   height_shift_range=0.3,\n",
        "                                   rotation_range=30)\n",
        "\n",
        "test_datagen = ImageDataGenerator(rescale=1./255,\n",
        "                                   #horizontal_flip=True,\n",
        "                                   #fill_mode = \"nearest\",\n",
        "                                   #zoom_range=0.3,\n",
        "                                   #width_shift_range=0.3,\n",
        "                                   #height_shift_range=0.3,\n",
        "                                   #rotation_range=30)\n",
        ")"
      ],
      "execution_count": null,
      "outputs": []
    },
    {
      "cell_type": "code",
      "metadata": {
        "colab": {
          "base_uri": "https://localhost:8080/"
        },
        "id": "iyCK34DjhKbQ",
        "outputId": "a8a51d67-a04e-4c12-ebf9-e9e60c49ceec"
      },
      "source": [
        "train_generator = train_datagen.flow_from_directory(train_data_dir,\n",
        "                                                    target_size=(img_height,\n",
        "                                                                 img_width),\n",
        "                                                    batch_size = 32,\n",
        "                                                    class_mode = \"categorical\")\n",
        "\n",
        "validation_generator = test_datagen.flow_from_directory(validation_data_dir,\n",
        "                                                    target_size=(img_height,\n",
        "                                                                 img_width),\n",
        "                                                    class_mode = \"categorical\")"
      ],
      "execution_count": null,
      "outputs": [
        {
          "name": "stdout",
          "output_type": "stream",
          "text": [
            "Found 316 images belonging to 2 classes.\n",
            "Found 126 images belonging to 2 classes.\n"
          ]
        }
      ]
    },
    {
      "cell_type": "code",
      "metadata": {
        "id": "R88_-us6iuYp"
      },
      "source": [
        "checkpoint = ModelCheckpoint(\"vgg16_fire.h5\",\n",
        "                             monitor=\"val_loss\",\n",
        "                             verbose=1,\n",
        "                             save_best_only=True,\n",
        "                             save_weights_only=False,\n",
        "                             mode=\"auto\",\n",
        "                             save_freq=1)\n",
        "\n",
        "early = EarlyStopping(monitor='val_loss',\n",
        "                      min_delta=0,\n",
        "                      patience=10,\n",
        "                      verbose=1,\n",
        "                      mode=\"auto\")"
      ],
      "execution_count": null,
      "outputs": []
    },
    {
      "cell_type": "code",
      "metadata": {
        "id": "mmjw9TkTkKzy"
      },
      "source": [
        "import datetime"
      ],
      "execution_count": null,
      "outputs": []
    },
    {
      "cell_type": "code",
      "metadata": {
        "id": "KV4wObBdkL6h",
        "outputId": "087259dd-78db-4fb5-99ea-9936109faaf9"
      },
      "source": [
        "t0 = datetime.datetime.now()\n",
        "print(t0)"
      ],
      "execution_count": null,
      "outputs": [
        {
          "name": "stdout",
          "output_type": "stream",
          "text": [
            "2020-11-29 13:04:51.695555\n"
          ]
        }
      ]
    },
    {
      "cell_type": "code",
      "metadata": {
        "id": "T0yIlllikXX5",
        "outputId": "d8c75251-6038-4a26-b4d2-face98d3afed"
      },
      "source": [
        "model_final.fit(train_generator,\n",
        "                steps_per_epoch = len(train_generator),\n",
        "                epochs = 100,\n",
        "                validation_data=validation_generator,\n",
        "                validation_steps= len(validation_generator),\n",
        "                verbose = 1,\n",
        "                callbacks = [checkpoint, early])"
      ],
      "execution_count": null,
      "outputs": [
        {
          "name": "stdout",
          "output_type": "stream",
          "text": [
            "Epoch 1/100\n",
            "WARNING:tensorflow:Can save best model only with val_loss available, skipping.\n",
            " 1/10 [==>...........................] - ETA: 0s - loss: 0.6867 - accuracy: 0.5625WARNING:tensorflow:Can save best model only with val_loss available, skipping.\n",
            " 2/10 [=====>........................] - ETA: 31s - loss: 0.7310 - accuracy: 0.5156WARNING:tensorflow:Can save best model only with val_loss available, skipping.\n",
            " 3/10 [========>.....................] - ETA: 37s - loss: 0.7188 - accuracy: 0.5312WARNING:tensorflow:Can save best model only with val_loss available, skipping.\n",
            " 4/10 [===========>..................] - ETA: 36s - loss: 0.7063 - accuracy: 0.5469WARNING:tensorflow:Can save best model only with val_loss available, skipping.\n",
            " 5/10 [==============>...............] - ETA: 33s - loss: 0.7034 - accuracy: 0.5500WARNING:tensorflow:Can save best model only with val_loss available, skipping.\n",
            " 6/10 [=================>............] - ETA: 26s - loss: 0.7020 - accuracy: 0.5625WARNING:tensorflow:Can save best model only with val_loss available, skipping.\n",
            " 7/10 [====================>.........] - ETA: 20s - loss: 0.7297 - accuracy: 0.5357WARNING:tensorflow:Can save best model only with val_loss available, skipping.\n",
            " 8/10 [=======================>......] - ETA: 13s - loss: 0.7270 - accuracy: 0.5516WARNING:tensorflow:Can save best model only with val_loss available, skipping.\n",
            " 9/10 [==========================>...] - ETA: 6s - loss: 0.7290 - accuracy: 0.5458 WARNING:tensorflow:Can save best model only with val_loss available, skipping.\n",
            "10/10 [==============================] - 105s 10s/step - loss: 0.7220 - accuracy: 0.5443 - val_loss: 0.7203 - val_accuracy: 0.4683\n",
            "Epoch 2/100\n",
            "WARNING:tensorflow:Can save best model only with val_loss available, skipping.\n",
            " 1/10 [==>...........................] - ETA: 0s - loss: 0.7426 - accuracy: 0.5000WARNING:tensorflow:Can save best model only with val_loss available, skipping.\n",
            " 2/10 [=====>........................] - ETA: 32s - loss: 0.7246 - accuracy: 0.5312WARNING:tensorflow:Can save best model only with val_loss available, skipping.\n",
            " 3/10 [========>.....................] - ETA: 37s - loss: 0.7309 - accuracy: 0.5521WARNING:tensorflow:Can save best model only with val_loss available, skipping.\n",
            " 4/10 [===========>..................] - ETA: 34s - loss: 0.7503 - accuracy: 0.5242WARNING:tensorflow:Can save best model only with val_loss available, skipping.\n",
            " 5/10 [==============>...............] - ETA: 31s - loss: 0.7166 - accuracy: 0.5577WARNING:tensorflow:Can save best model only with val_loss available, skipping.\n",
            " 6/10 [=================>............] - ETA: 28s - loss: 0.7035 - accuracy: 0.5851WARNING:tensorflow:Can save best model only with val_loss available, skipping.\n",
            " 7/10 [====================>.........] - ETA: 22s - loss: 0.7207 - accuracy: 0.5636WARNING:tensorflow:Can save best model only with val_loss available, skipping.\n",
            " 8/10 [=======================>......] - ETA: 15s - loss: 0.7062 - accuracy: 0.5833WARNING:tensorflow:Can save best model only with val_loss available, skipping.\n",
            " 9/10 [==========================>...] - ETA: 8s - loss: 0.7033 - accuracy: 0.5775 WARNING:tensorflow:Can save best model only with val_loss available, skipping.\n",
            "10/10 [==============================] - 116s 12s/step - loss: 0.6965 - accuracy: 0.5854 - val_loss: 0.7680 - val_accuracy: 0.3810\n",
            "Epoch 3/100\n",
            "WARNING:tensorflow:Can save best model only with val_loss available, skipping.\n",
            " 1/10 [==>...........................] - ETA: 0s - loss: 0.5715 - accuracy: 0.7188WARNING:tensorflow:Can save best model only with val_loss available, skipping.\n",
            " 2/10 [=====>........................] - ETA: 35s - loss: 0.6106 - accuracy: 0.6250WARNING:tensorflow:Can save best model only with val_loss available, skipping.\n",
            " 3/10 [========>.....................] - ETA: 43s - loss: 0.6003 - accuracy: 0.6458WARNING:tensorflow:Can save best model only with val_loss available, skipping.\n",
            " 4/10 [===========>..................] - ETA: 40s - loss: 0.6115 - accuracy: 0.6532WARNING:tensorflow:Can save best model only with val_loss available, skipping.\n",
            " 5/10 [==============>...............] - ETA: 35s - loss: 0.6233 - accuracy: 0.6474WARNING:tensorflow:Can save best model only with val_loss available, skipping.\n",
            " 6/10 [=================>............] - ETA: 29s - loss: 0.6335 - accuracy: 0.6330WARNING:tensorflow:Can save best model only with val_loss available, skipping.\n",
            " 7/10 [====================>.........] - ETA: 22s - loss: 0.6436 - accuracy: 0.6273WARNING:tensorflow:Can save best model only with val_loss available, skipping.\n",
            " 8/10 [=======================>......] - ETA: 15s - loss: 0.6704 - accuracy: 0.5992WARNING:tensorflow:Can save best model only with val_loss available, skipping.\n",
            " 9/10 [==========================>...] - ETA: 7s - loss: 0.6856 - accuracy: 0.5915 WARNING:tensorflow:Can save best model only with val_loss available, skipping.\n",
            "10/10 [==============================] - 109s 11s/step - loss: 0.6838 - accuracy: 0.5886 - val_loss: 0.7994 - val_accuracy: 0.2619\n",
            "Epoch 4/100\n",
            "WARNING:tensorflow:Can save best model only with val_loss available, skipping.\n",
            " 1/10 [==>...........................] - ETA: 0s - loss: 0.6445 - accuracy: 0.6250WARNING:tensorflow:Can save best model only with val_loss available, skipping.\n",
            " 2/10 [=====>........................] - ETA: 34s - loss: 0.6696 - accuracy: 0.6250WARNING:tensorflow:Can save best model only with val_loss available, skipping.\n",
            " 3/10 [========>.....................] - ETA: 38s - loss: 0.6511 - accuracy: 0.6304WARNING:tensorflow:Can save best model only with val_loss available, skipping.\n",
            " 4/10 [===========>..................] - ETA: 36s - loss: 0.6594 - accuracy: 0.6290WARNING:tensorflow:Can save best model only with val_loss available, skipping.\n",
            " 5/10 [==============>...............] - ETA: 32s - loss: 0.6640 - accuracy: 0.6090WARNING:tensorflow:Can save best model only with val_loss available, skipping.\n",
            " 6/10 [=================>............] - ETA: 27s - loss: 0.6740 - accuracy: 0.5851WARNING:tensorflow:Can save best model only with val_loss available, skipping.\n",
            " 7/10 [====================>.........] - ETA: 21s - loss: 0.6672 - accuracy: 0.6045WARNING:tensorflow:Can save best model only with val_loss available, skipping.\n",
            " 8/10 [=======================>......] - ETA: 14s - loss: 0.6792 - accuracy: 0.5794WARNING:tensorflow:Can save best model only with val_loss available, skipping.\n",
            " 9/10 [==========================>...] - ETA: 7s - loss: 0.6746 - accuracy: 0.5915 WARNING:tensorflow:Can save best model only with val_loss available, skipping.\n",
            "10/10 [==============================] - 109s 11s/step - loss: 0.6794 - accuracy: 0.5949 - val_loss: 0.8488 - val_accuracy: 0.3095\n",
            "Epoch 5/100\n",
            "WARNING:tensorflow:Can save best model only with val_loss available, skipping.\n",
            " 1/10 [==>...........................] - ETA: 0s - loss: 0.5794 - accuracy: 0.7188WARNING:tensorflow:Can save best model only with val_loss available, skipping.\n",
            " 2/10 [=====>........................] - ETA: 33s - loss: 0.5976 - accuracy: 0.6406WARNING:tensorflow:Can save best model only with val_loss available, skipping.\n",
            " 3/10 [========>.....................] - ETA: 38s - loss: 0.6258 - accuracy: 0.6458WARNING:tensorflow:Can save best model only with val_loss available, skipping.\n",
            " 4/10 [===========>..................] - ETA: 37s - loss: 0.6130 - accuracy: 0.6562WARNING:tensorflow:Can save best model only with val_loss available, skipping.\n",
            " 5/10 [==============>...............] - ETA: 33s - loss: 0.6074 - accuracy: 0.6500WARNING:tensorflow:Can save best model only with val_loss available, skipping.\n",
            " 6/10 [=================>............] - ETA: 27s - loss: 0.6151 - accuracy: 0.6383WARNING:tensorflow:Can save best model only with val_loss available, skipping.\n",
            " 7/10 [====================>.........] - ETA: 21s - loss: 0.6315 - accuracy: 0.6273WARNING:tensorflow:Can save best model only with val_loss available, skipping.\n",
            " 8/10 [=======================>......] - ETA: 14s - loss: 0.6380 - accuracy: 0.6310WARNING:tensorflow:Can save best model only with val_loss available, skipping.\n",
            " 9/10 [==========================>...] - ETA: 7s - loss: 0.6471 - accuracy: 0.6232 WARNING:tensorflow:Can save best model only with val_loss available, skipping.\n",
            "10/10 [==============================] - 105s 10s/step - loss: 0.6413 - accuracy: 0.6297 - val_loss: 0.8721 - val_accuracy: 0.2460\n",
            "Epoch 6/100\n",
            "WARNING:tensorflow:Can save best model only with val_loss available, skipping.\n",
            " 1/10 [==>...........................] - ETA: 0s - loss: 0.5972 - accuracy: 0.7188WARNING:tensorflow:Can save best model only with val_loss available, skipping.\n",
            " 2/10 [=====>........................] - ETA: 32s - loss: 0.6078 - accuracy: 0.7031WARNING:tensorflow:Can save best model only with val_loss available, skipping.\n",
            " 3/10 [========>.....................] - ETA: 38s - loss: 0.6167 - accuracy: 0.6771WARNING:tensorflow:Can save best model only with val_loss available, skipping.\n",
            " 4/10 [===========>..................] - ETA: 36s - loss: 0.6215 - accuracy: 0.6641WARNING:tensorflow:Can save best model only with val_loss available, skipping.\n",
            " 5/10 [==============>...............] - ETA: 32s - loss: 0.6250 - accuracy: 0.6562WARNING:tensorflow:Can save best model only with val_loss available, skipping.\n",
            " 6/10 [=================>............] - ETA: 27s - loss: 0.6493 - accuracy: 0.6146WARNING:tensorflow:Can save best model only with val_loss available, skipping.\n",
            " 7/10 [====================>.........] - ETA: 20s - loss: 0.6500 - accuracy: 0.6027WARNING:tensorflow:Can save best model only with val_loss available, skipping.\n",
            " 8/10 [=======================>......] - ETA: 14s - loss: 0.6533 - accuracy: 0.5992WARNING:tensorflow:Can save best model only with val_loss available, skipping.\n",
            " 9/10 [==========================>...] - ETA: 7s - loss: 0.6495 - accuracy: 0.6021 WARNING:tensorflow:Can save best model only with val_loss available, skipping.\n",
            "10/10 [==============================] - 105s 10s/step - loss: 0.6454 - accuracy: 0.6139 - val_loss: 0.9525 - val_accuracy: 0.3095\n",
            "Epoch 7/100\n",
            "WARNING:tensorflow:Can save best model only with val_loss available, skipping.\n",
            " 1/10 [==>...........................] - ETA: 0s - loss: 0.6885 - accuracy: 0.6250WARNING:tensorflow:Can save best model only with val_loss available, skipping.\n",
            " 2/10 [=====>........................] - ETA: 31s - loss: 0.7473 - accuracy: 0.5781WARNING:tensorflow:Can save best model only with val_loss available, skipping.\n",
            " 3/10 [========>.....................] - ETA: 34s - loss: 0.6740 - accuracy: 0.6522WARNING:tensorflow:Can save best model only with val_loss available, skipping.\n",
            " 4/10 [===========>..................] - ETA: 34s - loss: 0.6416 - accuracy: 0.6774WARNING:tensorflow:Can save best model only with val_loss available, skipping.\n",
            " 5/10 [==============>...............] - ETA: 31s - loss: 0.6251 - accuracy: 0.6923WARNING:tensorflow:Can save best model only with val_loss available, skipping.\n",
            " 6/10 [=================>............] - ETA: 26s - loss: 0.6151 - accuracy: 0.6968WARNING:tensorflow:Can save best model only with val_loss available, skipping.\n",
            " 7/10 [====================>.........] - ETA: 20s - loss: 0.6025 - accuracy: 0.7091WARNING:tensorflow:Can save best model only with val_loss available, skipping.\n",
            " 8/10 [=======================>......] - ETA: 14s - loss: 0.6027 - accuracy: 0.6984WARNING:tensorflow:Can save best model only with val_loss available, skipping.\n",
            " 9/10 [==========================>...] - ETA: 7s - loss: 0.6036 - accuracy: 0.6937 WARNING:tensorflow:Can save best model only with val_loss available, skipping.\n",
            "10/10 [==============================] - 106s 11s/step - loss: 0.6004 - accuracy: 0.6962 - val_loss: 0.9554 - val_accuracy: 0.2381\n",
            "Epoch 8/100\n",
            "WARNING:tensorflow:Can save best model only with val_loss available, skipping.\n",
            " 1/10 [==>...........................] - ETA: 0s - loss: 0.5194 - accuracy: 0.7500WARNING:tensorflow:Can save best model only with val_loss available, skipping.\n",
            " 2/10 [=====>........................] - ETA: 31s - loss: 0.5226 - accuracy: 0.7656WARNING:tensorflow:Can save best model only with val_loss available, skipping.\n",
            " 3/10 [========>.....................] - ETA: 36s - loss: 0.4931 - accuracy: 0.8021WARNING:tensorflow:Can save best model only with val_loss available, skipping.\n",
            " 4/10 [===========>..................] - ETA: 35s - loss: 0.5358 - accuracy: 0.7500WARNING:tensorflow:Can save best model only with val_loss available, skipping.\n",
            " 5/10 [==============>...............] - ETA: 31s - loss: 0.5606 - accuracy: 0.7312WARNING:tensorflow:Can save best model only with val_loss available, skipping.\n",
            " 6/10 [=================>............] - ETA: 26s - loss: 0.5551 - accuracy: 0.7396WARNING:tensorflow:Can save best model only with val_loss available, skipping.\n",
            " 7/10 [====================>.........] - ETA: 20s - loss: 0.5565 - accuracy: 0.7232WARNING:tensorflow:Can save best model only with val_loss available, skipping.\n",
            " 8/10 [=======================>......] - ETA: 13s - loss: 0.5767 - accuracy: 0.6992WARNING:tensorflow:Can save best model only with val_loss available, skipping.\n",
            " 9/10 [==========================>...] - ETA: 7s - loss: 0.5705 - accuracy: 0.7083 WARNING:tensorflow:Can save best model only with val_loss available, skipping.\n",
            "10/10 [==============================] - 103s 10s/step - loss: 0.5609 - accuracy: 0.7215 - val_loss: 0.9793 - val_accuracy: 0.2222\n",
            "Epoch 9/100\n",
            "WARNING:tensorflow:Can save best model only with val_loss available, skipping.\n",
            " 1/10 [==>...........................] - ETA: 0s - loss: 0.5444 - accuracy: 0.7188WARNING:tensorflow:Can save best model only with val_loss available, skipping.\n",
            " 2/10 [=====>........................] - ETA: 33s - loss: 0.5753 - accuracy: 0.7188WARNING:tensorflow:Can save best model only with val_loss available, skipping.\n",
            " 3/10 [========>.....................] - ETA: 38s - loss: 0.5530 - accuracy: 0.7292WARNING:tensorflow:Can save best model only with val_loss available, skipping.\n",
            " 4/10 [===========>..................] - ETA: 36s - loss: 0.5529 - accuracy: 0.7266WARNING:tensorflow:Can save best model only with val_loss available, skipping.\n",
            " 5/10 [==============>...............] - ETA: 31s - loss: 0.5610 - accuracy: 0.7188WARNING:tensorflow:Can save best model only with val_loss available, skipping.\n",
            " 6/10 [=================>............] - ETA: 26s - loss: 0.5740 - accuracy: 0.6979WARNING:tensorflow:Can save best model only with val_loss available, skipping.\n",
            " 7/10 [====================>.........] - ETA: 21s - loss: 0.5654 - accuracy: 0.7054WARNING:tensorflow:Can save best model only with val_loss available, skipping.\n",
            " 8/10 [=======================>......] - ETA: 14s - loss: 0.5773 - accuracy: 0.6875WARNING:tensorflow:Can save best model only with val_loss available, skipping.\n",
            " 9/10 [==========================>...] - ETA: 7s - loss: 0.5804 - accuracy: 0.6866 WARNING:tensorflow:Can save best model only with val_loss available, skipping.\n",
            "10/10 [==============================] - 117s 12s/step - loss: 0.5813 - accuracy: 0.6930 - val_loss: 1.0419 - val_accuracy: 0.2381\n",
            "Epoch 10/100\n",
            "WARNING:tensorflow:Can save best model only with val_loss available, skipping.\n",
            " 1/10 [==>...........................] - ETA: 0s - loss: 0.7041 - accuracy: 0.5938WARNING:tensorflow:Can save best model only with val_loss available, skipping.\n",
            " 2/10 [=====>........................] - ETA: 35s - loss: 0.6291 - accuracy: 0.6719WARNING:tensorflow:Can save best model only with val_loss available, skipping.\n",
            " 3/10 [========>.....................] - ETA: 41s - loss: 0.6036 - accuracy: 0.6979WARNING:tensorflow:Can save best model only with val_loss available, skipping.\n",
            " 4/10 [===========>..................] - ETA: 39s - loss: 0.5859 - accuracy: 0.7266WARNING:tensorflow:Can save best model only with val_loss available, skipping.\n",
            " 5/10 [==============>...............] - ETA: 34s - loss: 0.5979 - accuracy: 0.7063WARNING:tensorflow:Can save best model only with val_loss available, skipping.\n",
            " 6/10 [=================>............] - ETA: 28s - loss: 0.5933 - accuracy: 0.7135WARNING:tensorflow:Can save best model only with val_loss available, skipping.\n",
            " 7/10 [====================>.........] - ETA: 22s - loss: 0.6023 - accuracy: 0.7009WARNING:tensorflow:Can save best model only with val_loss available, skipping.\n",
            " 8/10 [=======================>......] - ETA: 15s - loss: 0.6079 - accuracy: 0.6875WARNING:tensorflow:Can save best model only with val_loss available, skipping.\n",
            " 9/10 [==========================>...] - ETA: 7s - loss: 0.5982 - accuracy: 0.6944 WARNING:tensorflow:Can save best model only with val_loss available, skipping.\n",
            "10/10 [==============================] - 110s 11s/step - loss: 0.6029 - accuracy: 0.6899 - val_loss: 1.0785 - val_accuracy: 0.2222\n",
            "Epoch 11/100\n",
            "WARNING:tensorflow:Can save best model only with val_loss available, skipping.\n",
            " 1/10 [==>...........................] - ETA: 0s - loss: 0.5030 - accuracy: 0.7857WARNING:tensorflow:Can save best model only with val_loss available, skipping.\n",
            " 2/10 [=====>........................] - ETA: 33s - loss: 0.5742 - accuracy: 0.7333WARNING:tensorflow:Can save best model only with val_loss available, skipping.\n",
            " 3/10 [========>.....................] - ETA: 38s - loss: 0.5909 - accuracy: 0.7174WARNING:tensorflow:Can save best model only with val_loss available, skipping.\n",
            " 4/10 [===========>..................] - ETA: 37s - loss: 0.5814 - accuracy: 0.7097WARNING:tensorflow:Can save best model only with val_loss available, skipping.\n",
            " 5/10 [==============>...............] - ETA: 33s - loss: 0.5454 - accuracy: 0.7308WARNING:tensorflow:Can save best model only with val_loss available, skipping.\n",
            " 6/10 [=================>............] - ETA: 27s - loss: 0.5494 - accuracy: 0.7287WARNING:tensorflow:Can save best model only with val_loss available, skipping.\n",
            " 7/10 [====================>.........] - ETA: 20s - loss: 0.5529 - accuracy: 0.7273WARNING:tensorflow:Can save best model only with val_loss available, skipping.\n",
            " 8/10 [=======================>......] - ETA: 14s - loss: 0.5619 - accuracy: 0.7143WARNING:tensorflow:Can save best model only with val_loss available, skipping.\n",
            " 9/10 [==========================>...] - ETA: 7s - loss: 0.5514 - accuracy: 0.7254 WARNING:tensorflow:Can save best model only with val_loss available, skipping.\n",
            "10/10 [==============================] - 106s 11s/step - loss: 0.5629 - accuracy: 0.7089 - val_loss: 1.0814 - val_accuracy: 0.2302\n",
            "Epoch 00011: early stopping\n"
          ]
        },
        {
          "data": {
            "text/plain": [
              "<tensorflow.python.keras.callbacks.History at 0x2b434a3cd68>"
            ]
          },
          "execution_count": 17,
          "metadata": {},
          "output_type": "execute_result"
        }
      ]
    },
    {
      "cell_type": "code",
      "metadata": {
        "id": "NswWzWJjlyXB",
        "outputId": "e06dbbae-71f0-4b7a-ebc0-3ed46c6214ee"
      },
      "source": [
        "t1 = datetime.datetime.now()\n",
        "print(t1-t0)"
      ],
      "execution_count": null,
      "outputs": [
        {
          "name": "stdout",
          "output_type": "stream",
          "text": [
            "0:21:42.613204\n"
          ]
        }
      ]
    },
    {
      "cell_type": "code",
      "metadata": {
        "id": "7bvJ_Z726rE4",
        "outputId": "fe99fb18-9c78-4553-da3a-be877a38acca"
      },
      "source": [
        "from tensorflow.keras.models import load_model\n",
        "\n",
        "model_final.save(\"my_vgg16_fire.h5\")\n",
        "print(\"save!\")"
      ],
      "execution_count": null,
      "outputs": [
        {
          "name": "stdout",
          "output_type": "stream",
          "text": [
            "save!\n"
          ]
        }
      ]
    },
    {
      "cell_type": "markdown",
      "metadata": {
        "id": "xnkgNRT26rE5"
      },
      "source": [
        "### Compare execution time and accuracy of two models (Question 3 vs. Question 4)\n",
        "\n",
        "* CNN model (full dataset 4122 images)  : time: 29min12s       accuracy: 90%\n",
        "* vg16 model (small dataset 442 images) : time: 21min43s       accuracy: 70%\n",
        "\n",
        "The differences in accuracy between the 2 models are because the dataset for Q4 is much smaller compared to the originals in Q3."
      ]
    },
    {
      "cell_type": "code",
      "metadata": {
        "id": "7s8V585a6rE5"
      },
      "source": [
        ""
      ],
      "execution_count": null,
      "outputs": []
    }
  ]
}