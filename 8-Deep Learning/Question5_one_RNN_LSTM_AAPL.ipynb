{
  "nbformat": 4,
  "nbformat_minor": 0,
  "metadata": {
    "colab": {
      "name": "Question5_one_RNN_LSTM_AAPL.ipynb",
      "provenance": [],
      "collapsed_sections": []
    },
    "kernelspec": {
      "name": "python3",
      "display_name": "Python 3"
    }
  },
  "cells": [
    {
      "cell_type": "code",
      "metadata": {
        "id": "S1w38yJPibOy",
        "colab": {
          "base_uri": "https://localhost:8080/"
        },
        "outputId": "d3a14b5f-01f1-4ff6-93a4-a019e93e7815"
      },
      "source": [
        "from google.colab import drive\n",
        "drive.mount(\"/content/gdrive\", force_remount = True)"
      ],
      "execution_count": null,
      "outputs": [
        {
          "output_type": "stream",
          "text": [
            "Mounted at /content/gdrive\n"
          ],
          "name": "stdout"
        }
      ]
    },
    {
      "cell_type": "code",
      "metadata": {
        "id": "I7Nr1NNGij8d",
        "colab": {
          "base_uri": "https://localhost:8080/"
        },
        "outputId": "1df00504-58fe-4581-a3dc-9d00d9611e68"
      },
      "source": [
        "%cd '/content/gdrive/My Drive/LDS8_DeepLearning/LDS8_DinhVietHa_thi/'"
      ],
      "execution_count": null,
      "outputs": [
        {
          "output_type": "stream",
          "text": [
            "/content/gdrive/My Drive/LDS8_DeepLearning/LDS8_DinhVietHa_thi\n"
          ],
          "name": "stdout"
        }
      ]
    },
    {
      "cell_type": "code",
      "metadata": {
        "id": "iTOPJNjdx8bH"
      },
      "source": [
        "import warnings\n",
        "warnings.filterwarnings('ignore')"
      ],
      "execution_count": null,
      "outputs": []
    },
    {
      "cell_type": "code",
      "metadata": {
        "id": "wXWoQYCay_Yt"
      },
      "source": [
        "import tensorflow as tf\n",
        "from tensorflow import keras\n",
        "from tensorflow.keras import Sequential\n",
        "from tensorflow.keras.layers import Dense\n",
        "from tensorflow.keras.layers import LSTM"
      ],
      "execution_count": null,
      "outputs": []
    },
    {
      "cell_type": "code",
      "metadata": {
        "id": "mHtZi5SEzBdu"
      },
      "source": [
        "import pandas as pd\n",
        "import numpy as np\n",
        "import matplotlib.pyplot as plt\n",
        "import seaborn as sns\n",
        "import math\n",
        "from sklearn.preprocessing import RobustScaler, MinMaxScaler\n",
        "from sklearn.preprocessing import OneHotEncoder\n",
        "from sklearn.metrics import mean_squared_error\n",
        "from tensorflow.keras.callbacks import EarlyStopping, ModelCheckpoint"
      ],
      "execution_count": null,
      "outputs": []
    },
    {
      "cell_type": "code",
      "metadata": {
        "colab": {
          "base_uri": "https://localhost:8080/",
          "height": 204
        },
        "id": "p3PRUdmJUU4-",
        "outputId": "aa0d130b-db0a-4277-dd67-44e425e1e3e5"
      },
      "source": [
        "dataset = pd.read_csv(\"./AAPL_Nov14.csv\")\n",
        "dataset.head()"
      ],
      "execution_count": null,
      "outputs": [
        {
          "output_type": "execute_result",
          "data": {
            "text/html": [
              "<div>\n",
              "<style scoped>\n",
              "    .dataframe tbody tr th:only-of-type {\n",
              "        vertical-align: middle;\n",
              "    }\n",
              "\n",
              "    .dataframe tbody tr th {\n",
              "        vertical-align: top;\n",
              "    }\n",
              "\n",
              "    .dataframe thead th {\n",
              "        text-align: right;\n",
              "    }\n",
              "</style>\n",
              "<table border=\"1\" class=\"dataframe\">\n",
              "  <thead>\n",
              "    <tr style=\"text-align: right;\">\n",
              "      <th></th>\n",
              "      <th>Date</th>\n",
              "      <th>Open</th>\n",
              "      <th>High</th>\n",
              "      <th>Low</th>\n",
              "      <th>Close</th>\n",
              "      <th>Adj Close</th>\n",
              "      <th>Volume</th>\n",
              "    </tr>\n",
              "  </thead>\n",
              "  <tbody>\n",
              "    <tr>\n",
              "      <th>0</th>\n",
              "      <td>2016-11-14</td>\n",
              "      <td>26.927500</td>\n",
              "      <td>26.952499</td>\n",
              "      <td>26.020000</td>\n",
              "      <td>26.427500</td>\n",
              "      <td>24.825821</td>\n",
              "      <td>204702000</td>\n",
              "    </tr>\n",
              "    <tr>\n",
              "      <th>1</th>\n",
              "      <td>2016-11-15</td>\n",
              "      <td>26.642500</td>\n",
              "      <td>26.920000</td>\n",
              "      <td>26.540001</td>\n",
              "      <td>26.777500</td>\n",
              "      <td>25.154610</td>\n",
              "      <td>129058000</td>\n",
              "    </tr>\n",
              "    <tr>\n",
              "      <th>2</th>\n",
              "      <td>2016-11-16</td>\n",
              "      <td>26.674999</td>\n",
              "      <td>27.557501</td>\n",
              "      <td>26.650000</td>\n",
              "      <td>27.497499</td>\n",
              "      <td>25.830971</td>\n",
              "      <td>235362000</td>\n",
              "    </tr>\n",
              "    <tr>\n",
              "      <th>3</th>\n",
              "      <td>2016-11-17</td>\n",
              "      <td>27.452499</td>\n",
              "      <td>27.587500</td>\n",
              "      <td>27.207500</td>\n",
              "      <td>27.487499</td>\n",
              "      <td>25.821573</td>\n",
              "      <td>110528000</td>\n",
              "    </tr>\n",
              "    <tr>\n",
              "      <th>4</th>\n",
              "      <td>2016-11-18</td>\n",
              "      <td>27.430000</td>\n",
              "      <td>27.635000</td>\n",
              "      <td>27.415001</td>\n",
              "      <td>27.514999</td>\n",
              "      <td>25.847408</td>\n",
              "      <td>113715600</td>\n",
              "    </tr>\n",
              "  </tbody>\n",
              "</table>\n",
              "</div>"
            ],
            "text/plain": [
              "         Date       Open       High        Low      Close  Adj Close     Volume\n",
              "0  2016-11-14  26.927500  26.952499  26.020000  26.427500  24.825821  204702000\n",
              "1  2016-11-15  26.642500  26.920000  26.540001  26.777500  25.154610  129058000\n",
              "2  2016-11-16  26.674999  27.557501  26.650000  27.497499  25.830971  235362000\n",
              "3  2016-11-17  27.452499  27.587500  27.207500  27.487499  25.821573  110528000\n",
              "4  2016-11-18  27.430000  27.635000  27.415001  27.514999  25.847408  113715600"
            ]
          },
          "metadata": {
            "tags": []
          },
          "execution_count": 6
        }
      ]
    },
    {
      "cell_type": "code",
      "metadata": {
        "id": "Hni-EYBGhgcY",
        "colab": {
          "base_uri": "https://localhost:8080/"
        },
        "outputId": "8b56b322-a79c-4757-9926-c74bd598bb30"
      },
      "source": [
        "dataset.info()"
      ],
      "execution_count": null,
      "outputs": [
        {
          "output_type": "stream",
          "text": [
            "<class 'pandas.core.frame.DataFrame'>\n",
            "RangeIndex: 1008 entries, 0 to 1007\n",
            "Data columns (total 7 columns):\n",
            " #   Column     Non-Null Count  Dtype  \n",
            "---  ------     --------------  -----  \n",
            " 0   Date       1008 non-null   object \n",
            " 1   Open       1008 non-null   float64\n",
            " 2   High       1008 non-null   float64\n",
            " 3   Low        1008 non-null   float64\n",
            " 4   Close      1008 non-null   float64\n",
            " 5   Adj Close  1008 non-null   float64\n",
            " 6   Volume     1008 non-null   int64  \n",
            "dtypes: float64(5), int64(1), object(1)\n",
            "memory usage: 55.2+ KB\n"
          ],
          "name": "stdout"
        }
      ]
    },
    {
      "cell_type": "code",
      "metadata": {
        "id": "TfQQspV3Vfy3"
      },
      "source": [
        "def create_dataset(dataset, look_back=1):\n",
        "\tdataX, dataY = [], []\n",
        "\tfor i in range(len(dataset)-look_back-1):\n",
        "\t#t\n",
        "\t\ta = dataset[i:(i+look_back), 0]\n",
        "\t\tdataX.append(a)\n",
        "\t#t+1\n",
        "\t\tdataY.append(dataset[i + look_back, 0])\n",
        "\treturn np.array(dataX), np.array(dataY)"
      ],
      "execution_count": null,
      "outputs": []
    },
    {
      "cell_type": "code",
      "metadata": {
        "id": "LfRVaGl1Pz5Y"
      },
      "source": [
        "np.random.seed(7)"
      ],
      "execution_count": null,
      "outputs": []
    },
    {
      "cell_type": "markdown",
      "metadata": {
        "id": "-xBhU4W-KSxk"
      },
      "source": [
        "## Open to Open ( One to One )"
      ]
    },
    {
      "cell_type": "code",
      "metadata": {
        "id": "i04JKK2DP3Lu"
      },
      "source": [
        "data_open = dataset[['Open']].values"
      ],
      "execution_count": null,
      "outputs": []
    },
    {
      "cell_type": "code",
      "metadata": {
        "colab": {
          "base_uri": "https://localhost:8080/"
        },
        "id": "fOvOXfKWR7-L",
        "outputId": "6145da11-bf71-49e3-a842-bf56d289d9a3"
      },
      "source": [
        "data_open = data_open.astype('float32')\n",
        "data_open[:10]"
      ],
      "execution_count": null,
      "outputs": [
        {
          "output_type": "execute_result",
          "data": {
            "text/plain": [
              "array([[26.9275],\n",
              "       [26.6425],\n",
              "       [26.675 ],\n",
              "       [27.4525],\n",
              "       [27.43  ],\n",
              "       [27.53  ],\n",
              "       [27.9875],\n",
              "       [27.84  ],\n",
              "       [27.7825],\n",
              "       [27.8575]], dtype=float32)"
            ]
          },
          "metadata": {
            "tags": []
          },
          "execution_count": 11
        }
      ]
    },
    {
      "cell_type": "code",
      "metadata": {
        "id": "Pjl6m70eSrZ8"
      },
      "source": [
        "scaler = MinMaxScaler(feature_range=(0,1))\n",
        "data_open = scaler.fit_transform(data_open)"
      ],
      "execution_count": null,
      "outputs": []
    },
    {
      "cell_type": "code",
      "metadata": {
        "id": "brrmVhGTTJBE"
      },
      "source": [
        "train_size = int(len(data_open)*0.67)\n",
        "test_size = len(data_open) - train_size\n",
        "train, test = data_open[0: train_size, :], data_open[train_size:len(data_open),]"
      ],
      "execution_count": null,
      "outputs": []
    },
    {
      "cell_type": "code",
      "metadata": {
        "id": "e_9m3bqHwW_b"
      },
      "source": [
        "look_back = 1\n",
        "trainX, trainY = create_dataset(train, look_back)\n",
        "testX, testY = create_dataset(test, look_back)"
      ],
      "execution_count": null,
      "outputs": []
    },
    {
      "cell_type": "code",
      "metadata": {
        "colab": {
          "base_uri": "https://localhost:8080/"
        },
        "id": "sNHKr2cTEGGn",
        "outputId": "3faa03d7-7714-41cd-9b97-2eb829576bbb"
      },
      "source": [
        "trainX.shape"
      ],
      "execution_count": null,
      "outputs": [
        {
          "output_type": "execute_result",
          "data": {
            "text/plain": [
              "(673, 1)"
            ]
          },
          "metadata": {
            "tags": []
          },
          "execution_count": 15
        }
      ]
    },
    {
      "cell_type": "code",
      "metadata": {
        "colab": {
          "base_uri": "https://localhost:8080/"
        },
        "id": "pwEF7zA1EQEq",
        "outputId": "cf694b70-1250-4e11-9053-33cea50fc8c0"
      },
      "source": [
        "trainY.shape"
      ],
      "execution_count": null,
      "outputs": [
        {
          "output_type": "execute_result",
          "data": {
            "text/plain": [
              "(673,)"
            ]
          },
          "metadata": {
            "tags": []
          },
          "execution_count": 16
        }
      ]
    },
    {
      "cell_type": "code",
      "metadata": {
        "id": "JDoJ-goKFPNB"
      },
      "source": [
        "trainX = np.reshape(trainX, (trainX.shape[0], 1, trainX.shape[1]))\n",
        "testX = np.reshape(testX, (testX.shape[0], 1, testX.shape[1]))"
      ],
      "execution_count": null,
      "outputs": []
    },
    {
      "cell_type": "code",
      "metadata": {
        "id": "3Gb0mhtAxfMq"
      },
      "source": [
        "model = Sequential()\n",
        "model.add(LSTM(4, input_shape=(1, look_back)))\n",
        "model.add(Dense(1))"
      ],
      "execution_count": null,
      "outputs": []
    },
    {
      "cell_type": "code",
      "metadata": {
        "id": "12DBTPnKzJFW",
        "colab": {
          "base_uri": "https://localhost:8080/"
        },
        "outputId": "19d2aa4a-0b3c-4a90-976f-e9d39f4f15a3"
      },
      "source": [
        "model.summary()"
      ],
      "execution_count": null,
      "outputs": [
        {
          "output_type": "stream",
          "text": [
            "Model: \"sequential\"\n",
            "_________________________________________________________________\n",
            "Layer (type)                 Output Shape              Param #   \n",
            "=================================================================\n",
            "lstm (LSTM)                  (None, 4)                 96        \n",
            "_________________________________________________________________\n",
            "dense (Dense)                (None, 1)                 5         \n",
            "=================================================================\n",
            "Total params: 101\n",
            "Trainable params: 101\n",
            "Non-trainable params: 0\n",
            "_________________________________________________________________\n"
          ],
          "name": "stdout"
        }
      ]
    },
    {
      "cell_type": "code",
      "metadata": {
        "id": "cGhGGxXUx2VR"
      },
      "source": [
        "early = EarlyStopping(patience=10)\n",
        "\n",
        "checkpoint = ModelCheckpoint('Q5_AAPL_checkpoint_new.h5', save_best_only=True)"
      ],
      "execution_count": null,
      "outputs": []
    },
    {
      "cell_type": "code",
      "metadata": {
        "colab": {
          "base_uri": "https://localhost:8080/"
        },
        "id": "iS5HUuQwyXgc",
        "outputId": "4d9e575e-e460-44fd-c1cd-c6d1b4fc1c24"
      },
      "source": [
        "model.compile(loss='mean_squared_error', optimizer='adam')\n",
        "model.fit(trainX, trainY, epochs=100, batch_size=1\n",
        "          #, callbacks=[early, checkpoint])\n",
        ")"
      ],
      "execution_count": null,
      "outputs": [
        {
          "output_type": "stream",
          "text": [
            "Epoch 1/100\n",
            "673/673 [==============================] - 1s 1ms/step - loss: 0.0030\n",
            "Epoch 2/100\n",
            "673/673 [==============================] - 1s 1ms/step - loss: 6.0453e-04\n",
            "Epoch 3/100\n",
            "673/673 [==============================] - 1s 1ms/step - loss: 5.0928e-05\n",
            "Epoch 4/100\n",
            "673/673 [==============================] - 1s 1ms/step - loss: 4.0242e-05\n",
            "Epoch 5/100\n",
            "673/673 [==============================] - 1s 1ms/step - loss: 4.1647e-05\n",
            "Epoch 6/100\n",
            "673/673 [==============================] - 1s 1ms/step - loss: 4.0560e-05\n",
            "Epoch 7/100\n",
            "673/673 [==============================] - 1s 1ms/step - loss: 4.2319e-05\n",
            "Epoch 8/100\n",
            "673/673 [==============================] - 1s 1ms/step - loss: 4.0876e-05\n",
            "Epoch 9/100\n",
            "673/673 [==============================] - 1s 1ms/step - loss: 4.4920e-05\n",
            "Epoch 10/100\n",
            "673/673 [==============================] - 1s 1ms/step - loss: 4.3430e-05\n",
            "Epoch 11/100\n",
            "673/673 [==============================] - 1s 1ms/step - loss: 4.4170e-05\n",
            "Epoch 12/100\n",
            "673/673 [==============================] - 1s 1ms/step - loss: 4.3006e-05\n",
            "Epoch 13/100\n",
            "673/673 [==============================] - 1s 1ms/step - loss: 4.1777e-05\n",
            "Epoch 14/100\n",
            "673/673 [==============================] - 1s 1ms/step - loss: 4.4506e-05\n",
            "Epoch 15/100\n",
            "673/673 [==============================] - 1s 1ms/step - loss: 4.2626e-05\n",
            "Epoch 16/100\n",
            "673/673 [==============================] - 1s 1ms/step - loss: 4.3443e-05\n",
            "Epoch 17/100\n",
            "673/673 [==============================] - 1s 1ms/step - loss: 4.3301e-05\n",
            "Epoch 18/100\n",
            "673/673 [==============================] - 1s 1ms/step - loss: 4.2138e-05\n",
            "Epoch 19/100\n",
            "673/673 [==============================] - 1s 1ms/step - loss: 4.1065e-05\n",
            "Epoch 20/100\n",
            "673/673 [==============================] - 1s 1ms/step - loss: 4.3338e-05\n",
            "Epoch 21/100\n",
            "673/673 [==============================] - 1s 1ms/step - loss: 4.3346e-05\n",
            "Epoch 22/100\n",
            "673/673 [==============================] - 1s 1ms/step - loss: 4.4083e-05\n",
            "Epoch 23/100\n",
            "673/673 [==============================] - 1s 1ms/step - loss: 4.2591e-05\n",
            "Epoch 24/100\n",
            "673/673 [==============================] - 1s 1ms/step - loss: 4.2869e-05\n",
            "Epoch 25/100\n",
            "673/673 [==============================] - 1s 1ms/step - loss: 4.4409e-05\n",
            "Epoch 26/100\n",
            "673/673 [==============================] - 1s 1ms/step - loss: 4.4344e-05\n",
            "Epoch 27/100\n",
            "673/673 [==============================] - 1s 1ms/step - loss: 4.2095e-05\n",
            "Epoch 28/100\n",
            "673/673 [==============================] - 1s 1ms/step - loss: 4.3305e-05\n",
            "Epoch 29/100\n",
            "673/673 [==============================] - 1s 1ms/step - loss: 4.3201e-05\n",
            "Epoch 30/100\n",
            "673/673 [==============================] - 1s 1ms/step - loss: 4.1058e-05\n",
            "Epoch 31/100\n",
            "673/673 [==============================] - 1s 1ms/step - loss: 4.2852e-05\n",
            "Epoch 32/100\n",
            "673/673 [==============================] - 1s 1ms/step - loss: 4.3313e-05\n",
            "Epoch 33/100\n",
            "673/673 [==============================] - 1s 1ms/step - loss: 4.5156e-05\n",
            "Epoch 34/100\n",
            "673/673 [==============================] - 1s 1ms/step - loss: 4.2711e-05\n",
            "Epoch 35/100\n",
            "673/673 [==============================] - 1s 1ms/step - loss: 4.2558e-05\n",
            "Epoch 36/100\n",
            "673/673 [==============================] - 1s 1ms/step - loss: 4.2855e-05\n",
            "Epoch 37/100\n",
            "673/673 [==============================] - 1s 1ms/step - loss: 4.1483e-05\n",
            "Epoch 38/100\n",
            "673/673 [==============================] - 1s 1ms/step - loss: 4.2228e-05\n",
            "Epoch 39/100\n",
            "673/673 [==============================] - 1s 1ms/step - loss: 4.3319e-05\n",
            "Epoch 40/100\n",
            "673/673 [==============================] - 1s 1ms/step - loss: 4.0731e-05\n",
            "Epoch 41/100\n",
            "673/673 [==============================] - 1s 1ms/step - loss: 4.3773e-05\n",
            "Epoch 42/100\n",
            "673/673 [==============================] - 1s 1ms/step - loss: 4.3993e-05\n",
            "Epoch 43/100\n",
            "673/673 [==============================] - 1s 1ms/step - loss: 4.1608e-05\n",
            "Epoch 44/100\n",
            "673/673 [==============================] - 1s 1ms/step - loss: 4.2100e-05\n",
            "Epoch 45/100\n",
            "673/673 [==============================] - 1s 1ms/step - loss: 4.3434e-05\n",
            "Epoch 46/100\n",
            "673/673 [==============================] - 1s 1ms/step - loss: 4.2632e-05\n",
            "Epoch 47/100\n",
            "673/673 [==============================] - 1s 1ms/step - loss: 4.2091e-05\n",
            "Epoch 48/100\n",
            "673/673 [==============================] - 1s 1ms/step - loss: 4.1713e-05\n",
            "Epoch 49/100\n",
            "673/673 [==============================] - 1s 1ms/step - loss: 4.3744e-05\n",
            "Epoch 50/100\n",
            "673/673 [==============================] - 1s 1ms/step - loss: 4.2704e-05\n",
            "Epoch 51/100\n",
            "673/673 [==============================] - 1s 1ms/step - loss: 4.3317e-05\n",
            "Epoch 52/100\n",
            "673/673 [==============================] - 1s 1ms/step - loss: 4.3364e-05\n",
            "Epoch 53/100\n",
            "673/673 [==============================] - 1s 1ms/step - loss: 4.4739e-05\n",
            "Epoch 54/100\n",
            "673/673 [==============================] - 1s 1ms/step - loss: 4.1713e-05\n",
            "Epoch 55/100\n",
            "673/673 [==============================] - 1s 1ms/step - loss: 4.3798e-05\n",
            "Epoch 56/100\n",
            "673/673 [==============================] - 1s 1ms/step - loss: 4.4061e-05\n",
            "Epoch 57/100\n",
            "673/673 [==============================] - 1s 1ms/step - loss: 4.2914e-05\n",
            "Epoch 58/100\n",
            "673/673 [==============================] - 1s 1ms/step - loss: 4.2854e-05\n",
            "Epoch 59/100\n",
            "673/673 [==============================] - 1s 1ms/step - loss: 4.2387e-05\n",
            "Epoch 60/100\n",
            "673/673 [==============================] - 1s 1ms/step - loss: 4.2132e-05\n",
            "Epoch 61/100\n",
            "673/673 [==============================] - 1s 1ms/step - loss: 4.0876e-05\n",
            "Epoch 62/100\n",
            "673/673 [==============================] - 1s 1ms/step - loss: 4.3565e-05\n",
            "Epoch 63/100\n",
            "673/673 [==============================] - 1s 1ms/step - loss: 4.2284e-05\n",
            "Epoch 64/100\n",
            "673/673 [==============================] - 1s 1ms/step - loss: 4.3104e-05\n",
            "Epoch 65/100\n",
            "673/673 [==============================] - 1s 1ms/step - loss: 4.1061e-05\n",
            "Epoch 66/100\n",
            "673/673 [==============================] - 1s 1ms/step - loss: 4.3567e-05\n",
            "Epoch 67/100\n",
            "673/673 [==============================] - 1s 1ms/step - loss: 4.3159e-05\n",
            "Epoch 68/100\n",
            "673/673 [==============================] - 1s 1ms/step - loss: 4.2363e-05\n",
            "Epoch 69/100\n",
            "673/673 [==============================] - 1s 1ms/step - loss: 4.1942e-05\n",
            "Epoch 70/100\n",
            "673/673 [==============================] - 1s 1ms/step - loss: 4.1412e-05\n",
            "Epoch 71/100\n",
            "673/673 [==============================] - 1s 1ms/step - loss: 4.3215e-05\n",
            "Epoch 72/100\n",
            "673/673 [==============================] - 1s 1ms/step - loss: 4.0535e-05\n",
            "Epoch 73/100\n",
            "673/673 [==============================] - 1s 1ms/step - loss: 4.2096e-05\n",
            "Epoch 74/100\n",
            "673/673 [==============================] - 1s 1ms/step - loss: 4.1699e-05\n",
            "Epoch 75/100\n",
            "673/673 [==============================] - 1s 1ms/step - loss: 4.3207e-05\n",
            "Epoch 76/100\n",
            "673/673 [==============================] - 1s 1ms/step - loss: 4.2560e-05\n",
            "Epoch 77/100\n",
            "673/673 [==============================] - 1s 1ms/step - loss: 4.2169e-05\n",
            "Epoch 78/100\n",
            "673/673 [==============================] - 1s 1ms/step - loss: 4.4010e-05\n",
            "Epoch 79/100\n",
            "673/673 [==============================] - 1s 1ms/step - loss: 4.1097e-05\n",
            "Epoch 80/100\n",
            "673/673 [==============================] - 1s 1ms/step - loss: 4.2114e-05\n",
            "Epoch 81/100\n",
            "673/673 [==============================] - 1s 1ms/step - loss: 4.4281e-05\n",
            "Epoch 82/100\n",
            "673/673 [==============================] - 1s 1ms/step - loss: 4.2740e-05\n",
            "Epoch 83/100\n",
            "673/673 [==============================] - 1s 1ms/step - loss: 4.1368e-05\n",
            "Epoch 84/100\n",
            "673/673 [==============================] - 1s 1ms/step - loss: 4.5304e-05\n",
            "Epoch 85/100\n",
            "673/673 [==============================] - 1s 1ms/step - loss: 4.4823e-05\n",
            "Epoch 86/100\n",
            "673/673 [==============================] - 1s 1ms/step - loss: 4.3170e-05\n",
            "Epoch 87/100\n",
            "673/673 [==============================] - 1s 1ms/step - loss: 4.2296e-05\n",
            "Epoch 88/100\n",
            "673/673 [==============================] - 1s 1ms/step - loss: 4.5168e-05\n",
            "Epoch 89/100\n",
            "673/673 [==============================] - 1s 1ms/step - loss: 4.2965e-05\n",
            "Epoch 90/100\n",
            "673/673 [==============================] - 1s 1ms/step - loss: 4.4322e-05\n",
            "Epoch 91/100\n",
            "673/673 [==============================] - 1s 1ms/step - loss: 4.2541e-05\n",
            "Epoch 92/100\n",
            "673/673 [==============================] - 1s 1ms/step - loss: 4.1398e-05\n",
            "Epoch 93/100\n",
            "673/673 [==============================] - 1s 1ms/step - loss: 4.0618e-05\n",
            "Epoch 94/100\n",
            "673/673 [==============================] - 1s 1ms/step - loss: 4.1672e-05\n",
            "Epoch 95/100\n",
            "673/673 [==============================] - 1s 1ms/step - loss: 4.2733e-05\n",
            "Epoch 96/100\n",
            "673/673 [==============================] - 1s 1ms/step - loss: 4.2400e-05\n",
            "Epoch 97/100\n",
            "673/673 [==============================] - 1s 1ms/step - loss: 3.9554e-05\n",
            "Epoch 98/100\n",
            "673/673 [==============================] - 1s 1ms/step - loss: 4.3364e-05\n",
            "Epoch 99/100\n",
            "673/673 [==============================] - 1s 1ms/step - loss: 4.2024e-05\n",
            "Epoch 100/100\n",
            "673/673 [==============================] - 1s 1ms/step - loss: 4.3437e-05\n"
          ],
          "name": "stdout"
        },
        {
          "output_type": "execute_result",
          "data": {
            "text/plain": [
              "<tensorflow.python.keras.callbacks.History at 0x7fee0d854908>"
            ]
          },
          "metadata": {
            "tags": []
          },
          "execution_count": 21
        }
      ]
    },
    {
      "cell_type": "markdown",
      "metadata": {
        "id": "L8SIRAQHH8WQ"
      },
      "source": [
        "Predictions"
      ]
    },
    {
      "cell_type": "code",
      "metadata": {
        "id": "hvOxoCzKykIp"
      },
      "source": [
        "trainPredict = model.predict(trainX)\n",
        "testPredict = model.predict(testX)"
      ],
      "execution_count": null,
      "outputs": []
    },
    {
      "cell_type": "code",
      "metadata": {
        "id": "q9V2_LcpIFc-"
      },
      "source": [
        "trainPredict = scaler.inverse_transform(trainPredict)\n",
        "trainY = scaler.inverse_transform([trainY])\n",
        "\n",
        "testPredict = scaler.inverse_transform(testPredict)\n",
        "testY = scaler.inverse_transform([testY])"
      ],
      "execution_count": null,
      "outputs": []
    },
    {
      "cell_type": "code",
      "metadata": {
        "colab": {
          "base_uri": "https://localhost:8080/"
        },
        "id": "vpPJeT1NIlWe",
        "outputId": "c2124541-658b-4a7a-e76a-1c9680874e2c"
      },
      "source": [
        "trainScore = math.sqrt(mean_squared_error(trainY[0], trainPredict[:,0]))\n",
        "print('Train Score: %.2f RMSE' % (trainScore))\n",
        "testScore = math.sqrt(mean_squared_error(testY[0], testPredict[:,0]))\n",
        "print('Test Score: %.2f RMSE' % (testScore))"
      ],
      "execution_count": null,
      "outputs": [
        {
          "output_type": "stream",
          "text": [
            "Train Score: 0.66 RMSE\n",
            "Test Score: 7.85 RMSE\n"
          ],
          "name": "stdout"
        }
      ]
    },
    {
      "cell_type": "code",
      "metadata": {
        "id": "D1q6-PsqJzkl"
      },
      "source": [
        "trainPredictPlot = np.empty_like(data_open)\n",
        "trainPredictPlot[:, :] = np.nan\n",
        "trainPredictPlot[look_back:len(trainPredict) + look_back, :] = trainPredict\n",
        "\n",
        "testPredictPlot = np.empty_like(data_open)\n",
        "testPredictPlot[:, :] = np.nan\n",
        "testPredictPlot[len(trainPredict) + (look_back*2) + 1:len(data_open)-1, :] = testPredict "
      ],
      "execution_count": null,
      "outputs": []
    },
    {
      "cell_type": "code",
      "metadata": {
        "colab": {
          "base_uri": "https://localhost:8080/",
          "height": 374
        },
        "id": "cfpT7cvcbiXF",
        "outputId": "9e9cb508-e920-46ed-9e91-62a0228b6053"
      },
      "source": [
        "plt.figure(figsize=(10,6))\n",
        "plt.plot(scaler.inverse_transform(data_open), label='Real Data')\n",
        "plt.plot(trainPredictPlot, label='trainPredict')\n",
        "plt.plot(testPredictPlot, label='testPredict')\n",
        "plt.legend(title='Notes')\n",
        "plt.show()"
      ],
      "execution_count": null,
      "outputs": [
        {
          "output_type": "display_data",
          "data": {
            "image/png": "[encoded data removed]",
            "text/plain": [
              "<Figure size 720x432 with 1 Axes>"
            ]
          },
          "metadata": {
            "tags": [],
            "needs_background": "light"
          }
        }
      ]
    },
    {
      "cell_type": "markdown",
      "metadata": {
        "id": "J8dwmMiNjuMA"
      },
      "source": [
        "The train predict is similar to real data, while test predict is slightly lower than the real data in the end.\n",
        "--> the model predicts well for Open."
      ]
    },
    {
      "cell_type": "code",
      "metadata": {
        "id": "CaF_zGM1kWs_"
      },
      "source": [
        ""
      ],
      "execution_count": null,
      "outputs": []
    }
  ]
}