{
  "nbformat": 4,
  "nbformat_minor": 0,
  "metadata": {
    "accelerator": "GPU",
    "colab": {
      "name": "Question2_ANN_KDD-2.ipynb",
      "provenance": []
    },
    "kernelspec": {
      "display_name": "Python 3",
      "language": "python",
      "name": "python3"
    },
    "language_info": {
      "codemirror_mode": {
        "name": "ipython",
        "version": 3
      },
      "file_extension": ".py",
      "mimetype": "text/x-python",
      "name": "python",
      "nbconvert_exporter": "python",
      "pygments_lexer": "ipython3",
      "version": "3.6.8"
    }
  },
  "cells": [
    {
      "cell_type": "code",
      "metadata": {
        "id": "S1w38yJPibOy"
      },
      "source": [
        "#from google.colab import drive\n",
        "#drive.mount(\"/content/gdrive\", force_remount = True)"
      ],
      "execution_count": null,
      "outputs": []
    },
    {
      "cell_type": "code",
      "metadata": {
        "id": "I7Nr1NNGij8d"
      },
      "source": [
        "#%cd '/content/gdrive/My Drive/LDS8_DeepLearning/LDS8_DinhVietHa_thi/'"
      ],
      "execution_count": null,
      "outputs": []
    },
    {
      "cell_type": "code",
      "metadata": {
        "id": "iTOPJNjdx8bH"
      },
      "source": [
        "import warnings\n",
        "warnings.filterwarnings('ignore')"
      ],
      "execution_count": null,
      "outputs": []
    },
    {
      "cell_type": "code",
      "metadata": {
        "id": "wXWoQYCay_Yt"
      },
      "source": [
        "import tensorflow as tf\n",
        "from tensorflow import keras\n",
        "from tensorflow.keras import Sequential\n",
        "from tensorflow.keras.layers import Dense"
      ],
      "execution_count": null,
      "outputs": []
    },
    {
      "cell_type": "code",
      "metadata": {
        "id": "mHtZi5SEzBdu"
      },
      "source": [
        "import pandas as pd\n",
        "import numpy as np\n",
        "import matplotlib.pyplot as plt\n",
        "import seaborn as sns\n",
        "from sklearn.preprocessing import RobustScaler, MinMaxScaler\n",
        "from sklearn.preprocessing import OneHotEncoder, LabelEncoder\n",
        "from tensorflow.keras.callbacks import EarlyStopping, ModelCheckpoint"
      ],
      "execution_count": null,
      "outputs": []
    },
    {
      "cell_type": "code",
      "metadata": {
        "colab": {
          "base_uri": "https://localhost:8080/",
          "height": 379
        },
        "id": "5pLwAM7XA2Hs",
        "outputId": "a9dcd22b-ea62-4403-dddd-526ef328b89c"
      },
      "source": [
        "data = pd.read_csv(\"./kddcup.data.corrected\", header=None)\n",
        "data.head(10)"
      ],
      "execution_count": null,
      "outputs": [
        {
          "data": {
            "text/html": [
              "<div>\n",
              "<style scoped>\n",
              "    .dataframe tbody tr th:only-of-type {\n",
              "        vertical-align: middle;\n",
              "    }\n",
              "\n",
              "    .dataframe tbody tr th {\n",
              "        vertical-align: top;\n",
              "    }\n",
              "\n",
              "    .dataframe thead th {\n",
              "        text-align: right;\n",
              "    }\n",
              "</style>\n",
              "<table border=\"1\" class=\"dataframe\">\n",
              "  <thead>\n",
              "    <tr style=\"text-align: right;\">\n",
              "      <th></th>\n",
              "      <th>0</th>\n",
              "      <th>1</th>\n",
              "      <th>2</th>\n",
              "      <th>3</th>\n",
              "      <th>4</th>\n",
              "      <th>5</th>\n",
              "      <th>6</th>\n",
              "      <th>7</th>\n",
              "      <th>8</th>\n",
              "      <th>9</th>\n",
              "      <th>...</th>\n",
              "      <th>32</th>\n",
              "      <th>33</th>\n",
              "      <th>34</th>\n",
              "      <th>35</th>\n",
              "      <th>36</th>\n",
              "      <th>37</th>\n",
              "      <th>38</th>\n",
              "      <th>39</th>\n",
              "      <th>40</th>\n",
              "      <th>41</th>\n",
              "    </tr>\n",
              "  </thead>\n",
              "  <tbody>\n",
              "    <tr>\n",
              "      <th>0</th>\n",
              "      <td>0</td>\n",
              "      <td>tcp</td>\n",
              "      <td>http</td>\n",
              "      <td>SF</td>\n",
              "      <td>215</td>\n",
              "      <td>45076</td>\n",
              "      <td>0</td>\n",
              "      <td>0</td>\n",
              "      <td>0</td>\n",
              "      <td>0</td>\n",
              "      <td>...</td>\n",
              "      <td>0</td>\n",
              "      <td>0.0</td>\n",
              "      <td>0.0</td>\n",
              "      <td>0.00</td>\n",
              "      <td>0.0</td>\n",
              "      <td>0.0</td>\n",
              "      <td>0.0</td>\n",
              "      <td>0.0</td>\n",
              "      <td>0.0</td>\n",
              "      <td>normal.</td>\n",
              "    </tr>\n",
              "    <tr>\n",
              "      <th>1</th>\n",
              "      <td>0</td>\n",
              "      <td>tcp</td>\n",
              "      <td>http</td>\n",
              "      <td>SF</td>\n",
              "      <td>162</td>\n",
              "      <td>4528</td>\n",
              "      <td>0</td>\n",
              "      <td>0</td>\n",
              "      <td>0</td>\n",
              "      <td>0</td>\n",
              "      <td>...</td>\n",
              "      <td>1</td>\n",
              "      <td>1.0</td>\n",
              "      <td>0.0</td>\n",
              "      <td>1.00</td>\n",
              "      <td>0.0</td>\n",
              "      <td>0.0</td>\n",
              "      <td>0.0</td>\n",
              "      <td>0.0</td>\n",
              "      <td>0.0</td>\n",
              "      <td>normal.</td>\n",
              "    </tr>\n",
              "    <tr>\n",
              "      <th>2</th>\n",
              "      <td>0</td>\n",
              "      <td>tcp</td>\n",
              "      <td>http</td>\n",
              "      <td>SF</td>\n",
              "      <td>236</td>\n",
              "      <td>1228</td>\n",
              "      <td>0</td>\n",
              "      <td>0</td>\n",
              "      <td>0</td>\n",
              "      <td>0</td>\n",
              "      <td>...</td>\n",
              "      <td>2</td>\n",
              "      <td>1.0</td>\n",
              "      <td>0.0</td>\n",
              "      <td>0.50</td>\n",
              "      <td>0.0</td>\n",
              "      <td>0.0</td>\n",
              "      <td>0.0</td>\n",
              "      <td>0.0</td>\n",
              "      <td>0.0</td>\n",
              "      <td>normal.</td>\n",
              "    </tr>\n",
              "    <tr>\n",
              "      <th>3</th>\n",
              "      <td>0</td>\n",
              "      <td>tcp</td>\n",
              "      <td>http</td>\n",
              "      <td>SF</td>\n",
              "      <td>233</td>\n",
              "      <td>2032</td>\n",
              "      <td>0</td>\n",
              "      <td>0</td>\n",
              "      <td>0</td>\n",
              "      <td>0</td>\n",
              "      <td>...</td>\n",
              "      <td>3</td>\n",
              "      <td>1.0</td>\n",
              "      <td>0.0</td>\n",
              "      <td>0.33</td>\n",
              "      <td>0.0</td>\n",
              "      <td>0.0</td>\n",
              "      <td>0.0</td>\n",
              "      <td>0.0</td>\n",
              "      <td>0.0</td>\n",
              "      <td>normal.</td>\n",
              "    </tr>\n",
              "    <tr>\n",
              "      <th>4</th>\n",
              "      <td>0</td>\n",
              "      <td>tcp</td>\n",
              "      <td>http</td>\n",
              "      <td>SF</td>\n",
              "      <td>239</td>\n",
              "      <td>486</td>\n",
              "      <td>0</td>\n",
              "      <td>0</td>\n",
              "      <td>0</td>\n",
              "      <td>0</td>\n",
              "      <td>...</td>\n",
              "      <td>4</td>\n",
              "      <td>1.0</td>\n",
              "      <td>0.0</td>\n",
              "      <td>0.25</td>\n",
              "      <td>0.0</td>\n",
              "      <td>0.0</td>\n",
              "      <td>0.0</td>\n",
              "      <td>0.0</td>\n",
              "      <td>0.0</td>\n",
              "      <td>normal.</td>\n",
              "    </tr>\n",
              "    <tr>\n",
              "      <th>5</th>\n",
              "      <td>0</td>\n",
              "      <td>tcp</td>\n",
              "      <td>http</td>\n",
              "      <td>SF</td>\n",
              "      <td>238</td>\n",
              "      <td>1282</td>\n",
              "      <td>0</td>\n",
              "      <td>0</td>\n",
              "      <td>0</td>\n",
              "      <td>0</td>\n",
              "      <td>...</td>\n",
              "      <td>5</td>\n",
              "      <td>1.0</td>\n",
              "      <td>0.0</td>\n",
              "      <td>0.20</td>\n",
              "      <td>0.0</td>\n",
              "      <td>0.0</td>\n",
              "      <td>0.0</td>\n",
              "      <td>0.0</td>\n",
              "      <td>0.0</td>\n",
              "      <td>normal.</td>\n",
              "    </tr>\n",
              "    <tr>\n",
              "      <th>6</th>\n",
              "      <td>0</td>\n",
              "      <td>tcp</td>\n",
              "      <td>http</td>\n",
              "      <td>SF</td>\n",
              "      <td>235</td>\n",
              "      <td>1337</td>\n",
              "      <td>0</td>\n",
              "      <td>0</td>\n",
              "      <td>0</td>\n",
              "      <td>0</td>\n",
              "      <td>...</td>\n",
              "      <td>6</td>\n",
              "      <td>1.0</td>\n",
              "      <td>0.0</td>\n",
              "      <td>0.17</td>\n",
              "      <td>0.0</td>\n",
              "      <td>0.0</td>\n",
              "      <td>0.0</td>\n",
              "      <td>0.0</td>\n",
              "      <td>0.0</td>\n",
              "      <td>normal.</td>\n",
              "    </tr>\n",
              "    <tr>\n",
              "      <th>7</th>\n",
              "      <td>0</td>\n",
              "      <td>tcp</td>\n",
              "      <td>http</td>\n",
              "      <td>SF</td>\n",
              "      <td>234</td>\n",
              "      <td>1364</td>\n",
              "      <td>0</td>\n",
              "      <td>0</td>\n",
              "      <td>0</td>\n",
              "      <td>0</td>\n",
              "      <td>...</td>\n",
              "      <td>7</td>\n",
              "      <td>1.0</td>\n",
              "      <td>0.0</td>\n",
              "      <td>0.14</td>\n",
              "      <td>0.0</td>\n",
              "      <td>0.0</td>\n",
              "      <td>0.0</td>\n",
              "      <td>0.0</td>\n",
              "      <td>0.0</td>\n",
              "      <td>normal.</td>\n",
              "    </tr>\n",
              "    <tr>\n",
              "      <th>8</th>\n",
              "      <td>0</td>\n",
              "      <td>tcp</td>\n",
              "      <td>http</td>\n",
              "      <td>SF</td>\n",
              "      <td>239</td>\n",
              "      <td>1295</td>\n",
              "      <td>0</td>\n",
              "      <td>0</td>\n",
              "      <td>0</td>\n",
              "      <td>0</td>\n",
              "      <td>...</td>\n",
              "      <td>8</td>\n",
              "      <td>1.0</td>\n",
              "      <td>0.0</td>\n",
              "      <td>0.12</td>\n",
              "      <td>0.0</td>\n",
              "      <td>0.0</td>\n",
              "      <td>0.0</td>\n",
              "      <td>0.0</td>\n",
              "      <td>0.0</td>\n",
              "      <td>normal.</td>\n",
              "    </tr>\n",
              "    <tr>\n",
              "      <th>9</th>\n",
              "      <td>0</td>\n",
              "      <td>tcp</td>\n",
              "      <td>http</td>\n",
              "      <td>SF</td>\n",
              "      <td>181</td>\n",
              "      <td>5450</td>\n",
              "      <td>0</td>\n",
              "      <td>0</td>\n",
              "      <td>0</td>\n",
              "      <td>0</td>\n",
              "      <td>...</td>\n",
              "      <td>9</td>\n",
              "      <td>1.0</td>\n",
              "      <td>0.0</td>\n",
              "      <td>0.11</td>\n",
              "      <td>0.0</td>\n",
              "      <td>0.0</td>\n",
              "      <td>0.0</td>\n",
              "      <td>0.0</td>\n",
              "      <td>0.0</td>\n",
              "      <td>normal.</td>\n",
              "    </tr>\n",
              "  </tbody>\n",
              "</table>\n",
              "<p>10 rows × 42 columns</p>\n",
              "</div>"
            ],
            "text/plain": [
              "   0    1     2   3    4      5   6   7   8   9   ...  32   33   34    35  \\\n",
              "0   0  tcp  http  SF  215  45076   0   0   0   0  ...   0  0.0  0.0  0.00   \n",
              "1   0  tcp  http  SF  162   4528   0   0   0   0  ...   1  1.0  0.0  1.00   \n",
              "2   0  tcp  http  SF  236   1228   0   0   0   0  ...   2  1.0  0.0  0.50   \n",
              "3   0  tcp  http  SF  233   2032   0   0   0   0  ...   3  1.0  0.0  0.33   \n",
              "4   0  tcp  http  SF  239    486   0   0   0   0  ...   4  1.0  0.0  0.25   \n",
              "5   0  tcp  http  SF  238   1282   0   0   0   0  ...   5  1.0  0.0  0.20   \n",
              "6   0  tcp  http  SF  235   1337   0   0   0   0  ...   6  1.0  0.0  0.17   \n",
              "7   0  tcp  http  SF  234   1364   0   0   0   0  ...   7  1.0  0.0  0.14   \n",
              "8   0  tcp  http  SF  239   1295   0   0   0   0  ...   8  1.0  0.0  0.12   \n",
              "9   0  tcp  http  SF  181   5450   0   0   0   0  ...   9  1.0  0.0  0.11   \n",
              "\n",
              "    36   37   38   39   40       41  \n",
              "0  0.0  0.0  0.0  0.0  0.0  normal.  \n",
              "1  0.0  0.0  0.0  0.0  0.0  normal.  \n",
              "2  0.0  0.0  0.0  0.0  0.0  normal.  \n",
              "3  0.0  0.0  0.0  0.0  0.0  normal.  \n",
              "4  0.0  0.0  0.0  0.0  0.0  normal.  \n",
              "5  0.0  0.0  0.0  0.0  0.0  normal.  \n",
              "6  0.0  0.0  0.0  0.0  0.0  normal.  \n",
              "7  0.0  0.0  0.0  0.0  0.0  normal.  \n",
              "8  0.0  0.0  0.0  0.0  0.0  normal.  \n",
              "9  0.0  0.0  0.0  0.0  0.0  normal.  \n",
              "\n",
              "[10 rows x 42 columns]"
            ]
          },
          "execution_count": 6,
          "metadata": {},
          "output_type": "execute_result"
        }
      ]
    },
    {
      "cell_type": "code",
      "metadata": {
        "colab": {
          "base_uri": "https://localhost:8080/"
        },
        "id": "3CUDqBNvEv6U",
        "outputId": "34675e0d-ff96-4cc0-b897-b6eddf04fb06"
      },
      "source": [
        "data.info()"
      ],
      "execution_count": null,
      "outputs": [
        {
          "name": "stdout",
          "output_type": "stream",
          "text": [
            "<class 'pandas.core.frame.DataFrame'>\n",
            "RangeIndex: 4898431 entries, 0 to 4898430\n",
            "Data columns (total 42 columns):\n",
            " #   Column  Dtype  \n",
            "---  ------  -----  \n",
            " 0   0       int64  \n",
            " 1   1       object \n",
            " 2   2       object \n",
            " 3   3       object \n",
            " 4   4       int64  \n",
            " 5   5       int64  \n",
            " 6   6       int64  \n",
            " 7   7       int64  \n",
            " 8   8       int64  \n",
            " 9   9       int64  \n",
            " 10  10      int64  \n",
            " 11  11      int64  \n",
            " 12  12      int64  \n",
            " 13  13      int64  \n",
            " 14  14      int64  \n",
            " 15  15      int64  \n",
            " 16  16      int64  \n",
            " 17  17      int64  \n",
            " 18  18      int64  \n",
            " 19  19      int64  \n",
            " 20  20      int64  \n",
            " 21  21      int64  \n",
            " 22  22      int64  \n",
            " 23  23      int64  \n",
            " 24  24      float64\n",
            " 25  25      float64\n",
            " 26  26      float64\n",
            " 27  27      float64\n",
            " 28  28      float64\n",
            " 29  29      float64\n",
            " 30  30      float64\n",
            " 31  31      int64  \n",
            " 32  32      int64  \n",
            " 33  33      float64\n",
            " 34  34      float64\n",
            " 35  35      float64\n",
            " 36  36      float64\n",
            " 37  37      float64\n",
            " 38  38      float64\n",
            " 39  39      float64\n",
            " 40  40      float64\n",
            " 41  41      object \n",
            "dtypes: float64(15), int64(23), object(4)\n",
            "memory usage: 1.5+ GB\n"
          ]
        }
      ]
    },
    {
      "cell_type": "code",
      "metadata": {
        "id": "ADlwA59zG58j"
      },
      "source": [
        "X = data.iloc[:, :41]\n",
        "y = data.iloc[:,-1]"
      ],
      "execution_count": null,
      "outputs": []
    },
    {
      "cell_type": "code",
      "metadata": {
        "colab": {
          "base_uri": "https://localhost:8080/"
        },
        "id": "fhlabozAx7zp",
        "outputId": "23ed84b7-dacb-4b1d-8ee0-6fcc93d86e72"
      },
      "source": [
        "y.unique()"
      ],
      "execution_count": null,
      "outputs": [
        {
          "data": {
            "text/plain": [
              "array(['normal.', 'buffer_overflow.', 'loadmodule.', 'perl.', 'neptune.',\n",
              "       'smurf.', 'guess_passwd.', 'pod.', 'teardrop.', 'portsweep.',\n",
              "       'ipsweep.', 'land.', 'ftp_write.', 'back.', 'imap.', 'satan.',\n",
              "       'phf.', 'nmap.', 'multihop.', 'warezmaster.', 'warezclient.',\n",
              "       'spy.', 'rootkit.'], dtype=object)"
            ]
          },
          "execution_count": 9,
          "metadata": {},
          "output_type": "execute_result"
        }
      ]
    },
    {
      "cell_type": "code",
      "metadata": {
        "colab": {
          "base_uri": "https://localhost:8080/"
        },
        "id": "FavAsULJ13wd",
        "outputId": "9735aba8-2137-499f-d9c6-ae97bcb15f6c"
      },
      "source": [
        "print(type(y))"
      ],
      "execution_count": null,
      "outputs": [
        {
          "name": "stdout",
          "output_type": "stream",
          "text": [
            "<class 'pandas.core.series.Series'>\n"
          ]
        }
      ]
    },
    {
      "cell_type": "code",
      "metadata": {
        "colab": {
          "base_uri": "https://localhost:8080/"
        },
        "id": "zqSy85CR2Dsp",
        "outputId": "0b2fb729-df84-47c6-f2d3-c828fb96a2c8"
      },
      "source": [
        "len(y)"
      ],
      "execution_count": null,
      "outputs": [
        {
          "data": {
            "text/plain": [
              "4898431"
            ]
          },
          "execution_count": 11,
          "metadata": {},
          "output_type": "execute_result"
        }
      ]
    },
    {
      "cell_type": "code",
      "metadata": {
        "id": "Kx0yi2B6F5Ci"
      },
      "source": [
        "abnormal = ['buffer_overflow.', 'loadmodule.', 'perl.', 'neptune.',\n",
        "       'smurf.', 'guess_passwd.', 'pod.', 'teardrop.', 'portsweep.',\n",
        "       'ipsweep.', 'land.', 'ftp_write.', 'back.', 'imap.', 'satan.',\n",
        "       'phf.', 'nmap.', 'multihop.', 'warezmaster.', 'warezclient.',\n",
        "       'spy.', 'rootkit.']"
      ],
      "execution_count": null,
      "outputs": []
    },
    {
      "cell_type": "code",
      "metadata": {
        "id": "Pk7j8g8f2h4_"
      },
      "source": [
        "for text in abnormal: \n",
        "  y = y.str.replace(text,'others')"
      ],
      "execution_count": null,
      "outputs": []
    },
    {
      "cell_type": "code",
      "metadata": {
        "colab": {
          "base_uri": "https://localhost:8080/"
        },
        "id": "GRgNcYDYFrgA",
        "outputId": "929368ed-b9f2-4322-95cb-71d63c4044b0"
      },
      "source": [
        "[y == \"rootkit.\"] == True"
      ],
      "execution_count": null,
      "outputs": [
        {
          "data": {
            "text/plain": [
              "False"
            ]
          },
          "execution_count": 14,
          "metadata": {},
          "output_type": "execute_result"
        }
      ]
    },
    {
      "cell_type": "code",
      "metadata": {
        "id": "cMcTWQ0K5kvj"
      },
      "source": [
        "unique_y, counts_y = np.unique(y, return_counts=True)"
      ],
      "execution_count": null,
      "outputs": []
    },
    {
      "cell_type": "code",
      "metadata": {
        "id": "PCJgB8Vk5kvk",
        "outputId": "47b2540d-d99c-429f-a7a8-82f427694c02"
      },
      "source": [
        "display(unique_y,counts_y)"
      ],
      "execution_count": null,
      "outputs": [
        {
          "data": {
            "text/plain": [
              "array(['normal.', 'others'], dtype=object)"
            ]
          },
          "metadata": {},
          "output_type": "display_data"
        },
        {
          "data": {
            "text/plain": [
              "array([ 972781, 3925650], dtype=int64)"
            ]
          },
          "metadata": {},
          "output_type": "display_data"
        }
      ]
    },
    {
      "cell_type": "markdown",
      "metadata": {
        "id": "KoGKfgEg5kvn"
      },
      "source": [
        "The number of abnormal intrusions outnumbered that of normal intrusions by almost 4 times."
      ]
    },
    {
      "cell_type": "markdown",
      "metadata": {
        "id": "x-t3t04YMec1"
      },
      "source": [
        "### Data Preprocessing"
      ]
    },
    {
      "cell_type": "markdown",
      "metadata": {
        "id": "rXkqDYTyMykt"
      },
      "source": [
        "Scaler"
      ]
    },
    {
      "cell_type": "code",
      "metadata": {
        "id": "rwJf-3SWUPeo"
      },
      "source": [
        "X_scale = X.iloc[:,4:6]"
      ],
      "execution_count": null,
      "outputs": []
    },
    {
      "cell_type": "code",
      "metadata": {
        "colab": {
          "base_uri": "https://localhost:8080/",
          "height": 297
        },
        "id": "hIO9BKtH1Wew",
        "outputId": "87922f72-029a-42c2-f632-3f65e5fd6db4"
      },
      "source": [
        "X_scale.describe()"
      ],
      "execution_count": null,
      "outputs": [
        {
          "data": {
            "text/html": [
              "<div>\n",
              "<style scoped>\n",
              "    .dataframe tbody tr th:only-of-type {\n",
              "        vertical-align: middle;\n",
              "    }\n",
              "\n",
              "    .dataframe tbody tr th {\n",
              "        vertical-align: top;\n",
              "    }\n",
              "\n",
              "    .dataframe thead th {\n",
              "        text-align: right;\n",
              "    }\n",
              "</style>\n",
              "<table border=\"1\" class=\"dataframe\">\n",
              "  <thead>\n",
              "    <tr style=\"text-align: right;\">\n",
              "      <th></th>\n",
              "      <th>4</th>\n",
              "      <th>5</th>\n",
              "    </tr>\n",
              "  </thead>\n",
              "  <tbody>\n",
              "    <tr>\n",
              "      <th>count</th>\n",
              "      <td>4.898431e+06</td>\n",
              "      <td>4.898431e+06</td>\n",
              "    </tr>\n",
              "    <tr>\n",
              "      <th>mean</th>\n",
              "      <td>1.834621e+03</td>\n",
              "      <td>1.093623e+03</td>\n",
              "    </tr>\n",
              "    <tr>\n",
              "      <th>std</th>\n",
              "      <td>9.414311e+05</td>\n",
              "      <td>6.450123e+05</td>\n",
              "    </tr>\n",
              "    <tr>\n",
              "      <th>min</th>\n",
              "      <td>0.000000e+00</td>\n",
              "      <td>0.000000e+00</td>\n",
              "    </tr>\n",
              "    <tr>\n",
              "      <th>25%</th>\n",
              "      <td>4.500000e+01</td>\n",
              "      <td>0.000000e+00</td>\n",
              "    </tr>\n",
              "    <tr>\n",
              "      <th>50%</th>\n",
              "      <td>5.200000e+02</td>\n",
              "      <td>0.000000e+00</td>\n",
              "    </tr>\n",
              "    <tr>\n",
              "      <th>75%</th>\n",
              "      <td>1.032000e+03</td>\n",
              "      <td>0.000000e+00</td>\n",
              "    </tr>\n",
              "    <tr>\n",
              "      <th>max</th>\n",
              "      <td>1.379964e+09</td>\n",
              "      <td>1.309937e+09</td>\n",
              "    </tr>\n",
              "  </tbody>\n",
              "</table>\n",
              "</div>"
            ],
            "text/plain": [
              "                  4             5\n",
              "count  4.898431e+06  4.898431e+06\n",
              "mean   1.834621e+03  1.093623e+03\n",
              "std    9.414311e+05  6.450123e+05\n",
              "min    0.000000e+00  0.000000e+00\n",
              "25%    4.500000e+01  0.000000e+00\n",
              "50%    5.200000e+02  0.000000e+00\n",
              "75%    1.032000e+03  0.000000e+00\n",
              "max    1.379964e+09  1.309937e+09"
            ]
          },
          "execution_count": 18,
          "metadata": {},
          "output_type": "execute_result"
        }
      ]
    },
    {
      "cell_type": "code",
      "metadata": {
        "id": "HTLobO3a5kvr",
        "outputId": "9c180439-6188-4df1-8015-3af74676110f"
      },
      "source": [
        "X.iloc[:,0].unique()"
      ],
      "execution_count": null,
      "outputs": [
        {
          "data": {
            "text/plain": [
              "array([   0,   22,   60, ..., 2906, 2911, 2966], dtype=int64)"
            ]
          },
          "execution_count": 23,
          "metadata": {},
          "output_type": "execute_result"
        }
      ]
    },
    {
      "cell_type": "code",
      "metadata": {
        "colab": {
          "base_uri": "https://localhost:8080/"
        },
        "id": "oUQi4HmQRWfm",
        "outputId": "1a3d3186-1abd-4f57-cec8-e25134fa07f0"
      },
      "source": [
        "X.iloc[:,1].unique()"
      ],
      "execution_count": null,
      "outputs": [
        {
          "data": {
            "text/plain": [
              "array(['tcp', 'udp', 'icmp'], dtype=object)"
            ]
          },
          "execution_count": 24,
          "metadata": {},
          "output_type": "execute_result"
        }
      ]
    },
    {
      "cell_type": "code",
      "metadata": {
        "colab": {
          "base_uri": "https://localhost:8080/"
        },
        "id": "Fja47ARnRivk",
        "outputId": "7b438d24-e39f-47a8-d34f-625c70ce523f"
      },
      "source": [
        "X.iloc[:,2].unique()"
      ],
      "execution_count": null,
      "outputs": [
        {
          "data": {
            "text/plain": [
              "array(['http', 'smtp', 'domain_u', 'auth', 'finger', 'telnet', 'eco_i',\n",
              "       'ftp', 'ntp_u', 'ecr_i', 'other', 'urp_i', 'private', 'pop_3',\n",
              "       'ftp_data', 'netstat', 'daytime', 'ssh', 'echo', 'time', 'name',\n",
              "       'whois', 'domain', 'mtp', 'gopher', 'remote_job', 'rje', 'ctf',\n",
              "       'supdup', 'link', 'systat', 'discard', 'X11', 'shell', 'login',\n",
              "       'imap4', 'nntp', 'uucp', 'pm_dump', 'IRC', 'Z39_50', 'netbios_dgm',\n",
              "       'ldap', 'sunrpc', 'courier', 'exec', 'bgp', 'csnet_ns', 'http_443',\n",
              "       'klogin', 'printer', 'netbios_ssn', 'pop_2', 'nnsp', 'efs',\n",
              "       'hostnames', 'uucp_path', 'sql_net', 'vmnet', 'iso_tsap',\n",
              "       'netbios_ns', 'kshell', 'urh_i', 'http_2784', 'harvest', 'aol',\n",
              "       'tftp_u', 'http_8001', 'tim_i', 'red_i'], dtype=object)"
            ]
          },
          "execution_count": 25,
          "metadata": {},
          "output_type": "execute_result"
        }
      ]
    },
    {
      "cell_type": "code",
      "metadata": {
        "colab": {
          "base_uri": "https://localhost:8080/"
        },
        "id": "oWrJeuupRngm",
        "outputId": "7fac3c5a-1597-41cf-8f9c-6bfc79d1debb"
      },
      "source": [
        "X.iloc[:,3].unique()"
      ],
      "execution_count": null,
      "outputs": [
        {
          "data": {
            "text/plain": [
              "array(['SF', 'S2', 'S1', 'S3', 'OTH', 'REJ', 'RSTO', 'S0', 'RSTR',\n",
              "       'RSTOS0', 'SH'], dtype=object)"
            ]
          },
          "execution_count": 26,
          "metadata": {},
          "output_type": "execute_result"
        }
      ]
    },
    {
      "cell_type": "markdown",
      "metadata": {
        "id": "DNeckBX65qs8"
      },
      "source": [
        "Encoder"
      ]
    },
    {
      "cell_type": "code",
      "metadata": {
        "id": "qDa54N1p5kvw"
      },
      "source": [
        "from sklearn.compose import ColumnTransformer"
      ],
      "execution_count": null,
      "outputs": []
    },
    {
      "cell_type": "code",
      "metadata": {
        "id": "gjxm_ecY5kvw"
      },
      "source": [
        "X = X.values\n",
        "y = y.values"
      ],
      "execution_count": null,
      "outputs": []
    },
    {
      "cell_type": "code",
      "metadata": {
        "id": "1IQ1UWUx5pxh"
      },
      "source": [
        "labelencoder_X_1 = LabelEncoder()\n",
        "X[:, 1] = labelencoder_X_1.fit_transform(X[:,1])\n",
        "labelencoder_X_2 = LabelEncoder()\n",
        "X[:, 2] = labelencoder_X_2.fit_transform(X[:,2])\n",
        "labelencoder_X_3 = LabelEncoder()\n",
        "X[:, 3] = labelencoder_X_3.fit_transform(X[:,3])\n",
        "\n",
        "labelencoder_y = LabelEncoder()\n",
        "y = labelencoder_y.fit_transform(y)\n",
        "\n",
        "ct = ColumnTransformer([('encoder', OneHotEncoder(), [1])], remainder='passthrough')\n",
        "X = ct.fit_transform(X.tolist())"
      ],
      "execution_count": null,
      "outputs": []
    },
    {
      "cell_type": "code",
      "metadata": {
        "id": "bCIHc6R35kvy"
      },
      "source": [
        "import pickle\n",
        "\n",
        "label1 = \"label_encode_X_1.pkl\"\n",
        "pickle.dump(labelencoder_X_1, open(label1, \"wb\"))\n",
        "label2 = \"label_encode_X_2.pkl\"\n",
        "pickle.dump(labelencoder_X_2, open(label2, \"wb\"))\n",
        "label3 = \"label_encode_X_3.pkl\"\n",
        "pickle.dump(labelencoder_X_3, open(label3, \"wb\"))"
      ],
      "execution_count": null,
      "outputs": []
    },
    {
      "cell_type": "code",
      "metadata": {
        "colab": {
          "base_uri": "https://localhost:8080/",
          "height": 309
        },
        "id": "lxN97WduQbX-",
        "outputId": "7c90b783-4db9-44e0-c7aa-e5f7ae786e50"
      },
      "source": [
        "X[:10]"
      ],
      "execution_count": null,
      "outputs": [
        {
          "data": {
            "text/plain": [
              "array([[0.0, 1.0, 0.0, 0, 24, 9, 215, 45076, 0, 0, 0, 0, 0, 1, 0, 0, 0,\n",
              "        0, 0, 0, 0, 0, 0, 0, 1, 1, 0.0, 0.0, 0.0, 0.0, 1.0, 0.0, 0.0, 0,\n",
              "        0, 0.0, 0.0, 0.0, 0.0, 0.0, 0.0, 0.0, 0.0],\n",
              "       [0.0, 1.0, 0.0, 0, 24, 9, 162, 4528, 0, 0, 0, 0, 0, 1, 0, 0, 0, 0,\n",
              "        0, 0, 0, 0, 0, 0, 2, 2, 0.0, 0.0, 0.0, 0.0, 1.0, 0.0, 0.0, 1, 1,\n",
              "        1.0, 0.0, 1.0, 0.0, 0.0, 0.0, 0.0, 0.0],\n",
              "       [0.0, 1.0, 0.0, 0, 24, 9, 236, 1228, 0, 0, 0, 0, 0, 1, 0, 0, 0, 0,\n",
              "        0, 0, 0, 0, 0, 0, 1, 1, 0.0, 0.0, 0.0, 0.0, 1.0, 0.0, 0.0, 2, 2,\n",
              "        1.0, 0.0, 0.5, 0.0, 0.0, 0.0, 0.0, 0.0],\n",
              "       [0.0, 1.0, 0.0, 0, 24, 9, 233, 2032, 0, 0, 0, 0, 0, 1, 0, 0, 0, 0,\n",
              "        0, 0, 0, 0, 0, 0, 2, 2, 0.0, 0.0, 0.0, 0.0, 1.0, 0.0, 0.0, 3, 3,\n",
              "        1.0, 0.0, 0.33, 0.0, 0.0, 0.0, 0.0, 0.0],\n",
              "       [0.0, 1.0, 0.0, 0, 24, 9, 239, 486, 0, 0, 0, 0, 0, 1, 0, 0, 0, 0,\n",
              "        0, 0, 0, 0, 0, 0, 3, 3, 0.0, 0.0, 0.0, 0.0, 1.0, 0.0, 0.0, 4, 4,\n",
              "        1.0, 0.0, 0.25, 0.0, 0.0, 0.0, 0.0, 0.0],\n",
              "       [0.0, 1.0, 0.0, 0, 24, 9, 238, 1282, 0, 0, 0, 0, 0, 1, 0, 0, 0, 0,\n",
              "        0, 0, 0, 0, 0, 0, 4, 4, 0.0, 0.0, 0.0, 0.0, 1.0, 0.0, 0.0, 5, 5,\n",
              "        1.0, 0.0, 0.2, 0.0, 0.0, 0.0, 0.0, 0.0],\n",
              "       [0.0, 1.0, 0.0, 0, 24, 9, 235, 1337, 0, 0, 0, 0, 0, 1, 0, 0, 0, 0,\n",
              "        0, 0, 0, 0, 0, 0, 5, 5, 0.0, 0.0, 0.0, 0.0, 1.0, 0.0, 0.0, 6, 6,\n",
              "        1.0, 0.0, 0.17, 0.0, 0.0, 0.0, 0.0, 0.0],\n",
              "       [0.0, 1.0, 0.0, 0, 24, 9, 234, 1364, 0, 0, 0, 0, 0, 1, 0, 0, 0, 0,\n",
              "        0, 0, 0, 0, 0, 0, 6, 6, 0.0, 0.0, 0.0, 0.0, 1.0, 0.0, 0.0, 7, 7,\n",
              "        1.0, 0.0, 0.14, 0.0, 0.0, 0.0, 0.0, 0.0],\n",
              "       [0.0, 1.0, 0.0, 0, 24, 9, 239, 1295, 0, 0, 0, 0, 0, 1, 0, 0, 0, 0,\n",
              "        0, 0, 0, 0, 0, 0, 7, 7, 0.0, 0.0, 0.0, 0.0, 1.0, 0.0, 0.0, 8, 8,\n",
              "        1.0, 0.0, 0.12, 0.0, 0.0, 0.0, 0.0, 0.0],\n",
              "       [0.0, 1.0, 0.0, 0, 24, 9, 181, 5450, 0, 0, 0, 0, 0, 1, 0, 0, 0, 0,\n",
              "        0, 0, 0, 0, 0, 0, 8, 8, 0.0, 0.0, 0.0, 0.0, 1.0, 0.0, 0.0, 9, 9,\n",
              "        1.0, 0.0, 0.11, 0.0, 0.0, 0.0, 0.0, 0.0]], dtype=object)"
            ]
          },
          "execution_count": 31,
          "metadata": {},
          "output_type": "execute_result"
        }
      ]
    },
    {
      "cell_type": "code",
      "metadata": {
        "id": "aadJ73aG5kvz"
      },
      "source": [
        "X = X[:,1:]"
      ],
      "execution_count": null,
      "outputs": []
    },
    {
      "cell_type": "code",
      "metadata": {
        "id": "vCxTomGp5kvz",
        "outputId": "bd72de68-1edd-4873-9ba4-0595a6b731da"
      },
      "source": [
        "X[:10]"
      ],
      "execution_count": null,
      "outputs": [
        {
          "data": {
            "text/plain": [
              "array([[1.0, 0.0, 0, 24, 9, 215, 45076, 0, 0, 0, 0, 0, 1, 0, 0, 0, 0, 0,\n",
              "        0, 0, 0, 0, 0, 1, 1, 0.0, 0.0, 0.0, 0.0, 1.0, 0.0, 0.0, 0, 0,\n",
              "        0.0, 0.0, 0.0, 0.0, 0.0, 0.0, 0.0, 0.0],\n",
              "       [1.0, 0.0, 0, 24, 9, 162, 4528, 0, 0, 0, 0, 0, 1, 0, 0, 0, 0, 0,\n",
              "        0, 0, 0, 0, 0, 2, 2, 0.0, 0.0, 0.0, 0.0, 1.0, 0.0, 0.0, 1, 1,\n",
              "        1.0, 0.0, 1.0, 0.0, 0.0, 0.0, 0.0, 0.0],\n",
              "       [1.0, 0.0, 0, 24, 9, 236, 1228, 0, 0, 0, 0, 0, 1, 0, 0, 0, 0, 0,\n",
              "        0, 0, 0, 0, 0, 1, 1, 0.0, 0.0, 0.0, 0.0, 1.0, 0.0, 0.0, 2, 2,\n",
              "        1.0, 0.0, 0.5, 0.0, 0.0, 0.0, 0.0, 0.0],\n",
              "       [1.0, 0.0, 0, 24, 9, 233, 2032, 0, 0, 0, 0, 0, 1, 0, 0, 0, 0, 0,\n",
              "        0, 0, 0, 0, 0, 2, 2, 0.0, 0.0, 0.0, 0.0, 1.0, 0.0, 0.0, 3, 3,\n",
              "        1.0, 0.0, 0.33, 0.0, 0.0, 0.0, 0.0, 0.0],\n",
              "       [1.0, 0.0, 0, 24, 9, 239, 486, 0, 0, 0, 0, 0, 1, 0, 0, 0, 0, 0, 0,\n",
              "        0, 0, 0, 0, 3, 3, 0.0, 0.0, 0.0, 0.0, 1.0, 0.0, 0.0, 4, 4, 1.0,\n",
              "        0.0, 0.25, 0.0, 0.0, 0.0, 0.0, 0.0],\n",
              "       [1.0, 0.0, 0, 24, 9, 238, 1282, 0, 0, 0, 0, 0, 1, 0, 0, 0, 0, 0,\n",
              "        0, 0, 0, 0, 0, 4, 4, 0.0, 0.0, 0.0, 0.0, 1.0, 0.0, 0.0, 5, 5,\n",
              "        1.0, 0.0, 0.2, 0.0, 0.0, 0.0, 0.0, 0.0],\n",
              "       [1.0, 0.0, 0, 24, 9, 235, 1337, 0, 0, 0, 0, 0, 1, 0, 0, 0, 0, 0,\n",
              "        0, 0, 0, 0, 0, 5, 5, 0.0, 0.0, 0.0, 0.0, 1.0, 0.0, 0.0, 6, 6,\n",
              "        1.0, 0.0, 0.17, 0.0, 0.0, 0.0, 0.0, 0.0],\n",
              "       [1.0, 0.0, 0, 24, 9, 234, 1364, 0, 0, 0, 0, 0, 1, 0, 0, 0, 0, 0,\n",
              "        0, 0, 0, 0, 0, 6, 6, 0.0, 0.0, 0.0, 0.0, 1.0, 0.0, 0.0, 7, 7,\n",
              "        1.0, 0.0, 0.14, 0.0, 0.0, 0.0, 0.0, 0.0],\n",
              "       [1.0, 0.0, 0, 24, 9, 239, 1295, 0, 0, 0, 0, 0, 1, 0, 0, 0, 0, 0,\n",
              "        0, 0, 0, 0, 0, 7, 7, 0.0, 0.0, 0.0, 0.0, 1.0, 0.0, 0.0, 8, 8,\n",
              "        1.0, 0.0, 0.12, 0.0, 0.0, 0.0, 0.0, 0.0],\n",
              "       [1.0, 0.0, 0, 24, 9, 181, 5450, 0, 0, 0, 0, 0, 1, 0, 0, 0, 0, 0,\n",
              "        0, 0, 0, 0, 0, 8, 8, 0.0, 0.0, 0.0, 0.0, 1.0, 0.0, 0.0, 9, 9,\n",
              "        1.0, 0.0, 0.11, 0.0, 0.0, 0.0, 0.0, 0.0]], dtype=object)"
            ]
          },
          "execution_count": 33,
          "metadata": {},
          "output_type": "execute_result"
        }
      ]
    },
    {
      "cell_type": "code",
      "metadata": {
        "id": "XUIYHmAU5kv0",
        "outputId": "7a547119-cca9-483a-854e-6ca310cf00ea"
      },
      "source": [
        "X.shape"
      ],
      "execution_count": null,
      "outputs": [
        {
          "data": {
            "text/plain": [
              "(4898431, 42)"
            ]
          },
          "execution_count": 34,
          "metadata": {},
          "output_type": "execute_result"
        }
      ]
    },
    {
      "cell_type": "code",
      "metadata": {
        "id": "f4SCvmqH5kv2"
      },
      "source": [
        "X = np.asarray(X).astype('float32')"
      ],
      "execution_count": null,
      "outputs": []
    },
    {
      "cell_type": "code",
      "metadata": {
        "colab": {
          "base_uri": "https://localhost:8080/"
        },
        "id": "ph1vUNJcVLks",
        "outputId": "35b33367-108e-4ec3-b875-bdc7b76ca1d1"
      },
      "source": [
        "y[:5]"
      ],
      "execution_count": null,
      "outputs": [
        {
          "data": {
            "text/plain": [
              "array([0, 0, 0, 0, 0])"
            ]
          },
          "execution_count": 36,
          "metadata": {},
          "output_type": "execute_result"
        }
      ]
    },
    {
      "cell_type": "code",
      "metadata": {
        "id": "ux3XkXhI5kv3"
      },
      "source": [
        "mmc = MinMaxScaler()\n",
        "X_train = mmc.fit_transform(X)\n",
        "\n",
        "scalerfile = \"mmc.sav\"\n",
        "pickle.dump(mmc, open(scalerfile, 'wb'))"
      ],
      "execution_count": null,
      "outputs": []
    },
    {
      "cell_type": "code",
      "metadata": {
        "id": "SgYMJ2Jv5kv4",
        "outputId": "1d930f87-eda0-4e2a-a2f2-c8d85e8ffb47"
      },
      "source": [
        "X_train[:5]"
      ],
      "execution_count": null,
      "outputs": [
        {
          "data": {
            "text/plain": [
              "array([[1.0000000e+00, 0.0000000e+00, 0.0000000e+00, 3.4782609e-01,\n",
              "        9.0000004e-01, 1.5580117e-07, 3.4410805e-05, 0.0000000e+00,\n",
              "        0.0000000e+00, 0.0000000e+00, 0.0000000e+00, 0.0000000e+00,\n",
              "        1.0000000e+00, 0.0000000e+00, 0.0000000e+00, 0.0000000e+00,\n",
              "        0.0000000e+00, 0.0000000e+00, 0.0000000e+00, 0.0000000e+00,\n",
              "        0.0000000e+00, 0.0000000e+00, 0.0000000e+00, 1.9569471e-03,\n",
              "        1.9569471e-03, 0.0000000e+00, 0.0000000e+00, 0.0000000e+00,\n",
              "        0.0000000e+00, 1.0000000e+00, 0.0000000e+00, 0.0000000e+00,\n",
              "        0.0000000e+00, 0.0000000e+00, 0.0000000e+00, 0.0000000e+00,\n",
              "        0.0000000e+00, 0.0000000e+00, 0.0000000e+00, 0.0000000e+00,\n",
              "        0.0000000e+00, 0.0000000e+00],\n",
              "       [1.0000000e+00, 0.0000000e+00, 0.0000000e+00, 3.4782609e-01,\n",
              "        9.0000004e-01, 1.1739437e-07, 3.4566535e-06, 0.0000000e+00,\n",
              "        0.0000000e+00, 0.0000000e+00, 0.0000000e+00, 0.0000000e+00,\n",
              "        1.0000000e+00, 0.0000000e+00, 0.0000000e+00, 0.0000000e+00,\n",
              "        0.0000000e+00, 0.0000000e+00, 0.0000000e+00, 0.0000000e+00,\n",
              "        0.0000000e+00, 0.0000000e+00, 0.0000000e+00, 3.9138943e-03,\n",
              "        3.9138943e-03, 0.0000000e+00, 0.0000000e+00, 0.0000000e+00,\n",
              "        0.0000000e+00, 1.0000000e+00, 0.0000000e+00, 0.0000000e+00,\n",
              "        3.9215689e-03, 3.9215689e-03, 1.0000000e+00, 0.0000000e+00,\n",
              "        1.0000000e+00, 0.0000000e+00, 0.0000000e+00, 0.0000000e+00,\n",
              "        0.0000000e+00, 0.0000000e+00],\n",
              "       [1.0000000e+00, 0.0000000e+00, 0.0000000e+00, 3.4782609e-01,\n",
              "        9.0000004e-01, 1.7101895e-07, 9.3744933e-07, 0.0000000e+00,\n",
              "        0.0000000e+00, 0.0000000e+00, 0.0000000e+00, 0.0000000e+00,\n",
              "        1.0000000e+00, 0.0000000e+00, 0.0000000e+00, 0.0000000e+00,\n",
              "        0.0000000e+00, 0.0000000e+00, 0.0000000e+00, 0.0000000e+00,\n",
              "        0.0000000e+00, 0.0000000e+00, 0.0000000e+00, 1.9569471e-03,\n",
              "        1.9569471e-03, 0.0000000e+00, 0.0000000e+00, 0.0000000e+00,\n",
              "        0.0000000e+00, 1.0000000e+00, 0.0000000e+00, 0.0000000e+00,\n",
              "        7.8431377e-03, 7.8431377e-03, 1.0000000e+00, 0.0000000e+00,\n",
              "        5.0000000e-01, 0.0000000e+00, 0.0000000e+00, 0.0000000e+00,\n",
              "        0.0000000e+00, 0.0000000e+00],\n",
              "       [1.0000000e+00, 0.0000000e+00, 0.0000000e+00, 3.4782609e-01,\n",
              "        9.0000004e-01, 1.6884499e-07, 1.5512192e-06, 0.0000000e+00,\n",
              "        0.0000000e+00, 0.0000000e+00, 0.0000000e+00, 0.0000000e+00,\n",
              "        1.0000000e+00, 0.0000000e+00, 0.0000000e+00, 0.0000000e+00,\n",
              "        0.0000000e+00, 0.0000000e+00, 0.0000000e+00, 0.0000000e+00,\n",
              "        0.0000000e+00, 0.0000000e+00, 0.0000000e+00, 3.9138943e-03,\n",
              "        3.9138943e-03, 0.0000000e+00, 0.0000000e+00, 0.0000000e+00,\n",
              "        0.0000000e+00, 1.0000000e+00, 0.0000000e+00, 0.0000000e+00,\n",
              "        1.1764707e-02, 1.1764707e-02, 1.0000000e+00, 0.0000000e+00,\n",
              "        3.3000001e-01, 0.0000000e+00, 0.0000000e+00, 0.0000000e+00,\n",
              "        0.0000000e+00, 0.0000000e+00],\n",
              "       [1.0000000e+00, 0.0000000e+00, 0.0000000e+00, 3.4782609e-01,\n",
              "        9.0000004e-01, 1.7319293e-07, 3.7101009e-07, 0.0000000e+00,\n",
              "        0.0000000e+00, 0.0000000e+00, 0.0000000e+00, 0.0000000e+00,\n",
              "        1.0000000e+00, 0.0000000e+00, 0.0000000e+00, 0.0000000e+00,\n",
              "        0.0000000e+00, 0.0000000e+00, 0.0000000e+00, 0.0000000e+00,\n",
              "        0.0000000e+00, 0.0000000e+00, 0.0000000e+00, 5.8708414e-03,\n",
              "        5.8708414e-03, 0.0000000e+00, 0.0000000e+00, 0.0000000e+00,\n",
              "        0.0000000e+00, 1.0000000e+00, 0.0000000e+00, 0.0000000e+00,\n",
              "        1.5686275e-02, 1.5686275e-02, 1.0000000e+00, 0.0000000e+00,\n",
              "        2.5000000e-01, 0.0000000e+00, 0.0000000e+00, 0.0000000e+00,\n",
              "        0.0000000e+00, 0.0000000e+00]], dtype=float32)"
            ]
          },
          "execution_count": 38,
          "metadata": {},
          "output_type": "execute_result"
        }
      ]
    },
    {
      "cell_type": "markdown",
      "metadata": {
        "id": "P0Ph0tC1RXVU"
      },
      "source": [
        "Build Model"
      ]
    },
    {
      "cell_type": "code",
      "metadata": {
        "id": "FbYU4B6SRVnl"
      },
      "source": [
        "classifier = Sequential()"
      ],
      "execution_count": null,
      "outputs": []
    },
    {
      "cell_type": "code",
      "metadata": {
        "id": "DuGV7QmHQzYC"
      },
      "source": [
        "classifier.add(Dense(units = 12, input_shape=(X.shape[1],), activation='relu'))\n",
        "classifier.add(Dense(units = 8, activation='relu'))\n",
        "classifier.add(Dense(units = 1, activation='sigmoid'))"
      ],
      "execution_count": null,
      "outputs": []
    },
    {
      "cell_type": "code",
      "metadata": {
        "id": "88rNqueNSetx"
      },
      "source": [
        "classifier.compile(optimizer='adam', loss='binary_crossentropy',\\\n",
        "                   metrics = ['accuracy'])"
      ],
      "execution_count": null,
      "outputs": []
    },
    {
      "cell_type": "code",
      "metadata": {
        "colab": {
          "base_uri": "https://localhost:8080/"
        },
        "id": "uXScXi6USrVq",
        "outputId": "ea732b32-a7bb-4509-a9de-0fb83ce91822"
      },
      "source": [
        "classifier.summary()"
      ],
      "execution_count": null,
      "outputs": [
        {
          "name": "stdout",
          "output_type": "stream",
          "text": [
            "Model: \"sequential\"\n",
            "_________________________________________________________________\n",
            "Layer (type)                 Output Shape              Param #   \n",
            "=================================================================\n",
            "dense (Dense)                (None, 12)                516       \n",
            "_________________________________________________________________\n",
            "dense_1 (Dense)              (None, 8)                 104       \n",
            "_________________________________________________________________\n",
            "dense_2 (Dense)              (None, 1)                 9         \n",
            "=================================================================\n",
            "Total params: 629\n",
            "Trainable params: 629\n",
            "Non-trainable params: 0\n",
            "_________________________________________________________________\n"
          ]
        }
      ]
    },
    {
      "cell_type": "code",
      "metadata": {
        "id": "xt226AYwVwDX"
      },
      "source": [
        "early = EarlyStopping(patience=10)\n",
        "\n",
        "checkpoint = ModelCheckpoint('Q2_KDD_checkpoint_new.h5', save_best_only=True)"
      ],
      "execution_count": null,
      "outputs": []
    },
    {
      "cell_type": "code",
      "metadata": {
        "id": "mmjw9TkTkKzy"
      },
      "source": [
        "import datetime"
      ],
      "execution_count": null,
      "outputs": []
    },
    {
      "cell_type": "code",
      "metadata": {
        "colab": {
          "base_uri": "https://localhost:8080/"
        },
        "id": "KV4wObBdkL6h",
        "outputId": "ece1fa2b-0365-4f43-85d7-76d2040c31fc"
      },
      "source": [
        "t0 = datetime.datetime.now()\n",
        "print(t0)"
      ],
      "execution_count": null,
      "outputs": [
        {
          "name": "stdout",
          "output_type": "stream",
          "text": [
            "2020-11-29 03:02:32.936584\n"
          ]
        }
      ]
    },
    {
      "cell_type": "code",
      "metadata": {
        "colab": {
          "base_uri": "https://localhost:8080/"
        },
        "id": "IKVu0VGy4Ria",
        "outputId": "3ca940ea-92a5-432d-c29f-62faaed9f1b5"
      },
      "source": [
        "history = classifier.fit(X_train, y, epochs=100, \n",
        "                    batch_size=32, \n",
        "                    verbose=1, \n",
        "                    validation_split=0.2,\n",
        "                    callbacks = [early,checkpoint])"
      ],
      "execution_count": null,
      "outputs": [
        {
          "name": "stdout",
          "output_type": "stream",
          "text": [
            "Epoch 1/100\n",
            "122461/122461 [==============================] - 130s 1ms/step - loss: 0.0044 - accuracy: 0.9988 - val_loss: 0.0077 - val_accuracy: 0.9984\n",
            "Epoch 2/100\n",
            "122461/122461 [==============================] - 127s 1ms/step - loss: 0.0017 - accuracy: 0.9995 - val_loss: 0.0070 - val_accuracy: 0.9986\n",
            "Epoch 3/100\n",
            "122461/122461 [==============================] - 124s 1ms/step - loss: 0.0015 - accuracy: 0.9996 - val_loss: 0.0098 - val_accuracy: 0.9987\n",
            "Epoch 4/100\n",
            "122461/122461 [==============================] - 107s 876us/step - loss: 0.0014 - accuracy: 0.9996 - val_loss: 0.0066 - val_accuracy: 0.9985\n",
            "Epoch 5/100\n",
            "122461/122461 [==============================] - 119s 974us/step - loss: 0.0013 - accuracy: 0.9997 - val_loss: 0.0081 - val_accuracy: 0.9986\n",
            "Epoch 6/100\n",
            "122461/122461 [==============================] - 127s 1ms/step - loss: 0.0012 - accuracy: 0.9997 - val_loss: 0.0134 - val_accuracy: 0.9985\n",
            "Epoch 7/100\n",
            "122461/122461 [==============================] - 126s 1ms/step - loss: 0.0012 - accuracy: 0.9997 - val_loss: 0.0077 - val_accuracy: 0.9987\n",
            "Epoch 8/100\n",
            "122461/122461 [==============================] - 127s 1ms/step - loss: 0.0012 - accuracy: 0.9997 - val_loss: 0.0092 - val_accuracy: 0.9987\n",
            "Epoch 9/100\n",
            "122461/122461 [==============================] - 125s 1ms/step - loss: 0.0012 - accuracy: 0.9997 - val_loss: 0.0071 - val_accuracy: 0.9989\n",
            "Epoch 10/100\n",
            "122461/122461 [==============================] - 118s 967us/step - loss: 0.0012 - accuracy: 0.9997 - val_loss: 0.0121 - val_accuracy: 0.9986\n",
            "Epoch 11/100\n",
            "122461/122461 [==============================] - 105s 854us/step - loss: 0.0011 - accuracy: 0.9997 - val_loss: 0.0127 - val_accuracy: 0.9990\n",
            "Epoch 12/100\n",
            "122461/122461 [==============================] - 105s 854us/step - loss: 0.0011 - accuracy: 0.9997 - val_loss: 0.0080 - val_accuracy: 0.9986\n",
            "Epoch 13/100\n",
            "122461/122461 [==============================] - 107s 876us/step - loss: 0.0011 - accuracy: 0.9997 - val_loss: 0.0092 - val_accuracy: 0.9985\n",
            "Epoch 14/100\n",
            "122461/122461 [==============================] - 111s 906us/step - loss: 0.0011 - accuracy: 0.9997 - val_loss: 0.0072 - val_accuracy: 0.9990\n"
          ]
        }
      ]
    },
    {
      "cell_type": "code",
      "metadata": {
        "colab": {
          "base_uri": "https://localhost:8080/"
        },
        "id": "ezJqkBYTV1IA",
        "outputId": "7caf7a73-78a4-4c21-cb52-9428a525f789"
      },
      "source": [
        "t1 = datetime.datetime.now()\n",
        "print(t1-t0)"
      ],
      "execution_count": null,
      "outputs": [
        {
          "name": "stdout",
          "output_type": "stream",
          "text": [
            "0:27:39.455943\n"
          ]
        }
      ]
    },
    {
      "cell_type": "code",
      "metadata": {
        "id": "gApnIb1XYotw"
      },
      "source": [
        "from tensorflow.keras.models import load_model\n",
        "\n",
        "classifier.save('KDD_ANN_model.h5')"
      ],
      "execution_count": null,
      "outputs": []
    },
    {
      "cell_type": "code",
      "metadata": {
        "id": "rAn1YAmTnfnW",
        "outputId": "55df8771-c0db-426b-f360-c6f147f1a5e0"
      },
      "source": [
        "print(\"Accuracy: \", classifier.evaluate(X_train, y))"
      ],
      "execution_count": null,
      "outputs": [
        {
          "name": "stdout",
          "output_type": "stream",
          "text": [
            "153076/153076 [==============================] - 101s 662us/step - loss: 0.0024 - accuracy: 0.9995\n",
            "Accuracy:  [0.002422800287604332, 0.9995412826538086]\n"
          ]
        }
      ]
    },
    {
      "cell_type": "code",
      "metadata": {
        "id": "KWxWgMvtMFdU",
        "outputId": "c558b501-e5d5-4652-b2aa-c613a25c6e34"
      },
      "source": [
        "df_test = pd.read_csv(\"./kddcup.testdata.unlabeled\",header=None)\n",
        "df_test.head()"
      ],
      "execution_count": null,
      "outputs": [
        {
          "data": {
            "text/html": [
              "<div>\n",
              "<style scoped>\n",
              "    .dataframe tbody tr th:only-of-type {\n",
              "        vertical-align: middle;\n",
              "    }\n",
              "\n",
              "    .dataframe tbody tr th {\n",
              "        vertical-align: top;\n",
              "    }\n",
              "\n",
              "    .dataframe thead th {\n",
              "        text-align: right;\n",
              "    }\n",
              "</style>\n",
              "<table border=\"1\" class=\"dataframe\">\n",
              "  <thead>\n",
              "    <tr style=\"text-align: right;\">\n",
              "      <th></th>\n",
              "      <th>0</th>\n",
              "      <th>1</th>\n",
              "      <th>2</th>\n",
              "      <th>3</th>\n",
              "      <th>4</th>\n",
              "      <th>5</th>\n",
              "      <th>6</th>\n",
              "      <th>7</th>\n",
              "      <th>8</th>\n",
              "      <th>9</th>\n",
              "      <th>...</th>\n",
              "      <th>31</th>\n",
              "      <th>32</th>\n",
              "      <th>33</th>\n",
              "      <th>34</th>\n",
              "      <th>35</th>\n",
              "      <th>36</th>\n",
              "      <th>37</th>\n",
              "      <th>38</th>\n",
              "      <th>39</th>\n",
              "      <th>40</th>\n",
              "    </tr>\n",
              "  </thead>\n",
              "  <tbody>\n",
              "    <tr>\n",
              "      <th>0</th>\n",
              "      <td>0</td>\n",
              "      <td>udp</td>\n",
              "      <td>private</td>\n",
              "      <td>SF</td>\n",
              "      <td>105</td>\n",
              "      <td>146</td>\n",
              "      <td>0</td>\n",
              "      <td>0</td>\n",
              "      <td>0</td>\n",
              "      <td>0</td>\n",
              "      <td>...</td>\n",
              "      <td>1</td>\n",
              "      <td>1</td>\n",
              "      <td>1.0</td>\n",
              "      <td>0.00</td>\n",
              "      <td>1.00</td>\n",
              "      <td>0.0</td>\n",
              "      <td>0.0</td>\n",
              "      <td>0.0</td>\n",
              "      <td>0.0</td>\n",
              "      <td>0.0</td>\n",
              "    </tr>\n",
              "    <tr>\n",
              "      <th>1</th>\n",
              "      <td>0</td>\n",
              "      <td>udp</td>\n",
              "      <td>private</td>\n",
              "      <td>SF</td>\n",
              "      <td>105</td>\n",
              "      <td>146</td>\n",
              "      <td>0</td>\n",
              "      <td>0</td>\n",
              "      <td>0</td>\n",
              "      <td>0</td>\n",
              "      <td>...</td>\n",
              "      <td>255</td>\n",
              "      <td>254</td>\n",
              "      <td>1.0</td>\n",
              "      <td>0.01</td>\n",
              "      <td>0.00</td>\n",
              "      <td>0.0</td>\n",
              "      <td>0.0</td>\n",
              "      <td>0.0</td>\n",
              "      <td>0.0</td>\n",
              "      <td>0.0</td>\n",
              "    </tr>\n",
              "    <tr>\n",
              "      <th>2</th>\n",
              "      <td>0</td>\n",
              "      <td>udp</td>\n",
              "      <td>private</td>\n",
              "      <td>SF</td>\n",
              "      <td>105</td>\n",
              "      <td>146</td>\n",
              "      <td>0</td>\n",
              "      <td>0</td>\n",
              "      <td>0</td>\n",
              "      <td>0</td>\n",
              "      <td>...</td>\n",
              "      <td>255</td>\n",
              "      <td>254</td>\n",
              "      <td>1.0</td>\n",
              "      <td>0.01</td>\n",
              "      <td>0.00</td>\n",
              "      <td>0.0</td>\n",
              "      <td>0.0</td>\n",
              "      <td>0.0</td>\n",
              "      <td>0.0</td>\n",
              "      <td>0.0</td>\n",
              "    </tr>\n",
              "    <tr>\n",
              "      <th>3</th>\n",
              "      <td>0</td>\n",
              "      <td>udp</td>\n",
              "      <td>private</td>\n",
              "      <td>SF</td>\n",
              "      <td>105</td>\n",
              "      <td>146</td>\n",
              "      <td>0</td>\n",
              "      <td>0</td>\n",
              "      <td>0</td>\n",
              "      <td>0</td>\n",
              "      <td>...</td>\n",
              "      <td>255</td>\n",
              "      <td>254</td>\n",
              "      <td>1.0</td>\n",
              "      <td>0.01</td>\n",
              "      <td>0.00</td>\n",
              "      <td>0.0</td>\n",
              "      <td>0.0</td>\n",
              "      <td>0.0</td>\n",
              "      <td>0.0</td>\n",
              "      <td>0.0</td>\n",
              "    </tr>\n",
              "    <tr>\n",
              "      <th>4</th>\n",
              "      <td>0</td>\n",
              "      <td>udp</td>\n",
              "      <td>private</td>\n",
              "      <td>SF</td>\n",
              "      <td>105</td>\n",
              "      <td>146</td>\n",
              "      <td>0</td>\n",
              "      <td>0</td>\n",
              "      <td>0</td>\n",
              "      <td>0</td>\n",
              "      <td>...</td>\n",
              "      <td>255</td>\n",
              "      <td>254</td>\n",
              "      <td>1.0</td>\n",
              "      <td>0.01</td>\n",
              "      <td>0.01</td>\n",
              "      <td>0.0</td>\n",
              "      <td>0.0</td>\n",
              "      <td>0.0</td>\n",
              "      <td>0.0</td>\n",
              "      <td>0.0</td>\n",
              "    </tr>\n",
              "  </tbody>\n",
              "</table>\n",
              "<p>5 rows × 41 columns</p>\n",
              "</div>"
            ],
            "text/plain": [
              "   0    1        2   3    4    5   6   7   8   9   ...   31   32   33    34  \\\n",
              "0   0  udp  private  SF  105  146   0   0   0   0  ...    1    1  1.0  0.00   \n",
              "1   0  udp  private  SF  105  146   0   0   0   0  ...  255  254  1.0  0.01   \n",
              "2   0  udp  private  SF  105  146   0   0   0   0  ...  255  254  1.0  0.01   \n",
              "3   0  udp  private  SF  105  146   0   0   0   0  ...  255  254  1.0  0.01   \n",
              "4   0  udp  private  SF  105  146   0   0   0   0  ...  255  254  1.0  0.01   \n",
              "\n",
              "     35   36   37   38   39   40  \n",
              "0  1.00  0.0  0.0  0.0  0.0  0.0  \n",
              "1  0.00  0.0  0.0  0.0  0.0  0.0  \n",
              "2  0.00  0.0  0.0  0.0  0.0  0.0  \n",
              "3  0.00  0.0  0.0  0.0  0.0  0.0  \n",
              "4  0.01  0.0  0.0  0.0  0.0  0.0  \n",
              "\n",
              "[5 rows x 41 columns]"
            ]
          },
          "execution_count": 51,
          "metadata": {},
          "output_type": "execute_result"
        }
      ]
    },
    {
      "cell_type": "code",
      "metadata": {
        "id": "RsZjRrCGNbI-",
        "outputId": "62140764-4359-4039-b2c4-e79f97c50857"
      },
      "source": [
        "df_test.info()"
      ],
      "execution_count": null,
      "outputs": [
        {
          "name": "stdout",
          "output_type": "stream",
          "text": [
            "<class 'pandas.core.frame.DataFrame'>\n",
            "RangeIndex: 2984154 entries, 0 to 2984153\n",
            "Data columns (total 41 columns):\n",
            " #   Column  Dtype  \n",
            "---  ------  -----  \n",
            " 0   0       int64  \n",
            " 1   1       object \n",
            " 2   2       object \n",
            " 3   3       object \n",
            " 4   4       int64  \n",
            " 5   5       int64  \n",
            " 6   6       int64  \n",
            " 7   7       int64  \n",
            " 8   8       int64  \n",
            " 9   9       int64  \n",
            " 10  10      int64  \n",
            " 11  11      int64  \n",
            " 12  12      int64  \n",
            " 13  13      int64  \n",
            " 14  14      int64  \n",
            " 15  15      int64  \n",
            " 16  16      int64  \n",
            " 17  17      int64  \n",
            " 18  18      int64  \n",
            " 19  19      int64  \n",
            " 20  20      int64  \n",
            " 21  21      int64  \n",
            " 22  22      int64  \n",
            " 23  23      int64  \n",
            " 24  24      float64\n",
            " 25  25      float64\n",
            " 26  26      float64\n",
            " 27  27      float64\n",
            " 28  28      float64\n",
            " 29  29      float64\n",
            " 30  30      float64\n",
            " 31  31      int64  \n",
            " 32  32      int64  \n",
            " 33  33      float64\n",
            " 34  34      float64\n",
            " 35  35      float64\n",
            " 36  36      float64\n",
            " 37  37      float64\n",
            " 38  38      float64\n",
            " 39  39      float64\n",
            " 40  40      float64\n",
            "dtypes: float64(15), int64(23), object(3)\n",
            "memory usage: 933.5+ MB\n"
          ]
        }
      ]
    },
    {
      "cell_type": "code",
      "metadata": {
        "id": "RTo3R1F35kwA"
      },
      "source": [
        "X_test = df_test.values"
      ],
      "execution_count": null,
      "outputs": []
    },
    {
      "cell_type": "code",
      "metadata": {
        "id": "uyJ7rzlYNfif"
      },
      "source": [
        "label_test_1 = LabelEncoder()\n",
        "X_test[:, 1] = label_test_1.fit_transform(X_test[:,1])\n",
        "\n",
        "label_test_2 = LabelEncoder()\n",
        "X_test[:, 2] = label_test_2.fit_transform(X_test[:,2])\n",
        "\n",
        "label_test_3 = LabelEncoder()\n",
        "X_test[:, 3] = label_test_3.fit_transform(X_test[:,3])\n",
        "\n",
        "X_test = ct.transform(X_test.tolist())"
      ],
      "execution_count": null,
      "outputs": []
    },
    {
      "cell_type": "code",
      "metadata": {
        "id": "o4zuEf125kwB",
        "outputId": "b5de988a-6199-4c89-9a1a-5bd22ee1b199"
      },
      "source": [
        "X_test[:5]"
      ],
      "execution_count": null,
      "outputs": [
        {
          "data": {
            "text/plain": [
              "array([[0.0, 0.0, 1.0, 0, 50, 9, 105, 146, 0, 0, 0, 0, 0, 0, 0, 0, 0, 0,\n",
              "        0, 0, 0, 0, 0, 0, 1, 1, 0.0, 0.0, 0.0, 0.0, 1.0, 0.0, 0.0, 1, 1,\n",
              "        1.0, 0.0, 1.0, 0.0, 0.0, 0.0, 0.0, 0.0],\n",
              "       [0.0, 0.0, 1.0, 0, 50, 9, 105, 146, 0, 0, 0, 0, 0, 0, 0, 0, 0, 0,\n",
              "        0, 0, 0, 0, 0, 0, 1, 1, 0.0, 0.0, 0.0, 0.0, 1.0, 0.0, 0.0, 255,\n",
              "        254, 1.0, 0.01, 0.0, 0.0, 0.0, 0.0, 0.0, 0.0],\n",
              "       [0.0, 0.0, 1.0, 0, 50, 9, 105, 146, 0, 0, 0, 0, 0, 0, 0, 0, 0, 0,\n",
              "        0, 0, 0, 0, 0, 0, 1, 1, 0.0, 0.0, 0.0, 0.0, 1.0, 0.0, 0.0, 255,\n",
              "        254, 1.0, 0.01, 0.0, 0.0, 0.0, 0.0, 0.0, 0.0],\n",
              "       [0.0, 0.0, 1.0, 0, 50, 9, 105, 146, 0, 0, 0, 0, 0, 0, 0, 0, 0, 0,\n",
              "        0, 0, 0, 0, 0, 0, 1, 1, 0.0, 0.0, 0.0, 0.0, 1.0, 0.0, 0.0, 255,\n",
              "        254, 1.0, 0.01, 0.0, 0.0, 0.0, 0.0, 0.0, 0.0],\n",
              "       [0.0, 0.0, 1.0, 0, 50, 9, 105, 146, 0, 0, 0, 0, 0, 0, 0, 0, 0, 0,\n",
              "        0, 0, 0, 0, 0, 0, 1, 1, 0.0, 0.0, 0.0, 0.0, 1.0, 0.0, 0.0, 255,\n",
              "        254, 1.0, 0.01, 0.01, 0.0, 0.0, 0.0, 0.0, 0.0]], dtype=object)"
            ]
          },
          "execution_count": 56,
          "metadata": {},
          "output_type": "execute_result"
        }
      ]
    },
    {
      "cell_type": "code",
      "metadata": {
        "id": "JUtfZ_Lc5kwB"
      },
      "source": [
        "X_test = X_test[:, 1:]"
      ],
      "execution_count": null,
      "outputs": []
    },
    {
      "cell_type": "code",
      "metadata": {
        "id": "MmxxN5aS5kwC",
        "outputId": "1bc415b9-5807-48d7-b907-19e3bb698dc6"
      },
      "source": [
        "X_test = mmc.fit_transform(X_test)\n",
        "X_test[:5]"
      ],
      "execution_count": null,
      "outputs": [
        {
          "data": {
            "text/plain": [
              "array([[0.00000000e+00, 1.00000000e+00, 0.00000000e+00, 7.24637681e-01,\n",
              "        9.00000000e-01, 1.67129195e-06, 4.51764850e-06, 0.00000000e+00,\n",
              "        0.00000000e+00, 0.00000000e+00, 0.00000000e+00, 0.00000000e+00,\n",
              "        0.00000000e+00, 0.00000000e+00, 0.00000000e+00, 0.00000000e+00,\n",
              "        0.00000000e+00, 0.00000000e+00, 0.00000000e+00, 0.00000000e+00,\n",
              "        0.00000000e+00, 0.00000000e+00, 0.00000000e+00, 1.95694716e-03,\n",
              "        1.95694716e-03, 0.00000000e+00, 0.00000000e+00, 0.00000000e+00,\n",
              "        0.00000000e+00, 1.00000000e+00, 0.00000000e+00, 0.00000000e+00,\n",
              "        3.92156863e-03, 3.92156863e-03, 1.00000000e+00, 0.00000000e+00,\n",
              "        1.00000000e+00, 0.00000000e+00, 0.00000000e+00, 0.00000000e+00,\n",
              "        0.00000000e+00, 0.00000000e+00],\n",
              "       [0.00000000e+00, 1.00000000e+00, 0.00000000e+00, 7.24637681e-01,\n",
              "        9.00000000e-01, 1.67129195e-06, 4.51764850e-06, 0.00000000e+00,\n",
              "        0.00000000e+00, 0.00000000e+00, 0.00000000e+00, 0.00000000e+00,\n",
              "        0.00000000e+00, 0.00000000e+00, 0.00000000e+00, 0.00000000e+00,\n",
              "        0.00000000e+00, 0.00000000e+00, 0.00000000e+00, 0.00000000e+00,\n",
              "        0.00000000e+00, 0.00000000e+00, 0.00000000e+00, 1.95694716e-03,\n",
              "        1.95694716e-03, 0.00000000e+00, 0.00000000e+00, 0.00000000e+00,\n",
              "        0.00000000e+00, 1.00000000e+00, 0.00000000e+00, 0.00000000e+00,\n",
              "        1.00000000e+00, 9.96078431e-01, 1.00000000e+00, 1.00000000e-02,\n",
              "        0.00000000e+00, 0.00000000e+00, 0.00000000e+00, 0.00000000e+00,\n",
              "        0.00000000e+00, 0.00000000e+00],\n",
              "       [0.00000000e+00, 1.00000000e+00, 0.00000000e+00, 7.24637681e-01,\n",
              "        9.00000000e-01, 1.67129195e-06, 4.51764850e-06, 0.00000000e+00,\n",
              "        0.00000000e+00, 0.00000000e+00, 0.00000000e+00, 0.00000000e+00,\n",
              "        0.00000000e+00, 0.00000000e+00, 0.00000000e+00, 0.00000000e+00,\n",
              "        0.00000000e+00, 0.00000000e+00, 0.00000000e+00, 0.00000000e+00,\n",
              "        0.00000000e+00, 0.00000000e+00, 0.00000000e+00, 1.95694716e-03,\n",
              "        1.95694716e-03, 0.00000000e+00, 0.00000000e+00, 0.00000000e+00,\n",
              "        0.00000000e+00, 1.00000000e+00, 0.00000000e+00, 0.00000000e+00,\n",
              "        1.00000000e+00, 9.96078431e-01, 1.00000000e+00, 1.00000000e-02,\n",
              "        0.00000000e+00, 0.00000000e+00, 0.00000000e+00, 0.00000000e+00,\n",
              "        0.00000000e+00, 0.00000000e+00],\n",
              "       [0.00000000e+00, 1.00000000e+00, 0.00000000e+00, 7.24637681e-01,\n",
              "        9.00000000e-01, 1.67129195e-06, 4.51764850e-06, 0.00000000e+00,\n",
              "        0.00000000e+00, 0.00000000e+00, 0.00000000e+00, 0.00000000e+00,\n",
              "        0.00000000e+00, 0.00000000e+00, 0.00000000e+00, 0.00000000e+00,\n",
              "        0.00000000e+00, 0.00000000e+00, 0.00000000e+00, 0.00000000e+00,\n",
              "        0.00000000e+00, 0.00000000e+00, 0.00000000e+00, 1.95694716e-03,\n",
              "        1.95694716e-03, 0.00000000e+00, 0.00000000e+00, 0.00000000e+00,\n",
              "        0.00000000e+00, 1.00000000e+00, 0.00000000e+00, 0.00000000e+00,\n",
              "        1.00000000e+00, 9.96078431e-01, 1.00000000e+00, 1.00000000e-02,\n",
              "        0.00000000e+00, 0.00000000e+00, 0.00000000e+00, 0.00000000e+00,\n",
              "        0.00000000e+00, 0.00000000e+00],\n",
              "       [0.00000000e+00, 1.00000000e+00, 0.00000000e+00, 7.24637681e-01,\n",
              "        9.00000000e-01, 1.67129195e-06, 4.51764850e-06, 0.00000000e+00,\n",
              "        0.00000000e+00, 0.00000000e+00, 0.00000000e+00, 0.00000000e+00,\n",
              "        0.00000000e+00, 0.00000000e+00, 0.00000000e+00, 0.00000000e+00,\n",
              "        0.00000000e+00, 0.00000000e+00, 0.00000000e+00, 0.00000000e+00,\n",
              "        0.00000000e+00, 0.00000000e+00, 0.00000000e+00, 1.95694716e-03,\n",
              "        1.95694716e-03, 0.00000000e+00, 0.00000000e+00, 0.00000000e+00,\n",
              "        0.00000000e+00, 1.00000000e+00, 0.00000000e+00, 0.00000000e+00,\n",
              "        1.00000000e+00, 9.96078431e-01, 1.00000000e+00, 1.00000000e-02,\n",
              "        1.00000000e-02, 0.00000000e+00, 0.00000000e+00, 0.00000000e+00,\n",
              "        0.00000000e+00, 0.00000000e+00]])"
            ]
          },
          "execution_count": 58,
          "metadata": {},
          "output_type": "execute_result"
        }
      ]
    },
    {
      "cell_type": "code",
      "metadata": {
        "id": "KtkJX7JnNqpx",
        "outputId": "7c80ff69-14ab-4f2a-96b1-bb8b6bf297e5"
      },
      "source": [
        "X_test.shape"
      ],
      "execution_count": null,
      "outputs": [
        {
          "data": {
            "text/plain": [
              "(2984154, 42)"
            ]
          },
          "execution_count": 59,
          "metadata": {},
          "output_type": "execute_result"
        }
      ]
    },
    {
      "cell_type": "code",
      "metadata": {
        "id": "YULjHnVsNvHK"
      },
      "source": [
        "y_pred = classifier.predict(X_test)"
      ],
      "execution_count": null,
      "outputs": []
    },
    {
      "cell_type": "code",
      "metadata": {
        "id": "kAXA70d05kwD",
        "outputId": "4c1b6a3c-ab28-46ea-9312-f8205ba2fbfa"
      },
      "source": [
        "y_pred[:5]"
      ],
      "execution_count": null,
      "outputs": [
        {
          "data": {
            "text/plain": [
              "array([[3.8071227e-01],\n",
              "       [3.3656238e-06],\n",
              "       [3.3656238e-06],\n",
              "       [3.3656238e-06],\n",
              "       [3.5686182e-06]], dtype=float32)"
            ]
          },
          "execution_count": 61,
          "metadata": {},
          "output_type": "execute_result"
        }
      ]
    },
    {
      "cell_type": "code",
      "metadata": {
        "id": "WBm1p0xF5kwD",
        "outputId": "5b99ef3f-bd8b-48c1-d217-dd92de46f08a"
      },
      "source": [
        "y_pred_round = y_pred.round(0)\n",
        "y_pred_round"
      ],
      "execution_count": null,
      "outputs": [
        {
          "data": {
            "text/plain": [
              "array([[0.],\n",
              "       [0.],\n",
              "       [0.],\n",
              "       ...,\n",
              "       [0.],\n",
              "       [0.],\n",
              "       [0.]], dtype=float32)"
            ]
          },
          "execution_count": 69,
          "metadata": {},
          "output_type": "execute_result"
        }
      ]
    },
    {
      "cell_type": "code",
      "metadata": {
        "id": "AbcPbKeK5kwD",
        "outputId": "e7f00165-b13a-4202-cf45-27bb8bd368e9"
      },
      "source": [
        "y_pred_inv = labelencoder_y.inverse_transform(y_pred_round.astype(\"int\"))\n",
        "y_pred_inv"
      ],
      "execution_count": null,
      "outputs": [
        {
          "data": {
            "text/plain": [
              "array(['normal.', 'normal.', 'normal.', ..., 'normal.', 'normal.',\n",
              "       'normal.'], dtype=object)"
            ]
          },
          "execution_count": 71,
          "metadata": {},
          "output_type": "execute_result"
        }
      ]
    },
    {
      "cell_type": "code",
      "metadata": {
        "id": "czF7_itQ5kwE"
      },
      "source": [
        "unique, counts = np.unique(y_pred_inv, return_counts=True)"
      ],
      "execution_count": null,
      "outputs": []
    },
    {
      "cell_type": "code",
      "metadata": {
        "id": "ApRRdVZS5kwE",
        "outputId": "90550b14-9df4-49a9-9ef0-a03419b1dd60"
      },
      "source": [
        "display(unique, counts)"
      ],
      "execution_count": null,
      "outputs": [
        {
          "data": {
            "text/plain": [
              "array(['normal.', 'others'], dtype=object)"
            ]
          },
          "metadata": {},
          "output_type": "display_data"
        },
        {
          "data": {
            "text/plain": [
              "array([ 724008, 2260146], dtype=int64)"
            ]
          },
          "metadata": {},
          "output_type": "display_data"
        }
      ]
    },
    {
      "cell_type": "markdown",
      "metadata": {
        "id": "QCT_O_g05kwG"
      },
      "source": [
        "* The unlabeled dataset is predicted to have 724008 normal intrusions and 2260146 abnormal intrusions, in which the abnormal is 3 times more than the normal. This ratio is similar to the labeled dataset's ratio (1:4).\n",
        "* The model classifier has accuracy of 99.95% with loss equals to 0.0024. --> the model has a very high accuracy. This could be explained as the number of types of intrusions was narrowed from 25 classes to 2 classes, categorizing become easier as only one probability is needed to be calculated. "
      ]
    },
    {
      "cell_type": "code",
      "metadata": {
        "id": "lU4hwqN25kwH"
      },
      "source": [
        ""
      ],
      "execution_count": null,
      "outputs": []
    }
  ]
}