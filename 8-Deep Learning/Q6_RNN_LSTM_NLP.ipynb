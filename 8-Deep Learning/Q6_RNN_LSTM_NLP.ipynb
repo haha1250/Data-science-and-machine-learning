{
  "nbformat": 4,
  "nbformat_minor": 0,
  "metadata": {
    "colab": {
      "name": "Q6_RNN_LSTM_NLP.ipynb",
      "provenance": []
    },
    "kernelspec": {
      "name": "python3",
      "display_name": "Python 3"
    }
  },
  "cells": [
    {
      "cell_type": "code",
      "metadata": {
        "id": "S1w38yJPibOy",
        "colab": {
          "base_uri": "https://localhost:8080/"
        },
        "outputId": "bf27710a-8155-48d4-bdb2-55e987781872"
      },
      "source": [
        "from google.colab import drive\n",
        "drive.mount(\"/content/gdrive\", force_remount = True)"
      ],
      "execution_count": null,
      "outputs": [
        {
          "output_type": "stream",
          "text": [
            "Mounted at /content/gdrive\n"
          ],
          "name": "stdout"
        }
      ]
    },
    {
      "cell_type": "code",
      "metadata": {
        "id": "I7Nr1NNGij8d",
        "colab": {
          "base_uri": "https://localhost:8080/"
        },
        "outputId": "92f1641b-df45-4acf-d7ae-e7b3decbf2b3"
      },
      "source": [
        "%cd '/content/gdrive/My Drive/LDS8_DeepLearning/LDS8_DinhVietHa_thi/'"
      ],
      "execution_count": null,
      "outputs": [
        {
          "output_type": "stream",
          "text": [
            "/content/gdrive/My Drive/LDS8_DeepLearning/LDS8_DinhVietHa_thi\n"
          ],
          "name": "stdout"
        }
      ]
    },
    {
      "cell_type": "code",
      "metadata": {
        "id": "iTOPJNjdx8bH"
      },
      "source": [
        "import warnings\n",
        "warnings.filterwarnings('ignore')"
      ],
      "execution_count": null,
      "outputs": []
    },
    {
      "cell_type": "code",
      "metadata": {
        "id": "wXWoQYCay_Yt"
      },
      "source": [
        "import pandas as pd\n",
        "import numpy as np\n",
        "import matplotlib.pyplot as plt\n",
        "import seaborn as sns\n",
        "from sklearn.model_selection import train_test_split\n",
        "from sklearn.preprocessing import LabelEncoder\n",
        "from sklearn import metrics\n",
        "import tensorflow as tf\n",
        "from tensorflow.keras import Model\n",
        "from tensorflow.keras.layers import LSTM, Activation, Dense\n",
        "from tensorflow.keras.layers import Dropout, Input, Embedding\n",
        "from tensorflow.keras.optimizers import RMSprop\n",
        "from tensorflow.keras.preprocessing.text import Tokenizer\n",
        "from tensorflow.keras.preprocessing import sequence\n",
        "from tensorflow.keras.utils import to_categorical\n",
        "from tensorflow.keras.callbacks import EarlyStopping\n",
        "%matplotlib inline"
      ],
      "execution_count": null,
      "outputs": []
    },
    {
      "cell_type": "code",
      "metadata": {
        "id": "FM3z6i7KIHuJ"
      },
      "source": [
        "dataset = pd.read_json(\"./Clothing_Shoes_and_Jewelry_5.json\",lines=True)"
      ],
      "execution_count": null,
      "outputs": []
    },
    {
      "cell_type": "code",
      "metadata": {
        "colab": {
          "base_uri": "https://localhost:8080/",
          "height": 289
        },
        "id": "X1K_j3jjGkJV",
        "outputId": "3d79ec53-5486-476d-e4ff-742817e96a7a"
      },
      "source": [
        "dataset.head()"
      ],
      "execution_count": null,
      "outputs": [
        {
          "output_type": "execute_result",
          "data": {
            "text/html": [
              "<div>\n",
              "<style scoped>\n",
              "    .dataframe tbody tr th:only-of-type {\n",
              "        vertical-align: middle;\n",
              "    }\n",
              "\n",
              "    .dataframe tbody tr th {\n",
              "        vertical-align: top;\n",
              "    }\n",
              "\n",
              "    .dataframe thead th {\n",
              "        text-align: right;\n",
              "    }\n",
              "</style>\n",
              "<table border=\"1\" class=\"dataframe\">\n",
              "  <thead>\n",
              "    <tr style=\"text-align: right;\">\n",
              "      <th></th>\n",
              "      <th>reviewerID</th>\n",
              "      <th>asin</th>\n",
              "      <th>reviewerName</th>\n",
              "      <th>helpful</th>\n",
              "      <th>reviewText</th>\n",
              "      <th>overall</th>\n",
              "      <th>summary</th>\n",
              "      <th>unixReviewTime</th>\n",
              "      <th>reviewTime</th>\n",
              "    </tr>\n",
              "  </thead>\n",
              "  <tbody>\n",
              "    <tr>\n",
              "      <th>0</th>\n",
              "      <td>A1KLRMWW2FWPL4</td>\n",
              "      <td>0000031887</td>\n",
              "      <td>Amazon Customer \"cameramom\"</td>\n",
              "      <td>[0, 0]</td>\n",
              "      <td>This is a great tutu and at a really great pri...</td>\n",
              "      <td>5</td>\n",
              "      <td>Great tutu-  not cheaply made</td>\n",
              "      <td>1297468800</td>\n",
              "      <td>02 12, 2011</td>\n",
              "    </tr>\n",
              "    <tr>\n",
              "      <th>1</th>\n",
              "      <td>A2G5TCU2WDFZ65</td>\n",
              "      <td>0000031887</td>\n",
              "      <td>Amazon Customer</td>\n",
              "      <td>[0, 0]</td>\n",
              "      <td>I bought this for my 4 yr old daughter for dan...</td>\n",
              "      <td>5</td>\n",
              "      <td>Very Cute!!</td>\n",
              "      <td>1358553600</td>\n",
              "      <td>01 19, 2013</td>\n",
              "    </tr>\n",
              "    <tr>\n",
              "      <th>2</th>\n",
              "      <td>A1RLQXYNCMWRWN</td>\n",
              "      <td>0000031887</td>\n",
              "      <td>Carola</td>\n",
              "      <td>[0, 0]</td>\n",
              "      <td>What can I say... my daughters have it in oran...</td>\n",
              "      <td>5</td>\n",
              "      <td>I have buy more than one</td>\n",
              "      <td>1357257600</td>\n",
              "      <td>01 4, 2013</td>\n",
              "    </tr>\n",
              "    <tr>\n",
              "      <th>3</th>\n",
              "      <td>A8U3FAMSJVHS5</td>\n",
              "      <td>0000031887</td>\n",
              "      <td>Caromcg</td>\n",
              "      <td>[0, 0]</td>\n",
              "      <td>We bought several tutus at once, and they are ...</td>\n",
              "      <td>5</td>\n",
              "      <td>Adorable, Sturdy</td>\n",
              "      <td>1398556800</td>\n",
              "      <td>04 27, 2014</td>\n",
              "    </tr>\n",
              "    <tr>\n",
              "      <th>4</th>\n",
              "      <td>A3GEOILWLK86XM</td>\n",
              "      <td>0000031887</td>\n",
              "      <td>CJ</td>\n",
              "      <td>[0, 0]</td>\n",
              "      <td>Thank you Halo Heaven great product for Little...</td>\n",
              "      <td>5</td>\n",
              "      <td>Grammy's Angels Love it</td>\n",
              "      <td>1394841600</td>\n",
              "      <td>03 15, 2014</td>\n",
              "    </tr>\n",
              "  </tbody>\n",
              "</table>\n",
              "</div>"
            ],
            "text/plain": [
              "       reviewerID        asin  ... unixReviewTime   reviewTime\n",
              "0  A1KLRMWW2FWPL4  0000031887  ...     1297468800  02 12, 2011\n",
              "1  A2G5TCU2WDFZ65  0000031887  ...     1358553600  01 19, 2013\n",
              "2  A1RLQXYNCMWRWN  0000031887  ...     1357257600   01 4, 2013\n",
              "3   A8U3FAMSJVHS5  0000031887  ...     1398556800  04 27, 2014\n",
              "4  A3GEOILWLK86XM  0000031887  ...     1394841600  03 15, 2014\n",
              "\n",
              "[5 rows x 9 columns]"
            ]
          },
          "metadata": {
            "tags": []
          },
          "execution_count": 6
        }
      ]
    },
    {
      "cell_type": "code",
      "metadata": {
        "colab": {
          "base_uri": "https://localhost:8080/"
        },
        "id": "GtCm0TKSJiiX",
        "outputId": "0ab7bc38-0941-4d2a-da27-aa64b32c4f19"
      },
      "source": [
        "dataset.columns"
      ],
      "execution_count": null,
      "outputs": [
        {
          "output_type": "execute_result",
          "data": {
            "text/plain": [
              "Index(['reviewerID', 'asin', 'reviewerName', 'helpful', 'reviewText',\n",
              "       'overall', 'summary', 'unixReviewTime', 'reviewTime'],\n",
              "      dtype='object')"
            ]
          },
          "metadata": {
            "tags": []
          },
          "execution_count": 7
        }
      ]
    },
    {
      "cell_type": "markdown",
      "metadata": {
        "id": "T6zpHsb_LHHq"
      },
      "source": [
        "Predict **overall** from **reviewText**"
      ]
    },
    {
      "cell_type": "code",
      "metadata": {
        "colab": {
          "base_uri": "https://localhost:8080/",
          "height": 204
        },
        "id": "yBggxIW_Ku0n",
        "outputId": "cae98f79-8d00-47b9-83d3-49f07fa7ef7e"
      },
      "source": [
        "df = dataset[['reviewText','overall']]\n",
        "df.head()"
      ],
      "execution_count": null,
      "outputs": [
        {
          "output_type": "execute_result",
          "data": {
            "text/html": [
              "<div>\n",
              "<style scoped>\n",
              "    .dataframe tbody tr th:only-of-type {\n",
              "        vertical-align: middle;\n",
              "    }\n",
              "\n",
              "    .dataframe tbody tr th {\n",
              "        vertical-align: top;\n",
              "    }\n",
              "\n",
              "    .dataframe thead th {\n",
              "        text-align: right;\n",
              "    }\n",
              "</style>\n",
              "<table border=\"1\" class=\"dataframe\">\n",
              "  <thead>\n",
              "    <tr style=\"text-align: right;\">\n",
              "      <th></th>\n",
              "      <th>reviewText</th>\n",
              "      <th>overall</th>\n",
              "    </tr>\n",
              "  </thead>\n",
              "  <tbody>\n",
              "    <tr>\n",
              "      <th>0</th>\n",
              "      <td>This is a great tutu and at a really great pri...</td>\n",
              "      <td>5</td>\n",
              "    </tr>\n",
              "    <tr>\n",
              "      <th>1</th>\n",
              "      <td>I bought this for my 4 yr old daughter for dan...</td>\n",
              "      <td>5</td>\n",
              "    </tr>\n",
              "    <tr>\n",
              "      <th>2</th>\n",
              "      <td>What can I say... my daughters have it in oran...</td>\n",
              "      <td>5</td>\n",
              "    </tr>\n",
              "    <tr>\n",
              "      <th>3</th>\n",
              "      <td>We bought several tutus at once, and they are ...</td>\n",
              "      <td>5</td>\n",
              "    </tr>\n",
              "    <tr>\n",
              "      <th>4</th>\n",
              "      <td>Thank you Halo Heaven great product for Little...</td>\n",
              "      <td>5</td>\n",
              "    </tr>\n",
              "  </tbody>\n",
              "</table>\n",
              "</div>"
            ],
            "text/plain": [
              "                                          reviewText  overall\n",
              "0  This is a great tutu and at a really great pri...        5\n",
              "1  I bought this for my 4 yr old daughter for dan...        5\n",
              "2  What can I say... my daughters have it in oran...        5\n",
              "3  We bought several tutus at once, and they are ...        5\n",
              "4  Thank you Halo Heaven great product for Little...        5"
            ]
          },
          "metadata": {
            "tags": []
          },
          "execution_count": 8
        }
      ]
    },
    {
      "cell_type": "code",
      "metadata": {
        "colab": {
          "base_uri": "https://localhost:8080/"
        },
        "id": "fx20coYQL7lv",
        "outputId": "326ff680-e1ef-4567-9bd7-bd8375d6179d"
      },
      "source": [
        "df.info()"
      ],
      "execution_count": null,
      "outputs": [
        {
          "output_type": "stream",
          "text": [
            "<class 'pandas.core.frame.DataFrame'>\n",
            "RangeIndex: 278677 entries, 0 to 278676\n",
            "Data columns (total 2 columns):\n",
            " #   Column      Non-Null Count   Dtype \n",
            "---  ------      --------------   ----- \n",
            " 0   reviewText  278677 non-null  object\n",
            " 1   overall     278677 non-null  int64 \n",
            "dtypes: int64(1), object(1)\n",
            "memory usage: 4.3+ MB\n"
          ],
          "name": "stdout"
        }
      ]
    },
    {
      "cell_type": "code",
      "metadata": {
        "colab": {
          "base_uri": "https://localhost:8080/",
          "height": 295
        },
        "id": "p6aZ2wZZL_zr",
        "outputId": "0e1d1ddb-74cc-4cb2-ccac-315052910d82"
      },
      "source": [
        "sns.countplot(df.overall)\n",
        "plt.xlabel('sentimental')\n",
        "plt.title('Number of review content')\n",
        "plt.show()"
      ],
      "execution_count": null,
      "outputs": [
        {
          "output_type": "display_data",
          "data": {
            "image/png": "[encoded data removed]",
            "text/plain": [
              "<Figure size 432x288 with 1 Axes>"
            ]
          },
          "metadata": {
            "tags": [],
            "needs_background": "light"
          }
        }
      ]
    },
    {
      "cell_type": "markdown",
      "metadata": {
        "id": "MiOsrCWGdPZX"
      },
      "source": [
        "The 5 stars review accounts for most reviews in the dataset, outnumbered other ratings."
      ]
    },
    {
      "cell_type": "markdown",
      "metadata": {
        "id": "lduAopHFGQFg"
      },
      "source": [
        "customer sentiment (like: 4 or 5 stars, dislike: 1 or 2 stars, neutral :3 stars) "
      ]
    },
    {
      "cell_type": "code",
      "metadata": {
        "id": "BpOcRTRgGS0Q"
      },
      "source": [
        "df['overall_new'] = df['overall']"
      ],
      "execution_count": null,
      "outputs": []
    },
    {
      "cell_type": "markdown",
      "metadata": {
        "id": "bRffFl2YNewp"
      },
      "source": [
        "4,5 --> 0 like;\n",
        "1,2 --> 1 dislike;\n",
        "3 --> 2 neutral"
      ]
    },
    {
      "cell_type": "code",
      "metadata": {
        "id": "q3iEiVCNKR2B"
      },
      "source": [
        "df['overall_new'] = df['overall_new'].replace([4,5],0)\n",
        "df['overall_new'] = df['overall_new'].replace([1,2],1)\n",
        "df['overall_new'] = df['overall_new'].replace([3],2)"
      ],
      "execution_count": null,
      "outputs": []
    },
    {
      "cell_type": "code",
      "metadata": {
        "colab": {
          "base_uri": "https://localhost:8080/",
          "height": 204
        },
        "id": "TqlS7lzLF1VF",
        "outputId": "b91a063f-5bda-4a7f-88b0-10ffcac3c4aa"
      },
      "source": [
        "df_new = df[['reviewText', 'overall_new']]\n",
        "df_new.head()"
      ],
      "execution_count": null,
      "outputs": [
        {
          "output_type": "execute_result",
          "data": {
            "text/html": [
              "<div>\n",
              "<style scoped>\n",
              "    .dataframe tbody tr th:only-of-type {\n",
              "        vertical-align: middle;\n",
              "    }\n",
              "\n",
              "    .dataframe tbody tr th {\n",
              "        vertical-align: top;\n",
              "    }\n",
              "\n",
              "    .dataframe thead th {\n",
              "        text-align: right;\n",
              "    }\n",
              "</style>\n",
              "<table border=\"1\" class=\"dataframe\">\n",
              "  <thead>\n",
              "    <tr style=\"text-align: right;\">\n",
              "      <th></th>\n",
              "      <th>reviewText</th>\n",
              "      <th>overall_new</th>\n",
              "    </tr>\n",
              "  </thead>\n",
              "  <tbody>\n",
              "    <tr>\n",
              "      <th>0</th>\n",
              "      <td>This is a great tutu and at a really great pri...</td>\n",
              "      <td>0</td>\n",
              "    </tr>\n",
              "    <tr>\n",
              "      <th>1</th>\n",
              "      <td>I bought this for my 4 yr old daughter for dan...</td>\n",
              "      <td>0</td>\n",
              "    </tr>\n",
              "    <tr>\n",
              "      <th>2</th>\n",
              "      <td>What can I say... my daughters have it in oran...</td>\n",
              "      <td>0</td>\n",
              "    </tr>\n",
              "    <tr>\n",
              "      <th>3</th>\n",
              "      <td>We bought several tutus at once, and they are ...</td>\n",
              "      <td>0</td>\n",
              "    </tr>\n",
              "    <tr>\n",
              "      <th>4</th>\n",
              "      <td>Thank you Halo Heaven great product for Little...</td>\n",
              "      <td>0</td>\n",
              "    </tr>\n",
              "  </tbody>\n",
              "</table>\n",
              "</div>"
            ],
            "text/plain": [
              "                                          reviewText  overall_new\n",
              "0  This is a great tutu and at a really great pri...            0\n",
              "1  I bought this for my 4 yr old daughter for dan...            0\n",
              "2  What can I say... my daughters have it in oran...            0\n",
              "3  We bought several tutus at once, and they are ...            0\n",
              "4  Thank you Halo Heaven great product for Little...            0"
            ]
          },
          "metadata": {
            "tags": []
          },
          "execution_count": 13
        }
      ]
    },
    {
      "cell_type": "code",
      "metadata": {
        "id": "nzIMQo4DMRJ0"
      },
      "source": [
        "X = df_new.reviewText\n",
        "Y = df_new.overall_new"
      ],
      "execution_count": null,
      "outputs": []
    },
    {
      "cell_type": "code",
      "metadata": {
        "colab": {
          "base_uri": "https://localhost:8080/"
        },
        "id": "NBbj4ZRrNREp",
        "outputId": "3262c4f2-0ecb-4584-b564-951dc459e332"
      },
      "source": [
        "Y.unique() "
      ],
      "execution_count": null,
      "outputs": [
        {
          "output_type": "execute_result",
          "data": {
            "text/plain": [
              "array([0, 2, 1])"
            ]
          },
          "metadata": {
            "tags": []
          },
          "execution_count": 15
        }
      ]
    },
    {
      "cell_type": "code",
      "metadata": {
        "colab": {
          "base_uri": "https://localhost:8080/",
          "height": 295
        },
        "id": "NzoQgmq2N0da",
        "outputId": "692e323f-056d-43e2-88a0-b13e2c453e61"
      },
      "source": [
        "sns.countplot(df_new.overall_new)\n",
        "plt.xlabel('sentimental')\n",
        "plt.title('Number of review content')\n",
        "plt.show()"
      ],
      "execution_count": null,
      "outputs": [
        {
          "output_type": "display_data",
          "data": {
            "image/png": "[encoded data removed]",
            "text/plain": [
              "<Figure size 432x288 with 1 Axes>"
            ]
          },
          "metadata": {
            "tags": [],
            "needs_background": "light"
          }
        }
      ]
    },
    {
      "cell_type": "markdown",
      "metadata": {
        "id": "lsy8O6KNdcnD"
      },
      "source": [
        "The like sentiment (4 and 5 stars - class 0) is 3 times more than the others (neutral and dislike).\n",
        "--> Customers were satisfied with the products."
      ]
    },
    {
      "cell_type": "code",
      "metadata": {
        "id": "bx3CHD_Xzlyk"
      },
      "source": [
        "#encoder = LabelEncoder()\n",
        "#encoder.fit(Y)\n",
        "#Y = encoder.transform(Y)"
      ],
      "execution_count": null,
      "outputs": []
    },
    {
      "cell_type": "code",
      "metadata": {
        "colab": {
          "base_uri": "https://localhost:8080/"
        },
        "id": "yR6HynuR1jp2",
        "outputId": "5edf6c6e-4ef2-4e32-a03d-1791063b6931"
      },
      "source": [
        "Y[:5]"
      ],
      "execution_count": null,
      "outputs": [
        {
          "output_type": "execute_result",
          "data": {
            "text/plain": [
              "0    0\n",
              "1    0\n",
              "2    0\n",
              "3    0\n",
              "4    0\n",
              "Name: overall_new, dtype: int64"
            ]
          },
          "metadata": {
            "tags": []
          },
          "execution_count": 18
        }
      ]
    },
    {
      "cell_type": "code",
      "metadata": {
        "colab": {
          "base_uri": "https://localhost:8080/"
        },
        "id": "zZNKolWe1xQu",
        "outputId": "f2e868f8-11f4-4ada-c45a-c781fff7fff8"
      },
      "source": [
        "from keras.utils import to_categorical\n",
        "Y = to_categorical(Y)\n",
        "Y[:5]"
      ],
      "execution_count": null,
      "outputs": [
        {
          "output_type": "execute_result",
          "data": {
            "text/plain": [
              "array([[1., 0., 0.],\n",
              "       [1., 0., 0.],\n",
              "       [1., 0., 0.],\n",
              "       [1., 0., 0.],\n",
              "       [1., 0., 0.]], dtype=float32)"
            ]
          },
          "metadata": {
            "tags": []
          },
          "execution_count": 19
        }
      ]
    },
    {
      "cell_type": "code",
      "metadata": {
        "id": "01aBdAOdMn2J"
      },
      "source": [
        "from sklearn.model_selection import train_test_split\n",
        "X_train, X_test, Y_train, Y_test = train_test_split(X,Y,test_size=0.3)"
      ],
      "execution_count": null,
      "outputs": []
    },
    {
      "cell_type": "markdown",
      "metadata": {
        "id": "yodYdeJhowqH"
      },
      "source": [
        "Process the data"
      ]
    },
    {
      "cell_type": "code",
      "metadata": {
        "id": "e75P36yBm7F_"
      },
      "source": [
        "max_words = 1000\n",
        "max_len = 150\n",
        "tok = Tokenizer(num_words=max_words)\n",
        "tok.fit_on_texts(X_train)\n",
        "sequences = tok.texts_to_sequences(X_train)\n",
        "sequences_matrix = sequence.pad_sequences(sequences, maxlen=max_len)"
      ],
      "execution_count": null,
      "outputs": []
    },
    {
      "cell_type": "code",
      "metadata": {
        "colab": {
          "base_uri": "https://localhost:8080/"
        },
        "id": "uRx23xA7NS-P",
        "outputId": "89040f98-3f90-4ef7-af75-06184d00535c"
      },
      "source": [
        "print(sequences[:2])\n",
        "print(sequences_matrix[:2])"
      ],
      "execution_count": null,
      "outputs": [
        {
          "output_type": "stream",
          "text": [
            "[[2, 19, 445, 15, 36, 356, 5, 215, 85, 16, 224, 784, 3, 334, 33, 18, 12, 464, 114, 174, 259, 26, 37], [2, 25, 15, 2, 77, 4, 348, 29, 247, 28, 163, 9, 1, 238, 56, 288, 2, 197, 52, 128, 305, 187, 4, 29, 273, 206, 130, 205, 4, 284, 2, 226, 331, 32, 15, 13, 30, 192, 4, 59, 381, 8, 85, 725, 15, 46, 122, 48, 107, 13, 102, 448, 23, 40, 1, 50, 14, 136, 445, 813, 12, 101, 138, 28, 204, 50, 62, 218, 12, 34, 28, 12, 593, 17, 14, 23, 40, 90, 246, 7, 1, 308, 9, 16, 14, 4, 59, 47, 55, 331, 28, 42, 13, 67, 4, 99, 32, 47, 490, 15, 13, 14, 24, 40, 2, 81, 28, 1, 175, 547, 5, 12, 465, 13, 3, 14, 43, 210, 5, 258, 30, 24, 392, 64, 1, 593, 84, 3, 13, 14, 20, 229, 2, 516, 2, 150, 5, 125, 372, 88, 677, 2, 235, 230, 5, 19, 10, 267, 2, 200, 218, 601, 462, 243, 8, 243, 15, 14, 13, 194, 116, 22, 50, 148, 85, 4, 23, 17, 180, 71, 983, 446, 294, 18, 50, 218, 340, 8, 446, 101]]\n",
            "[[  0   0   0   0   0   0   0   0   0   0   0   0   0   0   0   0   0   0\n",
            "    0   0   0   0   0   0   0   0   0   0   0   0   0   0   0   0   0   0\n",
            "    0   0   0   0   0   0   0   0   0   0   0   0   0   0   0   0   0   0\n",
            "    0   0   0   0   0   0   0   0   0   0   0   0   0   0   0   0   0   0\n",
            "    0   0   0   0   0   0   0   0   0   0   0   0   0   0   0   0   0   0\n",
            "    0   0   0   0   0   0   0   0   0   0   0   0   0   0   0   0   0   0\n",
            "    0   0   0   0   0   0   0   0   0   0   0   0   0   0   0   0   0   0\n",
            "    0   2  19 445  15  36 356   5 215  85  16 224 784   3 334  33  18  12\n",
            "  464 114 174 259  26  37]\n",
            " [  2 226 331  32  15  13  30 192   4  59 381   8  85 725  15  46 122  48\n",
            "  107  13 102 448  23  40   1  50  14 136 445 813  12 101 138  28 204  50\n",
            "   62 218  12  34  28  12 593  17  14  23  40  90 246   7   1 308   9  16\n",
            "   14   4  59  47  55 331  28  42  13  67   4  99  32  47 490  15  13  14\n",
            "   24  40   2  81  28   1 175 547   5  12 465  13   3  14  43 210   5 258\n",
            "   30  24 392  64   1 593  84   3  13  14  20 229   2 516   2 150   5 125\n",
            "  372  88 677   2 235 230   5  19  10 267   2 200 218 601 462 243   8 243\n",
            "   15  14  13 194 116  22  50 148  85   4  23  17 180  71 983 446 294  18\n",
            "   50 218 340   8 446 101]]\n"
          ],
          "name": "stdout"
        }
      ]
    },
    {
      "cell_type": "code",
      "metadata": {
        "id": "EqGA4jmWN81j"
      },
      "source": [
        "def RNN():\n",
        "  inputs = Input(name='inputs', shape=[max_len])\n",
        "  layer = Embedding(max_words,50,input_length=max_len)(inputs)\n",
        "  layer = LSTM(64)(layer)\n",
        "  layer = Dense(256,name='FC1')(layer)\n",
        "  layer = Activation('relu')(layer)\n",
        "  layer = Dropout(0.5)(layer)\n",
        "  layer = Dense(3,name='out_layer')(layer)\n",
        "  layer = Activation('softmax')(layer)\n",
        "  model = Model(inputs=inputs, outputs=layer)\n",
        "  return model"
      ],
      "execution_count": null,
      "outputs": []
    },
    {
      "cell_type": "code",
      "metadata": {
        "colab": {
          "base_uri": "https://localhost:8080/"
        },
        "id": "oz8Lvmr3SEa-",
        "outputId": "f7d32a5b-896a-41a2-c939-ffc8d451837a"
      },
      "source": [
        "model = RNN()\n",
        "model.summary()\n",
        "model.compile(loss='binary_crossentropy', optimizer=RMSprop(),\n",
        "              metrics=['accuracy'])"
      ],
      "execution_count": null,
      "outputs": [
        {
          "output_type": "stream",
          "text": [
            "Model: \"functional_3\"\n",
            "_________________________________________________________________\n",
            "Layer (type)                 Output Shape              Param #   \n",
            "=================================================================\n",
            "inputs (InputLayer)          [(None, 150)]             0         \n",
            "_________________________________________________________________\n",
            "embedding_1 (Embedding)      (None, 150, 50)           50000     \n",
            "_________________________________________________________________\n",
            "lstm_1 (LSTM)                (None, 64)                29440     \n",
            "_________________________________________________________________\n",
            "FC1 (Dense)                  (None, 256)               16640     \n",
            "_________________________________________________________________\n",
            "activation_2 (Activation)    (None, 256)               0         \n",
            "_________________________________________________________________\n",
            "dropout_1 (Dropout)          (None, 256)               0         \n",
            "_________________________________________________________________\n",
            "out_layer (Dense)            (None, 3)                 771       \n",
            "_________________________________________________________________\n",
            "activation_3 (Activation)    (None, 3)                 0         \n",
            "=================================================================\n",
            "Total params: 96,851\n",
            "Trainable params: 96,851\n",
            "Non-trainable params: 0\n",
            "_________________________________________________________________\n"
          ],
          "name": "stdout"
        }
      ]
    },
    {
      "cell_type": "code",
      "metadata": {
        "colab": {
          "base_uri": "https://localhost:8080/"
        },
        "id": "rPjnZNfASJI9",
        "outputId": "b8ef9113-3cc8-4b6b-fdab-55871c7fcf55"
      },
      "source": [
        "model.fit(sequences_matrix, Y_train,\n",
        "          batch_size=128,\n",
        "          epochs=10,\n",
        "          validation_split=0.2,\n",
        "          callbacks = [EarlyStopping(monitor='val_loss', min_delta=0.0001)])"
      ],
      "execution_count": null,
      "outputs": [
        {
          "output_type": "stream",
          "text": [
            "Epoch 1/10\n",
            "1220/1220 [==============================] - 224s 184ms/step - loss: 0.2734 - accuracy: 0.8242 - val_loss: 0.2465 - val_accuracy: 0.8383\n",
            "Epoch 2/10\n",
            "1220/1220 [==============================] - 226s 185ms/step - loss: 0.2370 - accuracy: 0.8445 - val_loss: 0.2321 - val_accuracy: 0.8469\n",
            "Epoch 3/10\n",
            "1220/1220 [==============================] - 224s 184ms/step - loss: 0.2227 - accuracy: 0.8539 - val_loss: 0.2210 - val_accuracy: 0.8543\n",
            "Epoch 4/10\n",
            "1220/1220 [==============================] - 225s 184ms/step - loss: 0.2154 - accuracy: 0.8574 - val_loss: 0.2353 - val_accuracy: 0.8491\n"
          ],
          "name": "stdout"
        },
        {
          "output_type": "execute_result",
          "data": {
            "text/plain": [
              "<tensorflow.python.keras.callbacks.History at 0x7f3003320898>"
            ]
          },
          "metadata": {
            "tags": []
          },
          "execution_count": 28
        }
      ]
    },
    {
      "cell_type": "code",
      "metadata": {
        "id": "1mx3yAMuSeQh"
      },
      "source": [
        "test_sequences = tok.texts_to_sequences(X_test)\n",
        "test_sequences_matrix = sequence.pad_sequences(test_sequences, maxlen=max_len)"
      ],
      "execution_count": null,
      "outputs": []
    },
    {
      "cell_type": "code",
      "metadata": {
        "colab": {
          "base_uri": "https://localhost:8080/"
        },
        "id": "arpxvbGdVqwL",
        "outputId": "669bd2ae-66c7-46d0-93f9-ae4e69d0e465"
      },
      "source": [
        "accr = model.evaluate(test_sequences_matrix, Y_test)"
      ],
      "execution_count": null,
      "outputs": [
        {
          "output_type": "stream",
          "text": [
            "2613/2613 [==============================] - 49s 19ms/step - loss: 0.2405 - accuracy: 0.8447\n"
          ],
          "name": "stdout"
        }
      ]
    },
    {
      "cell_type": "code",
      "metadata": {
        "colab": {
          "base_uri": "https://localhost:8080/"
        },
        "id": "dl_vPrhEVwRD",
        "outputId": "c1fe3a46-2d07-4b98-dd58-acf19a3142aa"
      },
      "source": [
        "print('Test set\\n Loss: {:0.3f}\\n Accuracy: {:0.3f}'.format(accr[0], accr[1]))"
      ],
      "execution_count": null,
      "outputs": [
        {
          "output_type": "stream",
          "text": [
            "Test set\n",
            " Loss: 0.241\n",
            " Accuracy: 0.845\n"
          ],
          "name": "stdout"
        }
      ]
    }
  ]
}