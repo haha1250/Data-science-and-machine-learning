{
 "cells": [
  {
   "cell_type": "markdown",
   "metadata": {
    "id": "47v24UxrhNRb"
   },
   "source": [
    "## Đề thi giữa kỳ:\n",
    "# R PROGRAMMING LANGUAGE FOR DATA SCIENCE\n",
    "### Thời gian làm bài : từ khi nhận đề đến 23h00, Chủ Nhật ngày 09/05/2021 \n",
    "#### Đọc kỹ các thông tin dưới đây trước khi làm bài:\n",
    "- HV tạo một folder là LDS7_HoVaTen_Giua_ky (nằm trong folder LDS7_ONLINE_HoVaTen đã share trên Google Drive), lưu tất cả bài làm vào để GV chấm điểm.\n",
    "- Đến deadline, HV upload bài thi lên folder, HV không gửi bài thi sẽ không có điểm.\n",
    "- HV được sử dụng tài liệu.\n",
    "-\tHV sẽ bị trừ điểm nếu bài làm giống nhau.\n"
   ]
  },
  {
   "cell_type": "markdown",
   "metadata": {
    "id": "ypuaTTa8JJ_R"
   },
   "source": [
    "## Câu 1: ames_housing\n",
    "### Cho dữ liệu ames_housing.csv. Hãy thực hiện các yêu cầu được liệt kê bên dưới:"
   ]
  },
  {
   "cell_type": "markdown",
   "metadata": {
    "id": "yb442r32JJ_T"
   },
   "source": [
    "#### 1. Đọc dữ liệu, hiển thị thông tin chung của dữ liệu : head(), tail(), str(), summary() \n"
   ]
  },
  {
   "cell_type": "code",
   "execution_count": 1,
   "metadata": {
    "id": "jyq3UpzPMXp4"
   },
   "outputs": [
    {
     "name": "stderr",
     "output_type": "stream",
     "text": [
      "Warning message:\n",
      "\"package 'tidyverse' was built under R version 3.6.3\"\n",
      "-- \u001b[1mAttaching packages\u001b[22m ------------------------------------------------------------------------------- tidyverse 1.3.1 --\n",
      "\n",
      "\u001b[32mv\u001b[39m \u001b[34mggplot2\u001b[39m 3.3.3     \u001b[32mv\u001b[39m \u001b[34mpurrr  \u001b[39m 0.3.3\n",
      "\u001b[32mv\u001b[39m \u001b[34mtibble \u001b[39m 3.1.1     \u001b[32mv\u001b[39m \u001b[34mdplyr  \u001b[39m 1.0.5\n",
      "\u001b[32mv\u001b[39m \u001b[34mtidyr  \u001b[39m 1.1.3     \u001b[32mv\u001b[39m \u001b[34mstringr\u001b[39m 1.4.0\n",
      "\u001b[32mv\u001b[39m \u001b[34mreadr  \u001b[39m 1.4.0     \u001b[32mv\u001b[39m \u001b[34mforcats\u001b[39m 0.5.1\n",
      "\n",
      "Warning message:\n",
      "\"package 'ggplot2' was built under R version 3.6.3\"\n",
      "Warning message:\n",
      "\"package 'tibble' was built under R version 3.6.3\"\n",
      "Warning message:\n",
      "\"package 'tidyr' was built under R version 3.6.3\"\n",
      "Warning message:\n",
      "\"package 'readr' was built under R version 3.6.3\"\n",
      "Warning message:\n",
      "\"package 'dplyr' was built under R version 3.6.3\"\n",
      "Warning message:\n",
      "\"package 'stringr' was built under R version 3.6.3\"\n",
      "Warning message:\n",
      "\"package 'forcats' was built under R version 3.6.3\"\n",
      "-- \u001b[1mConflicts\u001b[22m ---------------------------------------------------------------------------------- tidyverse_conflicts() --\n",
      "\u001b[31mx\u001b[39m \u001b[34mdplyr\u001b[39m::\u001b[32mfilter()\u001b[39m masks \u001b[34mstats\u001b[39m::filter()\n",
      "\u001b[31mx\u001b[39m \u001b[34mdplyr\u001b[39m::\u001b[32mlag()\u001b[39m    masks \u001b[34mstats\u001b[39m::lag()\n",
      "\n"
     ]
    }
   ],
   "source": [
    "library(tidyverse)"
   ]
  },
  {
   "cell_type": "code",
   "execution_count": 2,
   "metadata": {},
   "outputs": [
    {
     "data": {
      "text/html": [
       "<table class=\"dataframe\">\n",
       "<caption>A data.frame: 6 × 81</caption>\n",
       "<thead>\n",
       "\t<tr><th></th><th scope=col>Id</th><th scope=col>PID</th><th scope=col>MS.SubClass</th><th scope=col>MS.Zoning</th><th scope=col>Lot.Frontage</th><th scope=col>Lot.Area</th><th scope=col>Street</th><th scope=col>Alley</th><th scope=col>Lot.Shape</th><th scope=col>Land.Contour</th><th scope=col>...</th><th scope=col>Screen.Porch</th><th scope=col>Pool.Area</th><th scope=col>Pool.QC</th><th scope=col>Fence</th><th scope=col>Misc.Feature</th><th scope=col>Misc.Val</th><th scope=col>Mo.Sold</th><th scope=col>Yr.Sold</th><th scope=col>Sale.Type</th><th scope=col>SalePrice</th></tr>\n",
       "\t<tr><th></th><th scope=col>&lt;int&gt;</th><th scope=col>&lt;int&gt;</th><th scope=col>&lt;int&gt;</th><th scope=col>&lt;fct&gt;</th><th scope=col>&lt;dbl&gt;</th><th scope=col>&lt;int&gt;</th><th scope=col>&lt;fct&gt;</th><th scope=col>&lt;fct&gt;</th><th scope=col>&lt;fct&gt;</th><th scope=col>&lt;fct&gt;</th><th scope=col>...</th><th scope=col>&lt;int&gt;</th><th scope=col>&lt;int&gt;</th><th scope=col>&lt;fct&gt;</th><th scope=col>&lt;fct&gt;</th><th scope=col>&lt;fct&gt;</th><th scope=col>&lt;int&gt;</th><th scope=col>&lt;int&gt;</th><th scope=col>&lt;int&gt;</th><th scope=col>&lt;fct&gt;</th><th scope=col>&lt;int&gt;</th></tr>\n",
       "</thead>\n",
       "<tbody>\n",
       "\t<tr><th scope=row>1</th><td>109</td><td>533352170</td><td>60</td><td>RL</td><td> NA</td><td>13517</td><td>Pave</td><td></td><td>IR1</td><td>Lvl</td><td>...</td><td>0</td><td>0</td><td></td><td></td><td></td><td>0</td><td>3</td><td>2010</td><td>WD </td><td>130500</td></tr>\n",
       "\t<tr><th scope=row>2</th><td>544</td><td>531379050</td><td>60</td><td>RL</td><td> 43</td><td>11492</td><td>Pave</td><td></td><td>IR1</td><td>Lvl</td><td>...</td><td>0</td><td>0</td><td></td><td></td><td></td><td>0</td><td>4</td><td>2009</td><td>WD </td><td>220000</td></tr>\n",
       "\t<tr><th scope=row>3</th><td>153</td><td>535304180</td><td>20</td><td>RL</td><td> 68</td><td> 7922</td><td>Pave</td><td></td><td>Reg</td><td>Lvl</td><td>...</td><td>0</td><td>0</td><td></td><td></td><td></td><td>0</td><td>1</td><td>2010</td><td>WD </td><td>109000</td></tr>\n",
       "\t<tr><th scope=row>4</th><td>318</td><td>916386060</td><td>60</td><td>RL</td><td> 73</td><td> 9802</td><td>Pave</td><td></td><td>Reg</td><td>Lvl</td><td>...</td><td>0</td><td>0</td><td></td><td></td><td></td><td>0</td><td>4</td><td>2010</td><td>WD </td><td>174000</td></tr>\n",
       "\t<tr><th scope=row>5</th><td>255</td><td>906425045</td><td>50</td><td>RL</td><td> 82</td><td>14235</td><td>Pave</td><td></td><td>IR1</td><td>Lvl</td><td>...</td><td>0</td><td>0</td><td></td><td></td><td></td><td>0</td><td>3</td><td>2010</td><td>WD </td><td>138500</td></tr>\n",
       "\t<tr><th scope=row>6</th><td>138</td><td>535126040</td><td>20</td><td>RL</td><td>137</td><td>16492</td><td>Pave</td><td></td><td>IR1</td><td>Lvl</td><td>...</td><td>0</td><td>0</td><td></td><td></td><td></td><td>0</td><td>6</td><td>2010</td><td>WD </td><td>190000</td></tr>\n",
       "</tbody>\n",
       "</table>\n"
      ],
      "text/latex": [
       "A data.frame: 6 × 81\n",
       "\\begin{tabular}{r|lllllllllllllllllllll}\n",
       "  & Id & PID & MS.SubClass & MS.Zoning & Lot.Frontage & Lot.Area & Street & Alley & Lot.Shape & Land.Contour & ... & Screen.Porch & Pool.Area & Pool.QC & Fence & Misc.Feature & Misc.Val & Mo.Sold & Yr.Sold & Sale.Type & SalePrice\\\\\n",
       "  & <int> & <int> & <int> & <fct> & <dbl> & <int> & <fct> & <fct> & <fct> & <fct> & ... & <int> & <int> & <fct> & <fct> & <fct> & <int> & <int> & <int> & <fct> & <int>\\\\\n",
       "\\hline\n",
       "\t1 & 109 & 533352170 & 60 & RL &  NA & 13517 & Pave &  & IR1 & Lvl & ... & 0 & 0 &  &  &  & 0 & 3 & 2010 & WD  & 130500\\\\\n",
       "\t2 & 544 & 531379050 & 60 & RL &  43 & 11492 & Pave &  & IR1 & Lvl & ... & 0 & 0 &  &  &  & 0 & 4 & 2009 & WD  & 220000\\\\\n",
       "\t3 & 153 & 535304180 & 20 & RL &  68 &  7922 & Pave &  & Reg & Lvl & ... & 0 & 0 &  &  &  & 0 & 1 & 2010 & WD  & 109000\\\\\n",
       "\t4 & 318 & 916386060 & 60 & RL &  73 &  9802 & Pave &  & Reg & Lvl & ... & 0 & 0 &  &  &  & 0 & 4 & 2010 & WD  & 174000\\\\\n",
       "\t5 & 255 & 906425045 & 50 & RL &  82 & 14235 & Pave &  & IR1 & Lvl & ... & 0 & 0 &  &  &  & 0 & 3 & 2010 & WD  & 138500\\\\\n",
       "\t6 & 138 & 535126040 & 20 & RL & 137 & 16492 & Pave &  & IR1 & Lvl & ... & 0 & 0 &  &  &  & 0 & 6 & 2010 & WD  & 190000\\\\\n",
       "\\end{tabular}\n"
      ],
      "text/markdown": [
       "\n",
       "A data.frame: 6 × 81\n",
       "\n",
       "| <!--/--> | Id &lt;int&gt; | PID &lt;int&gt; | MS.SubClass &lt;int&gt; | MS.Zoning &lt;fct&gt; | Lot.Frontage &lt;dbl&gt; | Lot.Area &lt;int&gt; | Street &lt;fct&gt; | Alley &lt;fct&gt; | Lot.Shape &lt;fct&gt; | Land.Contour &lt;fct&gt; | ... ... | Screen.Porch &lt;int&gt; | Pool.Area &lt;int&gt; | Pool.QC &lt;fct&gt; | Fence &lt;fct&gt; | Misc.Feature &lt;fct&gt; | Misc.Val &lt;int&gt; | Mo.Sold &lt;int&gt; | Yr.Sold &lt;int&gt; | Sale.Type &lt;fct&gt; | SalePrice &lt;int&gt; |\n",
       "|---|---|---|---|---|---|---|---|---|---|---|---|---|---|---|---|---|---|---|---|---|---|\n",
       "| 1 | 109 | 533352170 | 60 | RL |  NA | 13517 | Pave | <!----> | IR1 | Lvl | ... | 0 | 0 | <!----> | <!----> | <!----> | 0 | 3 | 2010 | WD  | 130500 |\n",
       "| 2 | 544 | 531379050 | 60 | RL |  43 | 11492 | Pave | <!----> | IR1 | Lvl | ... | 0 | 0 | <!----> | <!----> | <!----> | 0 | 4 | 2009 | WD  | 220000 |\n",
       "| 3 | 153 | 535304180 | 20 | RL |  68 |  7922 | Pave | <!----> | Reg | Lvl | ... | 0 | 0 | <!----> | <!----> | <!----> | 0 | 1 | 2010 | WD  | 109000 |\n",
       "| 4 | 318 | 916386060 | 60 | RL |  73 |  9802 | Pave | <!----> | Reg | Lvl | ... | 0 | 0 | <!----> | <!----> | <!----> | 0 | 4 | 2010 | WD  | 174000 |\n",
       "| 5 | 255 | 906425045 | 50 | RL |  82 | 14235 | Pave | <!----> | IR1 | Lvl | ... | 0 | 0 | <!----> | <!----> | <!----> | 0 | 3 | 2010 | WD  | 138500 |\n",
       "| 6 | 138 | 535126040 | 20 | RL | 137 | 16492 | Pave | <!----> | IR1 | Lvl | ... | 0 | 0 | <!----> | <!----> | <!----> | 0 | 6 | 2010 | WD  | 190000 |\n",
       "\n"
      ],
      "text/plain": [
       "  Id  PID       MS.SubClass MS.Zoning Lot.Frontage Lot.Area Street Alley\n",
       "1 109 533352170 60          RL         NA          13517    Pave        \n",
       "2 544 531379050 60          RL         43          11492    Pave        \n",
       "3 153 535304180 20          RL         68           7922    Pave        \n",
       "4 318 916386060 60          RL         73           9802    Pave        \n",
       "5 255 906425045 50          RL         82          14235    Pave        \n",
       "6 138 535126040 20          RL        137          16492    Pave        \n",
       "  Lot.Shape Land.Contour ... Screen.Porch Pool.Area Pool.QC Fence Misc.Feature\n",
       "1 IR1       Lvl          ... 0            0                                   \n",
       "2 IR1       Lvl          ... 0            0                                   \n",
       "3 Reg       Lvl          ... 0            0                                   \n",
       "4 Reg       Lvl          ... 0            0                                   \n",
       "5 IR1       Lvl          ... 0            0                                   \n",
       "6 IR1       Lvl          ... 0            0                                   \n",
       "  Misc.Val Mo.Sold Yr.Sold Sale.Type SalePrice\n",
       "1 0        3       2010    WD        130500   \n",
       "2 0        4       2009    WD        220000   \n",
       "3 0        1       2010    WD        109000   \n",
       "4 0        4       2010    WD        174000   \n",
       "5 0        3       2010    WD        138500   \n",
       "6 0        6       2010    WD        190000   "
      ]
     },
     "metadata": {},
     "output_type": "display_data"
    }
   ],
   "source": [
    "data <- read.csv(\"ames_housing.csv\")\n",
    "head(data)"
   ]
  },
  {
   "cell_type": "code",
   "execution_count": 3,
   "metadata": {},
   "outputs": [
    {
     "data": {
      "text/html": [
       "<table class=\"dataframe\">\n",
       "<caption>A data.frame: 6 × 81</caption>\n",
       "<thead>\n",
       "\t<tr><th></th><th scope=col>Id</th><th scope=col>PID</th><th scope=col>MS.SubClass</th><th scope=col>MS.Zoning</th><th scope=col>Lot.Frontage</th><th scope=col>Lot.Area</th><th scope=col>Street</th><th scope=col>Alley</th><th scope=col>Lot.Shape</th><th scope=col>Land.Contour</th><th scope=col>...</th><th scope=col>Screen.Porch</th><th scope=col>Pool.Area</th><th scope=col>Pool.QC</th><th scope=col>Fence</th><th scope=col>Misc.Feature</th><th scope=col>Misc.Val</th><th scope=col>Mo.Sold</th><th scope=col>Yr.Sold</th><th scope=col>Sale.Type</th><th scope=col>SalePrice</th></tr>\n",
       "\t<tr><th></th><th scope=col>&lt;int&gt;</th><th scope=col>&lt;int&gt;</th><th scope=col>&lt;int&gt;</th><th scope=col>&lt;fct&gt;</th><th scope=col>&lt;dbl&gt;</th><th scope=col>&lt;int&gt;</th><th scope=col>&lt;fct&gt;</th><th scope=col>&lt;fct&gt;</th><th scope=col>&lt;fct&gt;</th><th scope=col>&lt;fct&gt;</th><th scope=col>...</th><th scope=col>&lt;int&gt;</th><th scope=col>&lt;int&gt;</th><th scope=col>&lt;fct&gt;</th><th scope=col>&lt;fct&gt;</th><th scope=col>&lt;fct&gt;</th><th scope=col>&lt;int&gt;</th><th scope=col>&lt;int&gt;</th><th scope=col>&lt;int&gt;</th><th scope=col>&lt;fct&gt;</th><th scope=col>&lt;int&gt;</th></tr>\n",
       "</thead>\n",
       "<tbody>\n",
       "\t<tr><th scope=row>2046</th><td>1051</td><td>528102030</td><td>20</td><td>RL</td><td>96</td><td>12444</td><td>Pave</td><td></td><td>Reg</td><td>Lvl</td><td>...</td><td>0</td><td>0</td><td></td><td></td><td></td><td>0</td><td>11</td><td>2008</td><td>New</td><td>394617</td></tr>\n",
       "\t<tr><th scope=row>2047</th><td>1587</td><td>921126030</td><td>20</td><td>RL</td><td>79</td><td>11449</td><td>Pave</td><td></td><td>IR1</td><td>HLS</td><td>...</td><td>0</td><td>0</td><td></td><td></td><td></td><td>0</td><td> 1</td><td>2008</td><td>WD </td><td>298751</td></tr>\n",
       "\t<tr><th scope=row>2048</th><td> 785</td><td>905377130</td><td>30</td><td>RL</td><td>NA</td><td>12342</td><td>Pave</td><td></td><td>IR1</td><td>Lvl</td><td>...</td><td>0</td><td>0</td><td></td><td></td><td></td><td>0</td><td> 3</td><td>2009</td><td>WD </td><td> 82500</td></tr>\n",
       "\t<tr><th scope=row>2049</th><td> 916</td><td>909253010</td><td>50</td><td>RL</td><td>57</td><td> 7558</td><td>Pave</td><td></td><td>Reg</td><td>Bnk</td><td>...</td><td>0</td><td>0</td><td></td><td></td><td></td><td>0</td><td> 3</td><td>2009</td><td>WD </td><td>177000</td></tr>\n",
       "\t<tr><th scope=row>2050</th><td> 639</td><td>535179160</td><td>20</td><td>RL</td><td>80</td><td>10400</td><td>Pave</td><td></td><td>Reg</td><td>Lvl</td><td>...</td><td>0</td><td>0</td><td></td><td></td><td></td><td>0</td><td>11</td><td>2009</td><td>WD </td><td>144000</td></tr>\n",
       "\t<tr><th scope=row>2051</th><td>  10</td><td>527162130</td><td>60</td><td>RL</td><td>60</td><td> 7500</td><td>Pave</td><td></td><td>Reg</td><td>Lvl</td><td>...</td><td>0</td><td>0</td><td></td><td></td><td></td><td>0</td><td> 6</td><td>2010</td><td>WD </td><td>189000</td></tr>\n",
       "</tbody>\n",
       "</table>\n"
      ],
      "text/latex": [
       "A data.frame: 6 × 81\n",
       "\\begin{tabular}{r|lllllllllllllllllllll}\n",
       "  & Id & PID & MS.SubClass & MS.Zoning & Lot.Frontage & Lot.Area & Street & Alley & Lot.Shape & Land.Contour & ... & Screen.Porch & Pool.Area & Pool.QC & Fence & Misc.Feature & Misc.Val & Mo.Sold & Yr.Sold & Sale.Type & SalePrice\\\\\n",
       "  & <int> & <int> & <int> & <fct> & <dbl> & <int> & <fct> & <fct> & <fct> & <fct> & ... & <int> & <int> & <fct> & <fct> & <fct> & <int> & <int> & <int> & <fct> & <int>\\\\\n",
       "\\hline\n",
       "\t2046 & 1051 & 528102030 & 20 & RL & 96 & 12444 & Pave &  & Reg & Lvl & ... & 0 & 0 &  &  &  & 0 & 11 & 2008 & New & 394617\\\\\n",
       "\t2047 & 1587 & 921126030 & 20 & RL & 79 & 11449 & Pave &  & IR1 & HLS & ... & 0 & 0 &  &  &  & 0 &  1 & 2008 & WD  & 298751\\\\\n",
       "\t2048 &  785 & 905377130 & 30 & RL & NA & 12342 & Pave &  & IR1 & Lvl & ... & 0 & 0 &  &  &  & 0 &  3 & 2009 & WD  &  82500\\\\\n",
       "\t2049 &  916 & 909253010 & 50 & RL & 57 &  7558 & Pave &  & Reg & Bnk & ... & 0 & 0 &  &  &  & 0 &  3 & 2009 & WD  & 177000\\\\\n",
       "\t2050 &  639 & 535179160 & 20 & RL & 80 & 10400 & Pave &  & Reg & Lvl & ... & 0 & 0 &  &  &  & 0 & 11 & 2009 & WD  & 144000\\\\\n",
       "\t2051 &   10 & 527162130 & 60 & RL & 60 &  7500 & Pave &  & Reg & Lvl & ... & 0 & 0 &  &  &  & 0 &  6 & 2010 & WD  & 189000\\\\\n",
       "\\end{tabular}\n"
      ],
      "text/markdown": [
       "\n",
       "A data.frame: 6 × 81\n",
       "\n",
       "| <!--/--> | Id &lt;int&gt; | PID &lt;int&gt; | MS.SubClass &lt;int&gt; | MS.Zoning &lt;fct&gt; | Lot.Frontage &lt;dbl&gt; | Lot.Area &lt;int&gt; | Street &lt;fct&gt; | Alley &lt;fct&gt; | Lot.Shape &lt;fct&gt; | Land.Contour &lt;fct&gt; | ... ... | Screen.Porch &lt;int&gt; | Pool.Area &lt;int&gt; | Pool.QC &lt;fct&gt; | Fence &lt;fct&gt; | Misc.Feature &lt;fct&gt; | Misc.Val &lt;int&gt; | Mo.Sold &lt;int&gt; | Yr.Sold &lt;int&gt; | Sale.Type &lt;fct&gt; | SalePrice &lt;int&gt; |\n",
       "|---|---|---|---|---|---|---|---|---|---|---|---|---|---|---|---|---|---|---|---|---|---|\n",
       "| 2046 | 1051 | 528102030 | 20 | RL | 96 | 12444 | Pave | <!----> | Reg | Lvl | ... | 0 | 0 | <!----> | <!----> | <!----> | 0 | 11 | 2008 | New | 394617 |\n",
       "| 2047 | 1587 | 921126030 | 20 | RL | 79 | 11449 | Pave | <!----> | IR1 | HLS | ... | 0 | 0 | <!----> | <!----> | <!----> | 0 |  1 | 2008 | WD  | 298751 |\n",
       "| 2048 |  785 | 905377130 | 30 | RL | NA | 12342 | Pave | <!----> | IR1 | Lvl | ... | 0 | 0 | <!----> | <!----> | <!----> | 0 |  3 | 2009 | WD  |  82500 |\n",
       "| 2049 |  916 | 909253010 | 50 | RL | 57 |  7558 | Pave | <!----> | Reg | Bnk | ... | 0 | 0 | <!----> | <!----> | <!----> | 0 |  3 | 2009 | WD  | 177000 |\n",
       "| 2050 |  639 | 535179160 | 20 | RL | 80 | 10400 | Pave | <!----> | Reg | Lvl | ... | 0 | 0 | <!----> | <!----> | <!----> | 0 | 11 | 2009 | WD  | 144000 |\n",
       "| 2051 |   10 | 527162130 | 60 | RL | 60 |  7500 | Pave | <!----> | Reg | Lvl | ... | 0 | 0 | <!----> | <!----> | <!----> | 0 |  6 | 2010 | WD  | 189000 |\n",
       "\n"
      ],
      "text/plain": [
       "     Id   PID       MS.SubClass MS.Zoning Lot.Frontage Lot.Area Street Alley\n",
       "2046 1051 528102030 20          RL        96           12444    Pave        \n",
       "2047 1587 921126030 20          RL        79           11449    Pave        \n",
       "2048  785 905377130 30          RL        NA           12342    Pave        \n",
       "2049  916 909253010 50          RL        57            7558    Pave        \n",
       "2050  639 535179160 20          RL        80           10400    Pave        \n",
       "2051   10 527162130 60          RL        60            7500    Pave        \n",
       "     Lot.Shape Land.Contour ... Screen.Porch Pool.Area Pool.QC Fence\n",
       "2046 Reg       Lvl          ... 0            0                      \n",
       "2047 IR1       HLS          ... 0            0                      \n",
       "2048 IR1       Lvl          ... 0            0                      \n",
       "2049 Reg       Bnk          ... 0            0                      \n",
       "2050 Reg       Lvl          ... 0            0                      \n",
       "2051 Reg       Lvl          ... 0            0                      \n",
       "     Misc.Feature Misc.Val Mo.Sold Yr.Sold Sale.Type SalePrice\n",
       "2046              0        11      2008    New       394617   \n",
       "2047              0         1      2008    WD        298751   \n",
       "2048              0         3      2009    WD         82500   \n",
       "2049              0         3      2009    WD        177000   \n",
       "2050              0        11      2009    WD        144000   \n",
       "2051              0         6      2010    WD        189000   "
      ]
     },
     "metadata": {},
     "output_type": "display_data"
    }
   ],
   "source": [
    "tail(data)"
   ]
  },
  {
   "cell_type": "code",
   "execution_count": 4,
   "metadata": {},
   "outputs": [
    {
     "name": "stdout",
     "output_type": "stream",
     "text": [
      "'data.frame':\t2051 obs. of  81 variables:\n",
      " $ Id             : int  109 544 153 318 255 138 2827 145 1942 1956 ...\n",
      " $ PID            : int  533352170 531379050 535304180 916386060 906425045 535126040 908186070 535154050 535353130 535426130 ...\n",
      " $ MS.SubClass    : int  60 60 20 60 50 20 180 20 20 60 ...\n",
      " $ MS.Zoning      : Factor w/ 7 levels \"A (agr)\",\"C (all)\",..: 6 6 6 6 6 6 7 6 6 6 ...\n",
      " $ Lot.Frontage   : num  NA 43 68 73 82 137 35 NA NA 70 ...\n",
      " $ Lot.Area       : int  13517 11492 7922 9802 14235 16492 3675 12160 15783 11606 ...\n",
      " $ Street         : Factor w/ 2 levels \"Grvl\",\"Pave\": 2 2 2 2 2 2 2 2 2 2 ...\n",
      " $ Alley          : Factor w/ 3 levels \"\",\"Grvl\",\"Pave\": 1 1 1 1 1 1 1 1 1 1 ...\n",
      " $ Lot.Shape      : Factor w/ 4 levels \"IR1\",\"IR2\",\"IR3\",..: 1 1 4 4 1 1 4 1 4 1 ...\n",
      " $ Land.Contour   : Factor w/ 4 levels \"Bnk\",\"HLS\",\"Low\",..: 4 4 4 4 4 4 4 4 4 2 ...\n",
      " $ Utilities      : Factor w/ 3 levels \"AllPub\",\"NoSeWa\",..: 1 1 1 1 1 1 1 1 1 1 ...\n",
      " $ Lot.Config     : Factor w/ 5 levels \"Corner\",\"CulDSac\",..: 2 2 5 5 5 1 5 5 5 5 ...\n",
      " $ Land.Slope     : Factor w/ 3 levels \"Gtl\",\"Mod\",\"Sev\": 1 1 1 1 1 1 1 1 1 3 ...\n",
      " $ Neighborhood   : Factor w/ 28 levels \"Blmngtn\",\"Blueste\",..: 22 23 16 27 23 16 8 16 21 16 ...\n",
      " $ Condition.1    : Factor w/ 9 levels \"Artery\",\"Feedr\",..: 6 3 3 3 3 4 3 3 1 3 ...\n",
      " $ Condition.2    : Factor w/ 8 levels \"Artery\",\"Feedr\",..: 3 3 3 3 3 3 3 3 3 3 ...\n",
      " $ Bldg.Type      : Factor w/ 5 levels \"1Fam\",\"2fmCon\",..: 1 1 1 1 1 1 5 1 1 1 ...\n",
      " $ House.Style    : Factor w/ 8 levels \"1.5Fin\",\"1.5Unf\",..: 6 6 3 6 1 3 7 3 3 6 ...\n",
      " $ Overall.Qual   : int  6 7 5 5 6 6 6 5 5 5 ...\n",
      " $ Overall.Cond   : int  8 5 7 5 8 6 5 5 5 5 ...\n",
      " $ Year.Built     : int  1976 1996 1953 2006 1900 1966 2005 1959 1952 1969 ...\n",
      " $ Year.Remod.Add : int  2005 1997 2007 2007 1993 2002 2006 1959 1952 1969 ...\n",
      " $ Roof.Style     : Factor w/ 6 levels \"Flat\",\"Gable\",..: 2 2 2 2 2 2 2 4 2 2 ...\n",
      " $ Roof.Matl      : Factor w/ 6 levels \"ClyTile\",\"CompShg\",..: 2 2 2 2 2 2 2 2 2 2 ...\n",
      " $ Exterior.1st   : Factor w/ 15 levels \"AsbShng\",\"AsphShn\",..: 7 13 13 13 14 4 13 10 14 10 ...\n",
      " $ Exterior.2nd   : Factor w/ 15 levels \"AsbShng\",\"AsphShn\",..: 10 13 13 13 10 10 13 10 14 10 ...\n",
      " $ Mas.Vnr.Type   : Factor w/ 5 levels \"\",\"BrkCmn\",\"BrkFace\",..: 3 3 4 4 4 4 3 3 4 3 ...\n",
      " $ Mas.Vnr.Area   : num  289 132 0 0 0 0 82 180 0 192 ...\n",
      " $ Exter.Qual     : Factor w/ 4 levels \"Ex\",\"Fa\",\"Gd\",..: 3 3 4 4 4 3 4 4 4 4 ...\n",
      " $ Exter.Cond     : Factor w/ 5 levels \"Ex\",\"Fa\",\"Gd\",..: 5 5 3 5 5 5 5 5 5 5 ...\n",
      " $ Foundation     : Factor w/ 6 levels \"BrkTil\",\"CBlock\",..: 2 3 2 3 3 2 3 2 2 3 ...\n",
      " $ Bsmt.Qual      : Factor w/ 6 levels \"\",\"Ex\",\"Fa\",\"Gd\",..: 6 4 6 4 3 6 4 6 6 4 ...\n",
      " $ Bsmt.Cond      : Factor w/ 6 levels \"\",\"Ex\",\"Fa\",\"Gd\",..: 6 6 6 6 4 6 6 6 6 6 ...\n",
      " $ Bsmt.Exposure  : Factor w/ 5 levels \"\",\"Av\",\"Gd\",\"Mn\",..: 5 5 5 5 5 5 3 5 5 2 ...\n",
      " $ BsmtFin.Type.1 : Factor w/ 7 levels \"\",\"ALQ\",\"BLQ\",..: 4 4 4 7 7 2 4 6 6 6 ...\n",
      " $ BsmtFin.SF.1   : num  533 637 731 0 0 247 547 1000 292 650 ...\n",
      " $ BsmtFin.Type.2 : Factor w/ 7 levels \"\",\"ALQ\",\"BLQ\",..: 7 7 7 7 7 6 7 7 7 7 ...\n",
      " $ BsmtFin.SF.2   : num  0 0 0 0 0 713 0 0 0 0 ...\n",
      " $ Bsmt.Unf.SF    : num  192 276 326 384 676 557 0 188 632 390 ...\n",
      " $ Total.Bsmt.SF  : num  725 913 1057 384 676 ...\n",
      " $ Heating        : Factor w/ 5 levels \"GasA\",\"GasW\",..: 1 1 1 1 1 1 1 1 1 1 ...\n",
      " $ Heating.QC     : Factor w/ 5 levels \"Ex\",\"Fa\",\"Gd\",..: 1 1 5 3 5 1 3 2 5 5 ...\n",
      " $ Central.Air    : Factor w/ 2 levels \"N\",\"Y\": 2 2 2 2 2 2 2 2 2 2 ...\n",
      " $ Electrical     : Factor w/ 5 levels \"FuseA\",\"FuseF\",..: 5 5 5 5 5 5 5 5 5 5 ...\n",
      " $ X1st.Flr.SF    : int  725 913 1057 744 831 1888 1072 1188 924 1040 ...\n",
      " $ X2nd.Flr.SF    : int  754 1209 0 700 614 0 0 0 0 1040 ...\n",
      " $ Low.Qual.Fin.SF: int  0 0 0 0 0 0 0 0 0 0 ...\n",
      " $ Gr.Liv.Area    : int  1479 2122 1057 1444 1445 1888 1072 1188 924 2080 ...\n",
      " $ Bsmt.Full.Bath : num  0 1 1 0 0 0 1 1 0 0 ...\n",
      " $ Bsmt.Half.Bath : num  0 0 0 0 0 0 0 0 0 1 ...\n",
      " $ Full.Bath      : int  2 2 1 2 2 2 2 1 1 1 ...\n",
      " $ Half.Bath      : int  1 1 0 1 0 1 0 0 0 2 ...\n",
      " $ Bedroom.AbvGr  : int  3 4 3 3 3 2 2 3 2 5 ...\n",
      " $ Kitchen.AbvGr  : int  1 1 1 1 1 1 1 1 1 1 ...\n",
      " $ Kitchen.Qual   : Factor w/ 4 levels \"Ex\",\"Fa\",\"Gd\",..: 3 3 3 4 4 3 4 4 4 2 ...\n",
      " $ TotRms.AbvGrd  : int  6 8 5 7 6 6 5 6 6 9 ...\n",
      " $ Functional     : Factor w/ 8 levels \"Maj1\",\"Maj2\",..: 8 8 8 8 8 5 8 8 8 8 ...\n",
      " $ Fireplaces     : int  0 1 0 0 0 1 0 0 0 2 ...\n",
      " $ Fireplace.Qu   : Factor w/ 6 levels \"\",\"Ex\",\"Fa\",\"Gd\",..: 1 6 1 1 1 4 1 1 1 6 ...\n",
      " $ Garage.Type    : Factor w/ 7 levels \"\",\"2Types\",\"Attchd\",..: 3 3 7 5 7 3 4 3 7 3 ...\n",
      " $ Garage.Yr.Blt  : num  1976 1997 1953 2007 1957 ...\n",
      " $ Garage.Finish  : Factor w/ 4 levels \"\",\"Fin\",\"RFn\",..: 3 3 4 2 4 2 2 3 4 4 ...\n",
      " $ Garage.Cars    : num  2 2 1 2 2 2 2 2 1 2 ...\n",
      " $ Garage.Area    : num  475 559 246 400 484 578 525 531 420 504 ...\n",
      " $ Garage.Qual    : Factor w/ 6 levels \"\",\"Ex\",\"Fa\",\"Gd\",..: 6 6 6 6 6 6 6 6 6 6 ...\n",
      " $ Garage.Cond    : Factor w/ 6 levels \"\",\"Ex\",\"Fa\",\"Gd\",..: 6 6 6 6 6 6 6 6 6 6 ...\n",
      " $ Paved.Drive    : Factor w/ 3 levels \"N\",\"P\",\"Y\": 3 3 3 3 1 3 3 3 3 3 ...\n",
      " $ Wood.Deck.SF   : int  0 0 0 100 0 0 0 0 0 335 ...\n",
      " $ Open.Porch.SF  : int  44 74 52 0 59 0 44 0 324 0 ...\n",
      " $ Enclosed.Porch : int  0 0 0 0 0 0 0 0 0 0 ...\n",
      " $ X3Ssn.Porch    : int  0 0 0 0 0 0 0 0 0 0 ...\n",
      " $ Screen.Porch   : int  0 0 0 0 0 0 0 0 0 0 ...\n",
      " $ Pool.Area      : int  0 0 0 0 0 0 0 0 0 0 ...\n",
      " $ Pool.QC        : Factor w/ 5 levels \"\",\"Ex\",\"Fa\",\"Gd\",..: 1 1 1 1 1 1 1 1 1 1 ...\n",
      " $ Fence          : Factor w/ 5 levels \"\",\"GdPrv\",\"GdWo\",..: 1 1 1 1 1 1 1 4 4 1 ...\n",
      " $ Misc.Feature   : Factor w/ 6 levels \"\",\"Elev\",\"Gar2\",..: 1 1 1 1 1 1 1 1 5 1 ...\n",
      " $ Misc.Val       : int  0 0 0 0 0 0 0 0 400 0 ...\n",
      " $ Mo.Sold        : int  3 4 1 4 3 6 6 5 6 9 ...\n",
      " $ Yr.Sold        : int  2010 2009 2010 2010 2010 2010 2006 2010 2007 2007 ...\n",
      " $ Sale.Type      : Factor w/ 9 levels \"COD\",\"Con\",\"ConLD\",..: 9 9 9 9 9 9 7 1 9 9 ...\n",
      " $ SalePrice      : int  130500 220000 109000 174000 138500 190000 140000 142000 112500 135000 ...\n"
     ]
    }
   ],
   "source": [
    "str(data)"
   ]
  },
  {
   "cell_type": "code",
   "execution_count": 5,
   "metadata": {},
   "outputs": [
    {
     "data": {
      "text/plain": [
       "       Id              PID             MS.SubClass       MS.Zoning   \n",
       " Min.   :   1.0   Min.   :526301100   Min.   : 20.00   A (agr):   2  \n",
       " 1st Qu.: 753.5   1st Qu.:528458140   1st Qu.: 20.00   C (all):  19  \n",
       " Median :1486.0   Median :535453200   Median : 50.00   FV     : 101  \n",
       " Mean   :1474.0   Mean   :713590006   Mean   : 57.01   I (all):   1  \n",
       " 3rd Qu.:2198.0   3rd Qu.:907180080   3rd Qu.: 70.00   RH     :  14  \n",
       " Max.   :2930.0   Max.   :924152030   Max.   :190.00   RL     :1598  \n",
       "                                                       RM     : 316  \n",
       "  Lot.Frontage       Lot.Area       Street      Alley      Lot.Shape \n",
       " Min.   : 21.00   Min.   :  1300   Grvl:   7       :1911   IR1: 692  \n",
       " 1st Qu.: 58.00   1st Qu.:  7500   Pave:2044   Grvl:  85   IR2:  55  \n",
       " Median : 68.00   Median :  9430               Pave:  55   IR3:   9  \n",
       " Mean   : 69.06   Mean   : 10065                           Reg:1295  \n",
       " 3rd Qu.: 80.00   3rd Qu.: 11514                                     \n",
       " Max.   :313.00   Max.   :159000                                     \n",
       " NA's   :330                                                         \n",
       " Land.Contour  Utilities      Lot.Config   Land.Slope  Neighborhood \n",
       " Bnk:  80     AllPub:2049   Corner : 348   Gtl:1953   NAmes  : 310  \n",
       " HLS:  85     NoSeWa:   1   CulDSac: 131   Mod:  88   CollgCr: 180  \n",
       " Low:  43     NoSewr:   1   FR2    :  60   Sev:  10   OldTown: 163  \n",
       " Lvl:1843                   FR3    :   9              Edwards: 143  \n",
       "                            Inside :1503              Somerst: 130  \n",
       "                                                      NridgHt: 122  \n",
       "                                                      (Other):1003  \n",
       "  Condition.1    Condition.2    Bldg.Type     House.Style    Overall.Qual   \n",
       " Norm   :1767   Norm   :2025   1Fam  :1700   1Story :1059   Min.   : 1.000  \n",
       " Feedr  : 109   Feedr  :  11   2fmCon:  46   2Story : 598   1st Qu.: 5.000  \n",
       " Artery :  70   Artery :   5   Duplex:  75   1.5Fin : 218   Median : 6.000  \n",
       " RRAn   :  36   PosA   :   3   Twnhs :  69   SLvl   :  94   Mean   : 6.112  \n",
       " PosN   :  27   PosN   :   3   TwnhsE: 161   SFoyer :  50   3rd Qu.: 7.000  \n",
       " RRAe   :  21   RRNn   :   2                 2.5Unf :  14   Max.   :10.000  \n",
       " (Other):  21   (Other):   2                 (Other):  18                   \n",
       "  Overall.Cond     Year.Built   Year.Remod.Add   Roof.Style     Roof.Matl   \n",
       " Min.   :1.000   Min.   :1872   Min.   :1950   Flat   :  13   ClyTile:   1  \n",
       " 1st Qu.:5.000   1st Qu.:1954   1st Qu.:1964   Gable  :1619   CompShg:2025  \n",
       " Median :5.000   Median :1974   Median :1993   Gambrel:  12   Membran:   1  \n",
       " Mean   :5.562   Mean   :1972   Mean   :1984   Hip    : 397   Tar&Grv:  15  \n",
       " 3rd Qu.:6.000   3rd Qu.:2001   3rd Qu.:2004   Mansard:   7   WdShake:   4  \n",
       " Max.   :9.000   Max.   :2010   Max.   :2010   Shed   :   3   WdShngl:   5  \n",
       "                                                                            \n",
       "  Exterior.1st  Exterior.2nd  Mas.Vnr.Type   Mas.Vnr.Area    Exter.Qual\n",
       " VinylSd:724   VinylSd:721          :  22   Min.   :   0.0   Ex:  81   \n",
       " MetalSd:331   MetalSd:324   BrkCmn :  13   1st Qu.:   0.0   Fa:  26   \n",
       " HdBoard:300   HdBoard:275   BrkFace: 630   Median :   0.0   Gd: 697   \n",
       " Wd Sdng:276   Wd Sdng:262   None   :1218   Mean   :  99.7   TA:1247   \n",
       " Plywood:152   Plywood:185   Stone  : 168   3rd Qu.: 161.0             \n",
       " CemntBd: 90   CmentBd: 90                  Max.   :1600.0             \n",
       " (Other):178   (Other):194                  NA's   :22                 \n",
       " Exter.Cond  Foundation  Bsmt.Qual Bsmt.Cond Bsmt.Exposure BsmtFin.Type.1\n",
       " Ex:   7    BrkTil:221     : 55      :  55     :  58          : 55       \n",
       " Fa:  49    CBlock:863   Ex:184    Ex:   3   Av: 288       ALQ:293       \n",
       " Gd: 215    PConc :926   Fa: 60    Fa:  65   Gd: 203       BLQ:200       \n",
       " Po:   2    Slab  : 34   Gd:864    Gd:  89   Mn: 163       GLQ:615       \n",
       " TA:1778    Stone :  5   Po:  1    Po:   5   No:1339       LwQ:102       \n",
       "            Wood  :  2   TA:887    TA:1834                 Rec:183       \n",
       "                                                           Unf:603       \n",
       "  BsmtFin.SF.1    BsmtFin.Type.2  BsmtFin.SF.2      Bsmt.Unf.SF    \n",
       " Min.   :   0.0      :  56       Min.   :   0.00   Min.   :   0.0  \n",
       " 1st Qu.:   0.0   ALQ:  35       1st Qu.:   0.00   1st Qu.: 220.0  \n",
       " Median : 368.0   BLQ:  48       Median :   0.00   Median : 474.5  \n",
       " Mean   : 442.3   GLQ:  23       Mean   :  47.96   Mean   : 567.7  \n",
       " 3rd Qu.: 733.8   LwQ:  60       3rd Qu.:   0.00   3rd Qu.: 811.0  \n",
       " Max.   :5644.0   Rec:  80       Max.   :1474.00   Max.   :2336.0  \n",
       " NA's   :1        Unf:1749       NA's   :1         NA's   :1       \n",
       " Total.Bsmt.SF    Heating     Heating.QC Central.Air Electrical  \n",
       " Min.   :   0.0   GasA:2018   Ex:1065    N: 141      FuseA: 140  \n",
       " 1st Qu.: 793.0   GasW:  20   Fa:  67    Y:1910      FuseF:  35  \n",
       " Median : 994.5   Grav:   5   Gd: 319                FuseP:   7  \n",
       " Mean   :1058.0   OthW:   2   Po:   3                Mix  :   1  \n",
       " 3rd Qu.:1318.8   Wall:   6   TA: 597                SBrkr:1868  \n",
       " Max.   :6110.0                                                  \n",
       " NA's   :1                                                       \n",
       "  X1st.Flr.SF      X2nd.Flr.SF     Low.Qual.Fin.SF     Gr.Liv.Area  \n",
       " Min.   : 334.0   Min.   :   0.0   Min.   :   0.000   Min.   : 334  \n",
       " 1st Qu.: 879.5   1st Qu.:   0.0   1st Qu.:   0.000   1st Qu.:1129  \n",
       " Median :1093.0   Median :   0.0   Median :   0.000   Median :1444  \n",
       " Mean   :1164.5   Mean   : 329.3   Mean   :   5.513   Mean   :1499  \n",
       " 3rd Qu.:1405.0   3rd Qu.: 692.5   3rd Qu.:   0.000   3rd Qu.:1728  \n",
       " Max.   :5095.0   Max.   :1862.0   Max.   :1064.000   Max.   :5642  \n",
       "                                                                    \n",
       " Bsmt.Full.Bath   Bsmt.Half.Bath      Full.Bath       Half.Bath    \n",
       " Min.   :0.0000   Min.   :0.00000   Min.   :0.000   Min.   :0.000  \n",
       " 1st Qu.:0.0000   1st Qu.:0.00000   1st Qu.:1.000   1st Qu.:0.000  \n",
       " Median :0.0000   Median :0.00000   Median :2.000   Median :0.000  \n",
       " Mean   :0.4275   Mean   :0.06345   Mean   :1.577   Mean   :0.371  \n",
       " 3rd Qu.:1.0000   3rd Qu.:0.00000   3rd Qu.:2.000   3rd Qu.:1.000  \n",
       " Max.   :3.0000   Max.   :2.00000   Max.   :4.000   Max.   :2.000  \n",
       " NA's   :2        NA's   :2                                        \n",
       " Bedroom.AbvGr   Kitchen.AbvGr   Kitchen.Qual TotRms.AbvGrd      Functional  \n",
       " Min.   :0.000   Min.   :0.000   Ex: 151      Min.   : 2.000   Typ    :1915  \n",
       " 1st Qu.:2.000   1st Qu.:1.000   Fa:  47      1st Qu.: 5.000   Min1   :  42  \n",
       " Median :3.000   Median :1.000   Gd: 806      Median : 6.000   Min2   :  42  \n",
       " Mean   :2.843   Mean   :1.043   TA:1047      Mean   : 6.436   Mod    :  29  \n",
       " 3rd Qu.:3.000   3rd Qu.:1.000                3rd Qu.: 7.000   Maj1   :  12  \n",
       " Max.   :8.000   Max.   :3.000                Max.   :15.000   Maj2   :   7  \n",
       "                                                               (Other):   4  \n",
       "   Fireplaces     Fireplace.Qu  Garage.Type   Garage.Yr.Blt  Garage.Finish\n",
       " Min.   :0.0000     :1000             : 113   Min.   :1895      :114      \n",
       " 1st Qu.:0.0000   Ex:  31      2Types :  19   1st Qu.:1961   Fin:509      \n",
       " Median :1.0000   Fa:  59      Attchd :1213   Median :1980   RFn:579      \n",
       " Mean   :0.5909   Gd: 523      Basment:  27   Mean   :1979   Unf:849      \n",
       " 3rd Qu.:1.0000   Po:  31      BuiltIn: 132   3rd Qu.:2002                \n",
       " Max.   :4.0000   TA: 407      CarPort:  11   Max.   :2207                \n",
       "                               Detchd : 536   NA's   :114                 \n",
       "  Garage.Cars     Garage.Area     Garage.Qual Garage.Cond Paved.Drive\n",
       " Min.   :0.000   Min.   :   0.0     : 114       : 114     N: 151     \n",
       " 1st Qu.:1.000   1st Qu.: 319.0   Ex:   3     Ex:   2     P:  39     \n",
       " Median :2.000   Median : 480.0   Fa:  82     Fa:  47     Y:1861     \n",
       " Mean   :1.777   Mean   : 473.7   Gd:  18     Gd:  12                \n",
       " 3rd Qu.:2.000   3rd Qu.: 576.0   Po:   2     Po:   8                \n",
       " Max.   :5.000   Max.   :1418.0   TA:1832     TA:1868                \n",
       " NA's   :1       NA's   :1                                           \n",
       "  Wood.Deck.SF     Open.Porch.SF    Enclosed.Porch    X3Ssn.Porch     \n",
       " Min.   :   0.00   Min.   :  0.00   Min.   :  0.00   Min.   :  0.000  \n",
       " 1st Qu.:   0.00   1st Qu.:  0.00   1st Qu.:  0.00   1st Qu.:  0.000  \n",
       " Median :   0.00   Median : 27.00   Median :  0.00   Median :  0.000  \n",
       " Mean   :  93.83   Mean   : 47.56   Mean   : 22.57   Mean   :  2.591  \n",
       " 3rd Qu.: 168.00   3rd Qu.: 70.00   3rd Qu.:  0.00   3rd Qu.:  0.000  \n",
       " Max.   :1424.00   Max.   :547.00   Max.   :432.00   Max.   :508.000  \n",
       "                                                                      \n",
       "  Screen.Porch      Pool.Area       Pool.QC     Fence      Misc.Feature\n",
       " Min.   :  0.00   Min.   :  0.000     :2042        :1651       :1986   \n",
       " 1st Qu.:  0.00   1st Qu.:  0.000   Ex:   1   GdPrv:  83   Elev:   1   \n",
       " Median :  0.00   Median :  0.000   Fa:   2   GdWo :  80   Gar2:   4   \n",
       " Mean   : 16.51   Mean   :  2.398   Gd:   4   MnPrv: 227   Othr:   3   \n",
       " 3rd Qu.:  0.00   3rd Qu.:  0.000   TA:   2   MnWw :  10   Shed:  56   \n",
       " Max.   :490.00   Max.   :800.000                          TenC:   1   \n",
       "                                                                       \n",
       "    Misc.Val           Mo.Sold         Yr.Sold       Sale.Type   \n",
       " Min.   :    0.00   Min.   : 1.00   Min.   :2006   WD     :1781  \n",
       " 1st Qu.:    0.00   1st Qu.: 4.00   1st Qu.:2007   New    : 160  \n",
       " Median :    0.00   Median : 6.00   Median :2008   COD    :  63  \n",
       " Mean   :   51.57   Mean   : 6.22   Mean   :2008   ConLD  :  17  \n",
       " 3rd Qu.:    0.00   3rd Qu.: 8.00   3rd Qu.:2009   CWD    :  10  \n",
       " Max.   :17000.00   Max.   :12.00   Max.   :2010   ConLI  :   7  \n",
       "                                                   (Other):  13  \n",
       "   SalePrice     \n",
       " Min.   : 12789  \n",
       " 1st Qu.:129825  \n",
       " Median :162500  \n",
       " Mean   :181470  \n",
       " 3rd Qu.:214000  \n",
       " Max.   :611657  \n",
       "                 "
      ]
     },
     "metadata": {},
     "output_type": "display_data"
    }
   ],
   "source": [
    "summary(data)"
   ]
  },
  {
   "cell_type": "markdown",
   "metadata": {
    "id": "k7megExgJJ_j"
   },
   "source": [
    "#### 2. Cho biết số dòng, số cột của dữ liệu"
   ]
  },
  {
   "cell_type": "code",
   "execution_count": 6,
   "metadata": {
    "id": "TizowWhTMYpG"
   },
   "outputs": [
    {
     "name": "stdout",
     "output_type": "stream",
     "text": [
      "[1] \"So dong cua data:  2051\"\n",
      "[1] \"So cot cua data:  81\"\n"
     ]
    }
   ],
   "source": [
    "print(paste(\"So dong cua data: \", nrow(data)))\n",
    "print(paste(\"So cot cua data: \", ncol(data)))"
   ]
  },
  {
   "cell_type": "markdown",
   "metadata": {
    "id": "j3j4fYsnJJ_n"
   },
   "source": [
    "#### 3. Cho biết có bao nhiêu loại Garage.Type, đó là những loại nào, mỗi loại đếm được bao nhiêu mẫu. "
   ]
  },
  {
   "cell_type": "code",
   "execution_count": 7,
   "metadata": {},
   "outputs": [
    {
     "data": {
      "text/html": [
       "<table class=\"dataframe\">\n",
       "<caption>A data.frame: 7 × 2</caption>\n",
       "<thead>\n",
       "\t<tr><th scope=col>Garage.Type</th><th scope=col>n</th></tr>\n",
       "\t<tr><th scope=col>&lt;fct&gt;</th><th scope=col>&lt;int&gt;</th></tr>\n",
       "</thead>\n",
       "<tbody>\n",
       "\t<tr><td>       </td><td> 113</td></tr>\n",
       "\t<tr><td>2Types </td><td>  19</td></tr>\n",
       "\t<tr><td>Attchd </td><td>1213</td></tr>\n",
       "\t<tr><td>Basment</td><td>  27</td></tr>\n",
       "\t<tr><td>BuiltIn</td><td> 132</td></tr>\n",
       "\t<tr><td>CarPort</td><td>  11</td></tr>\n",
       "\t<tr><td>Detchd </td><td> 536</td></tr>\n",
       "</tbody>\n",
       "</table>\n"
      ],
      "text/latex": [
       "A data.frame: 7 × 2\n",
       "\\begin{tabular}{ll}\n",
       " Garage.Type & n\\\\\n",
       " <fct> & <int>\\\\\n",
       "\\hline\n",
       "\t         &  113\\\\\n",
       "\t 2Types  &   19\\\\\n",
       "\t Attchd  & 1213\\\\\n",
       "\t Basment &   27\\\\\n",
       "\t BuiltIn &  132\\\\\n",
       "\t CarPort &   11\\\\\n",
       "\t Detchd  &  536\\\\\n",
       "\\end{tabular}\n"
      ],
      "text/markdown": [
       "\n",
       "A data.frame: 7 × 2\n",
       "\n",
       "| Garage.Type &lt;fct&gt; | n &lt;int&gt; |\n",
       "|---|---|\n",
       "| <!----> |  113 |\n",
       "| 2Types  |   19 |\n",
       "| Attchd  | 1213 |\n",
       "| Basment |   27 |\n",
       "| BuiltIn |  132 |\n",
       "| CarPort |   11 |\n",
       "| Detchd  |  536 |\n",
       "\n"
      ],
      "text/plain": [
       "  Garage.Type n   \n",
       "1              113\n",
       "2 2Types        19\n",
       "3 Attchd      1213\n",
       "4 Basment       27\n",
       "5 BuiltIn      132\n",
       "6 CarPort       11\n",
       "7 Detchd       536"
      ]
     },
     "metadata": {},
     "output_type": "display_data"
    }
   ],
   "source": [
    "count(data, Garage.Type)"
   ]
  },
  {
   "cell_type": "code",
   "execution_count": 8,
   "metadata": {},
   "outputs": [
    {
     "name": "stdout",
     "output_type": "stream",
     "text": [
      "[1] \"So loai Garage.Type:  7\"\n"
     ]
    }
   ],
   "source": [
    "print(paste(\"So loai Garage.Type: \", nrow(count(data, Garage.Type))))"
   ]
  },
  {
   "cell_type": "markdown",
   "metadata": {
    "id": "9gU5rtPIJJ_w"
   },
   "source": [
    "#### 4. Xóa các cột Garage.Qual, Garage.Cond, Pool.QC, Fence, Misc.Feature trong dữ liệu"
   ]
  },
  {
   "cell_type": "code",
   "execution_count": 9,
   "metadata": {},
   "outputs": [
    {
     "data": {
      "text/html": [
       "<table class=\"dataframe\">\n",
       "<caption>A data.frame: 6 × 76</caption>\n",
       "<thead>\n",
       "\t<tr><th></th><th scope=col>Id</th><th scope=col>PID</th><th scope=col>MS.SubClass</th><th scope=col>MS.Zoning</th><th scope=col>Lot.Frontage</th><th scope=col>Lot.Area</th><th scope=col>Street</th><th scope=col>Alley</th><th scope=col>Lot.Shape</th><th scope=col>Land.Contour</th><th scope=col>...</th><th scope=col>Open.Porch.SF</th><th scope=col>Enclosed.Porch</th><th scope=col>X3Ssn.Porch</th><th scope=col>Screen.Porch</th><th scope=col>Pool.Area</th><th scope=col>Misc.Val</th><th scope=col>Mo.Sold</th><th scope=col>Yr.Sold</th><th scope=col>Sale.Type</th><th scope=col>SalePrice</th></tr>\n",
       "\t<tr><th></th><th scope=col>&lt;int&gt;</th><th scope=col>&lt;int&gt;</th><th scope=col>&lt;int&gt;</th><th scope=col>&lt;fct&gt;</th><th scope=col>&lt;dbl&gt;</th><th scope=col>&lt;int&gt;</th><th scope=col>&lt;fct&gt;</th><th scope=col>&lt;fct&gt;</th><th scope=col>&lt;fct&gt;</th><th scope=col>&lt;fct&gt;</th><th scope=col>...</th><th scope=col>&lt;int&gt;</th><th scope=col>&lt;int&gt;</th><th scope=col>&lt;int&gt;</th><th scope=col>&lt;int&gt;</th><th scope=col>&lt;int&gt;</th><th scope=col>&lt;int&gt;</th><th scope=col>&lt;int&gt;</th><th scope=col>&lt;int&gt;</th><th scope=col>&lt;fct&gt;</th><th scope=col>&lt;int&gt;</th></tr>\n",
       "</thead>\n",
       "<tbody>\n",
       "\t<tr><th scope=row>1</th><td>109</td><td>533352170</td><td>60</td><td>RL</td><td> NA</td><td>13517</td><td>Pave</td><td></td><td>IR1</td><td>Lvl</td><td>...</td><td>44</td><td>0</td><td>0</td><td>0</td><td>0</td><td>0</td><td>3</td><td>2010</td><td>WD </td><td>130500</td></tr>\n",
       "\t<tr><th scope=row>2</th><td>544</td><td>531379050</td><td>60</td><td>RL</td><td> 43</td><td>11492</td><td>Pave</td><td></td><td>IR1</td><td>Lvl</td><td>...</td><td>74</td><td>0</td><td>0</td><td>0</td><td>0</td><td>0</td><td>4</td><td>2009</td><td>WD </td><td>220000</td></tr>\n",
       "\t<tr><th scope=row>3</th><td>153</td><td>535304180</td><td>20</td><td>RL</td><td> 68</td><td> 7922</td><td>Pave</td><td></td><td>Reg</td><td>Lvl</td><td>...</td><td>52</td><td>0</td><td>0</td><td>0</td><td>0</td><td>0</td><td>1</td><td>2010</td><td>WD </td><td>109000</td></tr>\n",
       "\t<tr><th scope=row>4</th><td>318</td><td>916386060</td><td>60</td><td>RL</td><td> 73</td><td> 9802</td><td>Pave</td><td></td><td>Reg</td><td>Lvl</td><td>...</td><td> 0</td><td>0</td><td>0</td><td>0</td><td>0</td><td>0</td><td>4</td><td>2010</td><td>WD </td><td>174000</td></tr>\n",
       "\t<tr><th scope=row>5</th><td>255</td><td>906425045</td><td>50</td><td>RL</td><td> 82</td><td>14235</td><td>Pave</td><td></td><td>IR1</td><td>Lvl</td><td>...</td><td>59</td><td>0</td><td>0</td><td>0</td><td>0</td><td>0</td><td>3</td><td>2010</td><td>WD </td><td>138500</td></tr>\n",
       "\t<tr><th scope=row>6</th><td>138</td><td>535126040</td><td>20</td><td>RL</td><td>137</td><td>16492</td><td>Pave</td><td></td><td>IR1</td><td>Lvl</td><td>...</td><td> 0</td><td>0</td><td>0</td><td>0</td><td>0</td><td>0</td><td>6</td><td>2010</td><td>WD </td><td>190000</td></tr>\n",
       "</tbody>\n",
       "</table>\n"
      ],
      "text/latex": [
       "A data.frame: 6 × 76\n",
       "\\begin{tabular}{r|lllllllllllllllllllll}\n",
       "  & Id & PID & MS.SubClass & MS.Zoning & Lot.Frontage & Lot.Area & Street & Alley & Lot.Shape & Land.Contour & ... & Open.Porch.SF & Enclosed.Porch & X3Ssn.Porch & Screen.Porch & Pool.Area & Misc.Val & Mo.Sold & Yr.Sold & Sale.Type & SalePrice\\\\\n",
       "  & <int> & <int> & <int> & <fct> & <dbl> & <int> & <fct> & <fct> & <fct> & <fct> & ... & <int> & <int> & <int> & <int> & <int> & <int> & <int> & <int> & <fct> & <int>\\\\\n",
       "\\hline\n",
       "\t1 & 109 & 533352170 & 60 & RL &  NA & 13517 & Pave &  & IR1 & Lvl & ... & 44 & 0 & 0 & 0 & 0 & 0 & 3 & 2010 & WD  & 130500\\\\\n",
       "\t2 & 544 & 531379050 & 60 & RL &  43 & 11492 & Pave &  & IR1 & Lvl & ... & 74 & 0 & 0 & 0 & 0 & 0 & 4 & 2009 & WD  & 220000\\\\\n",
       "\t3 & 153 & 535304180 & 20 & RL &  68 &  7922 & Pave &  & Reg & Lvl & ... & 52 & 0 & 0 & 0 & 0 & 0 & 1 & 2010 & WD  & 109000\\\\\n",
       "\t4 & 318 & 916386060 & 60 & RL &  73 &  9802 & Pave &  & Reg & Lvl & ... &  0 & 0 & 0 & 0 & 0 & 0 & 4 & 2010 & WD  & 174000\\\\\n",
       "\t5 & 255 & 906425045 & 50 & RL &  82 & 14235 & Pave &  & IR1 & Lvl & ... & 59 & 0 & 0 & 0 & 0 & 0 & 3 & 2010 & WD  & 138500\\\\\n",
       "\t6 & 138 & 535126040 & 20 & RL & 137 & 16492 & Pave &  & IR1 & Lvl & ... &  0 & 0 & 0 & 0 & 0 & 0 & 6 & 2010 & WD  & 190000\\\\\n",
       "\\end{tabular}\n"
      ],
      "text/markdown": [
       "\n",
       "A data.frame: 6 × 76\n",
       "\n",
       "| <!--/--> | Id &lt;int&gt; | PID &lt;int&gt; | MS.SubClass &lt;int&gt; | MS.Zoning &lt;fct&gt; | Lot.Frontage &lt;dbl&gt; | Lot.Area &lt;int&gt; | Street &lt;fct&gt; | Alley &lt;fct&gt; | Lot.Shape &lt;fct&gt; | Land.Contour &lt;fct&gt; | ... ... | Open.Porch.SF &lt;int&gt; | Enclosed.Porch &lt;int&gt; | X3Ssn.Porch &lt;int&gt; | Screen.Porch &lt;int&gt; | Pool.Area &lt;int&gt; | Misc.Val &lt;int&gt; | Mo.Sold &lt;int&gt; | Yr.Sold &lt;int&gt; | Sale.Type &lt;fct&gt; | SalePrice &lt;int&gt; |\n",
       "|---|---|---|---|---|---|---|---|---|---|---|---|---|---|---|---|---|---|---|---|---|---|\n",
       "| 1 | 109 | 533352170 | 60 | RL |  NA | 13517 | Pave | <!----> | IR1 | Lvl | ... | 44 | 0 | 0 | 0 | 0 | 0 | 3 | 2010 | WD  | 130500 |\n",
       "| 2 | 544 | 531379050 | 60 | RL |  43 | 11492 | Pave | <!----> | IR1 | Lvl | ... | 74 | 0 | 0 | 0 | 0 | 0 | 4 | 2009 | WD  | 220000 |\n",
       "| 3 | 153 | 535304180 | 20 | RL |  68 |  7922 | Pave | <!----> | Reg | Lvl | ... | 52 | 0 | 0 | 0 | 0 | 0 | 1 | 2010 | WD  | 109000 |\n",
       "| 4 | 318 | 916386060 | 60 | RL |  73 |  9802 | Pave | <!----> | Reg | Lvl | ... |  0 | 0 | 0 | 0 | 0 | 0 | 4 | 2010 | WD  | 174000 |\n",
       "| 5 | 255 | 906425045 | 50 | RL |  82 | 14235 | Pave | <!----> | IR1 | Lvl | ... | 59 | 0 | 0 | 0 | 0 | 0 | 3 | 2010 | WD  | 138500 |\n",
       "| 6 | 138 | 535126040 | 20 | RL | 137 | 16492 | Pave | <!----> | IR1 | Lvl | ... |  0 | 0 | 0 | 0 | 0 | 0 | 6 | 2010 | WD  | 190000 |\n",
       "\n"
      ],
      "text/plain": [
       "  Id  PID       MS.SubClass MS.Zoning Lot.Frontage Lot.Area Street Alley\n",
       "1 109 533352170 60          RL         NA          13517    Pave        \n",
       "2 544 531379050 60          RL         43          11492    Pave        \n",
       "3 153 535304180 20          RL         68           7922    Pave        \n",
       "4 318 916386060 60          RL         73           9802    Pave        \n",
       "5 255 906425045 50          RL         82          14235    Pave        \n",
       "6 138 535126040 20          RL        137          16492    Pave        \n",
       "  Lot.Shape Land.Contour ... Open.Porch.SF Enclosed.Porch X3Ssn.Porch\n",
       "1 IR1       Lvl          ... 44            0              0          \n",
       "2 IR1       Lvl          ... 74            0              0          \n",
       "3 Reg       Lvl          ... 52            0              0          \n",
       "4 Reg       Lvl          ...  0            0              0          \n",
       "5 IR1       Lvl          ... 59            0              0          \n",
       "6 IR1       Lvl          ...  0            0              0          \n",
       "  Screen.Porch Pool.Area Misc.Val Mo.Sold Yr.Sold Sale.Type SalePrice\n",
       "1 0            0         0        3       2010    WD        130500   \n",
       "2 0            0         0        4       2009    WD        220000   \n",
       "3 0            0         0        1       2010    WD        109000   \n",
       "4 0            0         0        4       2010    WD        174000   \n",
       "5 0            0         0        3       2010    WD        138500   \n",
       "6 0            0         0        6       2010    WD        190000   "
      ]
     },
     "metadata": {},
     "output_type": "display_data"
    }
   ],
   "source": [
    "data_new <- subset(data, select = -c(Garage.Qual, Garage.Cond, Pool.QC, Fence, Misc.Feature))\n",
    "head(data_new)"
   ]
  },
  {
   "cell_type": "markdown",
   "metadata": {
    "id": "_cKzKBBXJJ_2"
   },
   "source": [
    "#### 5. Tìm max, min của Gr.Liv.Area theo Electrical và Heating (sử dụng group_by() và summarize()). "
   ]
  },
  {
   "cell_type": "code",
   "execution_count": 68,
   "metadata": {},
   "outputs": [],
   "source": [
    "group = group_by(data, Electrical)\n",
    "summary = summarize(group, count=n(),\n",
    "                   min.Gr.Liv.Area = min(Gr.Liv.Area, na.rm=T),\n",
    "                   max.Gr.Liv.Area = max(Gr.Liv.Area, na.rm=T)\n",
    "                   )"
   ]
  },
  {
   "cell_type": "code",
   "execution_count": 69,
   "metadata": {},
   "outputs": [
    {
     "data": {
      "text/html": [
       "<table class=\"dataframe\">\n",
       "<caption>A tibble: 5 × 4</caption>\n",
       "<thead>\n",
       "\t<tr><th scope=col>Electrical</th><th scope=col>count</th><th scope=col>min.Gr.Liv.Area</th><th scope=col>max.Gr.Liv.Area</th></tr>\n",
       "\t<tr><th scope=col>&lt;fct&gt;</th><th scope=col>&lt;int&gt;</th><th scope=col>&lt;int&gt;</th><th scope=col>&lt;int&gt;</th></tr>\n",
       "</thead>\n",
       "<tbody>\n",
       "\t<tr><td>FuseA</td><td> 140</td><td> 480</td><td>3395</td></tr>\n",
       "\t<tr><td>FuseF</td><td>  35</td><td> 334</td><td>2256</td></tr>\n",
       "\t<tr><td>FuseP</td><td>   7</td><td> 572</td><td>2350</td></tr>\n",
       "\t<tr><td>Mix  </td><td>   1</td><td>1077</td><td>1077</td></tr>\n",
       "\t<tr><td>SBrkr</td><td>1868</td><td> 492</td><td>5642</td></tr>\n",
       "</tbody>\n",
       "</table>\n"
      ],
      "text/latex": [
       "A tibble: 5 × 4\n",
       "\\begin{tabular}{llll}\n",
       " Electrical & count & min.Gr.Liv.Area & max.Gr.Liv.Area\\\\\n",
       " <fct> & <int> & <int> & <int>\\\\\n",
       "\\hline\n",
       "\t FuseA &  140 &  480 & 3395\\\\\n",
       "\t FuseF &   35 &  334 & 2256\\\\\n",
       "\t FuseP &    7 &  572 & 2350\\\\\n",
       "\t Mix   &    1 & 1077 & 1077\\\\\n",
       "\t SBrkr & 1868 &  492 & 5642\\\\\n",
       "\\end{tabular}\n"
      ],
      "text/markdown": [
       "\n",
       "A tibble: 5 × 4\n",
       "\n",
       "| Electrical &lt;fct&gt; | count &lt;int&gt; | min.Gr.Liv.Area &lt;int&gt; | max.Gr.Liv.Area &lt;int&gt; |\n",
       "|---|---|---|---|\n",
       "| FuseA |  140 |  480 | 3395 |\n",
       "| FuseF |   35 |  334 | 2256 |\n",
       "| FuseP |    7 |  572 | 2350 |\n",
       "| Mix   |    1 | 1077 | 1077 |\n",
       "| SBrkr | 1868 |  492 | 5642 |\n",
       "\n"
      ],
      "text/plain": [
       "  Electrical count min.Gr.Liv.Area max.Gr.Liv.Area\n",
       "1 FuseA       140   480            3395           \n",
       "2 FuseF        35   334            2256           \n",
       "3 FuseP         7   572            2350           \n",
       "4 Mix           1  1077            1077           \n",
       "5 SBrkr      1868   492            5642           "
      ]
     },
     "metadata": {},
     "output_type": "display_data"
    }
   ],
   "source": [
    "summary"
   ]
  },
  {
   "cell_type": "code",
   "execution_count": 70,
   "metadata": {},
   "outputs": [],
   "source": [
    "group_H = group_by(data, Heating)\n",
    "summary_H = summarize(group_H, count=n(),\n",
    "                   min.Gr.Liv.Area = min(Gr.Liv.Area, na.rm=T),\n",
    "                   max.Gr.Liv.Area = max(Gr.Liv.Area, na.rm=T)\n",
    "                   )"
   ]
  },
  {
   "cell_type": "code",
   "execution_count": 71,
   "metadata": {},
   "outputs": [
    {
     "data": {
      "text/html": [
       "<table class=\"dataframe\">\n",
       "<caption>A tibble: 5 × 4</caption>\n",
       "<thead>\n",
       "\t<tr><th scope=col>Heating</th><th scope=col>count</th><th scope=col>min.Gr.Liv.Area</th><th scope=col>max.Gr.Liv.Area</th></tr>\n",
       "\t<tr><th scope=col>&lt;fct&gt;</th><th scope=col>&lt;int&gt;</th><th scope=col>&lt;int&gt;</th><th scope=col>&lt;int&gt;</th></tr>\n",
       "</thead>\n",
       "<tbody>\n",
       "\t<tr><td>GasA</td><td>2018</td><td> 334</td><td>5642</td></tr>\n",
       "\t<tr><td>GasW</td><td>  20</td><td> 950</td><td>2792</td></tr>\n",
       "\t<tr><td>Grav</td><td>   5</td><td> 693</td><td>2256</td></tr>\n",
       "\t<tr><td>OthW</td><td>   2</td><td>2058</td><td>2358</td></tr>\n",
       "\t<tr><td>Wall</td><td>   6</td><td> 733</td><td>1529</td></tr>\n",
       "</tbody>\n",
       "</table>\n"
      ],
      "text/latex": [
       "A tibble: 5 × 4\n",
       "\\begin{tabular}{llll}\n",
       " Heating & count & min.Gr.Liv.Area & max.Gr.Liv.Area\\\\\n",
       " <fct> & <int> & <int> & <int>\\\\\n",
       "\\hline\n",
       "\t GasA & 2018 &  334 & 5642\\\\\n",
       "\t GasW &   20 &  950 & 2792\\\\\n",
       "\t Grav &    5 &  693 & 2256\\\\\n",
       "\t OthW &    2 & 2058 & 2358\\\\\n",
       "\t Wall &    6 &  733 & 1529\\\\\n",
       "\\end{tabular}\n"
      ],
      "text/markdown": [
       "\n",
       "A tibble: 5 × 4\n",
       "\n",
       "| Heating &lt;fct&gt; | count &lt;int&gt; | min.Gr.Liv.Area &lt;int&gt; | max.Gr.Liv.Area &lt;int&gt; |\n",
       "|---|---|---|---|\n",
       "| GasA | 2018 |  334 | 5642 |\n",
       "| GasW |   20 |  950 | 2792 |\n",
       "| Grav |    5 |  693 | 2256 |\n",
       "| OthW |    2 | 2058 | 2358 |\n",
       "| Wall |    6 |  733 | 1529 |\n",
       "\n"
      ],
      "text/plain": [
       "  Heating count min.Gr.Liv.Area max.Gr.Liv.Area\n",
       "1 GasA    2018   334            5642           \n",
       "2 GasW      20   950            2792           \n",
       "3 Grav       5   693            2256           \n",
       "4 OthW       2  2058            2358           \n",
       "5 Wall       6   733            1529           "
      ]
     },
     "metadata": {},
     "output_type": "display_data"
    }
   ],
   "source": [
    "summary_H"
   ]
  },
  {
   "cell_type": "markdown",
   "metadata": {
    "id": "n_a_DAdpJJ_7"
   },
   "source": [
    "#### 6. Vẽ biểu đồ thể hiện mối liên hệ của SalePrice và X1st.Flr.SF. Nhận xét biểu đồ. "
   ]
  },
  {
   "cell_type": "code",
   "execution_count": 14,
   "metadata": {},
   "outputs": [
    {
     "data": {
      "text/html": [
       "<table class=\"dataframe\">\n",
       "<caption>A data.frame: 6 × 2</caption>\n",
       "<thead>\n",
       "\t<tr><th></th><th scope=col>SalePrice</th><th scope=col>X1st.Flr.SF</th></tr>\n",
       "\t<tr><th></th><th scope=col>&lt;int&gt;</th><th scope=col>&lt;int&gt;</th></tr>\n",
       "</thead>\n",
       "<tbody>\n",
       "\t<tr><th scope=row>1</th><td>130500</td><td> 725</td></tr>\n",
       "\t<tr><th scope=row>2</th><td>220000</td><td> 913</td></tr>\n",
       "\t<tr><th scope=row>3</th><td>109000</td><td>1057</td></tr>\n",
       "\t<tr><th scope=row>4</th><td>174000</td><td> 744</td></tr>\n",
       "\t<tr><th scope=row>5</th><td>138500</td><td> 831</td></tr>\n",
       "\t<tr><th scope=row>6</th><td>190000</td><td>1888</td></tr>\n",
       "</tbody>\n",
       "</table>\n"
      ],
      "text/latex": [
       "A data.frame: 6 × 2\n",
       "\\begin{tabular}{r|ll}\n",
       "  & SalePrice & X1st.Flr.SF\\\\\n",
       "  & <int> & <int>\\\\\n",
       "\\hline\n",
       "\t1 & 130500 &  725\\\\\n",
       "\t2 & 220000 &  913\\\\\n",
       "\t3 & 109000 & 1057\\\\\n",
       "\t4 & 174000 &  744\\\\\n",
       "\t5 & 138500 &  831\\\\\n",
       "\t6 & 190000 & 1888\\\\\n",
       "\\end{tabular}\n"
      ],
      "text/markdown": [
       "\n",
       "A data.frame: 6 × 2\n",
       "\n",
       "| <!--/--> | SalePrice &lt;int&gt; | X1st.Flr.SF &lt;int&gt; |\n",
       "|---|---|---|\n",
       "| 1 | 130500 |  725 |\n",
       "| 2 | 220000 |  913 |\n",
       "| 3 | 109000 | 1057 |\n",
       "| 4 | 174000 |  744 |\n",
       "| 5 | 138500 |  831 |\n",
       "| 6 | 190000 | 1888 |\n",
       "\n"
      ],
      "text/plain": [
       "  SalePrice X1st.Flr.SF\n",
       "1 130500     725       \n",
       "2 220000     913       \n",
       "3 109000    1057       \n",
       "4 174000     744       \n",
       "5 138500     831       \n",
       "6 190000    1888       "
      ]
     },
     "metadata": {},
     "output_type": "display_data"
    }
   ],
   "source": [
    "price_x1st_sub <- subset(data, select = c(SalePrice, X1st.Flr.SF))\n",
    "head(price_x1st_sub)"
   ]
  },
  {
   "cell_type": "code",
   "execution_count": 15,
   "metadata": {},
   "outputs": [
    {
     "data": {
      "image/png": "[encoded data removed]",
      "text/plain": [
       "Plot with title \"SalePrice vs X1st.Flr.SF\""
      ]
     },
     "metadata": {
      "image/png": {
       "height": 420,
       "width": 420
      }
     },
     "output_type": "display_data"
    }
   ],
   "source": [
    "plot(x=price_x1st_sub$X1st.Flr.SF, y=price_x1st_sub$SalePrice,\n",
    "    ylab=\"SalePrice\", xlab = \"X1st.Flr.SF\",\n",
    "    main=\"SalePrice vs X1st.Flr.SF\")"
   ]
  },
  {
   "cell_type": "markdown",
   "metadata": {},
   "source": [
    "Nhận xét:\n",
    "* X1st.Flr.SF và SalePrice tỉ lệ thuận với nhau: X1st.Flr.SF càng lớn thì Sale Price càng cao. Phần lớn nhà có X1st.Flr.SF từ khoảng 500 tới 2000, mức giá bán từ 100000 tới 200000. Ngoài ra có những ngoại lệ những căn nhà có X1st.Flr.SF quá lớn và giá không cao. "
   ]
  },
  {
   "cell_type": "markdown",
   "metadata": {
    "id": "Ca2xIATCJJ_-"
   },
   "source": [
    "#### 7. Vẽ pie chart thể hiện % giữa Y(1) và N(0) của cột Central.Air"
   ]
  },
  {
   "cell_type": "code",
   "execution_count": 16,
   "metadata": {},
   "outputs": [
    {
     "data": {
      "text/html": [
       "<table class=\"dataframe\">\n",
       "<caption>A data.frame: 6 × 1</caption>\n",
       "<thead>\n",
       "\t<tr><th></th><th scope=col>Central.Air</th></tr>\n",
       "\t<tr><th></th><th scope=col>&lt;fct&gt;</th></tr>\n",
       "</thead>\n",
       "<tbody>\n",
       "\t<tr><th scope=row>1</th><td>Y</td></tr>\n",
       "\t<tr><th scope=row>2</th><td>Y</td></tr>\n",
       "\t<tr><th scope=row>3</th><td>Y</td></tr>\n",
       "\t<tr><th scope=row>4</th><td>Y</td></tr>\n",
       "\t<tr><th scope=row>5</th><td>Y</td></tr>\n",
       "\t<tr><th scope=row>6</th><td>Y</td></tr>\n",
       "</tbody>\n",
       "</table>\n"
      ],
      "text/latex": [
       "A data.frame: 6 × 1\n",
       "\\begin{tabular}{r|l}\n",
       "  & Central.Air\\\\\n",
       "  & <fct>\\\\\n",
       "\\hline\n",
       "\t1 & Y\\\\\n",
       "\t2 & Y\\\\\n",
       "\t3 & Y\\\\\n",
       "\t4 & Y\\\\\n",
       "\t5 & Y\\\\\n",
       "\t6 & Y\\\\\n",
       "\\end{tabular}\n"
      ],
      "text/markdown": [
       "\n",
       "A data.frame: 6 × 1\n",
       "\n",
       "| <!--/--> | Central.Air &lt;fct&gt; |\n",
       "|---|---|\n",
       "| 1 | Y |\n",
       "| 2 | Y |\n",
       "| 3 | Y |\n",
       "| 4 | Y |\n",
       "| 5 | Y |\n",
       "| 6 | Y |\n",
       "\n"
      ],
      "text/plain": [
       "  Central.Air\n",
       "1 Y          \n",
       "2 Y          \n",
       "3 Y          \n",
       "4 Y          \n",
       "5 Y          \n",
       "6 Y          "
      ]
     },
     "metadata": {},
     "output_type": "display_data"
    }
   ],
   "source": [
    "central_air <- subset(data, select=c(Central.Air))\n",
    "head(central_air)"
   ]
  },
  {
   "cell_type": "code",
   "execution_count": 17,
   "metadata": {},
   "outputs": [
    {
     "data": {
      "text/html": [
       "<table class=\"dataframe\">\n",
       "<caption>A data.frame: 2 × 2</caption>\n",
       "<thead>\n",
       "\t<tr><th scope=col>Central.Air</th><th scope=col>n</th></tr>\n",
       "\t<tr><th scope=col>&lt;fct&gt;</th><th scope=col>&lt;int&gt;</th></tr>\n",
       "</thead>\n",
       "<tbody>\n",
       "\t<tr><td>N</td><td> 141</td></tr>\n",
       "\t<tr><td>Y</td><td>1910</td></tr>\n",
       "</tbody>\n",
       "</table>\n"
      ],
      "text/latex": [
       "A data.frame: 2 × 2\n",
       "\\begin{tabular}{ll}\n",
       " Central.Air & n\\\\\n",
       " <fct> & <int>\\\\\n",
       "\\hline\n",
       "\t N &  141\\\\\n",
       "\t Y & 1910\\\\\n",
       "\\end{tabular}\n"
      ],
      "text/markdown": [
       "\n",
       "A data.frame: 2 × 2\n",
       "\n",
       "| Central.Air &lt;fct&gt; | n &lt;int&gt; |\n",
       "|---|---|\n",
       "| N |  141 |\n",
       "| Y | 1910 |\n",
       "\n"
      ],
      "text/plain": [
       "  Central.Air n   \n",
       "1 N            141\n",
       "2 Y           1910"
      ]
     },
     "metadata": {},
     "output_type": "display_data"
    }
   ],
   "source": [
    "central_air_count <- count(data, Central.Air)\n",
    "central_air_count"
   ]
  },
  {
   "cell_type": "code",
   "execution_count": 18,
   "metadata": {},
   "outputs": [],
   "source": [
    "central_air_per <- round(central_air_count[,2] / sum(central_air_count[,2]) *100 ,1)"
   ]
  },
  {
   "cell_type": "code",
   "execution_count": 19,
   "metadata": {},
   "outputs": [
    {
     "data": {
      "text/html": [
       "<style>\n",
       ".list-inline {list-style: none; margin:0; padding: 0}\n",
       ".list-inline>li {display: inline-block}\n",
       ".list-inline>li:not(:last-child)::after {content: \"\\00b7\"; padding: 0 .5ex}\n",
       "</style>\n",
       "<ol class=list-inline><li>N</li><li>Y</li></ol>\n",
       "\n",
       "<details>\n",
       "\t<summary style=display:list-item;cursor:pointer>\n",
       "\t\t<strong>Levels</strong>:\n",
       "\t</summary>\n",
       "\t<style>\n",
       "\t.list-inline {list-style: none; margin:0; padding: 0}\n",
       "\t.list-inline>li {display: inline-block}\n",
       "\t.list-inline>li:not(:last-child)::after {content: \"\\00b7\"; padding: 0 .5ex}\n",
       "\t</style>\n",
       "\t<ol class=list-inline><li>'N'</li><li>'Y'</li></ol>\n",
       "</details>"
      ],
      "text/latex": [
       "\\begin{enumerate*}\n",
       "\\item N\n",
       "\\item Y\n",
       "\\end{enumerate*}\n",
       "\n",
       "\\emph{Levels}: \\begin{enumerate*}\n",
       "\\item 'N'\n",
       "\\item 'Y'\n",
       "\\end{enumerate*}\n"
      ],
      "text/markdown": [
       "1. N\n",
       "2. Y\n",
       "\n",
       "\n",
       "\n",
       "**Levels**: 1. 'N'\n",
       "2. 'Y'\n",
       "\n",
       "\n"
      ],
      "text/plain": [
       "[1] N Y\n",
       "Levels: N Y"
      ]
     },
     "metadata": {},
     "output_type": "display_data"
    }
   ],
   "source": [
    "central_air_count[,1]"
   ]
  },
  {
   "cell_type": "code",
   "execution_count": 20,
   "metadata": {},
   "outputs": [
    {
     "data": {
      "image/png": "[encoded data removed]",
      "text/plain": [
       "Plot with title \"Y/N Central air pie chart\""
      ]
     },
     "metadata": {
      "image/png": {
       "height": 420,
       "width": 420
      }
     },
     "output_type": "display_data"
    }
   ],
   "source": [
    "pie(central_air_per, labels=paste(central_air_per, \"%\"), main=\"Y/N Central air pie chart\",\n",
    "   col = rainbow(length(central_air_per)), clockwise=TRUE)\n",
    "legend(\"topright\", legend= central_air_count[,1], cex=0.8, fill=rainbow(length(central_air_per)))"
   ]
  },
  {
   "cell_type": "markdown",
   "metadata": {},
   "source": [
    "Nhận xét:\n",
    "\n",
    "* Hầu hết nhà (93.1%) đều có central air."
   ]
  },
  {
   "cell_type": "markdown",
   "metadata": {
    "id": "JBkcW245JKAF"
   },
   "source": [
    "#### 8. Cho biết năm xây của các căn nhà cũ nhất và mới nhất (theo Year.Built). Liệt kê các căn nhà cũ nhất, mới nhất với 3 thông tin Id, Year.Built, SalePrice"
   ]
  },
  {
   "cell_type": "code",
   "execution_count": 21,
   "metadata": {},
   "outputs": [
    {
     "name": "stdout",
     "output_type": "stream",
     "text": [
      "[1] \"Nha cu nhat duoc xay vao nam  1872\"\n",
      "[1] \"Nha moi nhat duoc xay vao nam  2010\"\n"
     ]
    }
   ],
   "source": [
    "print(paste(\"Nha cu nhat duoc xay vao nam \", min(data[,c(\"Year.Built\")])))\n",
    "print(paste(\"Nha moi nhat duoc xay vao nam \", max(data[,c(\"Year.Built\")])))"
   ]
  },
  {
   "cell_type": "code",
   "execution_count": 22,
   "metadata": {},
   "outputs": [
    {
     "data": {
      "text/html": [
       "<table class=\"dataframe\">\n",
       "<caption>A data.frame: 6 × 3</caption>\n",
       "<thead>\n",
       "\t<tr><th></th><th scope=col>Id</th><th scope=col>Year.Built</th><th scope=col>SalePrice</th></tr>\n",
       "\t<tr><th></th><th scope=col>&lt;int&gt;</th><th scope=col>&lt;int&gt;</th><th scope=col>&lt;int&gt;</th></tr>\n",
       "</thead>\n",
       "<tbody>\n",
       "\t<tr><th scope=row>1</th><td>109</td><td>1976</td><td>130500</td></tr>\n",
       "\t<tr><th scope=row>2</th><td>544</td><td>1996</td><td>220000</td></tr>\n",
       "\t<tr><th scope=row>3</th><td>153</td><td>1953</td><td>109000</td></tr>\n",
       "\t<tr><th scope=row>4</th><td>318</td><td>2006</td><td>174000</td></tr>\n",
       "\t<tr><th scope=row>5</th><td>255</td><td>1900</td><td>138500</td></tr>\n",
       "\t<tr><th scope=row>6</th><td>138</td><td>1966</td><td>190000</td></tr>\n",
       "</tbody>\n",
       "</table>\n"
      ],
      "text/latex": [
       "A data.frame: 6 × 3\n",
       "\\begin{tabular}{r|lll}\n",
       "  & Id & Year.Built & SalePrice\\\\\n",
       "  & <int> & <int> & <int>\\\\\n",
       "\\hline\n",
       "\t1 & 109 & 1976 & 130500\\\\\n",
       "\t2 & 544 & 1996 & 220000\\\\\n",
       "\t3 & 153 & 1953 & 109000\\\\\n",
       "\t4 & 318 & 2006 & 174000\\\\\n",
       "\t5 & 255 & 1900 & 138500\\\\\n",
       "\t6 & 138 & 1966 & 190000\\\\\n",
       "\\end{tabular}\n"
      ],
      "text/markdown": [
       "\n",
       "A data.frame: 6 × 3\n",
       "\n",
       "| <!--/--> | Id &lt;int&gt; | Year.Built &lt;int&gt; | SalePrice &lt;int&gt; |\n",
       "|---|---|---|---|\n",
       "| 1 | 109 | 1976 | 130500 |\n",
       "| 2 | 544 | 1996 | 220000 |\n",
       "| 3 | 153 | 1953 | 109000 |\n",
       "| 4 | 318 | 2006 | 174000 |\n",
       "| 5 | 255 | 1900 | 138500 |\n",
       "| 6 | 138 | 1966 | 190000 |\n",
       "\n"
      ],
      "text/plain": [
       "  Id  Year.Built SalePrice\n",
       "1 109 1976       130500   \n",
       "2 544 1996       220000   \n",
       "3 153 1953       109000   \n",
       "4 318 2006       174000   \n",
       "5 255 1900       138500   \n",
       "6 138 1966       190000   "
      ]
     },
     "metadata": {},
     "output_type": "display_data"
    }
   ],
   "source": [
    "data_sub <- data %>% select(Id, Year.Built, SalePrice)\n",
    "head(data_sub)"
   ]
  },
  {
   "cell_type": "code",
   "execution_count": 23,
   "metadata": {},
   "outputs": [
    {
     "name": "stdout",
     "output_type": "stream",
     "text": [
      "[1] \"Nha cu nhat: \"\n"
     ]
    },
    {
     "data": {
      "text/html": [
       "<table class=\"dataframe\">\n",
       "<caption>A data.frame: 1 × 3</caption>\n",
       "<thead>\n",
       "\t<tr><th scope=col>Id</th><th scope=col>Year.Built</th><th scope=col>SalePrice</th></tr>\n",
       "\t<tr><th scope=col>&lt;int&gt;</th><th scope=col>&lt;int&gt;</th><th scope=col>&lt;int&gt;</th></tr>\n",
       "</thead>\n",
       "<tbody>\n",
       "\t<tr><td>1319</td><td>1872</td><td>122000</td></tr>\n",
       "</tbody>\n",
       "</table>\n"
      ],
      "text/latex": [
       "A data.frame: 1 × 3\n",
       "\\begin{tabular}{lll}\n",
       " Id & Year.Built & SalePrice\\\\\n",
       " <int> & <int> & <int>\\\\\n",
       "\\hline\n",
       "\t 1319 & 1872 & 122000\\\\\n",
       "\\end{tabular}\n"
      ],
      "text/markdown": [
       "\n",
       "A data.frame: 1 × 3\n",
       "\n",
       "| Id &lt;int&gt; | Year.Built &lt;int&gt; | SalePrice &lt;int&gt; |\n",
       "|---|---|---|\n",
       "| 1319 | 1872 | 122000 |\n",
       "\n"
      ],
      "text/plain": [
       "  Id   Year.Built SalePrice\n",
       "1 1319 1872       122000   "
      ]
     },
     "metadata": {},
     "output_type": "display_data"
    }
   ],
   "source": [
    "print(\"Nha cu nhat: \")\n",
    "data_sub %>% filter(Year.Built == 1872)"
   ]
  },
  {
   "cell_type": "code",
   "execution_count": 24,
   "metadata": {},
   "outputs": [
    {
     "name": "stdout",
     "output_type": "stream",
     "text": [
      "[1] \"Nha moi nhat: \"\n"
     ]
    },
    {
     "data": {
      "text/html": [
       "<table class=\"dataframe\">\n",
       "<caption>A data.frame: 1 × 3</caption>\n",
       "<thead>\n",
       "\t<tr><th scope=col>Id</th><th scope=col>Year.Built</th><th scope=col>SalePrice</th></tr>\n",
       "\t<tr><th scope=col>&lt;int&gt;</th><th scope=col>&lt;int&gt;</th><th scope=col>&lt;int&gt;</th></tr>\n",
       "</thead>\n",
       "<tbody>\n",
       "\t<tr><td>105</td><td>2010</td><td>267916</td></tr>\n",
       "</tbody>\n",
       "</table>\n"
      ],
      "text/latex": [
       "A data.frame: 1 × 3\n",
       "\\begin{tabular}{lll}\n",
       " Id & Year.Built & SalePrice\\\\\n",
       " <int> & <int> & <int>\\\\\n",
       "\\hline\n",
       "\t 105 & 2010 & 267916\\\\\n",
       "\\end{tabular}\n"
      ],
      "text/markdown": [
       "\n",
       "A data.frame: 1 × 3\n",
       "\n",
       "| Id &lt;int&gt; | Year.Built &lt;int&gt; | SalePrice &lt;int&gt; |\n",
       "|---|---|---|\n",
       "| 105 | 2010 | 267916 |\n",
       "\n"
      ],
      "text/plain": [
       "  Id  Year.Built SalePrice\n",
       "1 105 2010       267916   "
      ]
     },
     "metadata": {},
     "output_type": "display_data"
    }
   ],
   "source": [
    "print(\"Nha moi nhat: \")\n",
    "data_sub %>% filter(Year.Built == 2010)"
   ]
  },
  {
   "cell_type": "markdown",
   "metadata": {
    "id": "wEG12KKDRoEU"
   },
   "source": [
    "#### 9. Thống kê số lượng các căn nhà được xây theo từng năm. In head và tail.  Cho biết năm nào có nhiều nhà được xây nhất? "
   ]
  },
  {
   "cell_type": "code",
   "execution_count": 25,
   "metadata": {},
   "outputs": [
    {
     "data": {
      "text/html": [
       "<table class=\"dataframe\">\n",
       "<caption>A data.frame: 6 × 2</caption>\n",
       "<thead>\n",
       "\t<tr><th></th><th scope=col>Year.Built</th><th scope=col>n</th></tr>\n",
       "\t<tr><th></th><th scope=col>&lt;int&gt;</th><th scope=col>&lt;int&gt;</th></tr>\n",
       "</thead>\n",
       "<tbody>\n",
       "\t<tr><th scope=row>1</th><td>1872</td><td>1</td></tr>\n",
       "\t<tr><th scope=row>2</th><td>1875</td><td>1</td></tr>\n",
       "\t<tr><th scope=row>3</th><td>1879</td><td>1</td></tr>\n",
       "\t<tr><th scope=row>4</th><td>1880</td><td>3</td></tr>\n",
       "\t<tr><th scope=row>5</th><td>1885</td><td>1</td></tr>\n",
       "\t<tr><th scope=row>6</th><td>1890</td><td>5</td></tr>\n",
       "</tbody>\n",
       "</table>\n"
      ],
      "text/latex": [
       "A data.frame: 6 × 2\n",
       "\\begin{tabular}{r|ll}\n",
       "  & Year.Built & n\\\\\n",
       "  & <int> & <int>\\\\\n",
       "\\hline\n",
       "\t1 & 1872 & 1\\\\\n",
       "\t2 & 1875 & 1\\\\\n",
       "\t3 & 1879 & 1\\\\\n",
       "\t4 & 1880 & 3\\\\\n",
       "\t5 & 1885 & 1\\\\\n",
       "\t6 & 1890 & 5\\\\\n",
       "\\end{tabular}\n"
      ],
      "text/markdown": [
       "\n",
       "A data.frame: 6 × 2\n",
       "\n",
       "| <!--/--> | Year.Built &lt;int&gt; | n &lt;int&gt; |\n",
       "|---|---|---|\n",
       "| 1 | 1872 | 1 |\n",
       "| 2 | 1875 | 1 |\n",
       "| 3 | 1879 | 1 |\n",
       "| 4 | 1880 | 3 |\n",
       "| 5 | 1885 | 1 |\n",
       "| 6 | 1890 | 5 |\n",
       "\n"
      ],
      "text/plain": [
       "  Year.Built n\n",
       "1 1872       1\n",
       "2 1875       1\n",
       "3 1879       1\n",
       "4 1880       3\n",
       "5 1885       1\n",
       "6 1890       5"
      ]
     },
     "metadata": {},
     "output_type": "display_data"
    }
   ],
   "source": [
    "year.built_count <- count(data, Year.Built)\n",
    "head(year.built_count)"
   ]
  },
  {
   "cell_type": "code",
   "execution_count": 26,
   "metadata": {},
   "outputs": [
    {
     "data": {
      "text/html": [
       "<table class=\"dataframe\">\n",
       "<caption>A data.frame: 6 × 2</caption>\n",
       "<thead>\n",
       "\t<tr><th></th><th scope=col>Year.Built</th><th scope=col>n</th></tr>\n",
       "\t<tr><th></th><th scope=col>&lt;int&gt;</th><th scope=col>&lt;int&gt;</th></tr>\n",
       "</thead>\n",
       "<tbody>\n",
       "\t<tr><th scope=row>108</th><td>2005</td><td>102</td></tr>\n",
       "\t<tr><th scope=row>109</th><td>2006</td><td> 99</td></tr>\n",
       "\t<tr><th scope=row>110</th><td>2007</td><td> 78</td></tr>\n",
       "\t<tr><th scope=row>111</th><td>2008</td><td> 36</td></tr>\n",
       "\t<tr><th scope=row>112</th><td>2009</td><td> 14</td></tr>\n",
       "\t<tr><th scope=row>113</th><td>2010</td><td>  1</td></tr>\n",
       "</tbody>\n",
       "</table>\n"
      ],
      "text/latex": [
       "A data.frame: 6 × 2\n",
       "\\begin{tabular}{r|ll}\n",
       "  & Year.Built & n\\\\\n",
       "  & <int> & <int>\\\\\n",
       "\\hline\n",
       "\t108 & 2005 & 102\\\\\n",
       "\t109 & 2006 &  99\\\\\n",
       "\t110 & 2007 &  78\\\\\n",
       "\t111 & 2008 &  36\\\\\n",
       "\t112 & 2009 &  14\\\\\n",
       "\t113 & 2010 &   1\\\\\n",
       "\\end{tabular}\n"
      ],
      "text/markdown": [
       "\n",
       "A data.frame: 6 × 2\n",
       "\n",
       "| <!--/--> | Year.Built &lt;int&gt; | n &lt;int&gt; |\n",
       "|---|---|---|\n",
       "| 108 | 2005 | 102 |\n",
       "| 109 | 2006 |  99 |\n",
       "| 110 | 2007 |  78 |\n",
       "| 111 | 2008 |  36 |\n",
       "| 112 | 2009 |  14 |\n",
       "| 113 | 2010 |   1 |\n",
       "\n"
      ],
      "text/plain": [
       "    Year.Built n  \n",
       "108 2005       102\n",
       "109 2006        99\n",
       "110 2007        78\n",
       "111 2008        36\n",
       "112 2009        14\n",
       "113 2010         1"
      ]
     },
     "metadata": {},
     "output_type": "display_data"
    }
   ],
   "source": [
    "tail(year.built_count)"
   ]
  },
  {
   "cell_type": "code",
   "execution_count": 27,
   "metadata": {},
   "outputs": [
    {
     "data": {
      "text/html": [
       "<table class=\"dataframe\">\n",
       "<caption>A data.frame: 1 × 2</caption>\n",
       "<thead>\n",
       "\t<tr><th scope=col>Year.Built</th><th scope=col>n</th></tr>\n",
       "\t<tr><th scope=col>&lt;int&gt;</th><th scope=col>&lt;int&gt;</th></tr>\n",
       "</thead>\n",
       "<tbody>\n",
       "\t<tr><td>2005</td><td>102</td></tr>\n",
       "</tbody>\n",
       "</table>\n"
      ],
      "text/latex": [
       "A data.frame: 1 × 2\n",
       "\\begin{tabular}{ll}\n",
       " Year.Built & n\\\\\n",
       " <int> & <int>\\\\\n",
       "\\hline\n",
       "\t 2005 & 102\\\\\n",
       "\\end{tabular}\n"
      ],
      "text/markdown": [
       "\n",
       "A data.frame: 1 × 2\n",
       "\n",
       "| Year.Built &lt;int&gt; | n &lt;int&gt; |\n",
       "|---|---|\n",
       "| 2005 | 102 |\n",
       "\n"
      ],
      "text/plain": [
       "  Year.Built n  \n",
       "1 2005       102"
      ]
     },
     "metadata": {},
     "output_type": "display_data"
    }
   ],
   "source": [
    "year.built_count %>% filter(year.built_count[,2] == max(year.built_count[,2]))"
   ]
  },
  {
   "cell_type": "markdown",
   "metadata": {},
   "source": [
    "Năm có nhiều nhà được xây nhất là 2005."
   ]
  },
  {
   "cell_type": "markdown",
   "metadata": {
    "id": "cC-W1-EdUSWK"
   },
   "source": [
    "#### 10. Trực quan hóa kết quả của câu thống kê trên với 10 năm gần đây nhất bằng barplot; với tất cả các năm bằng line."
   ]
  },
  {
   "cell_type": "code",
   "execution_count": 28,
   "metadata": {},
   "outputs": [
    {
     "data": {
      "image/png": "[encoded data removed]",
      "text/plain": [
       "Plot with title \"Houses built in the last 10 years\""
      ]
     },
     "metadata": {
      "image/png": {
       "height": 420,
       "width": 420
      }
     },
     "output_type": "display_data"
    }
   ],
   "source": [
    "barplot(tail(year.built_count,10)[,2], names.arg = tail(year.built_count,10)[,1], xlab=\"Year\", ylab=\"Houses\",\n",
    "       col=\"gray\",main=\"Houses built in the last 10 years\", border=\"red\")"
   ]
  },
  {
   "cell_type": "markdown",
   "metadata": {},
   "source": [
    "Số lượng nhà xây vào năm 2005 là nhiều nhất trong 10 năm gần nhất. Từ năm 2003 đến 2007, nhiều nhà mới được xây lên."
   ]
  },
  {
   "cell_type": "code",
   "execution_count": 29,
   "metadata": {},
   "outputs": [
    {
     "data": {
      "image/png": "[encoded data removed]",
      "text/plain": [
       "Plot with title \"Houses building trend\""
      ]
     },
     "metadata": {
      "image/png": {
       "height": 420,
       "width": 420
      }
     },
     "output_type": "display_data"
    }
   ],
   "source": [
    "plot(year.built_count[,2], type=\"o\",col=\"red\",xlab=\"Year\",ylab=\"Houses\",\n",
    "    main=\"Houses building trend\",xaxt ='n')\n",
    "axis(1,at=1:nrow(year.built_count),labels=year.built_count[,1])"
   ]
  },
  {
   "cell_type": "markdown",
   "metadata": {},
   "source": [
    "Số lượng nhà được xây tăng dần theo năm, riêng khoảng đầu năm 2000, số lượng nhà được xây tăng đột biến, cao gấp 3 lần đỉnh điểm của những năm trước: hơn 100 căn được xây trong 1 năm. "
   ]
  },
  {
   "cell_type": "markdown",
   "metadata": {
    "id": "OF0ymOCpJKAI"
   },
   "source": [
    "#### 11. Vẽ boxplot của cột SalePrice. "
   ]
  },
  {
   "cell_type": "code",
   "execution_count": 30,
   "metadata": {},
   "outputs": [
    {
     "data": {
      "image/png": "[encoded data removed]",
      "text/plain": [
       "Plot with title \"Sale Price\""
      ]
     },
     "metadata": {
      "image/png": {
       "height": 420,
       "width": 420
      }
     },
     "output_type": "display_data"
    }
   ],
   "source": [
    "boxplot(data$SalePrice, main=\"Sale Price\",ylab=\"m\", notch=TRUE, varwidth=TRUE, \n",
    "        col=c(\"green\"))"
   ]
  },
  {
   "cell_type": "markdown",
   "metadata": {},
   "source": [
    "Giá bán tập trung đông nhất vào khoảng 120000 đến 205000. Ngoài ra phần giá trị ngoại lai từ 320000 đến 470000 cũng chiếm phần đông, nên phần này có thể có giá trị thống kê."
   ]
  },
  {
   "cell_type": "markdown",
   "metadata": {
    "id": "7l2OXoc2ieAB"
   },
   "source": [
    "## Câu 2: canxi\n",
    "### Cho dữ liệu canxi.xlsx. Hãy thực hiện các yêu cầu được liệt kê bên dưới\n",
    "\n"
   ]
  },
  {
   "cell_type": "markdown",
   "metadata": {
    "id": "AR7b4V_Mjnhn"
   },
   "source": [
    "#### 1. Đọc dữ liệu. Xem thông tin dữ liệu với head(), tail(), str(), summary().\n"
   ]
  },
  {
   "cell_type": "code",
   "execution_count": 31,
   "metadata": {},
   "outputs": [
    {
     "name": "stderr",
     "output_type": "stream",
     "text": [
      "Warning message:\n",
      "\"package 'xlsx' was built under R version 3.6.3\"\n"
     ]
    }
   ],
   "source": [
    "library(\"xlsx\")"
   ]
  },
  {
   "cell_type": "code",
   "execution_count": 32,
   "metadata": {},
   "outputs": [],
   "source": [
    "canxi <- read.xlsx(\"canxi.xlsx\", sheetIndex = 1)"
   ]
  },
  {
   "cell_type": "code",
   "execution_count": 33,
   "metadata": {},
   "outputs": [
    {
     "data": {
      "text/html": [
       "<table class=\"dataframe\">\n",
       "<caption>A data.frame: 6 × 3</caption>\n",
       "<thead>\n",
       "\t<tr><th></th><th scope=col>response_number</th><th scope=col>knowledge_score</th><th scope=col>calcium_intake</th></tr>\n",
       "\t<tr><th></th><th scope=col>&lt;dbl&gt;</th><th scope=col>&lt;dbl&gt;</th><th scope=col>&lt;dbl&gt;</th></tr>\n",
       "</thead>\n",
       "<tbody>\n",
       "\t<tr><th scope=row>1</th><td>1</td><td>1.0</td><td>0.450</td></tr>\n",
       "\t<tr><th scope=row>2</th><td>2</td><td>4.2</td><td>1.050</td></tr>\n",
       "\t<tr><th scope=row>3</th><td>3</td><td>3.8</td><td>0.900</td></tr>\n",
       "\t<tr><th scope=row>4</th><td>4</td><td>1.5</td><td>0.525</td></tr>\n",
       "\t<tr><th scope=row>5</th><td>5</td><td>2.2</td><td>0.710</td></tr>\n",
       "\t<tr><th scope=row>6</th><td>6</td><td>3.2</td><td>0.854</td></tr>\n",
       "</tbody>\n",
       "</table>\n"
      ],
      "text/latex": [
       "A data.frame: 6 × 3\n",
       "\\begin{tabular}{r|lll}\n",
       "  & response\\_number & knowledge\\_score & calcium\\_intake\\\\\n",
       "  & <dbl> & <dbl> & <dbl>\\\\\n",
       "\\hline\n",
       "\t1 & 1 & 1.0 & 0.450\\\\\n",
       "\t2 & 2 & 4.2 & 1.050\\\\\n",
       "\t3 & 3 & 3.8 & 0.900\\\\\n",
       "\t4 & 4 & 1.5 & 0.525\\\\\n",
       "\t5 & 5 & 2.2 & 0.710\\\\\n",
       "\t6 & 6 & 3.2 & 0.854\\\\\n",
       "\\end{tabular}\n"
      ],
      "text/markdown": [
       "\n",
       "A data.frame: 6 × 3\n",
       "\n",
       "| <!--/--> | response_number &lt;dbl&gt; | knowledge_score &lt;dbl&gt; | calcium_intake &lt;dbl&gt; |\n",
       "|---|---|---|---|\n",
       "| 1 | 1 | 1.0 | 0.450 |\n",
       "| 2 | 2 | 4.2 | 1.050 |\n",
       "| 3 | 3 | 3.8 | 0.900 |\n",
       "| 4 | 4 | 1.5 | 0.525 |\n",
       "| 5 | 5 | 2.2 | 0.710 |\n",
       "| 6 | 6 | 3.2 | 0.854 |\n",
       "\n"
      ],
      "text/plain": [
       "  response_number knowledge_score calcium_intake\n",
       "1 1               1.0             0.450         \n",
       "2 2               4.2             1.050         \n",
       "3 3               3.8             0.900         \n",
       "4 4               1.5             0.525         \n",
       "5 5               2.2             0.710         \n",
       "6 6               3.2             0.854         "
      ]
     },
     "metadata": {},
     "output_type": "display_data"
    }
   ],
   "source": [
    "head(canxi)"
   ]
  },
  {
   "cell_type": "code",
   "execution_count": 34,
   "metadata": {},
   "outputs": [
    {
     "data": {
      "text/html": [
       "<table class=\"dataframe\">\n",
       "<caption>A data.frame: 6 × 3</caption>\n",
       "<thead>\n",
       "\t<tr><th></th><th scope=col>response_number</th><th scope=col>knowledge_score</th><th scope=col>calcium_intake</th></tr>\n",
       "\t<tr><th></th><th scope=col>&lt;dbl&gt;</th><th scope=col>&lt;dbl&gt;</th><th scope=col>&lt;dbl&gt;</th></tr>\n",
       "</thead>\n",
       "<tbody>\n",
       "\t<tr><th scope=row>15</th><td>15</td><td>2.2</td><td>0.583</td></tr>\n",
       "\t<tr><th scope=row>16</th><td>16</td><td>4.5</td><td>0.850</td></tr>\n",
       "\t<tr><th scope=row>17</th><td>17</td><td>1.8</td><td>0.798</td></tr>\n",
       "\t<tr><th scope=row>18</th><td>18</td><td>2.4</td><td>0.754</td></tr>\n",
       "\t<tr><th scope=row>19</th><td>19</td><td>3.0</td><td>0.805</td></tr>\n",
       "\t<tr><th scope=row>20</th><td>20</td><td>4.3</td><td>1.085</td></tr>\n",
       "</tbody>\n",
       "</table>\n"
      ],
      "text/latex": [
       "A data.frame: 6 × 3\n",
       "\\begin{tabular}{r|lll}\n",
       "  & response\\_number & knowledge\\_score & calcium\\_intake\\\\\n",
       "  & <dbl> & <dbl> & <dbl>\\\\\n",
       "\\hline\n",
       "\t15 & 15 & 2.2 & 0.583\\\\\n",
       "\t16 & 16 & 4.5 & 0.850\\\\\n",
       "\t17 & 17 & 1.8 & 0.798\\\\\n",
       "\t18 & 18 & 2.4 & 0.754\\\\\n",
       "\t19 & 19 & 3.0 & 0.805\\\\\n",
       "\t20 & 20 & 4.3 & 1.085\\\\\n",
       "\\end{tabular}\n"
      ],
      "text/markdown": [
       "\n",
       "A data.frame: 6 × 3\n",
       "\n",
       "| <!--/--> | response_number &lt;dbl&gt; | knowledge_score &lt;dbl&gt; | calcium_intake &lt;dbl&gt; |\n",
       "|---|---|---|---|\n",
       "| 15 | 15 | 2.2 | 0.583 |\n",
       "| 16 | 16 | 4.5 | 0.850 |\n",
       "| 17 | 17 | 1.8 | 0.798 |\n",
       "| 18 | 18 | 2.4 | 0.754 |\n",
       "| 19 | 19 | 3.0 | 0.805 |\n",
       "| 20 | 20 | 4.3 | 1.085 |\n",
       "\n"
      ],
      "text/plain": [
       "   response_number knowledge_score calcium_intake\n",
       "15 15              2.2             0.583         \n",
       "16 16              4.5             0.850         \n",
       "17 17              1.8             0.798         \n",
       "18 18              2.4             0.754         \n",
       "19 19              3.0             0.805         \n",
       "20 20              4.3             1.085         "
      ]
     },
     "metadata": {},
     "output_type": "display_data"
    }
   ],
   "source": [
    "tail(canxi)"
   ]
  },
  {
   "cell_type": "code",
   "execution_count": 35,
   "metadata": {},
   "outputs": [
    {
     "name": "stdout",
     "output_type": "stream",
     "text": [
      "'data.frame':\t20 obs. of  3 variables:\n",
      " $ response_number: num  1 2 3 4 5 6 7 8 9 10 ...\n",
      " $ knowledge_score: num  1 4.2 3.8 1.5 2.2 3.2 4 1.4 2.6 3.2 ...\n",
      " $ calcium_intake : num  0.45 1.05 0.9 0.525 0.71 0.854 0.8 0.493 0.73 0.894 ...\n"
     ]
    }
   ],
   "source": [
    "str(canxi)"
   ]
  },
  {
   "cell_type": "code",
   "execution_count": 36,
   "metadata": {},
   "outputs": [
    {
     "data": {
      "text/plain": [
       " response_number knowledge_score calcium_intake  \n",
       " Min.   : 1.00   Min.   :1.00    Min.   :0.4500  \n",
       " 1st Qu.: 5.75   1st Qu.:2.20    1st Qu.:0.7250  \n",
       " Median :10.50   Median :2.90    Median :0.7990  \n",
       " Mean   :10.50   Mean   :2.96    Mean   :0.7851  \n",
       " 3rd Qu.:15.25   3rd Qu.:3.85    3rd Qu.:0.8955  \n",
       " Max.   :20.00   Max.   :4.80    Max.   :1.0850  "
      ]
     },
     "metadata": {},
     "output_type": "display_data"
    }
   ],
   "source": [
    "summary(canxi)"
   ]
  },
  {
   "cell_type": "markdown",
   "metadata": {
    "id": "e4qomm4ZjsNt"
   },
   "source": [
    "#### 2. Vẽ biểu đồ phân phối tần suất của knowledge_score. Nhận xét.\n"
   ]
  },
  {
   "cell_type": "code",
   "execution_count": 37,
   "metadata": {},
   "outputs": [
    {
     "data": {
      "text/html": [
       "<table class=\"dataframe\">\n",
       "<caption>A data.frame: 17 × 2</caption>\n",
       "<thead>\n",
       "\t<tr><th scope=col>knowledge_score</th><th scope=col>n</th></tr>\n",
       "\t<tr><th scope=col>&lt;dbl&gt;</th><th scope=col>&lt;int&gt;</th></tr>\n",
       "</thead>\n",
       "<tbody>\n",
       "\t<tr><td>1.0</td><td>1</td></tr>\n",
       "\t<tr><td>1.4</td><td>1</td></tr>\n",
       "\t<tr><td>1.5</td><td>1</td></tr>\n",
       "\t<tr><td>1.8</td><td>1</td></tr>\n",
       "\t<tr><td>2.2</td><td>2</td></tr>\n",
       "\t<tr><td>2.4</td><td>1</td></tr>\n",
       "\t<tr><td>2.5</td><td>1</td></tr>\n",
       "\t<tr><td>2.6</td><td>1</td></tr>\n",
       "\t<tr><td>2.8</td><td>1</td></tr>\n",
       "\t<tr><td>3.0</td><td>1</td></tr>\n",
       "\t<tr><td>3.2</td><td>2</td></tr>\n",
       "\t<tr><td>3.8</td><td>2</td></tr>\n",
       "\t<tr><td>4.0</td><td>1</td></tr>\n",
       "\t<tr><td>4.2</td><td>1</td></tr>\n",
       "\t<tr><td>4.3</td><td>1</td></tr>\n",
       "\t<tr><td>4.5</td><td>1</td></tr>\n",
       "\t<tr><td>4.8</td><td>1</td></tr>\n",
       "</tbody>\n",
       "</table>\n"
      ],
      "text/latex": [
       "A data.frame: 17 × 2\n",
       "\\begin{tabular}{ll}\n",
       " knowledge\\_score & n\\\\\n",
       " <dbl> & <int>\\\\\n",
       "\\hline\n",
       "\t 1.0 & 1\\\\\n",
       "\t 1.4 & 1\\\\\n",
       "\t 1.5 & 1\\\\\n",
       "\t 1.8 & 1\\\\\n",
       "\t 2.2 & 2\\\\\n",
       "\t 2.4 & 1\\\\\n",
       "\t 2.5 & 1\\\\\n",
       "\t 2.6 & 1\\\\\n",
       "\t 2.8 & 1\\\\\n",
       "\t 3.0 & 1\\\\\n",
       "\t 3.2 & 2\\\\\n",
       "\t 3.8 & 2\\\\\n",
       "\t 4.0 & 1\\\\\n",
       "\t 4.2 & 1\\\\\n",
       "\t 4.3 & 1\\\\\n",
       "\t 4.5 & 1\\\\\n",
       "\t 4.8 & 1\\\\\n",
       "\\end{tabular}\n"
      ],
      "text/markdown": [
       "\n",
       "A data.frame: 17 × 2\n",
       "\n",
       "| knowledge_score &lt;dbl&gt; | n &lt;int&gt; |\n",
       "|---|---|\n",
       "| 1.0 | 1 |\n",
       "| 1.4 | 1 |\n",
       "| 1.5 | 1 |\n",
       "| 1.8 | 1 |\n",
       "| 2.2 | 2 |\n",
       "| 2.4 | 1 |\n",
       "| 2.5 | 1 |\n",
       "| 2.6 | 1 |\n",
       "| 2.8 | 1 |\n",
       "| 3.0 | 1 |\n",
       "| 3.2 | 2 |\n",
       "| 3.8 | 2 |\n",
       "| 4.0 | 1 |\n",
       "| 4.2 | 1 |\n",
       "| 4.3 | 1 |\n",
       "| 4.5 | 1 |\n",
       "| 4.8 | 1 |\n",
       "\n"
      ],
      "text/plain": [
       "   knowledge_score n\n",
       "1  1.0             1\n",
       "2  1.4             1\n",
       "3  1.5             1\n",
       "4  1.8             1\n",
       "5  2.2             2\n",
       "6  2.4             1\n",
       "7  2.5             1\n",
       "8  2.6             1\n",
       "9  2.8             1\n",
       "10 3.0             1\n",
       "11 3.2             2\n",
       "12 3.8             2\n",
       "13 4.0             1\n",
       "14 4.2             1\n",
       "15 4.3             1\n",
       "16 4.5             1\n",
       "17 4.8             1"
      ]
     },
     "metadata": {},
     "output_type": "display_data"
    }
   ],
   "source": [
    "count(canxi, knowledge_score)"
   ]
  },
  {
   "cell_type": "code",
   "execution_count": 38,
   "metadata": {},
   "outputs": [
    {
     "data": {
      "image/png": "[encoded data removed]",
      "text/plain": [
       "Plot with title \"Histogram of knowledge_score\""
      ]
     },
     "metadata": {
      "image/png": {
       "height": 420,
       "width": 420
      }
     },
     "output_type": "display_data"
    }
   ],
   "source": [
    "hist(canxi[,c(\"knowledge_score\")], main=\"Histogram of knowledge_score\", xlab=\"knowledge_score\",col=\"orange\")"
   ]
  },
  {
   "cell_type": "markdown",
   "metadata": {},
   "source": [
    "Knowledge score tập trung vào các khoảng 2-3, 3.5-4.5 và 1-1.5. Cao nhất nằm vảo khoảng 2-2.5."
   ]
  },
  {
   "cell_type": "markdown",
   "metadata": {
    "id": "mXukDFM5jxxU"
   },
   "source": [
    "#### 3. Thực hiện các thống kê cơ bản cho knowledge_score và calcium_intake (mean, median, max, min)"
   ]
  },
  {
   "cell_type": "code",
   "execution_count": 39,
   "metadata": {},
   "outputs": [
    {
     "name": "stdout",
     "output_type": "stream",
     "text": [
      "[1] \"Thong ke co ban cua knowledge_score: \"\n",
      "[1] \"mean 2.96\"\n",
      "[1] \"median 2.9\"\n",
      "[1] \"max 4.8\"\n",
      "[1] \"min 1\"\n"
     ]
    }
   ],
   "source": [
    "print(\"Thong ke co ban cua knowledge_score: \")\n",
    "print(paste(\"mean\", mean(canxi$knowledge_score)))\n",
    "print(paste(\"median\",median(canxi$knowledge_score)))\n",
    "print(paste(\"max\",max(canxi$knowledge_score)))\n",
    "print(paste(\"min\",min(canxi$knowledge_score)))"
   ]
  },
  {
   "cell_type": "code",
   "execution_count": 40,
   "metadata": {},
   "outputs": [
    {
     "name": "stdout",
     "output_type": "stream",
     "text": [
      "[1] \"Thong ke co ban cua calcium_intake: \"\n",
      "[1] \"mean 0.7851\"\n",
      "[1] \"median 0.799\"\n",
      "[1] \"max 1.085\"\n",
      "[1] \"min 0.45\"\n"
     ]
    }
   ],
   "source": [
    "print(\"Thong ke co ban cua calcium_intake: \")\n",
    "print(paste(\"mean\",mean(canxi$calcium_intake)))\n",
    "print(paste(\"median\",median(canxi$calcium_intake)))\n",
    "print(paste(\"max\", max(canxi$calcium_intake)))\n",
    "print(paste(\"min\",min(canxi$calcium_intake)))"
   ]
  },
  {
   "cell_type": "markdown",
   "metadata": {
    "id": "6-A3BWvVkC3H"
   },
   "source": [
    "#### 4. Vẽ boxplot cho knowledge_score và cho calcium_intake. knowledge_score có outlier hay không? calcium_intake có outlier hay không? Nhận xét"
   ]
  },
  {
   "cell_type": "code",
   "execution_count": 41,
   "metadata": {},
   "outputs": [
    {
     "data": {
      "image/png": "[encoded data removed]",
      "text/plain": [
       "Plot with title \"knowledge_score\""
      ]
     },
     "metadata": {
      "image/png": {
       "height": 420,
       "width": 420
      }
     },
     "output_type": "display_data"
    }
   ],
   "source": [
    "boxplot(canxi$knowledge_score, main=\"knowledge_score\",ylab=\"m\", notch=TRUE, varwidth=TRUE, \n",
    "        col=c(\"green\"))"
   ]
  },
  {
   "cell_type": "markdown",
   "metadata": {},
   "source": [
    "Nhận xét:\n",
    "Knowledge score không có outliers, tập trung vào khoảng 2.3 đến 3.9."
   ]
  },
  {
   "cell_type": "code",
   "execution_count": 42,
   "metadata": {},
   "outputs": [
    {
     "data": {
      "image/png": "[encoded data removed]",
      "text/plain": [
       "Plot with title \"calcium_intake\""
      ]
     },
     "metadata": {
      "image/png": {
       "height": 420,
       "width": 420
      }
     },
     "output_type": "display_data"
    }
   ],
   "source": [
    "boxplot(canxi$calcium_intake, main=\"calcium_intake\",ylab=\"m\", notch=TRUE, varwidth=TRUE, \n",
    "        col=c(\"green\"))"
   ]
  },
  {
   "cell_type": "markdown",
   "metadata": {},
   "source": [
    "Nhận xét: \n",
    "Calcium intake không có outliers. Các giá trị tập trung vào khoảng 0.71 tới 0.89."
   ]
  },
  {
   "cell_type": "markdown",
   "metadata": {
    "id": "7wvKajNIkPtn"
   },
   "source": [
    "#### 5. Vẽ biểu đồ thể hiện mối quan hệ giữa knowledge_score và calcium_intake. Nhận xét."
   ]
  },
  {
   "cell_type": "code",
   "execution_count": 43,
   "metadata": {},
   "outputs": [],
   "source": [
    "knowledge_calcium <- subset(canxi, select = c(knowledge_score, calcium_intake))"
   ]
  },
  {
   "cell_type": "code",
   "execution_count": 44,
   "metadata": {},
   "outputs": [
    {
     "data": {
      "text/html": [
       "<table class=\"dataframe\">\n",
       "<caption>A data.frame: 20 × 2</caption>\n",
       "<thead>\n",
       "\t<tr><th></th><th scope=col>knowledge_score</th><th scope=col>calcium_intake</th></tr>\n",
       "\t<tr><th></th><th scope=col>&lt;dbl&gt;</th><th scope=col>&lt;dbl&gt;</th></tr>\n",
       "</thead>\n",
       "<tbody>\n",
       "\t<tr><th scope=row>1</th><td>1.0</td><td>0.450</td></tr>\n",
       "\t<tr><th scope=row>2</th><td>4.2</td><td>1.050</td></tr>\n",
       "\t<tr><th scope=row>3</th><td>3.8</td><td>0.900</td></tr>\n",
       "\t<tr><th scope=row>4</th><td>1.5</td><td>0.525</td></tr>\n",
       "\t<tr><th scope=row>5</th><td>2.2</td><td>0.710</td></tr>\n",
       "\t<tr><th scope=row>6</th><td>3.2</td><td>0.854</td></tr>\n",
       "\t<tr><th scope=row>7</th><td>4.0</td><td>0.800</td></tr>\n",
       "\t<tr><th scope=row>8</th><td>1.4</td><td>0.493</td></tr>\n",
       "\t<tr><th scope=row>9</th><td>2.6</td><td>0.730</td></tr>\n",
       "\t<tr><th scope=row>10</th><td>3.2</td><td>0.894</td></tr>\n",
       "\t<tr><th scope=row>11</th><td>3.8</td><td>0.940</td></tr>\n",
       "\t<tr><th scope=row>12</th><td>2.5</td><td>0.733</td></tr>\n",
       "\t<tr><th scope=row>13</th><td>4.8</td><td>0.985</td></tr>\n",
       "\t<tr><th scope=row>14</th><td>2.8</td><td>0.763</td></tr>\n",
       "\t<tr><th scope=row>15</th><td>2.2</td><td>0.583</td></tr>\n",
       "\t<tr><th scope=row>16</th><td>4.5</td><td>0.850</td></tr>\n",
       "\t<tr><th scope=row>17</th><td>1.8</td><td>0.798</td></tr>\n",
       "\t<tr><th scope=row>18</th><td>2.4</td><td>0.754</td></tr>\n",
       "\t<tr><th scope=row>19</th><td>3.0</td><td>0.805</td></tr>\n",
       "\t<tr><th scope=row>20</th><td>4.3</td><td>1.085</td></tr>\n",
       "</tbody>\n",
       "</table>\n"
      ],
      "text/latex": [
       "A data.frame: 20 × 2\n",
       "\\begin{tabular}{r|ll}\n",
       "  & knowledge\\_score & calcium\\_intake\\\\\n",
       "  & <dbl> & <dbl>\\\\\n",
       "\\hline\n",
       "\t1 & 1.0 & 0.450\\\\\n",
       "\t2 & 4.2 & 1.050\\\\\n",
       "\t3 & 3.8 & 0.900\\\\\n",
       "\t4 & 1.5 & 0.525\\\\\n",
       "\t5 & 2.2 & 0.710\\\\\n",
       "\t6 & 3.2 & 0.854\\\\\n",
       "\t7 & 4.0 & 0.800\\\\\n",
       "\t8 & 1.4 & 0.493\\\\\n",
       "\t9 & 2.6 & 0.730\\\\\n",
       "\t10 & 3.2 & 0.894\\\\\n",
       "\t11 & 3.8 & 0.940\\\\\n",
       "\t12 & 2.5 & 0.733\\\\\n",
       "\t13 & 4.8 & 0.985\\\\\n",
       "\t14 & 2.8 & 0.763\\\\\n",
       "\t15 & 2.2 & 0.583\\\\\n",
       "\t16 & 4.5 & 0.850\\\\\n",
       "\t17 & 1.8 & 0.798\\\\\n",
       "\t18 & 2.4 & 0.754\\\\\n",
       "\t19 & 3.0 & 0.805\\\\\n",
       "\t20 & 4.3 & 1.085\\\\\n",
       "\\end{tabular}\n"
      ],
      "text/markdown": [
       "\n",
       "A data.frame: 20 × 2\n",
       "\n",
       "| <!--/--> | knowledge_score &lt;dbl&gt; | calcium_intake &lt;dbl&gt; |\n",
       "|---|---|---|\n",
       "| 1 | 1.0 | 0.450 |\n",
       "| 2 | 4.2 | 1.050 |\n",
       "| 3 | 3.8 | 0.900 |\n",
       "| 4 | 1.5 | 0.525 |\n",
       "| 5 | 2.2 | 0.710 |\n",
       "| 6 | 3.2 | 0.854 |\n",
       "| 7 | 4.0 | 0.800 |\n",
       "| 8 | 1.4 | 0.493 |\n",
       "| 9 | 2.6 | 0.730 |\n",
       "| 10 | 3.2 | 0.894 |\n",
       "| 11 | 3.8 | 0.940 |\n",
       "| 12 | 2.5 | 0.733 |\n",
       "| 13 | 4.8 | 0.985 |\n",
       "| 14 | 2.8 | 0.763 |\n",
       "| 15 | 2.2 | 0.583 |\n",
       "| 16 | 4.5 | 0.850 |\n",
       "| 17 | 1.8 | 0.798 |\n",
       "| 18 | 2.4 | 0.754 |\n",
       "| 19 | 3.0 | 0.805 |\n",
       "| 20 | 4.3 | 1.085 |\n",
       "\n"
      ],
      "text/plain": [
       "   knowledge_score calcium_intake\n",
       "1  1.0             0.450         \n",
       "2  4.2             1.050         \n",
       "3  3.8             0.900         \n",
       "4  1.5             0.525         \n",
       "5  2.2             0.710         \n",
       "6  3.2             0.854         \n",
       "7  4.0             0.800         \n",
       "8  1.4             0.493         \n",
       "9  2.6             0.730         \n",
       "10 3.2             0.894         \n",
       "11 3.8             0.940         \n",
       "12 2.5             0.733         \n",
       "13 4.8             0.985         \n",
       "14 2.8             0.763         \n",
       "15 2.2             0.583         \n",
       "16 4.5             0.850         \n",
       "17 1.8             0.798         \n",
       "18 2.4             0.754         \n",
       "19 3.0             0.805         \n",
       "20 4.3             1.085         "
      ]
     },
     "metadata": {},
     "output_type": "display_data"
    }
   ],
   "source": [
    "knowledge_calcium"
   ]
  },
  {
   "cell_type": "code",
   "execution_count": 45,
   "metadata": {},
   "outputs": [
    {
     "data": {
      "image/png": "[encoded data removed]",
      "text/plain": [
       "Plot with title \"knowledge score vs calcium intake\""
      ]
     },
     "metadata": {
      "image/png": {
       "height": 420,
       "width": 420
      }
     },
     "output_type": "display_data"
    }
   ],
   "source": [
    "plot(x=knowledge_calcium$knowledge_score, y=knowledge_calcium$calcium_intake,\n",
    "    ylab=\"calcium_intake\", xlab = \"knowledge_score\",\n",
    "    main=\"knowledge score vs calcium intake\")"
   ]
  },
  {
   "cell_type": "markdown",
   "metadata": {},
   "source": [
    "Knowledge score và calcium intake tỉ lệ thuận, knowledge score càng cao thì calcium_intake càng cao."
   ]
  },
  {
   "cell_type": "markdown",
   "metadata": {
    "id": "Q0rLhFgIxv3F"
   },
   "source": [
    "## Câu 3: Cho dữ liệu fruit_data_with_colors.txt\n",
    "### Hãy thực hiện các yêu cầu sau:"
   ]
  },
  {
   "cell_type": "markdown",
   "metadata": {
    "id": "r9GUwzs1x5eq"
   },
   "source": [
    "#### 1. Đọc dữ liệu. Xem thông tin dữ liệu với head(), tail(), str(), summary()."
   ]
  },
  {
   "cell_type": "code",
   "execution_count": 46,
   "metadata": {},
   "outputs": [
    {
     "data": {
      "text/html": [
       "<table class=\"dataframe\">\n",
       "<caption>A data.frame: 6 × 7</caption>\n",
       "<thead>\n",
       "\t<tr><th></th><th scope=col>fruit_label</th><th scope=col>fruit_name</th><th scope=col>fruit_subtype</th><th scope=col>mass</th><th scope=col>width</th><th scope=col>height</th><th scope=col>color_score</th></tr>\n",
       "\t<tr><th></th><th scope=col>&lt;int&gt;</th><th scope=col>&lt;fct&gt;</th><th scope=col>&lt;fct&gt;</th><th scope=col>&lt;dbl&gt;</th><th scope=col>&lt;dbl&gt;</th><th scope=col>&lt;dbl&gt;</th><th scope=col>&lt;dbl&gt;</th></tr>\n",
       "</thead>\n",
       "<tbody>\n",
       "\t<tr><th scope=row>1</th><td>1</td><td>apple   </td><td>granny_smith</td><td>192</td><td>8.4</td><td>7.3</td><td>0.55</td></tr>\n",
       "\t<tr><th scope=row>2</th><td>1</td><td>apple   </td><td>granny_smith</td><td>180</td><td>8.0</td><td>6.8</td><td>0.59</td></tr>\n",
       "\t<tr><th scope=row>3</th><td>1</td><td>apple   </td><td>granny_smith</td><td>176</td><td>7.4</td><td>7.2</td><td>0.60</td></tr>\n",
       "\t<tr><th scope=row>4</th><td>2</td><td>mandarin</td><td>mandarin    </td><td> 86</td><td>6.2</td><td>4.7</td><td>0.80</td></tr>\n",
       "\t<tr><th scope=row>5</th><td>2</td><td>mandarin</td><td>mandarin    </td><td> 84</td><td>6.0</td><td>4.6</td><td>0.79</td></tr>\n",
       "\t<tr><th scope=row>6</th><td>2</td><td>mandarin</td><td>mandarin    </td><td> 80</td><td>5.8</td><td>4.3</td><td>0.77</td></tr>\n",
       "</tbody>\n",
       "</table>\n"
      ],
      "text/latex": [
       "A data.frame: 6 × 7\n",
       "\\begin{tabular}{r|lllllll}\n",
       "  & fruit\\_label & fruit\\_name & fruit\\_subtype & mass & width & height & color\\_score\\\\\n",
       "  & <int> & <fct> & <fct> & <dbl> & <dbl> & <dbl> & <dbl>\\\\\n",
       "\\hline\n",
       "\t1 & 1 & apple    & granny\\_smith & 192 & 8.4 & 7.3 & 0.55\\\\\n",
       "\t2 & 1 & apple    & granny\\_smith & 180 & 8.0 & 6.8 & 0.59\\\\\n",
       "\t3 & 1 & apple    & granny\\_smith & 176 & 7.4 & 7.2 & 0.60\\\\\n",
       "\t4 & 2 & mandarin & mandarin     &  86 & 6.2 & 4.7 & 0.80\\\\\n",
       "\t5 & 2 & mandarin & mandarin     &  84 & 6.0 & 4.6 & 0.79\\\\\n",
       "\t6 & 2 & mandarin & mandarin     &  80 & 5.8 & 4.3 & 0.77\\\\\n",
       "\\end{tabular}\n"
      ],
      "text/markdown": [
       "\n",
       "A data.frame: 6 × 7\n",
       "\n",
       "| <!--/--> | fruit_label &lt;int&gt; | fruit_name &lt;fct&gt; | fruit_subtype &lt;fct&gt; | mass &lt;dbl&gt; | width &lt;dbl&gt; | height &lt;dbl&gt; | color_score &lt;dbl&gt; |\n",
       "|---|---|---|---|---|---|---|---|\n",
       "| 1 | 1 | apple    | granny_smith | 192 | 8.4 | 7.3 | 0.55 |\n",
       "| 2 | 1 | apple    | granny_smith | 180 | 8.0 | 6.8 | 0.59 |\n",
       "| 3 | 1 | apple    | granny_smith | 176 | 7.4 | 7.2 | 0.60 |\n",
       "| 4 | 2 | mandarin | mandarin     |  86 | 6.2 | 4.7 | 0.80 |\n",
       "| 5 | 2 | mandarin | mandarin     |  84 | 6.0 | 4.6 | 0.79 |\n",
       "| 6 | 2 | mandarin | mandarin     |  80 | 5.8 | 4.3 | 0.77 |\n",
       "\n"
      ],
      "text/plain": [
       "  fruit_label fruit_name fruit_subtype mass width height color_score\n",
       "1 1           apple      granny_smith  192  8.4   7.3    0.55       \n",
       "2 1           apple      granny_smith  180  8.0   6.8    0.59       \n",
       "3 1           apple      granny_smith  176  7.4   7.2    0.60       \n",
       "4 2           mandarin   mandarin       86  6.2   4.7    0.80       \n",
       "5 2           mandarin   mandarin       84  6.0   4.6    0.79       \n",
       "6 2           mandarin   mandarin       80  5.8   4.3    0.77       "
      ]
     },
     "metadata": {},
     "output_type": "display_data"
    }
   ],
   "source": [
    "fruit_data <- read.table(\"fruit_data_with_colors.txt\", sep=\"\\t\", header = TRUE)\n",
    "head(fruit_data)"
   ]
  },
  {
   "cell_type": "code",
   "execution_count": 47,
   "metadata": {},
   "outputs": [
    {
     "data": {
      "text/html": [
       "<table class=\"dataframe\">\n",
       "<caption>A data.frame: 6 × 7</caption>\n",
       "<thead>\n",
       "\t<tr><th></th><th scope=col>fruit_label</th><th scope=col>fruit_name</th><th scope=col>fruit_subtype</th><th scope=col>mass</th><th scope=col>width</th><th scope=col>height</th><th scope=col>color_score</th></tr>\n",
       "\t<tr><th></th><th scope=col>&lt;int&gt;</th><th scope=col>&lt;fct&gt;</th><th scope=col>&lt;fct&gt;</th><th scope=col>&lt;dbl&gt;</th><th scope=col>&lt;dbl&gt;</th><th scope=col>&lt;dbl&gt;</th><th scope=col>&lt;dbl&gt;</th></tr>\n",
       "</thead>\n",
       "<tbody>\n",
       "\t<tr><th scope=row>54</th><td>4</td><td>lemon</td><td>unknown</td><td>120</td><td>6.0</td><td>8.4</td><td>0.74</td></tr>\n",
       "\t<tr><th scope=row>55</th><td>4</td><td>lemon</td><td>unknown</td><td>116</td><td>6.1</td><td>8.5</td><td>0.71</td></tr>\n",
       "\t<tr><th scope=row>56</th><td>4</td><td>lemon</td><td>unknown</td><td>116</td><td>6.3</td><td>7.7</td><td>0.72</td></tr>\n",
       "\t<tr><th scope=row>57</th><td>4</td><td>lemon</td><td>unknown</td><td>116</td><td>5.9</td><td>8.1</td><td>0.73</td></tr>\n",
       "\t<tr><th scope=row>58</th><td>4</td><td>lemon</td><td>unknown</td><td>152</td><td>6.5</td><td>8.5</td><td>0.72</td></tr>\n",
       "\t<tr><th scope=row>59</th><td>4</td><td>lemon</td><td>unknown</td><td>118</td><td>6.1</td><td>8.1</td><td>0.70</td></tr>\n",
       "</tbody>\n",
       "</table>\n"
      ],
      "text/latex": [
       "A data.frame: 6 × 7\n",
       "\\begin{tabular}{r|lllllll}\n",
       "  & fruit\\_label & fruit\\_name & fruit\\_subtype & mass & width & height & color\\_score\\\\\n",
       "  & <int> & <fct> & <fct> & <dbl> & <dbl> & <dbl> & <dbl>\\\\\n",
       "\\hline\n",
       "\t54 & 4 & lemon & unknown & 120 & 6.0 & 8.4 & 0.74\\\\\n",
       "\t55 & 4 & lemon & unknown & 116 & 6.1 & 8.5 & 0.71\\\\\n",
       "\t56 & 4 & lemon & unknown & 116 & 6.3 & 7.7 & 0.72\\\\\n",
       "\t57 & 4 & lemon & unknown & 116 & 5.9 & 8.1 & 0.73\\\\\n",
       "\t58 & 4 & lemon & unknown & 152 & 6.5 & 8.5 & 0.72\\\\\n",
       "\t59 & 4 & lemon & unknown & 118 & 6.1 & 8.1 & 0.70\\\\\n",
       "\\end{tabular}\n"
      ],
      "text/markdown": [
       "\n",
       "A data.frame: 6 × 7\n",
       "\n",
       "| <!--/--> | fruit_label &lt;int&gt; | fruit_name &lt;fct&gt; | fruit_subtype &lt;fct&gt; | mass &lt;dbl&gt; | width &lt;dbl&gt; | height &lt;dbl&gt; | color_score &lt;dbl&gt; |\n",
       "|---|---|---|---|---|---|---|---|\n",
       "| 54 | 4 | lemon | unknown | 120 | 6.0 | 8.4 | 0.74 |\n",
       "| 55 | 4 | lemon | unknown | 116 | 6.1 | 8.5 | 0.71 |\n",
       "| 56 | 4 | lemon | unknown | 116 | 6.3 | 7.7 | 0.72 |\n",
       "| 57 | 4 | lemon | unknown | 116 | 5.9 | 8.1 | 0.73 |\n",
       "| 58 | 4 | lemon | unknown | 152 | 6.5 | 8.5 | 0.72 |\n",
       "| 59 | 4 | lemon | unknown | 118 | 6.1 | 8.1 | 0.70 |\n",
       "\n"
      ],
      "text/plain": [
       "   fruit_label fruit_name fruit_subtype mass width height color_score\n",
       "54 4           lemon      unknown       120  6.0   8.4    0.74       \n",
       "55 4           lemon      unknown       116  6.1   8.5    0.71       \n",
       "56 4           lemon      unknown       116  6.3   7.7    0.72       \n",
       "57 4           lemon      unknown       116  5.9   8.1    0.73       \n",
       "58 4           lemon      unknown       152  6.5   8.5    0.72       \n",
       "59 4           lemon      unknown       118  6.1   8.1    0.70       "
      ]
     },
     "metadata": {},
     "output_type": "display_data"
    }
   ],
   "source": [
    "tail(fruit_data)"
   ]
  },
  {
   "cell_type": "markdown",
   "metadata": {
    "id": "XtyVOCa2x6PR"
   },
   "source": [
    "#### 2. Hãy cho biết kiểu dữ liệu của cột fruit_name và fruit_subtype. Nếu kiểu dữ liệu không phải là factor thì hãy chuyển thành factor"
   ]
  },
  {
   "cell_type": "code",
   "execution_count": 48,
   "metadata": {},
   "outputs": [
    {
     "data": {
      "text/html": [
       "'integer'"
      ],
      "text/latex": [
       "'integer'"
      ],
      "text/markdown": [
       "'integer'"
      ],
      "text/plain": [
       "[1] \"integer\""
      ]
     },
     "metadata": {},
     "output_type": "display_data"
    }
   ],
   "source": [
    "typeof(fruit_data$fruit_name)"
   ]
  },
  {
   "cell_type": "code",
   "execution_count": 49,
   "metadata": {},
   "outputs": [],
   "source": [
    "fruit_data$fruit_name <- as.factor(fruit_data$fruit_name)"
   ]
  },
  {
   "cell_type": "code",
   "execution_count": 50,
   "metadata": {},
   "outputs": [
    {
     "data": {
      "text/html": [
       "'integer'"
      ],
      "text/latex": [
       "'integer'"
      ],
      "text/markdown": [
       "'integer'"
      ],
      "text/plain": [
       "[1] \"integer\""
      ]
     },
     "metadata": {},
     "output_type": "display_data"
    }
   ],
   "source": [
    "typeof(fruit_data$fruit_name)"
   ]
  },
  {
   "cell_type": "code",
   "execution_count": 51,
   "metadata": {},
   "outputs": [
    {
     "data": {
      "text/html": [
       "'integer'"
      ],
      "text/latex": [
       "'integer'"
      ],
      "text/markdown": [
       "'integer'"
      ],
      "text/plain": [
       "[1] \"integer\""
      ]
     },
     "metadata": {},
     "output_type": "display_data"
    }
   ],
   "source": [
    "typeof(fruit_data$fruit_subtype)"
   ]
  },
  {
   "cell_type": "code",
   "execution_count": 52,
   "metadata": {},
   "outputs": [],
   "source": [
    "fruit_data$fruit_subtype <- as.factor(fruit_data$fruit_subtype)"
   ]
  },
  {
   "cell_type": "code",
   "execution_count": 53,
   "metadata": {},
   "outputs": [
    {
     "data": {
      "text/html": [
       "'integer'"
      ],
      "text/latex": [
       "'integer'"
      ],
      "text/markdown": [
       "'integer'"
      ],
      "text/plain": [
       "[1] \"integer\""
      ]
     },
     "metadata": {},
     "output_type": "display_data"
    }
   ],
   "source": [
    "typeof(fruit_data$fruit_subtype)"
   ]
  },
  {
   "cell_type": "markdown",
   "metadata": {
    "id": "OKqNGFcix9xq"
   },
   "source": [
    "#### 3. Có bao nhiêu loại fruit_name? Đó là những loại nào? Có bao nhiêu loại fruit_subtype? Đó là những loại nào?"
   ]
  },
  {
   "cell_type": "code",
   "execution_count": 54,
   "metadata": {},
   "outputs": [
    {
     "data": {
      "text/html": [
       "<table class=\"dataframe\">\n",
       "<caption>A data.frame: 4 × 2</caption>\n",
       "<thead>\n",
       "\t<tr><th scope=col>fruit_name</th><th scope=col>n</th></tr>\n",
       "\t<tr><th scope=col>&lt;fct&gt;</th><th scope=col>&lt;int&gt;</th></tr>\n",
       "</thead>\n",
       "<tbody>\n",
       "\t<tr><td>apple   </td><td>19</td></tr>\n",
       "\t<tr><td>lemon   </td><td>16</td></tr>\n",
       "\t<tr><td>mandarin</td><td> 5</td></tr>\n",
       "\t<tr><td>orange  </td><td>19</td></tr>\n",
       "</tbody>\n",
       "</table>\n"
      ],
      "text/latex": [
       "A data.frame: 4 × 2\n",
       "\\begin{tabular}{ll}\n",
       " fruit\\_name & n\\\\\n",
       " <fct> & <int>\\\\\n",
       "\\hline\n",
       "\t apple    & 19\\\\\n",
       "\t lemon    & 16\\\\\n",
       "\t mandarin &  5\\\\\n",
       "\t orange   & 19\\\\\n",
       "\\end{tabular}\n"
      ],
      "text/markdown": [
       "\n",
       "A data.frame: 4 × 2\n",
       "\n",
       "| fruit_name &lt;fct&gt; | n &lt;int&gt; |\n",
       "|---|---|\n",
       "| apple    | 19 |\n",
       "| lemon    | 16 |\n",
       "| mandarin |  5 |\n",
       "| orange   | 19 |\n",
       "\n"
      ],
      "text/plain": [
       "  fruit_name n \n",
       "1 apple      19\n",
       "2 lemon      16\n",
       "3 mandarin    5\n",
       "4 orange     19"
      ]
     },
     "metadata": {},
     "output_type": "display_data"
    }
   ],
   "source": [
    "count(fruit_data, fruit_name)"
   ]
  },
  {
   "cell_type": "code",
   "execution_count": 55,
   "metadata": {},
   "outputs": [
    {
     "data": {
      "text/html": [
       "<table class=\"dataframe\">\n",
       "<caption>A data.frame: 10 × 2</caption>\n",
       "<thead>\n",
       "\t<tr><th scope=col>fruit_subtype</th><th scope=col>n</th></tr>\n",
       "\t<tr><th scope=col>&lt;fct&gt;</th><th scope=col>&lt;int&gt;</th></tr>\n",
       "</thead>\n",
       "<tbody>\n",
       "\t<tr><td>braeburn        </td><td> 5</td></tr>\n",
       "\t<tr><td>cripps_pink     </td><td> 6</td></tr>\n",
       "\t<tr><td>golden_delicious</td><td> 5</td></tr>\n",
       "\t<tr><td>granny_smith    </td><td> 3</td></tr>\n",
       "\t<tr><td>mandarin        </td><td> 5</td></tr>\n",
       "\t<tr><td>selected_seconds</td><td> 6</td></tr>\n",
       "\t<tr><td>spanish_belsan  </td><td> 6</td></tr>\n",
       "\t<tr><td>spanish_jumbo   </td><td> 3</td></tr>\n",
       "\t<tr><td>turkey_navel    </td><td>10</td></tr>\n",
       "\t<tr><td>unknown         </td><td>10</td></tr>\n",
       "</tbody>\n",
       "</table>\n"
      ],
      "text/latex": [
       "A data.frame: 10 × 2\n",
       "\\begin{tabular}{ll}\n",
       " fruit\\_subtype & n\\\\\n",
       " <fct> & <int>\\\\\n",
       "\\hline\n",
       "\t braeburn         &  5\\\\\n",
       "\t cripps\\_pink      &  6\\\\\n",
       "\t golden\\_delicious &  5\\\\\n",
       "\t granny\\_smith     &  3\\\\\n",
       "\t mandarin         &  5\\\\\n",
       "\t selected\\_seconds &  6\\\\\n",
       "\t spanish\\_belsan   &  6\\\\\n",
       "\t spanish\\_jumbo    &  3\\\\\n",
       "\t turkey\\_navel     & 10\\\\\n",
       "\t unknown          & 10\\\\\n",
       "\\end{tabular}\n"
      ],
      "text/markdown": [
       "\n",
       "A data.frame: 10 × 2\n",
       "\n",
       "| fruit_subtype &lt;fct&gt; | n &lt;int&gt; |\n",
       "|---|---|\n",
       "| braeburn         |  5 |\n",
       "| cripps_pink      |  6 |\n",
       "| golden_delicious |  5 |\n",
       "| granny_smith     |  3 |\n",
       "| mandarin         |  5 |\n",
       "| selected_seconds |  6 |\n",
       "| spanish_belsan   |  6 |\n",
       "| spanish_jumbo    |  3 |\n",
       "| turkey_navel     | 10 |\n",
       "| unknown          | 10 |\n",
       "\n"
      ],
      "text/plain": [
       "   fruit_subtype    n \n",
       "1  braeburn          5\n",
       "2  cripps_pink       6\n",
       "3  golden_delicious  5\n",
       "4  granny_smith      3\n",
       "5  mandarin          5\n",
       "6  selected_seconds  6\n",
       "7  spanish_belsan    6\n",
       "8  spanish_jumbo     3\n",
       "9  turkey_navel     10\n",
       "10 unknown          10"
      ]
     },
     "metadata": {},
     "output_type": "display_data"
    }
   ],
   "source": [
    "count(fruit_data, fruit_subtype)"
   ]
  },
  {
   "cell_type": "markdown",
   "metadata": {
    "id": "n7NI1xT9yAqK"
   },
   "source": [
    "#### 4. Hãy lọc ra tất cả các dòng dữ liệu có fruit_name là 'apple' chứa vào dataframe df_apple. Hãy cho biết có bao nhiêu dòng dữ liệu thỏa điều kiện này?"
   ]
  },
  {
   "cell_type": "code",
   "execution_count": 56,
   "metadata": {},
   "outputs": [
    {
     "data": {
      "text/html": [
       "<table class=\"dataframe\">\n",
       "<caption>A data.frame: 6 × 7</caption>\n",
       "<thead>\n",
       "\t<tr><th></th><th scope=col>fruit_label</th><th scope=col>fruit_name</th><th scope=col>fruit_subtype</th><th scope=col>mass</th><th scope=col>width</th><th scope=col>height</th><th scope=col>color_score</th></tr>\n",
       "\t<tr><th></th><th scope=col>&lt;int&gt;</th><th scope=col>&lt;fct&gt;</th><th scope=col>&lt;fct&gt;</th><th scope=col>&lt;dbl&gt;</th><th scope=col>&lt;dbl&gt;</th><th scope=col>&lt;dbl&gt;</th><th scope=col>&lt;dbl&gt;</th></tr>\n",
       "</thead>\n",
       "<tbody>\n",
       "\t<tr><th scope=row>1</th><td>1</td><td>apple</td><td>granny_smith</td><td>192</td><td>8.4</td><td>7.3</td><td>0.55</td></tr>\n",
       "\t<tr><th scope=row>2</th><td>1</td><td>apple</td><td>granny_smith</td><td>180</td><td>8.0</td><td>6.8</td><td>0.59</td></tr>\n",
       "\t<tr><th scope=row>3</th><td>1</td><td>apple</td><td>granny_smith</td><td>176</td><td>7.4</td><td>7.2</td><td>0.60</td></tr>\n",
       "\t<tr><th scope=row>4</th><td>1</td><td>apple</td><td>braeburn    </td><td>178</td><td>7.1</td><td>7.8</td><td>0.92</td></tr>\n",
       "\t<tr><th scope=row>5</th><td>1</td><td>apple</td><td>braeburn    </td><td>172</td><td>7.4</td><td>7.0</td><td>0.89</td></tr>\n",
       "\t<tr><th scope=row>6</th><td>1</td><td>apple</td><td>braeburn    </td><td>166</td><td>6.9</td><td>7.3</td><td>0.93</td></tr>\n",
       "</tbody>\n",
       "</table>\n"
      ],
      "text/latex": [
       "A data.frame: 6 × 7\n",
       "\\begin{tabular}{r|lllllll}\n",
       "  & fruit\\_label & fruit\\_name & fruit\\_subtype & mass & width & height & color\\_score\\\\\n",
       "  & <int> & <fct> & <fct> & <dbl> & <dbl> & <dbl> & <dbl>\\\\\n",
       "\\hline\n",
       "\t1 & 1 & apple & granny\\_smith & 192 & 8.4 & 7.3 & 0.55\\\\\n",
       "\t2 & 1 & apple & granny\\_smith & 180 & 8.0 & 6.8 & 0.59\\\\\n",
       "\t3 & 1 & apple & granny\\_smith & 176 & 7.4 & 7.2 & 0.60\\\\\n",
       "\t4 & 1 & apple & braeburn     & 178 & 7.1 & 7.8 & 0.92\\\\\n",
       "\t5 & 1 & apple & braeburn     & 172 & 7.4 & 7.0 & 0.89\\\\\n",
       "\t6 & 1 & apple & braeburn     & 166 & 6.9 & 7.3 & 0.93\\\\\n",
       "\\end{tabular}\n"
      ],
      "text/markdown": [
       "\n",
       "A data.frame: 6 × 7\n",
       "\n",
       "| <!--/--> | fruit_label &lt;int&gt; | fruit_name &lt;fct&gt; | fruit_subtype &lt;fct&gt; | mass &lt;dbl&gt; | width &lt;dbl&gt; | height &lt;dbl&gt; | color_score &lt;dbl&gt; |\n",
       "|---|---|---|---|---|---|---|---|\n",
       "| 1 | 1 | apple | granny_smith | 192 | 8.4 | 7.3 | 0.55 |\n",
       "| 2 | 1 | apple | granny_smith | 180 | 8.0 | 6.8 | 0.59 |\n",
       "| 3 | 1 | apple | granny_smith | 176 | 7.4 | 7.2 | 0.60 |\n",
       "| 4 | 1 | apple | braeburn     | 178 | 7.1 | 7.8 | 0.92 |\n",
       "| 5 | 1 | apple | braeburn     | 172 | 7.4 | 7.0 | 0.89 |\n",
       "| 6 | 1 | apple | braeburn     | 166 | 6.9 | 7.3 | 0.93 |\n",
       "\n"
      ],
      "text/plain": [
       "  fruit_label fruit_name fruit_subtype mass width height color_score\n",
       "1 1           apple      granny_smith  192  8.4   7.3    0.55       \n",
       "2 1           apple      granny_smith  180  8.0   6.8    0.59       \n",
       "3 1           apple      granny_smith  176  7.4   7.2    0.60       \n",
       "4 1           apple      braeburn      178  7.1   7.8    0.92       \n",
       "5 1           apple      braeburn      172  7.4   7.0    0.89       \n",
       "6 1           apple      braeburn      166  6.9   7.3    0.93       "
      ]
     },
     "metadata": {},
     "output_type": "display_data"
    }
   ],
   "source": [
    "df_apple <- fruit_data %>% filter(fruit_data$fruit_name == \"apple\")\n",
    "head(df_apple)"
   ]
  },
  {
   "cell_type": "code",
   "execution_count": 57,
   "metadata": {},
   "outputs": [
    {
     "name": "stdout",
     "output_type": "stream",
     "text": [
      "[1] \"So dong du lieu fruit_name la apple:  19\"\n"
     ]
    }
   ],
   "source": [
    "print(paste(\"So dong du lieu fruit_name la apple: \", nrow(df_apple)))"
   ]
  },
  {
   "cell_type": "markdown",
   "metadata": {
    "id": "vUDT8ty2yDLi"
   },
   "source": [
    "#### 5. Hãy lưu dataframe df_apple vào tập tin apple.csv"
   ]
  },
  {
   "cell_type": "code",
   "execution_count": 58,
   "metadata": {},
   "outputs": [],
   "source": [
    "write.csv(df_apple,\"apple.csv\", row.names = FALSE)"
   ]
  },
  {
   "cell_type": "markdown",
   "metadata": {
    "id": "ZQxEjo-kyHAJ"
   },
   "source": [
    "#### 6. Hãy lọc ra tất cả các dòng dữ liệu có fruit_subtype là 'golden_delicious' chứa vào dataframe df_golden_delicious. Hãy cho biết có bao nhiêu dòng dữ liệu thỏa điều kiện này?"
   ]
  },
  {
   "cell_type": "code",
   "execution_count": 59,
   "metadata": {},
   "outputs": [
    {
     "data": {
      "text/html": [
       "<table class=\"dataframe\">\n",
       "<caption>A data.frame: 5 × 7</caption>\n",
       "<thead>\n",
       "\t<tr><th></th><th scope=col>fruit_label</th><th scope=col>fruit_name</th><th scope=col>fruit_subtype</th><th scope=col>mass</th><th scope=col>width</th><th scope=col>height</th><th scope=col>color_score</th></tr>\n",
       "\t<tr><th></th><th scope=col>&lt;int&gt;</th><th scope=col>&lt;fct&gt;</th><th scope=col>&lt;fct&gt;</th><th scope=col>&lt;dbl&gt;</th><th scope=col>&lt;dbl&gt;</th><th scope=col>&lt;dbl&gt;</th><th scope=col>&lt;dbl&gt;</th></tr>\n",
       "</thead>\n",
       "<tbody>\n",
       "\t<tr><th scope=row>1</th><td>1</td><td>apple</td><td>golden_delicious</td><td>164</td><td>7.3</td><td>7.7</td><td>0.70</td></tr>\n",
       "\t<tr><th scope=row>2</th><td>1</td><td>apple</td><td>golden_delicious</td><td>152</td><td>7.6</td><td>7.3</td><td>0.69</td></tr>\n",
       "\t<tr><th scope=row>3</th><td>1</td><td>apple</td><td>golden_delicious</td><td>156</td><td>7.7</td><td>7.1</td><td>0.69</td></tr>\n",
       "\t<tr><th scope=row>4</th><td>1</td><td>apple</td><td>golden_delicious</td><td>156</td><td>7.6</td><td>7.5</td><td>0.67</td></tr>\n",
       "\t<tr><th scope=row>5</th><td>1</td><td>apple</td><td>golden_delicious</td><td>168</td><td>7.5</td><td>7.6</td><td>0.73</td></tr>\n",
       "</tbody>\n",
       "</table>\n"
      ],
      "text/latex": [
       "A data.frame: 5 × 7\n",
       "\\begin{tabular}{r|lllllll}\n",
       "  & fruit\\_label & fruit\\_name & fruit\\_subtype & mass & width & height & color\\_score\\\\\n",
       "  & <int> & <fct> & <fct> & <dbl> & <dbl> & <dbl> & <dbl>\\\\\n",
       "\\hline\n",
       "\t1 & 1 & apple & golden\\_delicious & 164 & 7.3 & 7.7 & 0.70\\\\\n",
       "\t2 & 1 & apple & golden\\_delicious & 152 & 7.6 & 7.3 & 0.69\\\\\n",
       "\t3 & 1 & apple & golden\\_delicious & 156 & 7.7 & 7.1 & 0.69\\\\\n",
       "\t4 & 1 & apple & golden\\_delicious & 156 & 7.6 & 7.5 & 0.67\\\\\n",
       "\t5 & 1 & apple & golden\\_delicious & 168 & 7.5 & 7.6 & 0.73\\\\\n",
       "\\end{tabular}\n"
      ],
      "text/markdown": [
       "\n",
       "A data.frame: 5 × 7\n",
       "\n",
       "| <!--/--> | fruit_label &lt;int&gt; | fruit_name &lt;fct&gt; | fruit_subtype &lt;fct&gt; | mass &lt;dbl&gt; | width &lt;dbl&gt; | height &lt;dbl&gt; | color_score &lt;dbl&gt; |\n",
       "|---|---|---|---|---|---|---|---|\n",
       "| 1 | 1 | apple | golden_delicious | 164 | 7.3 | 7.7 | 0.70 |\n",
       "| 2 | 1 | apple | golden_delicious | 152 | 7.6 | 7.3 | 0.69 |\n",
       "| 3 | 1 | apple | golden_delicious | 156 | 7.7 | 7.1 | 0.69 |\n",
       "| 4 | 1 | apple | golden_delicious | 156 | 7.6 | 7.5 | 0.67 |\n",
       "| 5 | 1 | apple | golden_delicious | 168 | 7.5 | 7.6 | 0.73 |\n",
       "\n"
      ],
      "text/plain": [
       "  fruit_label fruit_name fruit_subtype    mass width height color_score\n",
       "1 1           apple      golden_delicious 164  7.3   7.7    0.70       \n",
       "2 1           apple      golden_delicious 152  7.6   7.3    0.69       \n",
       "3 1           apple      golden_delicious 156  7.7   7.1    0.69       \n",
       "4 1           apple      golden_delicious 156  7.6   7.5    0.67       \n",
       "5 1           apple      golden_delicious 168  7.5   7.6    0.73       "
      ]
     },
     "metadata": {},
     "output_type": "display_data"
    }
   ],
   "source": [
    "df_golden_delicious <- fruit_data %>% filter(fruit_data$fruit_subtype == \"golden_delicious\")\n",
    "head(df_golden_delicious)"
   ]
  },
  {
   "cell_type": "code",
   "execution_count": 60,
   "metadata": {},
   "outputs": [
    {
     "name": "stdout",
     "output_type": "stream",
     "text": [
      "[1] \"So dong du lieu golden_decious 5\"\n"
     ]
    }
   ],
   "source": [
    "print(paste(\"So dong du lieu golden_decious\", nrow(df_golden_delicious)))"
   ]
  },
  {
   "cell_type": "markdown",
   "metadata": {
    "id": "_23u2VYayKMq"
   },
   "source": [
    "#### 7. Hãy lưu dataframe df_golden_delicious vào tập tin golden_delicious.xlsx"
   ]
  },
  {
   "cell_type": "code",
   "execution_count": 61,
   "metadata": {},
   "outputs": [],
   "source": [
    "write.xlsx(df_golden_delicious, \"golden_delicious.xlsx\", sheetName = \"Sheet1\", \n",
    "  col.names = TRUE, row.names = TRUE, append = FALSE)"
   ]
  },
  {
   "cell_type": "markdown",
   "metadata": {
    "id": "vjbpyruN0_iT"
   },
   "source": [
    "#### 8. Hãy lưu dataframe df_golden_delicious vào tập tin golden_delicious.xml"
   ]
  },
  {
   "cell_type": "code",
   "execution_count": 64,
   "metadata": {},
   "outputs": [],
   "source": [
    "library(\"XML\")"
   ]
  },
  {
   "cell_type": "code",
   "execution_count": 65,
   "metadata": {},
   "outputs": [],
   "source": [
    "library(\"methods\")"
   ]
  },
  {
   "cell_type": "code",
   "execution_count": 67,
   "metadata": {},
   "outputs": [
    {
     "name": "stdout",
     "output_type": "stream",
     "text": [
      "[1] \"Saving file...\"\n",
      "[1] \"Complete!\"\n"
     ]
    }
   ],
   "source": [
    "# create xml file from data frame\n",
    "doc = newXMLDoc()\n",
    "# simple creation of an XML tree using these funcs\n",
    "top = newXMLNode(\"CATALOG\", doc=doc)\n",
    "for (row in 1:nrow(df_golden_delicious)){\n",
    "    cdnode = newXMLNode(\"CD\", parent=top)\n",
    "    newXMLNode(\"fruit_label\", df_golden_delicious[row,\"fruit_label\"], parent=cdnode)\n",
    "    newXMLNode(\"fruit_name\", df_golden_delicious[row,\"fruit_name\"], parent=cdnode)\n",
    "    newXMLNode(\"fruit_subtype\", df_golden_delicious[row,\"fruit_subtype\"], parent=cdnode)\n",
    "    newXMLNode(\"mass\", df_golden_delicious[row,\"mass\"], parent=cdnode)\n",
    "    newXMLNode(\"width\", df_golden_delicious[row,\"width\"], parent=cdnode)\n",
    "    newXMLNode(\"height\", df_golden_delicious[row,\"height\"], parent=cdnode)\n",
    "    newXMLNode(\"color_score\", df_golden_delicious[row,\"color_score\"], parent=cdnode)\n",
    "}\n",
    "# save file\n",
    "print(\"Saving file...\")\n",
    "cat(saveXML(doc, \n",
    "            indent = TRUE, \n",
    "            prefix = \"<?xml version=\\\"1.0\\\" encoding=\\\"utf-8\\\" standalone=\\\"no\\\"?>\\n\"),\n",
    "    file=\"golden_delicious.xml\")\n",
    "print(\"Complete!\")\n"
   ]
  },
  {
   "cell_type": "markdown",
   "metadata": {
    "id": "n7WDDL0YyNKy"
   },
   "source": [
    "#### 9. Nhóm theo fruit_subtype, hãy thống kê số lượng mẫu theo từng subtype; max và min từng cột mass, width, height. (Gợi ý: dùng group_by() và summarize())"
   ]
  },
  {
   "cell_type": "code",
   "execution_count": 77,
   "metadata": {},
   "outputs": [],
   "source": [
    "group_subtype = group_by(fruit_data, fruit_subtype)\n",
    "summary_subtype = summarize(group, count=n(),\n",
    "                   min.mass = min(mass, na.rm=T),\n",
    "                   max.mass = max(mass, na.rm=T),\n",
    "                    min.width = min(width, na.rm=T),\n",
    "                   max.width = max(width, na.rm=T),\n",
    "                    min.height = min(height, na.rm=T),\n",
    "                   max.height = max(height, na.rm=T)\n",
    "                   )"
   ]
  },
  {
   "cell_type": "code",
   "execution_count": 78,
   "metadata": {},
   "outputs": [
    {
     "data": {
      "text/html": [
       "<table class=\"dataframe\">\n",
       "<caption>A tibble: 10 × 8</caption>\n",
       "<thead>\n",
       "\t<tr><th scope=col>fruit_subtype</th><th scope=col>count</th><th scope=col>min.mass</th><th scope=col>max.mass</th><th scope=col>min.width</th><th scope=col>max.width</th><th scope=col>min.height</th><th scope=col>max.height</th></tr>\n",
       "\t<tr><th scope=col>&lt;fct&gt;</th><th scope=col>&lt;int&gt;</th><th scope=col>&lt;dbl&gt;</th><th scope=col>&lt;dbl&gt;</th><th scope=col>&lt;dbl&gt;</th><th scope=col>&lt;dbl&gt;</th><th scope=col>&lt;dbl&gt;</th><th scope=col>&lt;dbl&gt;</th></tr>\n",
       "</thead>\n",
       "<tbody>\n",
       "\t<tr><td>braeburn        </td><td> 5</td><td>154</td><td>178</td><td>6.9</td><td>7.4</td><td>7.0</td><td> 7.8</td></tr>\n",
       "\t<tr><td>cripps_pink     </td><td> 6</td><td>140</td><td>170</td><td>7.3</td><td>7.6</td><td>7.1</td><td> 7.9</td></tr>\n",
       "\t<tr><td>golden_delicious</td><td> 5</td><td>152</td><td>168</td><td>7.3</td><td>7.7</td><td>7.1</td><td> 7.7</td></tr>\n",
       "\t<tr><td>granny_smith    </td><td> 3</td><td>176</td><td>192</td><td>7.4</td><td>8.4</td><td>6.8</td><td> 7.3</td></tr>\n",
       "\t<tr><td>mandarin        </td><td> 5</td><td> 76</td><td> 86</td><td>5.8</td><td>6.2</td><td>4.0</td><td> 4.7</td></tr>\n",
       "\t<tr><td>selected_seconds</td><td> 6</td><td>140</td><td>210</td><td>6.7</td><td>7.8</td><td>7.0</td><td> 9.2</td></tr>\n",
       "\t<tr><td>spanish_belsan  </td><td> 6</td><td>174</td><td>216</td><td>7.2</td><td>7.3</td><td>9.2</td><td>10.5</td></tr>\n",
       "\t<tr><td>spanish_jumbo   </td><td> 3</td><td>342</td><td>362</td><td>9.0</td><td>9.6</td><td>9.2</td><td> 9.4</td></tr>\n",
       "\t<tr><td>turkey_navel    </td><td>10</td><td>142</td><td>190</td><td>6.8</td><td>7.6</td><td>7.2</td><td> 8.2</td></tr>\n",
       "\t<tr><td>unknown         </td><td>10</td><td>116</td><td>152</td><td>5.8</td><td>6.5</td><td>7.5</td><td> 8.7</td></tr>\n",
       "</tbody>\n",
       "</table>\n"
      ],
      "text/latex": [
       "A tibble: 10 × 8\n",
       "\\begin{tabular}{llllllll}\n",
       " fruit\\_subtype & count & min.mass & max.mass & min.width & max.width & min.height & max.height\\\\\n",
       " <fct> & <int> & <dbl> & <dbl> & <dbl> & <dbl> & <dbl> & <dbl>\\\\\n",
       "\\hline\n",
       "\t braeburn         &  5 & 154 & 178 & 6.9 & 7.4 & 7.0 &  7.8\\\\\n",
       "\t cripps\\_pink      &  6 & 140 & 170 & 7.3 & 7.6 & 7.1 &  7.9\\\\\n",
       "\t golden\\_delicious &  5 & 152 & 168 & 7.3 & 7.7 & 7.1 &  7.7\\\\\n",
       "\t granny\\_smith     &  3 & 176 & 192 & 7.4 & 8.4 & 6.8 &  7.3\\\\\n",
       "\t mandarin         &  5 &  76 &  86 & 5.8 & 6.2 & 4.0 &  4.7\\\\\n",
       "\t selected\\_seconds &  6 & 140 & 210 & 6.7 & 7.8 & 7.0 &  9.2\\\\\n",
       "\t spanish\\_belsan   &  6 & 174 & 216 & 7.2 & 7.3 & 9.2 & 10.5\\\\\n",
       "\t spanish\\_jumbo    &  3 & 342 & 362 & 9.0 & 9.6 & 9.2 &  9.4\\\\\n",
       "\t turkey\\_navel     & 10 & 142 & 190 & 6.8 & 7.6 & 7.2 &  8.2\\\\\n",
       "\t unknown          & 10 & 116 & 152 & 5.8 & 6.5 & 7.5 &  8.7\\\\\n",
       "\\end{tabular}\n"
      ],
      "text/markdown": [
       "\n",
       "A tibble: 10 × 8\n",
       "\n",
       "| fruit_subtype &lt;fct&gt; | count &lt;int&gt; | min.mass &lt;dbl&gt; | max.mass &lt;dbl&gt; | min.width &lt;dbl&gt; | max.width &lt;dbl&gt; | min.height &lt;dbl&gt; | max.height &lt;dbl&gt; |\n",
       "|---|---|---|---|---|---|---|---|\n",
       "| braeburn         |  5 | 154 | 178 | 6.9 | 7.4 | 7.0 |  7.8 |\n",
       "| cripps_pink      |  6 | 140 | 170 | 7.3 | 7.6 | 7.1 |  7.9 |\n",
       "| golden_delicious |  5 | 152 | 168 | 7.3 | 7.7 | 7.1 |  7.7 |\n",
       "| granny_smith     |  3 | 176 | 192 | 7.4 | 8.4 | 6.8 |  7.3 |\n",
       "| mandarin         |  5 |  76 |  86 | 5.8 | 6.2 | 4.0 |  4.7 |\n",
       "| selected_seconds |  6 | 140 | 210 | 6.7 | 7.8 | 7.0 |  9.2 |\n",
       "| spanish_belsan   |  6 | 174 | 216 | 7.2 | 7.3 | 9.2 | 10.5 |\n",
       "| spanish_jumbo    |  3 | 342 | 362 | 9.0 | 9.6 | 9.2 |  9.4 |\n",
       "| turkey_navel     | 10 | 142 | 190 | 6.8 | 7.6 | 7.2 |  8.2 |\n",
       "| unknown          | 10 | 116 | 152 | 5.8 | 6.5 | 7.5 |  8.7 |\n",
       "\n"
      ],
      "text/plain": [
       "   fruit_subtype    count min.mass max.mass min.width max.width min.height\n",
       "1  braeburn          5    154      178      6.9       7.4       7.0       \n",
       "2  cripps_pink       6    140      170      7.3       7.6       7.1       \n",
       "3  golden_delicious  5    152      168      7.3       7.7       7.1       \n",
       "4  granny_smith      3    176      192      7.4       8.4       6.8       \n",
       "5  mandarin          5     76       86      5.8       6.2       4.0       \n",
       "6  selected_seconds  6    140      210      6.7       7.8       7.0       \n",
       "7  spanish_belsan    6    174      216      7.2       7.3       9.2       \n",
       "8  spanish_jumbo     3    342      362      9.0       9.6       9.2       \n",
       "9  turkey_navel     10    142      190      6.8       7.6       7.2       \n",
       "10 unknown          10    116      152      5.8       6.5       7.5       \n",
       "   max.height\n",
       "1   7.8      \n",
       "2   7.9      \n",
       "3   7.7      \n",
       "4   7.3      \n",
       "5   4.7      \n",
       "6   9.2      \n",
       "7  10.5      \n",
       "8   9.4      \n",
       "9   8.2      \n",
       "10  8.7      "
      ]
     },
     "metadata": {},
     "output_type": "display_data"
    }
   ],
   "source": [
    "summary_subtype"
   ]
  },
  {
   "cell_type": "markdown",
   "metadata": {
    "id": "v8SrXs7qyPwB"
   },
   "source": [
    "#### 10. Hãy lưu kết quả thống kê trên vào file subtype_summarize.json"
   ]
  },
  {
   "cell_type": "code",
   "execution_count": 80,
   "metadata": {},
   "outputs": [],
   "source": [
    "library(\"httr\")\n",
    "library(\"jsonlite\")"
   ]
  },
  {
   "cell_type": "code",
   "execution_count": 81,
   "metadata": {},
   "outputs": [],
   "source": [
    "json_subtype <- toJSON(summary_subtype)\n",
    "write(json_subtype, file=\"subtype_summarize.json\")"
   ]
  },
  {
   "cell_type": "markdown",
   "metadata": {
    "id": "Y2EqFZgDySTp"
   },
   "source": [
    "#### 11. Đọc file subtype_summarize.json vừa lưu. In nội dung."
   ]
  },
  {
   "cell_type": "code",
   "execution_count": 82,
   "metadata": {
    "id": "xo6XGpYMJKAS"
   },
   "outputs": [],
   "source": [
    "json_text <- fromJSON(\"subtype_summarize.json\")"
   ]
  },
  {
   "cell_type": "code",
   "execution_count": 83,
   "metadata": {},
   "outputs": [
    {
     "data": {
      "text/html": [
       "<table class=\"dataframe\">\n",
       "<caption>A data.frame: 10 × 8</caption>\n",
       "<thead>\n",
       "\t<tr><th></th><th scope=col>fruit_subtype</th><th scope=col>count</th><th scope=col>min.mass</th><th scope=col>max.mass</th><th scope=col>min.width</th><th scope=col>max.width</th><th scope=col>min.height</th><th scope=col>max.height</th></tr>\n",
       "\t<tr><th></th><th scope=col>&lt;chr&gt;</th><th scope=col>&lt;int&gt;</th><th scope=col>&lt;int&gt;</th><th scope=col>&lt;int&gt;</th><th scope=col>&lt;dbl&gt;</th><th scope=col>&lt;dbl&gt;</th><th scope=col>&lt;dbl&gt;</th><th scope=col>&lt;dbl&gt;</th></tr>\n",
       "</thead>\n",
       "<tbody>\n",
       "\t<tr><th scope=row>1</th><td>braeburn        </td><td> 5</td><td>154</td><td>178</td><td>6.9</td><td>7.4</td><td>7.0</td><td> 7.8</td></tr>\n",
       "\t<tr><th scope=row>2</th><td>cripps_pink     </td><td> 6</td><td>140</td><td>170</td><td>7.3</td><td>7.6</td><td>7.1</td><td> 7.9</td></tr>\n",
       "\t<tr><th scope=row>3</th><td>golden_delicious</td><td> 5</td><td>152</td><td>168</td><td>7.3</td><td>7.7</td><td>7.1</td><td> 7.7</td></tr>\n",
       "\t<tr><th scope=row>4</th><td>granny_smith    </td><td> 3</td><td>176</td><td>192</td><td>7.4</td><td>8.4</td><td>6.8</td><td> 7.3</td></tr>\n",
       "\t<tr><th scope=row>5</th><td>mandarin        </td><td> 5</td><td> 76</td><td> 86</td><td>5.8</td><td>6.2</td><td>4.0</td><td> 4.7</td></tr>\n",
       "\t<tr><th scope=row>6</th><td>selected_seconds</td><td> 6</td><td>140</td><td>210</td><td>6.7</td><td>7.8</td><td>7.0</td><td> 9.2</td></tr>\n",
       "\t<tr><th scope=row>7</th><td>spanish_belsan  </td><td> 6</td><td>174</td><td>216</td><td>7.2</td><td>7.3</td><td>9.2</td><td>10.5</td></tr>\n",
       "\t<tr><th scope=row>8</th><td>spanish_jumbo   </td><td> 3</td><td>342</td><td>362</td><td>9.0</td><td>9.6</td><td>9.2</td><td> 9.4</td></tr>\n",
       "\t<tr><th scope=row>9</th><td>turkey_navel    </td><td>10</td><td>142</td><td>190</td><td>6.8</td><td>7.6</td><td>7.2</td><td> 8.2</td></tr>\n",
       "\t<tr><th scope=row>10</th><td>unknown         </td><td>10</td><td>116</td><td>152</td><td>5.8</td><td>6.5</td><td>7.5</td><td> 8.7</td></tr>\n",
       "</tbody>\n",
       "</table>\n"
      ],
      "text/latex": [
       "A data.frame: 10 × 8\n",
       "\\begin{tabular}{r|llllllll}\n",
       "  & fruit\\_subtype & count & min.mass & max.mass & min.width & max.width & min.height & max.height\\\\\n",
       "  & <chr> & <int> & <int> & <int> & <dbl> & <dbl> & <dbl> & <dbl>\\\\\n",
       "\\hline\n",
       "\t1 & braeburn         &  5 & 154 & 178 & 6.9 & 7.4 & 7.0 &  7.8\\\\\n",
       "\t2 & cripps\\_pink      &  6 & 140 & 170 & 7.3 & 7.6 & 7.1 &  7.9\\\\\n",
       "\t3 & golden\\_delicious &  5 & 152 & 168 & 7.3 & 7.7 & 7.1 &  7.7\\\\\n",
       "\t4 & granny\\_smith     &  3 & 176 & 192 & 7.4 & 8.4 & 6.8 &  7.3\\\\\n",
       "\t5 & mandarin         &  5 &  76 &  86 & 5.8 & 6.2 & 4.0 &  4.7\\\\\n",
       "\t6 & selected\\_seconds &  6 & 140 & 210 & 6.7 & 7.8 & 7.0 &  9.2\\\\\n",
       "\t7 & spanish\\_belsan   &  6 & 174 & 216 & 7.2 & 7.3 & 9.2 & 10.5\\\\\n",
       "\t8 & spanish\\_jumbo    &  3 & 342 & 362 & 9.0 & 9.6 & 9.2 &  9.4\\\\\n",
       "\t9 & turkey\\_navel     & 10 & 142 & 190 & 6.8 & 7.6 & 7.2 &  8.2\\\\\n",
       "\t10 & unknown          & 10 & 116 & 152 & 5.8 & 6.5 & 7.5 &  8.7\\\\\n",
       "\\end{tabular}\n"
      ],
      "text/markdown": [
       "\n",
       "A data.frame: 10 × 8\n",
       "\n",
       "| <!--/--> | fruit_subtype &lt;chr&gt; | count &lt;int&gt; | min.mass &lt;int&gt; | max.mass &lt;int&gt; | min.width &lt;dbl&gt; | max.width &lt;dbl&gt; | min.height &lt;dbl&gt; | max.height &lt;dbl&gt; |\n",
       "|---|---|---|---|---|---|---|---|---|\n",
       "| 1 | braeburn         |  5 | 154 | 178 | 6.9 | 7.4 | 7.0 |  7.8 |\n",
       "| 2 | cripps_pink      |  6 | 140 | 170 | 7.3 | 7.6 | 7.1 |  7.9 |\n",
       "| 3 | golden_delicious |  5 | 152 | 168 | 7.3 | 7.7 | 7.1 |  7.7 |\n",
       "| 4 | granny_smith     |  3 | 176 | 192 | 7.4 | 8.4 | 6.8 |  7.3 |\n",
       "| 5 | mandarin         |  5 |  76 |  86 | 5.8 | 6.2 | 4.0 |  4.7 |\n",
       "| 6 | selected_seconds |  6 | 140 | 210 | 6.7 | 7.8 | 7.0 |  9.2 |\n",
       "| 7 | spanish_belsan   |  6 | 174 | 216 | 7.2 | 7.3 | 9.2 | 10.5 |\n",
       "| 8 | spanish_jumbo    |  3 | 342 | 362 | 9.0 | 9.6 | 9.2 |  9.4 |\n",
       "| 9 | turkey_navel     | 10 | 142 | 190 | 6.8 | 7.6 | 7.2 |  8.2 |\n",
       "| 10 | unknown          | 10 | 116 | 152 | 5.8 | 6.5 | 7.5 |  8.7 |\n",
       "\n"
      ],
      "text/plain": [
       "   fruit_subtype    count min.mass max.mass min.width max.width min.height\n",
       "1  braeburn          5    154      178      6.9       7.4       7.0       \n",
       "2  cripps_pink       6    140      170      7.3       7.6       7.1       \n",
       "3  golden_delicious  5    152      168      7.3       7.7       7.1       \n",
       "4  granny_smith      3    176      192      7.4       8.4       6.8       \n",
       "5  mandarin          5     76       86      5.8       6.2       4.0       \n",
       "6  selected_seconds  6    140      210      6.7       7.8       7.0       \n",
       "7  spanish_belsan    6    174      216      7.2       7.3       9.2       \n",
       "8  spanish_jumbo     3    342      362      9.0       9.6       9.2       \n",
       "9  turkey_navel     10    142      190      6.8       7.6       7.2       \n",
       "10 unknown          10    116      152      5.8       6.5       7.5       \n",
       "   max.height\n",
       "1   7.8      \n",
       "2   7.9      \n",
       "3   7.7      \n",
       "4   7.3      \n",
       "5   4.7      \n",
       "6   9.2      \n",
       "7  10.5      \n",
       "8   9.4      \n",
       "9   8.2      \n",
       "10  8.7      "
      ]
     },
     "metadata": {},
     "output_type": "display_data"
    }
   ],
   "source": [
    "json_text"
   ]
  },
  {
   "cell_type": "code",
   "execution_count": null,
   "metadata": {},
   "outputs": [],
   "source": []
  }
 ],
 "metadata": {
  "colab": {
   "collapsed_sections": [],
   "name": "LDS7_ONLINE_HoVaTen_Giua_ky.ipynb",
   "provenance": []
  },
  "kernelspec": {
   "display_name": "R",
   "language": "R",
   "name": "ir"
  },
  "language_info": {
   "codemirror_mode": "r",
   "file_extension": ".r",
   "mimetype": "text/x-r-source",
   "name": "R",
   "pygments_lexer": "r",
   "version": "3.6.1"
  }
 },
 "nbformat": 4,
 "nbformat_minor": 4
}
