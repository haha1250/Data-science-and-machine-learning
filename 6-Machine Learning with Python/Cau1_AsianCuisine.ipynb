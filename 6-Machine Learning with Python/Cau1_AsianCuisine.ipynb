{
 "cells": [
  {
   "cell_type": "code",
   "execution_count": 1,
   "metadata": {},
   "outputs": [],
   "source": [
    "import pandas as pd\n",
    "import numpy as np\n",
    "import matplotlib.pyplot as plt\n",
    "import seaborn as sns"
   ]
  },
  {
   "cell_type": "code",
   "execution_count": 2,
   "metadata": {},
   "outputs": [
    {
     "data": {
      "text/html": [
       "<div>\n",
       "<style scoped>\n",
       "    .dataframe tbody tr th:only-of-type {\n",
       "        vertical-align: middle;\n",
       "    }\n",
       "\n",
       "    .dataframe tbody tr th {\n",
       "        vertical-align: top;\n",
       "    }\n",
       "\n",
       "    .dataframe thead th {\n",
       "        text-align: right;\n",
       "    }\n",
       "</style>\n",
       "<table border=\"1\" class=\"dataframe\">\n",
       "  <thead>\n",
       "    <tr style=\"text-align: right;\">\n",
       "      <th></th>\n",
       "      <th>Unnamed: 0</th>\n",
       "      <th>cuisine</th>\n",
       "      <th>almond</th>\n",
       "      <th>angelica</th>\n",
       "      <th>anise</th>\n",
       "      <th>anise_seed</th>\n",
       "      <th>apple</th>\n",
       "      <th>apple_brandy</th>\n",
       "      <th>apricot</th>\n",
       "      <th>armagnac</th>\n",
       "      <th>...</th>\n",
       "      <th>whiskey</th>\n",
       "      <th>white_bread</th>\n",
       "      <th>white_wine</th>\n",
       "      <th>whole_grain_wheat_flour</th>\n",
       "      <th>wine</th>\n",
       "      <th>wood</th>\n",
       "      <th>yam</th>\n",
       "      <th>yeast</th>\n",
       "      <th>yogurt</th>\n",
       "      <th>zucchini</th>\n",
       "    </tr>\n",
       "  </thead>\n",
       "  <tbody>\n",
       "    <tr>\n",
       "      <th>0</th>\n",
       "      <td>65</td>\n",
       "      <td>indian</td>\n",
       "      <td>0</td>\n",
       "      <td>0</td>\n",
       "      <td>0</td>\n",
       "      <td>0</td>\n",
       "      <td>0</td>\n",
       "      <td>0</td>\n",
       "      <td>0</td>\n",
       "      <td>0</td>\n",
       "      <td>...</td>\n",
       "      <td>0</td>\n",
       "      <td>0</td>\n",
       "      <td>0</td>\n",
       "      <td>0</td>\n",
       "      <td>0</td>\n",
       "      <td>0</td>\n",
       "      <td>0</td>\n",
       "      <td>0</td>\n",
       "      <td>0</td>\n",
       "      <td>0</td>\n",
       "    </tr>\n",
       "    <tr>\n",
       "      <th>1</th>\n",
       "      <td>66</td>\n",
       "      <td>indian</td>\n",
       "      <td>1</td>\n",
       "      <td>0</td>\n",
       "      <td>0</td>\n",
       "      <td>0</td>\n",
       "      <td>0</td>\n",
       "      <td>0</td>\n",
       "      <td>0</td>\n",
       "      <td>0</td>\n",
       "      <td>...</td>\n",
       "      <td>0</td>\n",
       "      <td>0</td>\n",
       "      <td>0</td>\n",
       "      <td>0</td>\n",
       "      <td>0</td>\n",
       "      <td>0</td>\n",
       "      <td>0</td>\n",
       "      <td>0</td>\n",
       "      <td>0</td>\n",
       "      <td>0</td>\n",
       "    </tr>\n",
       "    <tr>\n",
       "      <th>2</th>\n",
       "      <td>67</td>\n",
       "      <td>indian</td>\n",
       "      <td>0</td>\n",
       "      <td>0</td>\n",
       "      <td>0</td>\n",
       "      <td>0</td>\n",
       "      <td>0</td>\n",
       "      <td>0</td>\n",
       "      <td>0</td>\n",
       "      <td>0</td>\n",
       "      <td>...</td>\n",
       "      <td>0</td>\n",
       "      <td>0</td>\n",
       "      <td>0</td>\n",
       "      <td>0</td>\n",
       "      <td>0</td>\n",
       "      <td>0</td>\n",
       "      <td>0</td>\n",
       "      <td>0</td>\n",
       "      <td>0</td>\n",
       "      <td>0</td>\n",
       "    </tr>\n",
       "    <tr>\n",
       "      <th>3</th>\n",
       "      <td>68</td>\n",
       "      <td>indian</td>\n",
       "      <td>0</td>\n",
       "      <td>0</td>\n",
       "      <td>0</td>\n",
       "      <td>0</td>\n",
       "      <td>0</td>\n",
       "      <td>0</td>\n",
       "      <td>0</td>\n",
       "      <td>0</td>\n",
       "      <td>...</td>\n",
       "      <td>0</td>\n",
       "      <td>0</td>\n",
       "      <td>0</td>\n",
       "      <td>0</td>\n",
       "      <td>0</td>\n",
       "      <td>0</td>\n",
       "      <td>0</td>\n",
       "      <td>0</td>\n",
       "      <td>0</td>\n",
       "      <td>0</td>\n",
       "    </tr>\n",
       "    <tr>\n",
       "      <th>4</th>\n",
       "      <td>69</td>\n",
       "      <td>indian</td>\n",
       "      <td>0</td>\n",
       "      <td>0</td>\n",
       "      <td>0</td>\n",
       "      <td>0</td>\n",
       "      <td>0</td>\n",
       "      <td>0</td>\n",
       "      <td>0</td>\n",
       "      <td>0</td>\n",
       "      <td>...</td>\n",
       "      <td>0</td>\n",
       "      <td>0</td>\n",
       "      <td>0</td>\n",
       "      <td>0</td>\n",
       "      <td>0</td>\n",
       "      <td>0</td>\n",
       "      <td>0</td>\n",
       "      <td>0</td>\n",
       "      <td>1</td>\n",
       "      <td>0</td>\n",
       "    </tr>\n",
       "  </tbody>\n",
       "</table>\n",
       "<p>5 rows × 385 columns</p>\n",
       "</div>"
      ],
      "text/plain": [
       "   Unnamed: 0 cuisine  almond  angelica  anise  anise_seed  apple  \\\n",
       "0          65  indian       0         0      0           0      0   \n",
       "1          66  indian       1         0      0           0      0   \n",
       "2          67  indian       0         0      0           0      0   \n",
       "3          68  indian       0         0      0           0      0   \n",
       "4          69  indian       0         0      0           0      0   \n",
       "\n",
       "   apple_brandy  apricot  armagnac  ...  whiskey  white_bread  white_wine  \\\n",
       "0             0        0         0  ...        0            0           0   \n",
       "1             0        0         0  ...        0            0           0   \n",
       "2             0        0         0  ...        0            0           0   \n",
       "3             0        0         0  ...        0            0           0   \n",
       "4             0        0         0  ...        0            0           0   \n",
       "\n",
       "   whole_grain_wheat_flour  wine  wood  yam  yeast  yogurt  zucchini  \n",
       "0                        0     0     0    0      0       0         0  \n",
       "1                        0     0     0    0      0       0         0  \n",
       "2                        0     0     0    0      0       0         0  \n",
       "3                        0     0     0    0      0       0         0  \n",
       "4                        0     0     0    0      0       1         0  \n",
       "\n",
       "[5 rows x 385 columns]"
      ]
     },
     "execution_count": 2,
     "metadata": {},
     "output_type": "execute_result"
    }
   ],
   "source": [
    "data = pd.read_csv(\"./du lieu cung cap/asian_indian_recipes.csv\")\n",
    "data.head()"
   ]
  },
  {
   "cell_type": "code",
   "execution_count": 3,
   "metadata": {},
   "outputs": [
    {
     "data": {
      "text/html": [
       "<div>\n",
       "<style scoped>\n",
       "    .dataframe tbody tr th:only-of-type {\n",
       "        vertical-align: middle;\n",
       "    }\n",
       "\n",
       "    .dataframe tbody tr th {\n",
       "        vertical-align: top;\n",
       "    }\n",
       "\n",
       "    .dataframe thead th {\n",
       "        text-align: right;\n",
       "    }\n",
       "</style>\n",
       "<table border=\"1\" class=\"dataframe\">\n",
       "  <thead>\n",
       "    <tr style=\"text-align: right;\">\n",
       "      <th></th>\n",
       "      <th>Unnamed: 0</th>\n",
       "      <th>cuisine</th>\n",
       "      <th>almond</th>\n",
       "      <th>angelica</th>\n",
       "      <th>anise</th>\n",
       "      <th>anise_seed</th>\n",
       "      <th>apple</th>\n",
       "      <th>apple_brandy</th>\n",
       "      <th>apricot</th>\n",
       "      <th>armagnac</th>\n",
       "      <th>...</th>\n",
       "      <th>whiskey</th>\n",
       "      <th>white_bread</th>\n",
       "      <th>white_wine</th>\n",
       "      <th>whole_grain_wheat_flour</th>\n",
       "      <th>wine</th>\n",
       "      <th>wood</th>\n",
       "      <th>yam</th>\n",
       "      <th>yeast</th>\n",
       "      <th>yogurt</th>\n",
       "      <th>zucchini</th>\n",
       "    </tr>\n",
       "  </thead>\n",
       "  <tbody>\n",
       "    <tr>\n",
       "      <th>2443</th>\n",
       "      <td>57686</td>\n",
       "      <td>japanese</td>\n",
       "      <td>0</td>\n",
       "      <td>0</td>\n",
       "      <td>0</td>\n",
       "      <td>0</td>\n",
       "      <td>0</td>\n",
       "      <td>0</td>\n",
       "      <td>0</td>\n",
       "      <td>0</td>\n",
       "      <td>...</td>\n",
       "      <td>0</td>\n",
       "      <td>0</td>\n",
       "      <td>0</td>\n",
       "      <td>0</td>\n",
       "      <td>0</td>\n",
       "      <td>0</td>\n",
       "      <td>0</td>\n",
       "      <td>0</td>\n",
       "      <td>0</td>\n",
       "      <td>0</td>\n",
       "    </tr>\n",
       "    <tr>\n",
       "      <th>2444</th>\n",
       "      <td>57687</td>\n",
       "      <td>japanese</td>\n",
       "      <td>0</td>\n",
       "      <td>0</td>\n",
       "      <td>0</td>\n",
       "      <td>0</td>\n",
       "      <td>0</td>\n",
       "      <td>0</td>\n",
       "      <td>0</td>\n",
       "      <td>0</td>\n",
       "      <td>...</td>\n",
       "      <td>0</td>\n",
       "      <td>0</td>\n",
       "      <td>0</td>\n",
       "      <td>0</td>\n",
       "      <td>0</td>\n",
       "      <td>0</td>\n",
       "      <td>0</td>\n",
       "      <td>0</td>\n",
       "      <td>0</td>\n",
       "      <td>0</td>\n",
       "    </tr>\n",
       "    <tr>\n",
       "      <th>2445</th>\n",
       "      <td>57688</td>\n",
       "      <td>japanese</td>\n",
       "      <td>0</td>\n",
       "      <td>0</td>\n",
       "      <td>0</td>\n",
       "      <td>0</td>\n",
       "      <td>0</td>\n",
       "      <td>0</td>\n",
       "      <td>0</td>\n",
       "      <td>0</td>\n",
       "      <td>...</td>\n",
       "      <td>0</td>\n",
       "      <td>0</td>\n",
       "      <td>0</td>\n",
       "      <td>0</td>\n",
       "      <td>0</td>\n",
       "      <td>0</td>\n",
       "      <td>0</td>\n",
       "      <td>0</td>\n",
       "      <td>0</td>\n",
       "      <td>0</td>\n",
       "    </tr>\n",
       "    <tr>\n",
       "      <th>2446</th>\n",
       "      <td>57689</td>\n",
       "      <td>japanese</td>\n",
       "      <td>0</td>\n",
       "      <td>0</td>\n",
       "      <td>0</td>\n",
       "      <td>0</td>\n",
       "      <td>0</td>\n",
       "      <td>0</td>\n",
       "      <td>0</td>\n",
       "      <td>0</td>\n",
       "      <td>...</td>\n",
       "      <td>0</td>\n",
       "      <td>0</td>\n",
       "      <td>0</td>\n",
       "      <td>0</td>\n",
       "      <td>0</td>\n",
       "      <td>0</td>\n",
       "      <td>0</td>\n",
       "      <td>0</td>\n",
       "      <td>0</td>\n",
       "      <td>0</td>\n",
       "    </tr>\n",
       "    <tr>\n",
       "      <th>2447</th>\n",
       "      <td>57690</td>\n",
       "      <td>japanese</td>\n",
       "      <td>0</td>\n",
       "      <td>0</td>\n",
       "      <td>0</td>\n",
       "      <td>0</td>\n",
       "      <td>0</td>\n",
       "      <td>0</td>\n",
       "      <td>0</td>\n",
       "      <td>0</td>\n",
       "      <td>...</td>\n",
       "      <td>0</td>\n",
       "      <td>0</td>\n",
       "      <td>0</td>\n",
       "      <td>0</td>\n",
       "      <td>0</td>\n",
       "      <td>0</td>\n",
       "      <td>0</td>\n",
       "      <td>0</td>\n",
       "      <td>0</td>\n",
       "      <td>0</td>\n",
       "    </tr>\n",
       "  </tbody>\n",
       "</table>\n",
       "<p>5 rows × 385 columns</p>\n",
       "</div>"
      ],
      "text/plain": [
       "      Unnamed: 0   cuisine  almond  angelica  anise  anise_seed  apple  \\\n",
       "2443       57686  japanese       0         0      0           0      0   \n",
       "2444       57687  japanese       0         0      0           0      0   \n",
       "2445       57688  japanese       0         0      0           0      0   \n",
       "2446       57689  japanese       0         0      0           0      0   \n",
       "2447       57690  japanese       0         0      0           0      0   \n",
       "\n",
       "      apple_brandy  apricot  armagnac  ...  whiskey  white_bread  white_wine  \\\n",
       "2443             0        0         0  ...        0            0           0   \n",
       "2444             0        0         0  ...        0            0           0   \n",
       "2445             0        0         0  ...        0            0           0   \n",
       "2446             0        0         0  ...        0            0           0   \n",
       "2447             0        0         0  ...        0            0           0   \n",
       "\n",
       "      whole_grain_wheat_flour  wine  wood  yam  yeast  yogurt  zucchini  \n",
       "2443                        0     0     0    0      0       0         0  \n",
       "2444                        0     0     0    0      0       0         0  \n",
       "2445                        0     0     0    0      0       0         0  \n",
       "2446                        0     0     0    0      0       0         0  \n",
       "2447                        0     0     0    0      0       0         0  \n",
       "\n",
       "[5 rows x 385 columns]"
      ]
     },
     "execution_count": 3,
     "metadata": {},
     "output_type": "execute_result"
    }
   ],
   "source": [
    "data.tail()"
   ]
  },
  {
   "cell_type": "code",
   "execution_count": 4,
   "metadata": {},
   "outputs": [
    {
     "name": "stdout",
     "output_type": "stream",
     "text": [
      "<class 'pandas.core.frame.DataFrame'>\n",
      "RangeIndex: 2448 entries, 0 to 2447\n",
      "Columns: 385 entries, Unnamed: 0 to zucchini\n",
      "dtypes: int64(384), object(1)\n",
      "memory usage: 7.2+ MB\n"
     ]
    }
   ],
   "source": [
    "data.info()"
   ]
  },
  {
   "cell_type": "code",
   "execution_count": 5,
   "metadata": {},
   "outputs": [
    {
     "data": {
      "text/html": [
       "<div>\n",
       "<style scoped>\n",
       "    .dataframe tbody tr th:only-of-type {\n",
       "        vertical-align: middle;\n",
       "    }\n",
       "\n",
       "    .dataframe tbody tr th {\n",
       "        vertical-align: top;\n",
       "    }\n",
       "\n",
       "    .dataframe thead th {\n",
       "        text-align: right;\n",
       "    }\n",
       "</style>\n",
       "<table border=\"1\" class=\"dataframe\">\n",
       "  <thead>\n",
       "    <tr style=\"text-align: right;\">\n",
       "      <th></th>\n",
       "      <th>Unnamed: 0</th>\n",
       "      <th>almond</th>\n",
       "      <th>angelica</th>\n",
       "      <th>anise</th>\n",
       "      <th>anise_seed</th>\n",
       "      <th>apple</th>\n",
       "      <th>apple_brandy</th>\n",
       "      <th>apricot</th>\n",
       "      <th>armagnac</th>\n",
       "      <th>artemisia</th>\n",
       "      <th>...</th>\n",
       "      <th>whiskey</th>\n",
       "      <th>white_bread</th>\n",
       "      <th>white_wine</th>\n",
       "      <th>whole_grain_wheat_flour</th>\n",
       "      <th>wine</th>\n",
       "      <th>wood</th>\n",
       "      <th>yam</th>\n",
       "      <th>yeast</th>\n",
       "      <th>yogurt</th>\n",
       "      <th>zucchini</th>\n",
       "    </tr>\n",
       "    <tr>\n",
       "      <th>cuisine</th>\n",
       "      <th></th>\n",
       "      <th></th>\n",
       "      <th></th>\n",
       "      <th></th>\n",
       "      <th></th>\n",
       "      <th></th>\n",
       "      <th></th>\n",
       "      <th></th>\n",
       "      <th></th>\n",
       "      <th></th>\n",
       "      <th></th>\n",
       "      <th></th>\n",
       "      <th></th>\n",
       "      <th></th>\n",
       "      <th></th>\n",
       "      <th></th>\n",
       "      <th></th>\n",
       "      <th></th>\n",
       "      <th></th>\n",
       "      <th></th>\n",
       "      <th></th>\n",
       "    </tr>\n",
       "  </thead>\n",
       "  <tbody>\n",
       "    <tr>\n",
       "      <th>chinese</th>\n",
       "      <td>442</td>\n",
       "      <td>442</td>\n",
       "      <td>442</td>\n",
       "      <td>442</td>\n",
       "      <td>442</td>\n",
       "      <td>442</td>\n",
       "      <td>442</td>\n",
       "      <td>442</td>\n",
       "      <td>442</td>\n",
       "      <td>442</td>\n",
       "      <td>...</td>\n",
       "      <td>442</td>\n",
       "      <td>442</td>\n",
       "      <td>442</td>\n",
       "      <td>442</td>\n",
       "      <td>442</td>\n",
       "      <td>442</td>\n",
       "      <td>442</td>\n",
       "      <td>442</td>\n",
       "      <td>442</td>\n",
       "      <td>442</td>\n",
       "    </tr>\n",
       "    <tr>\n",
       "      <th>indian</th>\n",
       "      <td>598</td>\n",
       "      <td>598</td>\n",
       "      <td>598</td>\n",
       "      <td>598</td>\n",
       "      <td>598</td>\n",
       "      <td>598</td>\n",
       "      <td>598</td>\n",
       "      <td>598</td>\n",
       "      <td>598</td>\n",
       "      <td>598</td>\n",
       "      <td>...</td>\n",
       "      <td>598</td>\n",
       "      <td>598</td>\n",
       "      <td>598</td>\n",
       "      <td>598</td>\n",
       "      <td>598</td>\n",
       "      <td>598</td>\n",
       "      <td>598</td>\n",
       "      <td>598</td>\n",
       "      <td>598</td>\n",
       "      <td>598</td>\n",
       "    </tr>\n",
       "    <tr>\n",
       "      <th>japanese</th>\n",
       "      <td>320</td>\n",
       "      <td>320</td>\n",
       "      <td>320</td>\n",
       "      <td>320</td>\n",
       "      <td>320</td>\n",
       "      <td>320</td>\n",
       "      <td>320</td>\n",
       "      <td>320</td>\n",
       "      <td>320</td>\n",
       "      <td>320</td>\n",
       "      <td>...</td>\n",
       "      <td>320</td>\n",
       "      <td>320</td>\n",
       "      <td>320</td>\n",
       "      <td>320</td>\n",
       "      <td>320</td>\n",
       "      <td>320</td>\n",
       "      <td>320</td>\n",
       "      <td>320</td>\n",
       "      <td>320</td>\n",
       "      <td>320</td>\n",
       "    </tr>\n",
       "    <tr>\n",
       "      <th>korean</th>\n",
       "      <td>799</td>\n",
       "      <td>799</td>\n",
       "      <td>799</td>\n",
       "      <td>799</td>\n",
       "      <td>799</td>\n",
       "      <td>799</td>\n",
       "      <td>799</td>\n",
       "      <td>799</td>\n",
       "      <td>799</td>\n",
       "      <td>799</td>\n",
       "      <td>...</td>\n",
       "      <td>799</td>\n",
       "      <td>799</td>\n",
       "      <td>799</td>\n",
       "      <td>799</td>\n",
       "      <td>799</td>\n",
       "      <td>799</td>\n",
       "      <td>799</td>\n",
       "      <td>799</td>\n",
       "      <td>799</td>\n",
       "      <td>799</td>\n",
       "    </tr>\n",
       "    <tr>\n",
       "      <th>thai</th>\n",
       "      <td>289</td>\n",
       "      <td>289</td>\n",
       "      <td>289</td>\n",
       "      <td>289</td>\n",
       "      <td>289</td>\n",
       "      <td>289</td>\n",
       "      <td>289</td>\n",
       "      <td>289</td>\n",
       "      <td>289</td>\n",
       "      <td>289</td>\n",
       "      <td>...</td>\n",
       "      <td>289</td>\n",
       "      <td>289</td>\n",
       "      <td>289</td>\n",
       "      <td>289</td>\n",
       "      <td>289</td>\n",
       "      <td>289</td>\n",
       "      <td>289</td>\n",
       "      <td>289</td>\n",
       "      <td>289</td>\n",
       "      <td>289</td>\n",
       "    </tr>\n",
       "  </tbody>\n",
       "</table>\n",
       "<p>5 rows × 384 columns</p>\n",
       "</div>"
      ],
      "text/plain": [
       "          Unnamed: 0  almond  angelica  anise  anise_seed  apple  \\\n",
       "cuisine                                                            \n",
       "chinese          442     442       442    442         442    442   \n",
       "indian           598     598       598    598         598    598   \n",
       "japanese         320     320       320    320         320    320   \n",
       "korean           799     799       799    799         799    799   \n",
       "thai             289     289       289    289         289    289   \n",
       "\n",
       "          apple_brandy  apricot  armagnac  artemisia  ...  whiskey  \\\n",
       "cuisine                                               ...            \n",
       "chinese            442      442       442        442  ...      442   \n",
       "indian             598      598       598        598  ...      598   \n",
       "japanese           320      320       320        320  ...      320   \n",
       "korean             799      799       799        799  ...      799   \n",
       "thai               289      289       289        289  ...      289   \n",
       "\n",
       "          white_bread  white_wine  whole_grain_wheat_flour  wine  wood  yam  \\\n",
       "cuisine                                                                       \n",
       "chinese           442         442                      442   442   442  442   \n",
       "indian            598         598                      598   598   598  598   \n",
       "japanese          320         320                      320   320   320  320   \n",
       "korean            799         799                      799   799   799  799   \n",
       "thai              289         289                      289   289   289  289   \n",
       "\n",
       "          yeast  yogurt  zucchini  \n",
       "cuisine                            \n",
       "chinese     442     442       442  \n",
       "indian      598     598       598  \n",
       "japanese    320     320       320  \n",
       "korean      799     799       799  \n",
       "thai        289     289       289  \n",
       "\n",
       "[5 rows x 384 columns]"
      ]
     },
     "execution_count": 5,
     "metadata": {},
     "output_type": "execute_result"
    }
   ],
   "source": [
    "data.groupby(by='cuisine').count()"
   ]
  },
  {
   "cell_type": "markdown",
   "metadata": {},
   "source": [
    "Since the dataset is multidimensional and each attribute's presence is demonstated by 0 and 1 \n",
    "\n",
    "--> Choose Naive Bayes algorithm to build a prediction model."
   ]
  },
  {
   "cell_type": "code",
   "execution_count": 6,
   "metadata": {},
   "outputs": [],
   "source": [
    "from sklearn.decomposition import PCA\n",
    "from sklearn.model_selection import train_test_split\n",
    "from sklearn.naive_bayes import BernoulliNB\n",
    "from sklearn.metrics import accuracy_score\n",
    "from sklearn.utils.validation import column_or_1d"
   ]
  },
  {
   "cell_type": "code",
   "execution_count": 7,
   "metadata": {},
   "outputs": [],
   "source": [
    "X = data.iloc[:,2:]\n",
    "y = data[['cuisine']]"
   ]
  },
  {
   "cell_type": "code",
   "execution_count": 8,
   "metadata": {},
   "outputs": [],
   "source": [
    "X_train, X_test, y_train, y_test = train_test_split(X, y, test_size=0.2, random_state=42)"
   ]
  },
  {
   "cell_type": "code",
   "execution_count": 9,
   "metadata": {},
   "outputs": [],
   "source": [
    "model = BernoulliNB()"
   ]
  },
  {
   "cell_type": "code",
   "execution_count": 10,
   "metadata": {},
   "outputs": [
    {
     "data": {
      "text/plain": [
       "BernoulliNB(alpha=1.0, binarize=0.0, class_prior=None, fit_prior=True)"
      ]
     },
     "execution_count": 10,
     "metadata": {},
     "output_type": "execute_result"
    }
   ],
   "source": [
    "model.fit(X_train,column_or_1d(y_train))"
   ]
  },
  {
   "cell_type": "code",
   "execution_count": 11,
   "metadata": {},
   "outputs": [],
   "source": [
    "y_pred = model.predict(X_test)"
   ]
  },
  {
   "cell_type": "code",
   "execution_count": 12,
   "metadata": {},
   "outputs": [
    {
     "name": "stdout",
     "output_type": "stream",
     "text": [
      "The accuracy score is:  0.8285714285714286\n"
     ]
    }
   ],
   "source": [
    "print('The accuracy score is: ', accuracy_score(y_test,y_pred))"
   ]
  },
  {
   "cell_type": "markdown",
   "metadata": {},
   "source": [
    "High accuracy score with > 80% "
   ]
  },
  {
   "cell_type": "code",
   "execution_count": 13,
   "metadata": {},
   "outputs": [
    {
     "name": "stdout",
     "output_type": "stream",
     "text": [
      "The train score is:  0.8161389172625128\n",
      "The test score is:  0.8285714285714286\n"
     ]
    }
   ],
   "source": [
    "print('The train score is: ', model.score(X_train,y_train))\n",
    "print('The test score is: ', model.score(X_test,y_test))"
   ]
  },
  {
   "cell_type": "markdown",
   "metadata": {},
   "source": [
    "The model fits to 83% of the dataset and shows no overfitting (train score ~ test score). "
   ]
  },
  {
   "cell_type": "code",
   "execution_count": 14,
   "metadata": {},
   "outputs": [
    {
     "data": {
      "text/html": [
       "<div>\n",
       "<style scoped>\n",
       "    .dataframe tbody tr th:only-of-type {\n",
       "        vertical-align: middle;\n",
       "    }\n",
       "\n",
       "    .dataframe tbody tr th {\n",
       "        vertical-align: top;\n",
       "    }\n",
       "\n",
       "    .dataframe thead th {\n",
       "        text-align: right;\n",
       "    }\n",
       "</style>\n",
       "<table border=\"1\" class=\"dataframe\">\n",
       "  <thead>\n",
       "    <tr style=\"text-align: right;\">\n",
       "      <th></th>\n",
       "      <th>Actual</th>\n",
       "    </tr>\n",
       "  </thead>\n",
       "  <tbody>\n",
       "    <tr>\n",
       "      <th>0</th>\n",
       "      <td>korean</td>\n",
       "    </tr>\n",
       "    <tr>\n",
       "      <th>1</th>\n",
       "      <td>korean</td>\n",
       "    </tr>\n",
       "    <tr>\n",
       "      <th>2</th>\n",
       "      <td>korean</td>\n",
       "    </tr>\n",
       "    <tr>\n",
       "      <th>3</th>\n",
       "      <td>korean</td>\n",
       "    </tr>\n",
       "    <tr>\n",
       "      <th>4</th>\n",
       "      <td>thai</td>\n",
       "    </tr>\n",
       "  </tbody>\n",
       "</table>\n",
       "</div>"
      ],
      "text/plain": [
       "   Actual\n",
       "0  korean\n",
       "1  korean\n",
       "2  korean\n",
       "3  korean\n",
       "4    thai"
      ]
     },
     "execution_count": 14,
     "metadata": {},
     "output_type": "execute_result"
    }
   ],
   "source": [
    "df = pd.DataFrame(y_test.iloc[:,0].values, columns=['Actual'])\n",
    "df.head()"
   ]
  },
  {
   "cell_type": "code",
   "execution_count": 15,
   "metadata": {},
   "outputs": [],
   "source": [
    "df['Predicted'] = y_pred"
   ]
  },
  {
   "cell_type": "code",
   "execution_count": 16,
   "metadata": {},
   "outputs": [
    {
     "data": {
      "text/html": [
       "<div>\n",
       "<style scoped>\n",
       "    .dataframe tbody tr th:only-of-type {\n",
       "        vertical-align: middle;\n",
       "    }\n",
       "\n",
       "    .dataframe tbody tr th {\n",
       "        vertical-align: top;\n",
       "    }\n",
       "\n",
       "    .dataframe thead th {\n",
       "        text-align: right;\n",
       "    }\n",
       "</style>\n",
       "<table border=\"1\" class=\"dataframe\">\n",
       "  <thead>\n",
       "    <tr style=\"text-align: right;\">\n",
       "      <th></th>\n",
       "      <th>Actual</th>\n",
       "      <th>Predicted</th>\n",
       "    </tr>\n",
       "  </thead>\n",
       "  <tbody>\n",
       "    <tr>\n",
       "      <th>0</th>\n",
       "      <td>korean</td>\n",
       "      <td>korean</td>\n",
       "    </tr>\n",
       "    <tr>\n",
       "      <th>1</th>\n",
       "      <td>korean</td>\n",
       "      <td>korean</td>\n",
       "    </tr>\n",
       "    <tr>\n",
       "      <th>2</th>\n",
       "      <td>korean</td>\n",
       "      <td>korean</td>\n",
       "    </tr>\n",
       "    <tr>\n",
       "      <th>3</th>\n",
       "      <td>korean</td>\n",
       "      <td>korean</td>\n",
       "    </tr>\n",
       "    <tr>\n",
       "      <th>4</th>\n",
       "      <td>thai</td>\n",
       "      <td>thai</td>\n",
       "    </tr>\n",
       "  </tbody>\n",
       "</table>\n",
       "</div>"
      ],
      "text/plain": [
       "   Actual Predicted\n",
       "0  korean    korean\n",
       "1  korean    korean\n",
       "2  korean    korean\n",
       "3  korean    korean\n",
       "4    thai      thai"
      ]
     },
     "execution_count": 16,
     "metadata": {},
     "output_type": "execute_result"
    }
   ],
   "source": [
    "df.head()"
   ]
  },
  {
   "cell_type": "code",
   "execution_count": 17,
   "metadata": {},
   "outputs": [
    {
     "data": {
      "text/html": [
       "<div>\n",
       "<style scoped>\n",
       "    .dataframe tbody tr th:only-of-type {\n",
       "        vertical-align: middle;\n",
       "    }\n",
       "\n",
       "    .dataframe tbody tr th {\n",
       "        vertical-align: top;\n",
       "    }\n",
       "\n",
       "    .dataframe thead th {\n",
       "        text-align: right;\n",
       "    }\n",
       "</style>\n",
       "<table border=\"1\" class=\"dataframe\">\n",
       "  <thead>\n",
       "    <tr style=\"text-align: right;\">\n",
       "      <th></th>\n",
       "      <th>Actual</th>\n",
       "      <th>Predicted</th>\n",
       "    </tr>\n",
       "  </thead>\n",
       "  <tbody>\n",
       "    <tr>\n",
       "      <th>485</th>\n",
       "      <td>thai</td>\n",
       "      <td>thai</td>\n",
       "    </tr>\n",
       "    <tr>\n",
       "      <th>486</th>\n",
       "      <td>indian</td>\n",
       "      <td>indian</td>\n",
       "    </tr>\n",
       "    <tr>\n",
       "      <th>487</th>\n",
       "      <td>chinese</td>\n",
       "      <td>chinese</td>\n",
       "    </tr>\n",
       "    <tr>\n",
       "      <th>488</th>\n",
       "      <td>korean</td>\n",
       "      <td>korean</td>\n",
       "    </tr>\n",
       "    <tr>\n",
       "      <th>489</th>\n",
       "      <td>japanese</td>\n",
       "      <td>chinese</td>\n",
       "    </tr>\n",
       "  </tbody>\n",
       "</table>\n",
       "</div>"
      ],
      "text/plain": [
       "       Actual Predicted\n",
       "485      thai      thai\n",
       "486    indian    indian\n",
       "487   chinese   chinese\n",
       "488    korean    korean\n",
       "489  japanese   chinese"
      ]
     },
     "execution_count": 17,
     "metadata": {},
     "output_type": "execute_result"
    }
   ],
   "source": [
    "df.tail()"
   ]
  },
  {
   "cell_type": "markdown",
   "metadata": {},
   "source": [
    "## Assessment of model"
   ]
  },
  {
   "cell_type": "code",
   "execution_count": 18,
   "metadata": {},
   "outputs": [],
   "source": [
    "from sklearn.metrics import classification_report, confusion_matrix"
   ]
  },
  {
   "cell_type": "code",
   "execution_count": 19,
   "metadata": {},
   "outputs": [
    {
     "name": "stdout",
     "output_type": "stream",
     "text": [
      "[[ 77   4   5  13   1]\n",
      " [  0 104   4   2   2]\n",
      " [  5   1  36  12   4]\n",
      " [  7   1  13 141   0]\n",
      " [  2   8   0   0  48]]\n",
      "              precision    recall  f1-score   support\n",
      "\n",
      "     chinese       0.85      0.77      0.81       100\n",
      "      indian       0.88      0.93      0.90       112\n",
      "    japanese       0.62      0.62      0.62        58\n",
      "      korean       0.84      0.87      0.85       162\n",
      "        thai       0.87      0.83      0.85        58\n",
      "\n",
      "    accuracy                           0.83       490\n",
      "   macro avg       0.81      0.80      0.81       490\n",
      "weighted avg       0.83      0.83      0.83       490\n",
      "\n"
     ]
    }
   ],
   "source": [
    "print(confusion_matrix(y_test,y_pred))\n",
    "print(classification_report(y_test,y_pred))"
   ]
  },
  {
   "cell_type": "markdown",
   "metadata": {},
   "source": [
    "Precision of japanese dishes is the lowest. They were categorized wrongly into other cuisines.  \n",
    "\n",
    "The overall accuracy is 83%."
   ]
  },
  {
   "cell_type": "markdown",
   "metadata": {},
   "source": [
    "### Try applying PCA to simplify the model."
   ]
  },
  {
   "cell_type": "code",
   "execution_count": 20,
   "metadata": {},
   "outputs": [],
   "source": [
    "pca = PCA(n_components=3)"
   ]
  },
  {
   "cell_type": "code",
   "execution_count": 21,
   "metadata": {},
   "outputs": [
    {
     "data": {
      "text/plain": [
       "PCA(copy=True, iterated_power='auto', n_components=3, random_state=None,\n",
       "    svd_solver='auto', tol=0.0, whiten=False)"
      ]
     },
     "execution_count": 21,
     "metadata": {},
     "output_type": "execute_result"
    }
   ],
   "source": [
    "pca.fit(X)"
   ]
  },
  {
   "cell_type": "code",
   "execution_count": 22,
   "metadata": {},
   "outputs": [],
   "source": [
    "X_trans = pca.transform(X)"
   ]
  },
  {
   "cell_type": "code",
   "execution_count": 23,
   "metadata": {},
   "outputs": [
    {
     "data": {
      "text/plain": [
       "(2448, 3)"
      ]
     },
     "execution_count": 23,
     "metadata": {},
     "output_type": "execute_result"
    }
   ],
   "source": [
    "X_trans.shape"
   ]
  },
  {
   "cell_type": "code",
   "execution_count": 24,
   "metadata": {},
   "outputs": [
    {
     "data": {
      "text/plain": [
       "(2448, 383)"
      ]
     },
     "execution_count": 24,
     "metadata": {},
     "output_type": "execute_result"
    }
   ],
   "source": [
    "X.shape"
   ]
  },
  {
   "cell_type": "code",
   "execution_count": 25,
   "metadata": {},
   "outputs": [],
   "source": [
    "X_new = pd.DataFrame(X_trans, columns=['Principal Component 1', 'Principal Component 2','Principal Component 3'])"
   ]
  },
  {
   "cell_type": "code",
   "execution_count": 26,
   "metadata": {},
   "outputs": [
    {
     "data": {
      "text/html": [
       "<div>\n",
       "<style scoped>\n",
       "    .dataframe tbody tr th:only-of-type {\n",
       "        vertical-align: middle;\n",
       "    }\n",
       "\n",
       "    .dataframe tbody tr th {\n",
       "        vertical-align: top;\n",
       "    }\n",
       "\n",
       "    .dataframe thead th {\n",
       "        text-align: right;\n",
       "    }\n",
       "</style>\n",
       "<table border=\"1\" class=\"dataframe\">\n",
       "  <thead>\n",
       "    <tr style=\"text-align: right;\">\n",
       "      <th></th>\n",
       "      <th>Principal Component 1</th>\n",
       "      <th>Principal Component 2</th>\n",
       "      <th>Principal Component 3</th>\n",
       "    </tr>\n",
       "  </thead>\n",
       "  <tbody>\n",
       "    <tr>\n",
       "      <th>0</th>\n",
       "      <td>1.818150</td>\n",
       "      <td>0.825986</td>\n",
       "      <td>-0.899743</td>\n",
       "    </tr>\n",
       "    <tr>\n",
       "      <th>1</th>\n",
       "      <td>0.124481</td>\n",
       "      <td>-1.285016</td>\n",
       "      <td>-0.422643</td>\n",
       "    </tr>\n",
       "    <tr>\n",
       "      <th>2</th>\n",
       "      <td>0.045288</td>\n",
       "      <td>-1.153781</td>\n",
       "      <td>-0.439490</td>\n",
       "    </tr>\n",
       "    <tr>\n",
       "      <th>3</th>\n",
       "      <td>1.101262</td>\n",
       "      <td>0.659145</td>\n",
       "      <td>-0.423336</td>\n",
       "    </tr>\n",
       "    <tr>\n",
       "      <th>4</th>\n",
       "      <td>0.806139</td>\n",
       "      <td>-0.404010</td>\n",
       "      <td>-0.534264</td>\n",
       "    </tr>\n",
       "  </tbody>\n",
       "</table>\n",
       "</div>"
      ],
      "text/plain": [
       "   Principal Component 1  Principal Component 2  Principal Component 3\n",
       "0               1.818150               0.825986              -0.899743\n",
       "1               0.124481              -1.285016              -0.422643\n",
       "2               0.045288              -1.153781              -0.439490\n",
       "3               1.101262               0.659145              -0.423336\n",
       "4               0.806139              -0.404010              -0.534264"
      ]
     },
     "execution_count": 26,
     "metadata": {},
     "output_type": "execute_result"
    }
   ],
   "source": [
    "X_new.head()"
   ]
  },
  {
   "cell_type": "code",
   "execution_count": 27,
   "metadata": {},
   "outputs": [],
   "source": [
    "X_train_n, X_test_n, y_train_n, y_test_n = train_test_split(X_new, y, test_size=0.2, random_state=42)"
   ]
  },
  {
   "cell_type": "code",
   "execution_count": 28,
   "metadata": {},
   "outputs": [],
   "source": [
    "model_n = BernoulliNB()"
   ]
  },
  {
   "cell_type": "code",
   "execution_count": 29,
   "metadata": {},
   "outputs": [
    {
     "data": {
      "text/plain": [
       "BernoulliNB(alpha=1.0, binarize=0.0, class_prior=None, fit_prior=True)"
      ]
     },
     "execution_count": 29,
     "metadata": {},
     "output_type": "execute_result"
    }
   ],
   "source": [
    "model_n.fit(X_train_n,column_or_1d(y_train_n))"
   ]
  },
  {
   "cell_type": "code",
   "execution_count": 30,
   "metadata": {},
   "outputs": [],
   "source": [
    "y_pred_n = model_n.predict(X_test_n)"
   ]
  },
  {
   "cell_type": "code",
   "execution_count": 31,
   "metadata": {},
   "outputs": [
    {
     "name": "stdout",
     "output_type": "stream",
     "text": [
      "The accuracy score is:  0.5265306122448979\n"
     ]
    }
   ],
   "source": [
    "print('The accuracy score is: ', accuracy_score(y_test_n,y_pred_n))"
   ]
  },
  {
   "cell_type": "code",
   "execution_count": 32,
   "metadata": {},
   "outputs": [
    {
     "name": "stdout",
     "output_type": "stream",
     "text": [
      "The train score is:  0.5474974463738509\n",
      "The test score is:  0.5265306122448979\n"
     ]
    }
   ],
   "source": [
    "print('The train score is: ', model_n.score(X_train_n,y_train_n))\n",
    "print('The test score is: ', model_n.score(X_test_n,y_test_n))"
   ]
  },
  {
   "cell_type": "markdown",
   "metadata": {},
   "source": [
    "PCA does not help with predicting cuisine in the model. "
   ]
  },
  {
   "cell_type": "markdown",
   "metadata": {},
   "source": [
    "### Applying Adaboost "
   ]
  },
  {
   "cell_type": "code",
   "execution_count": 33,
   "metadata": {},
   "outputs": [],
   "source": [
    "from sklearn.ensemble import AdaBoostClassifier\n",
    "from sklearn.tree import DecisionTreeClassifier"
   ]
  },
  {
   "cell_type": "code",
   "execution_count": 34,
   "metadata": {},
   "outputs": [],
   "source": [
    "ml = DecisionTreeClassifier()\n",
    "boosting = AdaBoostClassifier(n_estimators=100, base_estimator=ml, learning_rate=1)"
   ]
  },
  {
   "cell_type": "code",
   "execution_count": 59,
   "metadata": {},
   "outputs": [],
   "source": [
    "model_new = boosting.fit(X_train,column_or_1d(y_train))"
   ]
  },
  {
   "cell_type": "code",
   "execution_count": 36,
   "metadata": {},
   "outputs": [],
   "source": [
    "y_pred_b = model_new.predict(X_test)"
   ]
  },
  {
   "cell_type": "code",
   "execution_count": 37,
   "metadata": {},
   "outputs": [
    {
     "name": "stdout",
     "output_type": "stream",
     "text": [
      "The accuracy score is:  0.7918367346938775\n"
     ]
    }
   ],
   "source": [
    "print('The accuracy score is: ', accuracy_score(y_test,y_pred_b))"
   ]
  },
  {
   "cell_type": "code",
   "execution_count": 38,
   "metadata": {},
   "outputs": [
    {
     "name": "stdout",
     "output_type": "stream",
     "text": [
      "The train score is:  0.9964249233912156\n",
      "The test score is:  0.7918367346938775\n"
     ]
    }
   ],
   "source": [
    "print('The train score is: ', model_new.score(X_train,y_train))\n",
    "print('The test score is: ', model_new.score(X_test,y_test))"
   ]
  },
  {
   "cell_type": "markdown",
   "metadata": {},
   "source": [
    "The train score is 20% higher than the test score --> overfitting."
   ]
  },
  {
   "cell_type": "code",
   "execution_count": 39,
   "metadata": {},
   "outputs": [
    {
     "name": "stdout",
     "output_type": "stream",
     "text": [
      "[[ 72   7   4  15   2]\n",
      " [  2 107   0   1   2]\n",
      " [  8   2  31  15   2]\n",
      " [  9   4   8 138   3]\n",
      " [  6   9   1   2  40]]\n",
      "              precision    recall  f1-score   support\n",
      "\n",
      "     chinese       0.74      0.72      0.73       100\n",
      "      indian       0.83      0.96      0.89       112\n",
      "    japanese       0.70      0.53      0.61        58\n",
      "      korean       0.81      0.85      0.83       162\n",
      "        thai       0.82      0.69      0.75        58\n",
      "\n",
      "    accuracy                           0.79       490\n",
      "   macro avg       0.78      0.75      0.76       490\n",
      "weighted avg       0.79      0.79      0.79       490\n",
      "\n"
     ]
    }
   ],
   "source": [
    "print(confusion_matrix(y_test,y_pred_b))\n",
    "print(classification_report(y_test,y_pred_b))"
   ]
  },
  {
   "cell_type": "markdown",
   "metadata": {},
   "source": [
    "### Random Forest "
   ]
  },
  {
   "cell_type": "code",
   "execution_count": 40,
   "metadata": {},
   "outputs": [],
   "source": [
    "from sklearn.ensemble import RandomForestClassifier\n",
    "ml_1 = RandomForestClassifier(n_estimators=100)"
   ]
  },
  {
   "cell_type": "code",
   "execution_count": 41,
   "metadata": {},
   "outputs": [
    {
     "data": {
      "text/plain": [
       "RandomForestClassifier(bootstrap=True, ccp_alpha=0.0, class_weight=None,\n",
       "                       criterion='gini', max_depth=None, max_features='auto',\n",
       "                       max_leaf_nodes=None, max_samples=None,\n",
       "                       min_impurity_decrease=0.0, min_impurity_split=None,\n",
       "                       min_samples_leaf=1, min_samples_split=2,\n",
       "                       min_weight_fraction_leaf=0.0, n_estimators=100,\n",
       "                       n_jobs=None, oob_score=False, random_state=None,\n",
       "                       verbose=0, warm_start=False)"
      ]
     },
     "execution_count": 41,
     "metadata": {},
     "output_type": "execute_result"
    }
   ],
   "source": [
    "ml_1.fit(X_train,column_or_1d(y_train))"
   ]
  },
  {
   "cell_type": "code",
   "execution_count": 42,
   "metadata": {},
   "outputs": [],
   "source": [
    "y_pred_r = ml_1.predict(X_test)"
   ]
  },
  {
   "cell_type": "code",
   "execution_count": 43,
   "metadata": {},
   "outputs": [
    {
     "name": "stdout",
     "output_type": "stream",
     "text": [
      "The accuracy score is:  0.8163265306122449\n"
     ]
    }
   ],
   "source": [
    "print('The accuracy score is: ', accuracy_score(y_test,y_pred_r))"
   ]
  },
  {
   "cell_type": "code",
   "execution_count": 44,
   "metadata": {},
   "outputs": [
    {
     "name": "stdout",
     "output_type": "stream",
     "text": [
      "The train score is:  0.9964249233912156\n",
      "The test score is:  0.8163265306122449\n"
     ]
    }
   ],
   "source": [
    "print('The train score is: ', ml_1.score(X_train,y_train))\n",
    "print('The test score is: ', ml_1.score(X_test,y_test))"
   ]
  },
  {
   "cell_type": "code",
   "execution_count": 45,
   "metadata": {},
   "outputs": [
    {
     "name": "stdout",
     "output_type": "stream",
     "text": [
      "[[ 79   5   5  10   1]\n",
      " [  2 107   0   1   2]\n",
      " [  6   4  29  16   3]\n",
      " [  8   3   8 143   0]\n",
      " [  4  10   0   2  42]]\n",
      "              precision    recall  f1-score   support\n",
      "\n",
      "     chinese       0.80      0.79      0.79       100\n",
      "      indian       0.83      0.96      0.89       112\n",
      "    japanese       0.69      0.50      0.58        58\n",
      "      korean       0.83      0.88      0.86       162\n",
      "        thai       0.88      0.72      0.79        58\n",
      "\n",
      "    accuracy                           0.82       490\n",
      "   macro avg       0.80      0.77      0.78       490\n",
      "weighted avg       0.81      0.82      0.81       490\n",
      "\n"
     ]
    }
   ],
   "source": [
    "print(confusion_matrix(y_test,y_pred_r))\n",
    "print(classification_report(y_test,y_pred_r))"
   ]
  },
  {
   "cell_type": "markdown",
   "metadata": {},
   "source": [
    "#### “cumin”:1, “fish” :1, “yogurt” : 0 --> cuisine?"
   ]
  },
  {
   "cell_type": "code",
   "execution_count": 46,
   "metadata": {},
   "outputs": [],
   "source": [
    "X_now = X[(X['cumin'] == 1) & (X['fish'] == 1) & (X['yogurt'] == 0)]"
   ]
  },
  {
   "cell_type": "code",
   "execution_count": 47,
   "metadata": {},
   "outputs": [
    {
     "data": {
      "text/plain": [
       "(52, 383)"
      ]
     },
     "execution_count": 47,
     "metadata": {},
     "output_type": "execute_result"
    }
   ],
   "source": [
    "X_now.shape"
   ]
  },
  {
   "cell_type": "code",
   "execution_count": 48,
   "metadata": {},
   "outputs": [
    {
     "name": "stdout",
     "output_type": "stream",
     "text": [
      "Cuisine predicted using Naive Bayes:  ['indian' 'thai' 'thai' 'thai' 'thai' 'thai' 'thai' 'thai' 'thai' 'thai'\n",
      " 'thai' 'thai' 'thai' 'thai' 'thai' 'thai' 'thai' 'thai' 'thai' 'thai'\n",
      " 'thai' 'thai' 'thai' 'thai' 'thai' 'thai' 'thai' 'thai' 'thai' 'indian'\n",
      " 'indian' 'thai' 'indian' 'thai' 'indian' 'thai' 'thai' 'thai' 'thai'\n",
      " 'thai' 'thai' 'indian' 'thai' 'thai' 'thai' 'thai' 'thai' 'thai' 'thai'\n",
      " 'thai' 'indian' 'thai']\n"
     ]
    }
   ],
   "source": [
    "print(\"Cuisine predicted using Naive Bayes: \", model.predict(X_now))"
   ]
  },
  {
   "cell_type": "code",
   "execution_count": 49,
   "metadata": {},
   "outputs": [
    {
     "name": "stdout",
     "output_type": "stream",
     "text": [
      "Cuisine predicted using Adaboost with DecisionTree as base:  ['indian' 'indian' 'thai' 'thai' 'thai' 'thai' 'thai' 'thai' 'thai' 'thai'\n",
      " 'thai' 'thai' 'thai' 'thai' 'thai' 'thai' 'thai' 'thai' 'thai' 'thai'\n",
      " 'thai' 'thai' 'thai' 'thai' 'thai' 'thai' 'thai' 'japanese' 'japanese'\n",
      " 'japanese' 'indian' 'korean' 'indian' 'thai' 'thai' 'thai' 'thai' 'thai'\n",
      " 'thai' 'thai' 'thai' 'thai' 'thai' 'thai' 'thai' 'thai' 'thai' 'thai'\n",
      " 'thai' 'thai' 'thai' 'thai']\n"
     ]
    }
   ],
   "source": [
    "print(\"Cuisine predicted using Adaboost with DecisionTree as base: \", model_new.predict(X_now))"
   ]
  },
  {
   "cell_type": "code",
   "execution_count": 50,
   "metadata": {},
   "outputs": [
    {
     "name": "stdout",
     "output_type": "stream",
     "text": [
      "Cuisine predicted using Random Forest:  ['indian' 'indian' 'thai' 'thai' 'thai' 'thai' 'thai' 'thai' 'thai' 'thai'\n",
      " 'thai' 'thai' 'thai' 'thai' 'thai' 'thai' 'thai' 'thai' 'thai' 'thai'\n",
      " 'thai' 'thai' 'thai' 'thai' 'thai' 'thai' 'thai' 'thai' 'japanese'\n",
      " 'japanese' 'indian' 'korean' 'indian' 'thai' 'thai' 'thai' 'thai' 'thai'\n",
      " 'thai' 'thai' 'thai' 'thai' 'thai' 'thai' 'thai' 'thai' 'thai' 'thai'\n",
      " 'thai' 'thai' 'thai' 'thai']\n"
     ]
    }
   ],
   "source": [
    "print(\"Cuisine predicted using Random Forest: \", ml_1.predict(X_now))"
   ]
  },
  {
   "cell_type": "markdown",
   "metadata": {},
   "source": [
    "The 3 models gives the results for dishes with cumin, fish and no yogurt belong to Indian or Thai cuisine."
   ]
  },
  {
   "cell_type": "markdown",
   "metadata": {},
   "source": [
    "#### “cumin”:1, “fish” :0, “soy_sauce” : 0 --> cuisine?"
   ]
  },
  {
   "cell_type": "code",
   "execution_count": 51,
   "metadata": {},
   "outputs": [],
   "source": [
    "X_now1 = X[(X['cumin'] == 1) & (X['fish'] == 0) & (X['soy_sauce'] == 0)]"
   ]
  },
  {
   "cell_type": "code",
   "execution_count": 52,
   "metadata": {},
   "outputs": [
    {
     "data": {
      "text/plain": [
       "(375, 383)"
      ]
     },
     "execution_count": 52,
     "metadata": {},
     "output_type": "execute_result"
    }
   ],
   "source": [
    "X_now1.shape"
   ]
  },
  {
   "cell_type": "code",
   "execution_count": 53,
   "metadata": {},
   "outputs": [
    {
     "name": "stdout",
     "output_type": "stream",
     "text": [
      "Cuisine predicted using Naive Bayes:  ['indian' 'indian' 'indian' 'indian' 'indian' 'thai' 'indian' 'indian'\n",
      " 'indian' 'indian' 'indian' 'indian' 'indian' 'indian' 'indian' 'indian'\n",
      " 'indian' 'indian' 'indian' 'indian' 'indian' 'indian' 'indian' 'indian'\n",
      " 'indian' 'indian' 'indian' 'indian' 'indian' 'indian' 'indian' 'indian'\n",
      " 'indian' 'indian' 'indian' 'indian' 'indian' 'indian' 'indian' 'indian'\n",
      " 'thai' 'indian' 'indian' 'indian' 'indian' 'indian' 'indian' 'indian'\n",
      " 'indian' 'indian' 'indian' 'indian' 'indian' 'indian' 'indian' 'indian'\n",
      " 'indian' 'indian' 'indian' 'indian' 'indian' 'indian' 'indian' 'indian'\n",
      " 'indian' 'indian' 'indian' 'indian' 'indian' 'indian' 'indian' 'indian'\n",
      " 'indian' 'indian' 'indian' 'indian' 'indian' 'indian' 'indian' 'indian'\n",
      " 'indian' 'indian' 'indian' 'indian' 'indian' 'indian' 'indian' 'indian'\n",
      " 'indian' 'indian' 'indian' 'indian' 'indian' 'indian' 'indian' 'indian'\n",
      " 'indian' 'indian' 'indian' 'indian' 'indian' 'indian' 'indian' 'indian'\n",
      " 'indian' 'indian' 'indian' 'indian' 'indian' 'indian' 'thai' 'indian'\n",
      " 'indian' 'indian' 'indian' 'indian' 'indian' 'indian' 'indian' 'indian'\n",
      " 'indian' 'indian' 'indian' 'indian' 'indian' 'indian' 'indian' 'indian'\n",
      " 'indian' 'indian' 'indian' 'indian' 'indian' 'indian' 'indian' 'indian'\n",
      " 'indian' 'indian' 'indian' 'indian' 'indian' 'indian' 'indian' 'indian'\n",
      " 'indian' 'indian' 'indian' 'indian' 'indian' 'indian' 'indian' 'thai'\n",
      " 'indian' 'indian' 'indian' 'thai' 'indian' 'thai' 'thai' 'thai' 'thai'\n",
      " 'indian' 'indian' 'indian' 'indian' 'indian' 'thai' 'thai' 'thai'\n",
      " 'indian' 'indian' 'indian' 'indian' 'indian' 'indian' 'indian' 'indian'\n",
      " 'indian' 'indian' 'indian' 'indian' 'indian' 'indian' 'indian' 'indian'\n",
      " 'indian' 'indian' 'indian' 'indian' 'indian' 'indian' 'indian' 'indian'\n",
      " 'indian' 'indian' 'indian' 'indian' 'indian' 'indian' 'indian' 'indian'\n",
      " 'indian' 'indian' 'indian' 'indian' 'indian' 'indian' 'indian' 'indian'\n",
      " 'indian' 'indian' 'indian' 'indian' 'indian' 'indian' 'indian' 'indian'\n",
      " 'indian' 'indian' 'indian' 'indian' 'indian' 'indian' 'indian' 'indian'\n",
      " 'indian' 'indian' 'indian' 'indian' 'indian' 'indian' 'indian' 'indian'\n",
      " 'indian' 'indian' 'indian' 'indian' 'indian' 'indian' 'indian' 'indian'\n",
      " 'indian' 'indian' 'indian' 'indian' 'indian' 'indian' 'indian' 'indian'\n",
      " 'indian' 'indian' 'indian' 'indian' 'indian' 'indian' 'indian' 'indian'\n",
      " 'indian' 'indian' 'indian' 'indian' 'indian' 'indian' 'indian' 'indian'\n",
      " 'indian' 'indian' 'indian' 'indian' 'indian' 'indian' 'indian' 'indian'\n",
      " 'indian' 'indian' 'indian' 'indian' 'indian' 'indian' 'indian' 'indian'\n",
      " 'indian' 'indian' 'indian' 'indian' 'indian' 'indian' 'indian' 'indian'\n",
      " 'indian' 'indian' 'indian' 'indian' 'indian' 'indian' 'indian' 'indian'\n",
      " 'indian' 'indian' 'indian' 'indian' 'indian' 'indian' 'indian' 'indian'\n",
      " 'indian' 'indian' 'indian' 'indian' 'indian' 'indian' 'indian' 'indian'\n",
      " 'indian' 'indian' 'indian' 'indian' 'indian' 'indian' 'indian' 'indian'\n",
      " 'indian' 'indian' 'indian' 'indian' 'indian' 'indian' 'indian' 'indian'\n",
      " 'indian' 'indian' 'indian' 'indian' 'indian' 'indian' 'indian' 'indian'\n",
      " 'indian' 'indian' 'indian' 'indian' 'indian' 'indian' 'indian' 'indian'\n",
      " 'indian' 'indian' 'indian' 'indian' 'indian' 'indian' 'indian' 'indian'\n",
      " 'indian' 'indian' 'indian' 'indian' 'indian' 'indian' 'indian' 'indian'\n",
      " 'indian' 'indian' 'indian' 'indian' 'indian' 'indian' 'indian' 'indian'\n",
      " 'indian' 'thai' 'indian' 'indian' 'indian' 'thai']\n"
     ]
    }
   ],
   "source": [
    "print(\"Cuisine predicted using Naive Bayes: \", model.predict(X_now1))"
   ]
  },
  {
   "cell_type": "code",
   "execution_count": 54,
   "metadata": {},
   "outputs": [
    {
     "name": "stdout",
     "output_type": "stream",
     "text": [
      "Cuisine predicted using Adaboost with DecisionTree as base:  ['indian' 'indian' 'indian' 'indian' 'indian' 'indian' 'indian' 'indian'\n",
      " 'indian' 'indian' 'indian' 'indian' 'indian' 'indian' 'indian' 'indian'\n",
      " 'indian' 'indian' 'indian' 'indian' 'indian' 'indian' 'indian' 'indian'\n",
      " 'indian' 'indian' 'indian' 'indian' 'indian' 'indian' 'indian' 'indian'\n",
      " 'indian' 'indian' 'indian' 'indian' 'indian' 'indian' 'indian' 'indian'\n",
      " 'thai' 'indian' 'indian' 'indian' 'indian' 'indian' 'indian' 'indian'\n",
      " 'indian' 'indian' 'indian' 'indian' 'indian' 'indian' 'indian' 'indian'\n",
      " 'indian' 'indian' 'indian' 'indian' 'indian' 'indian' 'indian' 'indian'\n",
      " 'indian' 'indian' 'indian' 'indian' 'indian' 'indian' 'indian' 'indian'\n",
      " 'indian' 'indian' 'indian' 'indian' 'indian' 'indian' 'indian' 'indian'\n",
      " 'indian' 'indian' 'indian' 'indian' 'indian' 'indian' 'indian' 'indian'\n",
      " 'indian' 'indian' 'indian' 'indian' 'indian' 'indian' 'indian' 'indian'\n",
      " 'indian' 'indian' 'indian' 'indian' 'indian' 'indian' 'indian' 'indian'\n",
      " 'indian' 'indian' 'indian' 'indian' 'indian' 'indian' 'indian' 'indian'\n",
      " 'indian' 'indian' 'indian' 'indian' 'indian' 'indian' 'indian' 'indian'\n",
      " 'indian' 'indian' 'indian' 'indian' 'indian' 'indian' 'indian' 'indian'\n",
      " 'indian' 'indian' 'indian' 'indian' 'indian' 'indian' 'indian' 'indian'\n",
      " 'indian' 'indian' 'indian' 'indian' 'indian' 'indian' 'indian' 'indian'\n",
      " 'indian' 'indian' 'indian' 'indian' 'indian' 'indian' 'indian' 'thai'\n",
      " 'indian' 'thai' 'thai' 'indian' 'thai' 'indian' 'thai' 'thai' 'thai'\n",
      " 'thai' 'thai' 'thai' 'thai' 'thai' 'thai' 'indian' 'thai' 'chinese'\n",
      " 'japanese' 'japanese' 'korean' 'indian' 'indian' 'indian' 'indian'\n",
      " 'indian' 'indian' 'indian' 'indian' 'indian' 'indian' 'indian' 'indian'\n",
      " 'indian' 'indian' 'indian' 'indian' 'indian' 'indian' 'indian' 'indian'\n",
      " 'indian' 'indian' 'indian' 'indian' 'indian' 'indian' 'indian' 'indian'\n",
      " 'indian' 'indian' 'indian' 'indian' 'indian' 'indian' 'indian' 'indian'\n",
      " 'indian' 'indian' 'indian' 'indian' 'indian' 'indian' 'indian' 'indian'\n",
      " 'indian' 'indian' 'indian' 'indian' 'indian' 'indian' 'indian' 'indian'\n",
      " 'indian' 'indian' 'indian' 'indian' 'indian' 'indian' 'indian' 'indian'\n",
      " 'indian' 'indian' 'indian' 'indian' 'indian' 'indian' 'indian' 'indian'\n",
      " 'indian' 'indian' 'indian' 'indian' 'indian' 'indian' 'indian' 'indian'\n",
      " 'indian' 'indian' 'indian' 'indian' 'indian' 'indian' 'indian' 'indian'\n",
      " 'indian' 'indian' 'indian' 'indian' 'indian' 'indian' 'indian' 'indian'\n",
      " 'indian' 'indian' 'indian' 'indian' 'indian' 'indian' 'indian' 'indian'\n",
      " 'indian' 'indian' 'indian' 'indian' 'indian' 'indian' 'indian' 'indian'\n",
      " 'indian' 'indian' 'indian' 'indian' 'indian' 'indian' 'indian' 'indian'\n",
      " 'indian' 'indian' 'indian' 'indian' 'indian' 'indian' 'indian' 'indian'\n",
      " 'indian' 'indian' 'indian' 'indian' 'indian' 'indian' 'indian' 'indian'\n",
      " 'indian' 'indian' 'indian' 'indian' 'indian' 'indian' 'indian' 'indian'\n",
      " 'indian' 'indian' 'indian' 'indian' 'indian' 'indian' 'indian' 'indian'\n",
      " 'indian' 'indian' 'indian' 'indian' 'indian' 'indian' 'indian' 'indian'\n",
      " 'indian' 'indian' 'indian' 'indian' 'indian' 'indian' 'indian' 'indian'\n",
      " 'indian' 'indian' 'indian' 'indian' 'indian' 'indian' 'indian' 'indian'\n",
      " 'indian' 'indian' 'indian' 'indian' 'indian' 'indian' 'indian' 'indian'\n",
      " 'indian' 'indian' 'indian' 'indian' 'indian' 'indian' 'indian' 'indian'\n",
      " 'indian' 'indian' 'indian' 'indian' 'indian' 'indian' 'indian' 'thai'\n",
      " 'indian' 'thai' 'thai' 'thai' 'thai' 'thai']\n"
     ]
    }
   ],
   "source": [
    "print(\"Cuisine predicted using Adaboost with DecisionTree as base: \", model_new.predict(X_now1))"
   ]
  },
  {
   "cell_type": "code",
   "execution_count": 55,
   "metadata": {},
   "outputs": [
    {
     "name": "stdout",
     "output_type": "stream",
     "text": [
      "Cuisine predicted using Random Forest:  ['indian' 'indian' 'indian' 'indian' 'indian' 'indian' 'indian' 'indian'\n",
      " 'indian' 'indian' 'indian' 'indian' 'indian' 'indian' 'indian' 'indian'\n",
      " 'indian' 'indian' 'indian' 'indian' 'indian' 'indian' 'indian' 'indian'\n",
      " 'indian' 'indian' 'indian' 'indian' 'indian' 'indian' 'indian' 'indian'\n",
      " 'indian' 'indian' 'indian' 'indian' 'indian' 'indian' 'indian' 'indian'\n",
      " 'thai' 'indian' 'indian' 'indian' 'indian' 'indian' 'indian' 'indian'\n",
      " 'indian' 'indian' 'indian' 'indian' 'indian' 'indian' 'indian' 'indian'\n",
      " 'indian' 'indian' 'indian' 'indian' 'indian' 'indian' 'indian' 'indian'\n",
      " 'indian' 'indian' 'indian' 'indian' 'indian' 'indian' 'indian' 'indian'\n",
      " 'indian' 'indian' 'indian' 'indian' 'indian' 'indian' 'indian' 'indian'\n",
      " 'indian' 'indian' 'indian' 'indian' 'indian' 'indian' 'indian' 'indian'\n",
      " 'indian' 'indian' 'indian' 'indian' 'indian' 'indian' 'indian' 'indian'\n",
      " 'indian' 'indian' 'indian' 'indian' 'indian' 'indian' 'indian' 'indian'\n",
      " 'indian' 'indian' 'indian' 'indian' 'indian' 'indian' 'indian' 'indian'\n",
      " 'indian' 'indian' 'indian' 'indian' 'indian' 'indian' 'indian' 'indian'\n",
      " 'indian' 'indian' 'indian' 'indian' 'indian' 'indian' 'indian' 'indian'\n",
      " 'indian' 'indian' 'indian' 'indian' 'indian' 'indian' 'indian' 'indian'\n",
      " 'indian' 'indian' 'indian' 'indian' 'indian' 'indian' 'indian' 'indian'\n",
      " 'indian' 'indian' 'indian' 'indian' 'indian' 'indian' 'indian' 'thai'\n",
      " 'indian' 'thai' 'thai' 'thai' 'thai' 'thai' 'thai' 'thai' 'thai' 'thai'\n",
      " 'thai' 'indian' 'thai' 'thai' 'thai' 'indian' 'thai' 'chinese' 'japanese'\n",
      " 'japanese' 'korean' 'indian' 'indian' 'indian' 'indian' 'indian' 'indian'\n",
      " 'indian' 'indian' 'indian' 'indian' 'indian' 'indian' 'indian' 'indian'\n",
      " 'indian' 'indian' 'indian' 'indian' 'indian' 'indian' 'indian' 'indian'\n",
      " 'indian' 'indian' 'indian' 'indian' 'indian' 'indian' 'indian' 'indian'\n",
      " 'indian' 'indian' 'indian' 'indian' 'indian' 'indian' 'indian' 'indian'\n",
      " 'indian' 'indian' 'indian' 'indian' 'indian' 'indian' 'indian' 'indian'\n",
      " 'indian' 'indian' 'indian' 'indian' 'indian' 'indian' 'indian' 'indian'\n",
      " 'indian' 'indian' 'indian' 'indian' 'indian' 'indian' 'indian' 'indian'\n",
      " 'indian' 'indian' 'indian' 'indian' 'indian' 'indian' 'indian' 'indian'\n",
      " 'indian' 'indian' 'indian' 'indian' 'indian' 'indian' 'indian' 'indian'\n",
      " 'indian' 'indian' 'indian' 'indian' 'indian' 'indian' 'indian' 'indian'\n",
      " 'indian' 'indian' 'indian' 'indian' 'indian' 'indian' 'indian' 'indian'\n",
      " 'indian' 'indian' 'indian' 'indian' 'indian' 'indian' 'indian' 'indian'\n",
      " 'indian' 'indian' 'indian' 'indian' 'indian' 'indian' 'indian' 'indian'\n",
      " 'indian' 'indian' 'indian' 'indian' 'indian' 'indian' 'indian' 'indian'\n",
      " 'indian' 'indian' 'indian' 'indian' 'indian' 'indian' 'indian' 'indian'\n",
      " 'indian' 'indian' 'indian' 'indian' 'indian' 'indian' 'indian' 'indian'\n",
      " 'indian' 'indian' 'indian' 'indian' 'indian' 'indian' 'indian' 'indian'\n",
      " 'indian' 'indian' 'indian' 'indian' 'indian' 'indian' 'indian' 'indian'\n",
      " 'indian' 'indian' 'indian' 'indian' 'indian' 'indian' 'indian' 'indian'\n",
      " 'indian' 'indian' 'indian' 'indian' 'indian' 'indian' 'indian' 'indian'\n",
      " 'indian' 'indian' 'indian' 'indian' 'indian' 'indian' 'indian' 'indian'\n",
      " 'indian' 'indian' 'indian' 'indian' 'indian' 'indian' 'indian' 'indian'\n",
      " 'indian' 'indian' 'indian' 'indian' 'indian' 'indian' 'indian' 'indian'\n",
      " 'indian' 'indian' 'indian' 'indian' 'indian' 'thai' 'indian' 'thai'\n",
      " 'thai' 'thai' 'thai' 'thai']\n"
     ]
    }
   ],
   "source": [
    "print(\"Cuisine predicted using Random Forest: \", ml_1.predict(X_now1))"
   ]
  },
  {
   "cell_type": "markdown",
   "metadata": {},
   "source": [
    "The 3 models gives the results for dishes with cumin, no fish and no soy sauce belong to Indian cuisine."
   ]
  },
  {
   "cell_type": "markdown",
   "metadata": {},
   "source": [
    "By comparing confusion matrix and classification report of the 3 models, it can be seen that even though the accuracy of Naive Bayes model is not as high as the other 2 for the training test, its precision is more stable among classes. The only down point is its low precision of Japanese class. "
   ]
  },
  {
   "cell_type": "code",
   "execution_count": 56,
   "metadata": {},
   "outputs": [
    {
     "name": "stdout",
     "output_type": "stream",
     "text": [
      "Naive Bayes: \n",
      "\n",
      "[[ 77   4   5  13   1]\n",
      " [  0 104   4   2   2]\n",
      " [  5   1  36  12   4]\n",
      " [  7   1  13 141   0]\n",
      " [  2   8   0   0  48]]\n",
      "              precision    recall  f1-score   support\n",
      "\n",
      "     chinese       0.85      0.77      0.81       100\n",
      "      indian       0.88      0.93      0.90       112\n",
      "    japanese       0.62      0.62      0.62        58\n",
      "      korean       0.84      0.87      0.85       162\n",
      "        thai       0.87      0.83      0.85        58\n",
      "\n",
      "    accuracy                           0.83       490\n",
      "   macro avg       0.81      0.80      0.81       490\n",
      "weighted avg       0.83      0.83      0.83       490\n",
      "\n"
     ]
    }
   ],
   "source": [
    "print(\"Naive Bayes: \\n\")\n",
    "print(confusion_matrix(y_test,y_pred))\n",
    "print(classification_report(y_test,y_pred))"
   ]
  },
  {
   "cell_type": "markdown",
   "metadata": {},
   "source": [
    "* a. Tỷ lệ % các công thức món ăn của Nhật Bản được dự đoán chính xác : **62%**\n",
    "* b. Tỷ lệ % các công thức món ăn của Hàn Quốc bị gán sai nhãn thành Nhật Bản : 13/(7+1+13+141) = **8%**\n",
    "* c. Nước nào có tỷ lệ % các công thức món ăn bị gán nhãn sai nhiều nhất : **Nhật Bản**"
   ]
  },
  {
   "cell_type": "code",
   "execution_count": 57,
   "metadata": {},
   "outputs": [
    {
     "name": "stdout",
     "output_type": "stream",
     "text": [
      "AdaBoost: \n",
      "\n",
      "[[ 72   7   4  15   2]\n",
      " [  2 107   0   1   2]\n",
      " [  8   2  31  15   2]\n",
      " [  9   4   8 138   3]\n",
      " [  6   9   1   2  40]]\n",
      "              precision    recall  f1-score   support\n",
      "\n",
      "     chinese       0.74      0.72      0.73       100\n",
      "      indian       0.83      0.96      0.89       112\n",
      "    japanese       0.70      0.53      0.61        58\n",
      "      korean       0.81      0.85      0.83       162\n",
      "        thai       0.82      0.69      0.75        58\n",
      "\n",
      "    accuracy                           0.79       490\n",
      "   macro avg       0.78      0.75      0.76       490\n",
      "weighted avg       0.79      0.79      0.79       490\n",
      "\n"
     ]
    }
   ],
   "source": [
    "print(\"AdaBoost: \\n\")\n",
    "print(confusion_matrix(y_test,y_pred_b))\n",
    "print(classification_report(y_test,y_pred_b))"
   ]
  },
  {
   "cell_type": "markdown",
   "metadata": {},
   "source": [
    "* a. Tỷ lệ % các công thức món ăn của Nhật Bản được dự đoán chính xác : **66%**\n",
    "* b. Tỷ lệ % các công thức món ăn của Hàn Quốc bị gán sai nhãn thành Nhật Bản : 8/(10+5+8+141) = **5%**\n",
    "* c. Nước nào có tỷ lệ % các công thức món ăn bị gán nhãn sai nhiều nhất : **Nhật Bản**"
   ]
  },
  {
   "cell_type": "code",
   "execution_count": 58,
   "metadata": {},
   "outputs": [
    {
     "name": "stdout",
     "output_type": "stream",
     "text": [
      "RandomForest: \n",
      "\n",
      "[[ 79   5   5  10   1]\n",
      " [  2 107   0   1   2]\n",
      " [  6   4  29  16   3]\n",
      " [  8   3   8 143   0]\n",
      " [  4  10   0   2  42]]\n",
      "              precision    recall  f1-score   support\n",
      "\n",
      "     chinese       0.80      0.79      0.79       100\n",
      "      indian       0.83      0.96      0.89       112\n",
      "    japanese       0.69      0.50      0.58        58\n",
      "      korean       0.83      0.88      0.86       162\n",
      "        thai       0.88      0.72      0.79        58\n",
      "\n",
      "    accuracy                           0.82       490\n",
      "   macro avg       0.80      0.77      0.78       490\n",
      "weighted avg       0.81      0.82      0.81       490\n",
      "\n"
     ]
    }
   ],
   "source": [
    "print(\"RandomForest: \\n\")\n",
    "print(confusion_matrix(y_test,y_pred_r))\n",
    "print(classification_report(y_test,y_pred_r))"
   ]
  },
  {
   "cell_type": "markdown",
   "metadata": {},
   "source": [
    "* a. Tỷ lệ % các công thức món ăn của Nhật Bản được dự đoán chính xác : **72%**\n",
    "* b. Tỷ lệ % các công thức món ăn của Hàn Quốc bị gán sai nhãn thành Nhật Bản : 8/(10+3+8+141) = **5%**\n",
    "* c. Nước nào có tỷ lệ % các công thức món ăn bị gán nhãn sai nhiều nhất : **Nhật Bản**"
   ]
  },
  {
   "cell_type": "code",
   "execution_count": null,
   "metadata": {},
   "outputs": [],
   "source": []
  }
 ],
 "metadata": {
  "kernelspec": {
   "display_name": "Python 3",
   "language": "python",
   "name": "python3"
  },
  "language_info": {
   "codemirror_mode": {
    "name": "ipython",
    "version": 3
   },
   "file_extension": ".py",
   "mimetype": "text/x-python",
   "name": "python",
   "nbconvert_exporter": "python",
   "pygments_lexer": "ipython3",
   "version": "3.7.6"
  }
 },
 "nbformat": 4,
 "nbformat_minor": 4
}
