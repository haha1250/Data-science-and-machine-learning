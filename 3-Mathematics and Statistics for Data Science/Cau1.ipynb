{
 "cells": [
  {
   "cell_type": "code",
   "execution_count": 1,
   "metadata": {},
   "outputs": [],
   "source": [
    "import pandas as pd\n",
    "import numpy as np\n",
    "import matplotlib.pyplot as plt\n",
    "import seaborn as sns\n",
    "from numpy.linalg import eig\n",
    "from sklearn.decomposition import PCA"
   ]
  },
  {
   "cell_type": "code",
   "execution_count": 2,
   "metadata": {},
   "outputs": [
    {
     "data": {
      "text/html": [
       "<div>\n",
       "<style scoped>\n",
       "    .dataframe tbody tr th:only-of-type {\n",
       "        vertical-align: middle;\n",
       "    }\n",
       "\n",
       "    .dataframe tbody tr th {\n",
       "        vertical-align: top;\n",
       "    }\n",
       "\n",
       "    .dataframe thead th {\n",
       "        text-align: right;\n",
       "    }\n",
       "</style>\n",
       "<table border=\"1\" class=\"dataframe\">\n",
       "  <thead>\n",
       "    <tr style=\"text-align: right;\">\n",
       "      <th></th>\n",
       "      <th>Age</th>\n",
       "      <th>BMI</th>\n",
       "      <th>Glucose</th>\n",
       "      <th>Insulin</th>\n",
       "      <th>HOMA</th>\n",
       "      <th>Leptin</th>\n",
       "      <th>Adiponectin</th>\n",
       "      <th>Resistin</th>\n",
       "      <th>MCP.1</th>\n",
       "      <th>Classification</th>\n",
       "    </tr>\n",
       "  </thead>\n",
       "  <tbody>\n",
       "    <tr>\n",
       "      <th>0</th>\n",
       "      <td>48</td>\n",
       "      <td>23.500000</td>\n",
       "      <td>70</td>\n",
       "      <td>2.707</td>\n",
       "      <td>0.467409</td>\n",
       "      <td>8.8071</td>\n",
       "      <td>9.702400</td>\n",
       "      <td>7.99585</td>\n",
       "      <td>417.114</td>\n",
       "      <td>1</td>\n",
       "    </tr>\n",
       "    <tr>\n",
       "      <th>1</th>\n",
       "      <td>83</td>\n",
       "      <td>20.690495</td>\n",
       "      <td>92</td>\n",
       "      <td>3.115</td>\n",
       "      <td>0.706897</td>\n",
       "      <td>8.8438</td>\n",
       "      <td>5.429285</td>\n",
       "      <td>4.06405</td>\n",
       "      <td>468.786</td>\n",
       "      <td>1</td>\n",
       "    </tr>\n",
       "    <tr>\n",
       "      <th>2</th>\n",
       "      <td>82</td>\n",
       "      <td>23.124670</td>\n",
       "      <td>91</td>\n",
       "      <td>4.498</td>\n",
       "      <td>1.009651</td>\n",
       "      <td>17.9393</td>\n",
       "      <td>22.432040</td>\n",
       "      <td>9.27715</td>\n",
       "      <td>554.697</td>\n",
       "      <td>1</td>\n",
       "    </tr>\n",
       "    <tr>\n",
       "      <th>3</th>\n",
       "      <td>68</td>\n",
       "      <td>21.367521</td>\n",
       "      <td>77</td>\n",
       "      <td>3.226</td>\n",
       "      <td>0.612725</td>\n",
       "      <td>9.8827</td>\n",
       "      <td>7.169560</td>\n",
       "      <td>12.76600</td>\n",
       "      <td>928.220</td>\n",
       "      <td>1</td>\n",
       "    </tr>\n",
       "    <tr>\n",
       "      <th>4</th>\n",
       "      <td>86</td>\n",
       "      <td>21.111111</td>\n",
       "      <td>92</td>\n",
       "      <td>3.549</td>\n",
       "      <td>0.805386</td>\n",
       "      <td>6.6994</td>\n",
       "      <td>4.819240</td>\n",
       "      <td>10.57635</td>\n",
       "      <td>773.920</td>\n",
       "      <td>1</td>\n",
       "    </tr>\n",
       "  </tbody>\n",
       "</table>\n",
       "</div>"
      ],
      "text/plain": [
       "   Age        BMI  Glucose  Insulin      HOMA   Leptin  Adiponectin  Resistin  \\\n",
       "0   48  23.500000       70    2.707  0.467409   8.8071     9.702400   7.99585   \n",
       "1   83  20.690495       92    3.115  0.706897   8.8438     5.429285   4.06405   \n",
       "2   82  23.124670       91    4.498  1.009651  17.9393    22.432040   9.27715   \n",
       "3   68  21.367521       77    3.226  0.612725   9.8827     7.169560  12.76600   \n",
       "4   86  21.111111       92    3.549  0.805386   6.6994     4.819240  10.57635   \n",
       "\n",
       "     MCP.1  Classification  \n",
       "0  417.114               1  \n",
       "1  468.786               1  \n",
       "2  554.697               1  \n",
       "3  928.220               1  \n",
       "4  773.920               1  "
      ]
     },
     "execution_count": 2,
     "metadata": {},
     "output_type": "execute_result"
    }
   ],
   "source": [
    "data = pd.read_csv(\"./Data/Breast Cancer.csv\")\n",
    "data.head()"
   ]
  },
  {
   "cell_type": "code",
   "execution_count": 3,
   "metadata": {},
   "outputs": [
    {
     "data": {
      "text/plain": [
       "Age               False\n",
       "BMI               False\n",
       "Glucose           False\n",
       "Insulin           False\n",
       "HOMA              False\n",
       "Leptin            False\n",
       "Adiponectin       False\n",
       "Resistin          False\n",
       "MCP.1             False\n",
       "Classification    False\n",
       "dtype: bool"
      ]
     },
     "execution_count": 3,
     "metadata": {},
     "output_type": "execute_result"
    }
   ],
   "source": [
    "data.isnull().any()"
   ]
  },
  {
   "cell_type": "code",
   "execution_count": 4,
   "metadata": {},
   "outputs": [],
   "source": [
    "#1.1Áp dụng PCA để giảm xuống còn k chiều (2 < k)"
   ]
  },
  {
   "cell_type": "code",
   "execution_count": 5,
   "metadata": {},
   "outputs": [
    {
     "data": {
      "image/png": "[encoded data removed]",
      "text/plain": [
       "<Figure size 432x288 with 1 Axes>"
      ]
     },
     "metadata": {
      "needs_background": "light"
     },
     "output_type": "display_data"
    }
   ],
   "source": [
    "#chon k dua tren do thi bieu dien phuong sai tich luy\n",
    "pca = PCA().fit(data)\n",
    "\n",
    "# Vẽ đồ thị biểu diễn % phương sai tích lũy theo số features\n",
    "plt.figure()\n",
    "plt.plot(np.cumsum(pca.explained_variance_ratio_))\n",
    "plt.xlabel('Số lượng features')\n",
    "plt.ylabel('Variance (%)')\n",
    "plt.title('Đồ thị biểu diễn % phương sai tích lũy theo số features')\n",
    "plt.show()"
   ]
  },
  {
   "cell_type": "markdown",
   "metadata": {},
   "source": [
    "Nhận xét:\n",
    "\n",
    "f =  0: giữ lại    0%  phương sai so với dữ liệu gốc\n",
    "\n",
    "f =  1: giữ lại ~ 99.4%  phương sai so với dữ liệu gốc\n",
    "\n",
    "f >  1: giữ lại > 99.4%  phương sai so với dữ liệu gốc\n",
    "\n",
    "f = 9 : giữ lại   100% phương sai so với dữ liệu gốc"
   ]
  },
  {
   "cell_type": "code",
   "execution_count": 6,
   "metadata": {},
   "outputs": [
    {
     "name": "stdout",
     "output_type": "stream",
     "text": [
      "Phân tích chi tiết theo k:\n",
      "   * k =  1 --> phương sai tích lũy 99%\n",
      "- Chuyển vị của ma trận vectơ riêng P_T (1, 10) : \n",
      " [[ 6.41520052e-04  3.25417927e-03  1.73255751e-02  5.09492460e-03\n",
      "   2.74181432e-03  8.09589230e-04 -3.97450515e-03  1.31477784e-02\n",
      "   9.99732971e-01  1.32684806e-04]] \n",
      "\n",
      "- Ma trận trị riêng LAMBDA (1,) : \n",
      " [119719.26694485] \n",
      "\n",
      "   * k =  2 --> phương sai tích lũy 99%\n",
      "- Chuyển vị của ma trận vectơ riêng P_T (2, 10) : \n",
      " [[ 6.41520052e-04  3.25417927e-03  1.73255751e-02  5.09492460e-03\n",
      "   2.74181432e-03  8.09589230e-04 -3.97450515e-03  1.31477784e-02\n",
      "   9.99732971e-01  1.32684806e-04]\n",
      " [ 2.22593289e-01  6.24637494e-02  7.72538436e-01  2.18607833e-01\n",
      "   9.89482805e-02  5.16480377e-01 -3.86208825e-02  1.53512506e-01\n",
      "  -1.77112843e-02  5.60298920e-03]] \n",
      "\n",
      "- Ma trận trị riêng LAMBDA (2,) : \n",
      " [119719.26694485    630.3621429 ] \n",
      "\n",
      "   * k =  3 --> phương sai tích lũy 100%\n",
      "- Chuyển vị của ma trận vectơ riêng P_T (3, 10) : \n",
      " [[ 6.41520052e-04  3.25417927e-03  1.73255751e-02  5.09492460e-03\n",
      "   2.74181432e-03  8.09589230e-04 -3.97450515e-03  1.31477784e-02\n",
      "   9.99732971e-01  1.32684806e-04]\n",
      " [ 2.22593289e-01  6.24637494e-02  7.72538436e-01  2.18607833e-01\n",
      "   9.89482805e-02  5.16480377e-01 -3.86208825e-02  1.53512506e-01\n",
      "  -1.77112843e-02  5.60298920e-03]\n",
      " [-3.49115233e-01  1.45400176e-01 -4.60113761e-01 -1.28712279e-02\n",
      "  -2.72381927e-02  7.90254163e-01  8.59511014e-04  1.40719618e-01\n",
      "   5.37847023e-03 -5.63593193e-03]] \n",
      "\n",
      "- Ma trận trị riêng LAMBDA (3,) : \n",
      " [119719.26694485    630.3621429     297.05139543] \n",
      "\n",
      "   * k =  4 --> phương sai tích lũy 100%\n",
      "- Chuyển vị của ma trận vectơ riêng P_T (4, 10) : \n",
      " [[ 6.41520052e-04  3.25417927e-03  1.73255751e-02  5.09492460e-03\n",
      "   2.74181432e-03  8.09589230e-04 -3.97450515e-03  1.31477784e-02\n",
      "   9.99732971e-01  1.32684806e-04]\n",
      " [ 2.22593289e-01  6.24637494e-02  7.72538436e-01  2.18607833e-01\n",
      "   9.89482805e-02  5.16480377e-01 -3.86208825e-02  1.53512506e-01\n",
      "  -1.77112843e-02  5.60298920e-03]\n",
      " [-3.49115233e-01  1.45400176e-01 -4.60113761e-01 -1.28712279e-02\n",
      "  -2.72381927e-02  7.90254163e-01  8.59511014e-04  1.40719618e-01\n",
      "   5.37847023e-03 -5.63593193e-03]\n",
      " [-8.96558942e-01 -3.69143500e-02  3.37180533e-01  1.53232855e-01\n",
      "   5.18620598e-02 -2.00292975e-01  1.02394618e-01  6.51484888e-02\n",
      "  -6.35972516e-03  8.48498806e-03]] \n",
      "\n",
      "- Ma trận trị riêng LAMBDA (4,) : \n",
      " [119719.26694485    630.3621429     297.05139543    237.25935072] \n",
      "\n",
      "   * k =  5 --> phương sai tích lũy 100%\n",
      "- Chuyển vị của ma trận vectơ riêng P_T (5, 10) : \n",
      " [[ 6.41520052e-04  3.25417927e-03  1.73255751e-02  5.09492460e-03\n",
      "   2.74181432e-03  8.09589230e-04 -3.97450515e-03  1.31477784e-02\n",
      "   9.99732971e-01  1.32684806e-04]\n",
      " [ 2.22593289e-01  6.24637494e-02  7.72538436e-01  2.18607833e-01\n",
      "   9.89482805e-02  5.16480377e-01 -3.86208825e-02  1.53512506e-01\n",
      "  -1.77112843e-02  5.60298920e-03]\n",
      " [-3.49115233e-01  1.45400176e-01 -4.60113761e-01 -1.28712279e-02\n",
      "  -2.72381927e-02  7.90254163e-01  8.59511014e-04  1.40719618e-01\n",
      "   5.37847023e-03 -5.63593193e-03]\n",
      " [-8.96558942e-01 -3.69143500e-02  3.37180533e-01  1.53232855e-01\n",
      "   5.18620598e-02 -2.00292975e-01  1.02394618e-01  6.51484888e-02\n",
      "  -6.35972516e-03  8.48498806e-03]\n",
      " [ 3.90611938e-02 -2.49655646e-02 -2.81775135e-02 -2.06735529e-01\n",
      "  -5.44457241e-02 -1.67915736e-01 -1.68663188e-01  9.45805443e-01\n",
      "  -1.12264880e-02  6.00998045e-03]] \n",
      "\n",
      "- Ma trận trị riêng LAMBDA (5,) : \n",
      " [119719.26694485    630.3621429     297.05139543    237.25935072\n",
      "    120.57399956] \n",
      "\n",
      "   * k =  6 --> phương sai tích lũy 100%\n",
      "- Chuyển vị của ma trận vectơ riêng P_T (6, 10) : \n",
      " [[ 6.41520052e-04  3.25417927e-03  1.73255751e-02  5.09492460e-03\n",
      "   2.74181432e-03  8.09589230e-04 -3.97450515e-03  1.31477784e-02\n",
      "   9.99732971e-01  1.32684806e-04]\n",
      " [ 2.22593289e-01  6.24637494e-02  7.72538436e-01  2.18607833e-01\n",
      "   9.89482805e-02  5.16480377e-01 -3.86208825e-02  1.53512506e-01\n",
      "  -1.77112843e-02  5.60298920e-03]\n",
      " [-3.49115233e-01  1.45400176e-01 -4.60113761e-01 -1.28712279e-02\n",
      "  -2.72381927e-02  7.90254163e-01  8.59511014e-04  1.40719618e-01\n",
      "   5.37847023e-03 -5.63593193e-03]\n",
      " [-8.96558942e-01 -3.69143500e-02  3.37180533e-01  1.53232855e-01\n",
      "   5.18620598e-02 -2.00292975e-01  1.02394618e-01  6.51484888e-02\n",
      "  -6.35972516e-03  8.48498806e-03]\n",
      " [ 3.90611938e-02 -2.49655646e-02 -2.81775135e-02 -2.06735529e-01\n",
      "  -5.44457241e-02 -1.67915736e-01 -1.68663188e-01  9.45805443e-01\n",
      "  -1.12264880e-02  6.00998045e-03]\n",
      " [ 1.03981339e-01 -4.54536208e-02 -2.72644392e-01  8.98970097e-01\n",
      "   2.47307226e-01 -1.12405435e-01 -1.06539319e-02  1.75194896e-01\n",
      "  -2.70953859e-03  5.45021363e-03]] \n",
      "\n",
      "- Ma trận trị riêng LAMBDA (6,) : \n",
      " [1.19719267e+05 6.30362143e+02 2.97051395e+02 2.37259351e+02\n",
      " 1.20574000e+02 7.07834031e+01] \n",
      "\n",
      "   * k =  7 --> phương sai tích lũy 100%\n",
      "- Chuyển vị của ma trận vectơ riêng P_T (7, 10) : \n",
      " [[ 6.41520052e-04  3.25417927e-03  1.73255751e-02  5.09492460e-03\n",
      "   2.74181432e-03  8.09589230e-04 -3.97450515e-03  1.31477784e-02\n",
      "   9.99732971e-01  1.32684806e-04]\n",
      " [ 2.22593289e-01  6.24637494e-02  7.72538436e-01  2.18607833e-01\n",
      "   9.89482805e-02  5.16480377e-01 -3.86208825e-02  1.53512506e-01\n",
      "  -1.77112843e-02  5.60298920e-03]\n",
      " [-3.49115233e-01  1.45400176e-01 -4.60113761e-01 -1.28712279e-02\n",
      "  -2.72381927e-02  7.90254163e-01  8.59511014e-04  1.40719618e-01\n",
      "   5.37847023e-03 -5.63593193e-03]\n",
      " [-8.96558942e-01 -3.69143500e-02  3.37180533e-01  1.53232855e-01\n",
      "   5.18620598e-02 -2.00292975e-01  1.02394618e-01  6.51484888e-02\n",
      "  -6.35972516e-03  8.48498806e-03]\n",
      " [ 3.90611938e-02 -2.49655646e-02 -2.81775135e-02 -2.06735529e-01\n",
      "  -5.44457241e-02 -1.67915736e-01 -1.68663188e-01  9.45805443e-01\n",
      "  -1.12264880e-02  6.00998045e-03]\n",
      " [ 1.03981339e-01 -4.54536208e-02 -2.72644392e-01  8.98970097e-01\n",
      "   2.47307226e-01 -1.12405435e-01 -1.06539319e-02  1.75194896e-01\n",
      "  -2.70953859e-03  5.45021363e-03]\n",
      " [ 1.04006916e-01 -2.60677847e-01 -1.73548634e-02 -4.51192526e-02\n",
      "   7.43903252e-03  5.43633493e-02  9.44060212e-01  1.56892653e-01\n",
      "   2.93750693e-03  2.89018918e-03]] \n",
      "\n",
      "- Ma trận trị riêng LAMBDA (7,) : \n",
      " [1.19719267e+05 6.30362143e+02 2.97051395e+02 2.37259351e+02\n",
      " 1.20574000e+02 7.07834031e+01 4.17150798e+01] \n",
      "\n",
      "   * k =  8 --> phương sai tích lũy 100%\n",
      "- Chuyển vị của ma trận vectơ riêng P_T (8, 10) : \n",
      " [[ 6.41520052e-04  3.25417927e-03  1.73255751e-02  5.09492460e-03\n",
      "   2.74181432e-03  8.09589230e-04 -3.97450515e-03  1.31477784e-02\n",
      "   9.99732971e-01  1.32684806e-04]\n",
      " [ 2.22593289e-01  6.24637494e-02  7.72538436e-01  2.18607833e-01\n",
      "   9.89482805e-02  5.16480377e-01 -3.86208825e-02  1.53512506e-01\n",
      "  -1.77112843e-02  5.60298920e-03]\n",
      " [-3.49115233e-01  1.45400176e-01 -4.60113761e-01 -1.28712279e-02\n",
      "  -2.72381927e-02  7.90254163e-01  8.59511014e-04  1.40719618e-01\n",
      "   5.37847023e-03 -5.63593193e-03]\n",
      " [-8.96558942e-01 -3.69143500e-02  3.37180533e-01  1.53232855e-01\n",
      "   5.18620598e-02 -2.00292975e-01  1.02394618e-01  6.51484888e-02\n",
      "  -6.35972516e-03  8.48498806e-03]\n",
      " [ 3.90611938e-02 -2.49655646e-02 -2.81775135e-02 -2.06735529e-01\n",
      "  -5.44457241e-02 -1.67915736e-01 -1.68663188e-01  9.45805443e-01\n",
      "  -1.12264880e-02  6.00998045e-03]\n",
      " [ 1.03981339e-01 -4.54536208e-02 -2.72644392e-01  8.98970097e-01\n",
      "   2.47307226e-01 -1.12405435e-01 -1.06539319e-02  1.75194896e-01\n",
      "  -2.70953859e-03  5.45021363e-03]\n",
      " [ 1.04006916e-01 -2.60677847e-01 -1.73548634e-02 -4.51192526e-02\n",
      "   7.43903252e-03  5.43633493e-02  9.44060212e-01  1.56892653e-01\n",
      "   2.93750693e-03  2.89018918e-03]\n",
      " [ 3.89624978e-02  9.48358561e-01  1.67747467e-02  3.51717075e-02\n",
      "  -4.51644315e-02 -1.57379211e-01  2.61113638e-01  4.77112119e-02\n",
      "  -2.91766428e-03 -1.75007302e-02]] \n",
      "\n",
      "- Ma trận trị riêng LAMBDA (8,) : \n",
      " [1.19719267e+05 6.30362143e+02 2.97051395e+02 2.37259351e+02\n",
      " 1.20574000e+02 7.07834031e+01 4.17150798e+01 1.31346258e+01] \n",
      "\n",
      "   * k =  9 --> phương sai tích lũy 100%\n",
      "- Chuyển vị của ma trận vectơ riêng P_T (9, 10) : \n",
      " [[ 6.41520052e-04  3.25417927e-03  1.73255751e-02  5.09492460e-03\n",
      "   2.74181432e-03  8.09589230e-04 -3.97450515e-03  1.31477784e-02\n",
      "   9.99732971e-01  1.32684806e-04]\n",
      " [ 2.22593289e-01  6.24637494e-02  7.72538436e-01  2.18607833e-01\n",
      "   9.89482805e-02  5.16480377e-01 -3.86208825e-02  1.53512506e-01\n",
      "  -1.77112843e-02  5.60298920e-03]\n",
      " [-3.49115233e-01  1.45400176e-01 -4.60113761e-01 -1.28712279e-02\n",
      "  -2.72381927e-02  7.90254163e-01  8.59511014e-04  1.40719618e-01\n",
      "   5.37847023e-03 -5.63593193e-03]\n",
      " [-8.96558942e-01 -3.69143500e-02  3.37180533e-01  1.53232855e-01\n",
      "   5.18620598e-02 -2.00292975e-01  1.02394618e-01  6.51484888e-02\n",
      "  -6.35972516e-03  8.48498806e-03]\n",
      " [ 3.90611938e-02 -2.49655646e-02 -2.81775135e-02 -2.06735529e-01\n",
      "  -5.44457241e-02 -1.67915736e-01 -1.68663188e-01  9.45805443e-01\n",
      "  -1.12264880e-02  6.00998045e-03]\n",
      " [ 1.03981339e-01 -4.54536208e-02 -2.72644392e-01  8.98970097e-01\n",
      "   2.47307226e-01 -1.12405435e-01 -1.06539319e-02  1.75194896e-01\n",
      "  -2.70953859e-03  5.45021363e-03]\n",
      " [ 1.04006916e-01 -2.60677847e-01 -1.73548634e-02 -4.51192526e-02\n",
      "   7.43903252e-03  5.43633493e-02  9.44060212e-01  1.56892653e-01\n",
      "   2.93750693e-03  2.89018918e-03]\n",
      " [ 3.89624978e-02  9.48358561e-01  1.67747467e-02  3.51717075e-02\n",
      "  -4.51644315e-02 -1.57379211e-01  2.61113638e-01  4.77112119e-02\n",
      "  -2.91766428e-03 -1.75007302e-02]\n",
      " [-8.56347053e-03  5.21222123e-02 -3.91892893e-02 -2.66624089e-01\n",
      "   9.42438718e-01 -8.60627762e-03 -3.73249152e-03 -4.45583777e-03\n",
      "  -6.34883937e-04 -1.90490796e-01]] \n",
      "\n",
      "- Ma trận trị riêng LAMBDA (9,) : \n",
      " [1.19719267e+05 6.30362143e+02 2.97051395e+02 2.37259351e+02\n",
      " 1.20574000e+02 7.07834031e+01 4.17150798e+01 1.31346258e+01\n",
      " 6.90136629e-01] \n",
      "\n"
     ]
    }
   ],
   "source": [
    "print('Phân tích chi tiết theo k:')\n",
    "for k in range(1, 10):\n",
    "    pca = PCA(k)\n",
    "    pca.fit(data)\n",
    "      \n",
    "    var = pca.explained_variance_ratio_.sum() * 100\n",
    "    print('   * k = %2d' %k, '--> phương sai tích lũy %.0f%%' %var)\n",
    "\n",
    "    # Test - BEGIN\n",
    "    print('- Chuyển vị của ma trận vectơ riêng P_T', pca.components_.shape, ': \\n', \n",
    "                                                     pca.components_, '\\n')\n",
    "    print('- Ma trận trị riêng LAMBDA', pca.explained_variance_.shape, ': \\n', \n",
    "                                        pca.explained_variance_, '\\n')   "
   ]
  },
  {
   "cell_type": "markdown",
   "metadata": {},
   "source": [
    "Nguyên nhân hay cơ sở về số chiều được giảm: chọn k sao cho phương sai tích lũy được giữ lại mang tính đặc trưng so với dữ liệu gốc. Theo phân tích phương sai tích lũy trên thì với k = 2, 100% phương sai tích lũy được giữ lại so với dữ liệu gốc."
   ]
  },
  {
   "cell_type": "code",
   "execution_count": 7,
   "metadata": {},
   "outputs": [
    {
     "data": {
      "text/plain": [
       "array([1.19719267e+05, 6.30362143e+02, 2.97051395e+02, 2.37259351e+02,\n",
       "       1.20574000e+02, 7.07834031e+01, 4.17150798e+01, 1.31346258e+01,\n",
       "       6.90136629e-01])"
      ]
     },
     "execution_count": 7,
     "metadata": {},
     "output_type": "execute_result"
    }
   ],
   "source": [
    "pca.explained_variance_"
   ]
  },
  {
   "cell_type": "code",
   "execution_count": 8,
   "metadata": {},
   "outputs": [
    {
     "data": {
      "text/plain": [
       "array([9.88345332e-01, 5.20397007e-03, 2.45231505e-03, 1.95870037e-03,\n",
       "       9.95401598e-04, 5.84354113e-04, 3.44379860e-04, 1.08433224e-04,\n",
       "       5.69743980e-06])"
      ]
     },
     "execution_count": 8,
     "metadata": {},
     "output_type": "execute_result"
    }
   ],
   "source": [
    "pca.explained_variance_ratio_"
   ]
  },
  {
   "cell_type": "markdown",
   "metadata": {},
   "source": [
    "Dựa trên explained_variance_ratio, có thể thấy được với k=1, độ biến thiên của dữ liệu trước và sau khi giảm chiều gần như tương đương (98%), tiếp đó với k >= 2, độ biến thiên của dữ liệu càng tiến gần 100% so với dữ liệu gốc."
   ]
  },
  {
   "cell_type": "code",
   "execution_count": 9,
   "metadata": {},
   "outputs": [],
   "source": [
    "#1.3 Giam chieu xuong con k=2 va truc quan hoa du lieu"
   ]
  },
  {
   "cell_type": "code",
   "execution_count": 10,
   "metadata": {},
   "outputs": [
    {
     "name": "stdout",
     "output_type": "stream",
     "text": [
      "- Ma trận B_T (116, 2)\n",
      "   Component 1  Component 2\n",
      "0  -118.146799   -33.747671\n",
      "1   -66.126070   -10.358435\n",
      "2    19.768147    -7.549560\n",
      "3   393.026588   -31.560122\n",
      "4   239.018536   -15.048337 \n",
      "\n"
     ]
    },
    {
     "data": {
      "text/plain": [
       "<Figure size 576x432 with 0 Axes>"
      ]
     },
     "metadata": {},
     "output_type": "display_data"
    },
    {
     "data": {
      "image/png": "[encoded data removed]",
      "text/plain": [
       "<Figure size 432x432 with 3 Axes>"
      ]
     },
     "metadata": {
      "needs_background": "light"
     },
     "output_type": "display_data"
    }
   ],
   "source": [
    "k   = 2\n",
    "pca = PCA(k)\n",
    "pca.fit(data)\n",
    "\n",
    "# transform data\n",
    "B = pca.transform(data)\n",
    "print('- Ma trận B_T', B.shape)\n",
    "\n",
    "principalDf = pd.DataFrame(data = B, columns = ['Component 1', 'Component 2'])\n",
    "print(principalDf.head(), '\\n')\n",
    "\n",
    "plt.figure(figsize = (8, 6))\n",
    "sns.jointplot(x = 'Component 1', y = 'Component 2', data = principalDf)              \n",
    "plt.show()"
   ]
  },
  {
   "cell_type": "markdown",
   "metadata": {},
   "source": [
    "Nhận xét: dựa trên biểu đồ trên, ta thấy được có sự tương quan nghịch giữa component 1 và component 2, tập dữ liệu có outliers nằm ở góc phải biểu đồ."
   ]
  },
  {
   "cell_type": "code",
   "execution_count": null,
   "metadata": {},
   "outputs": [],
   "source": []
  }
 ],
 "metadata": {
  "kernelspec": {
   "display_name": "Python 3",
   "language": "python",
   "name": "python3"
  },
  "language_info": {
   "codemirror_mode": {
    "name": "ipython",
    "version": 3
   },
   "file_extension": ".py",
   "mimetype": "text/x-python",
   "name": "python",
   "nbconvert_exporter": "python",
   "pygments_lexer": "ipython3",
   "version": "3.7.6"
  }
 },
 "nbformat": 4,
 "nbformat_minor": 4
}
