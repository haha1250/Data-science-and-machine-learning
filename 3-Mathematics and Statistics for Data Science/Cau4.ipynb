{
 "cells": [
  {
   "cell_type": "code",
   "execution_count": 1,
   "metadata": {},
   "outputs": [],
   "source": [
    "import pandas as pd\n",
    "import numpy as np\n",
    "import matplotlib.pyplot as plt\n",
    "import seaborn as sns\n",
    "from scipy.stats import *\n",
    "import math"
   ]
  },
  {
   "cell_type": "code",
   "execution_count": 2,
   "metadata": {},
   "outputs": [
    {
     "data": {
      "text/html": [
       "<div>\n",
       "<style scoped>\n",
       "    .dataframe tbody tr th:only-of-type {\n",
       "        vertical-align: middle;\n",
       "    }\n",
       "\n",
       "    .dataframe tbody tr th {\n",
       "        vertical-align: top;\n",
       "    }\n",
       "\n",
       "    .dataframe thead th {\n",
       "        text-align: right;\n",
       "    }\n",
       "</style>\n",
       "<table border=\"1\" class=\"dataframe\">\n",
       "  <thead>\n",
       "    <tr style=\"text-align: right;\">\n",
       "      <th></th>\n",
       "      <th>A</th>\n",
       "      <th>B</th>\n",
       "      <th>C</th>\n",
       "      <th>D</th>\n",
       "    </tr>\n",
       "  </thead>\n",
       "  <tbody>\n",
       "    <tr>\n",
       "      <th>0</th>\n",
       "      <td>93</td>\n",
       "      <td>85.0</td>\n",
       "      <td>100.0</td>\n",
       "      <td>96.0</td>\n",
       "    </tr>\n",
       "    <tr>\n",
       "      <th>1</th>\n",
       "      <td>120</td>\n",
       "      <td>45.0</td>\n",
       "      <td>75.0</td>\n",
       "      <td>58.0</td>\n",
       "    </tr>\n",
       "    <tr>\n",
       "      <th>2</th>\n",
       "      <td>65</td>\n",
       "      <td>80.0</td>\n",
       "      <td>65.0</td>\n",
       "      <td>95.0</td>\n",
       "    </tr>\n",
       "    <tr>\n",
       "      <th>3</th>\n",
       "      <td>105</td>\n",
       "      <td>28.0</td>\n",
       "      <td>40.0</td>\n",
       "      <td>90.0</td>\n",
       "    </tr>\n",
       "    <tr>\n",
       "      <th>4</th>\n",
       "      <td>115</td>\n",
       "      <td>75.0</td>\n",
       "      <td>73.0</td>\n",
       "      <td>65.0</td>\n",
       "    </tr>\n",
       "  </tbody>\n",
       "</table>\n",
       "</div>"
      ],
      "text/plain": [
       "     A     B      C     D\n",
       "0   93  85.0  100.0  96.0\n",
       "1  120  45.0   75.0  58.0\n",
       "2   65  80.0   65.0  95.0\n",
       "3  105  28.0   40.0  90.0\n",
       "4  115  75.0   73.0  65.0"
      ]
     },
     "execution_count": 2,
     "metadata": {},
     "output_type": "execute_result"
    }
   ],
   "source": [
    "data = pd.read_csv(\"./Data/One way ANOVA.txt\",sep=\"\\t\")\n",
    "data.head()"
   ]
  },
  {
   "cell_type": "code",
   "execution_count": 3,
   "metadata": {},
   "outputs": [
    {
     "name": "stdout",
     "output_type": "stream",
     "text": [
      "<class 'pandas.core.frame.DataFrame'>\n",
      "RangeIndex: 15 entries, 0 to 14\n",
      "Data columns (total 4 columns):\n",
      "A    15 non-null int64\n",
      "B    10 non-null float64\n",
      "C    12 non-null float64\n",
      "D    9 non-null float64\n",
      "dtypes: float64(3), int64(1)\n",
      "memory usage: 608.0 bytes\n"
     ]
    }
   ],
   "source": [
    "data.info()"
   ]
  },
  {
   "cell_type": "code",
   "execution_count": 4,
   "metadata": {},
   "outputs": [],
   "source": [
    "alpha=0.05"
   ]
  },
  {
   "cell_type": "code",
   "execution_count": 5,
   "metadata": {},
   "outputs": [],
   "source": [
    "#H0: cac quan the co cung gia tri trung binh"
   ]
  },
  {
   "cell_type": "code",
   "execution_count": 6,
   "metadata": {},
   "outputs": [],
   "source": [
    "#cach1 : truyen thong"
   ]
  },
  {
   "cell_type": "code",
   "execution_count": 7,
   "metadata": {},
   "outputs": [],
   "source": [
    "k = len(data.columns)\n",
    "groups = list(data[data.columns])"
   ]
  },
  {
   "cell_type": "code",
   "execution_count": 8,
   "metadata": {},
   "outputs": [],
   "source": [
    "samples = []\n",
    "for j in range(k):\n",
    "    sample = [x for x in data[groups[j]] if pd.notnull(x)]\n",
    "    samples.append(sample)"
   ]
  },
  {
   "cell_type": "code",
   "execution_count": 9,
   "metadata": {},
   "outputs": [
    {
     "data": {
      "text/plain": [
       "[[93, 120, 65, 105, 115, 82, 99, 87, 100, 90, 78, 95, 93, 88, 110],\n",
       " [85.0, 45.0, 80.0, 28.0, 75.0, 70.0, 65.0, 55.0, 50.0, 40.0],\n",
       " [100.0, 75.0, 65.0, 40.0, 73.0, 65.0, 50.0, 30.0, 45.0, 50.0, 45.0, 55.0],\n",
       " [96.0, 58.0, 95.0, 90.0, 65.0, 80.0, 85.0, 95.0, 82.0]]"
      ]
     },
     "execution_count": 9,
     "metadata": {},
     "output_type": "execute_result"
    }
   ],
   "source": [
    "samples"
   ]
  },
  {
   "cell_type": "code",
   "execution_count": 10,
   "metadata": {},
   "outputs": [],
   "source": [
    "sizes = np.zeros(k)\n",
    "for j in range(k): \n",
    "    sizes[j] = np.size(samples[j])"
   ]
  },
  {
   "cell_type": "code",
   "execution_count": 11,
   "metadata": {},
   "outputs": [],
   "source": [
    "means = np.zeros(k)\n",
    "for j in range(k):\n",
    "    means[j] = np.mean(samples[j])"
   ]
  },
  {
   "cell_type": "code",
   "execution_count": 12,
   "metadata": {},
   "outputs": [],
   "source": [
    "meanT = np.mean(means)"
   ]
  },
  {
   "cell_type": "code",
   "execution_count": 13,
   "metadata": {},
   "outputs": [
    {
     "name": "stdout",
     "output_type": "stream",
     "text": [
      "SSB           : 12486.4848\n",
      "dfB           : 3\n"
     ]
    }
   ],
   "source": [
    "SSB = 0\n",
    "for j in range(k):\n",
    "    SSB += sizes[j] * np.power((means[j] - meanT), 2)\n",
    "dfB = (k - 1)\n",
    "print('SSB           : %.4f' %SSB)\n",
    "print('dfB           : %d' %dfB)"
   ]
  },
  {
   "cell_type": "code",
   "execution_count": 14,
   "metadata": {},
   "outputs": [
    {
     "name": "stdout",
     "output_type": "stream",
     "text": [
      "SSW           : 11464.5722\n",
      "dfW           : 42\n"
     ]
    }
   ],
   "source": [
    "SSW = 0\n",
    "for j in range(k):\n",
    "    SSWj = 0\n",
    "    for i in range(int(sizes[j])):\n",
    "        SSWj += np.power(samples[j][i] - means[j], 2)\n",
    "    SSW += SSWj\n",
    "dfW = int(np.sum(sizes) - k)\n",
    "print('SSW           : %.4f' %SSW)\n",
    "print('dfW           : %d' %dfW)"
   ]
  },
  {
   "cell_type": "code",
   "execution_count": 15,
   "metadata": {},
   "outputs": [
    {
     "name": "stdout",
     "output_type": "stream",
     "text": [
      "F statistic   : 15.2479\n"
     ]
    }
   ],
   "source": [
    "# F statistics\n",
    "F = (SSB / dfB) / (SSW / dfW)\n",
    "print('F statistic   : %.4f' %F)"
   ]
  },
  {
   "cell_type": "code",
   "execution_count": 16,
   "metadata": {},
   "outputs": [
    {
     "name": "stdout",
     "output_type": "stream",
     "text": [
      "f-value       : 15.1391\n",
      "p-value       :  7.99057539367343e-07\n"
     ]
    }
   ],
   "source": [
    "#cach 2, su dung ham\n",
    "fvalue, pvalue = stats.f_oneway(samples[0], samples[1], samples[2], samples[3])\n",
    "print('f-value       : %.4f' %fvalue)\n",
    "print('p-value       : ' ,pvalue)"
   ]
  },
  {
   "cell_type": "code",
   "execution_count": 17,
   "metadata": {},
   "outputs": [
    {
     "name": "stdout",
     "output_type": "stream",
     "text": [
      "(p <= 0.05) ==> bác bỏ giả thiết H0: các quần thể có cùng giá trị trung bình.\n"
     ]
    }
   ],
   "source": [
    "if (pvalue > 0.05):\n",
    "    print('(p >  0.05) ==> Không bác bỏ giả thiết H0: các quần thể có cùng giá trị trung bình.')\n",
    "else:\n",
    "    print('(p <= 0.05) ==> bác bỏ giả thiết H0: các quần thể có cùng giá trị trung bình.')"
   ]
  },
  {
   "cell_type": "markdown",
   "metadata": {},
   "source": [
    "Tra bảng F, với df = (3,42), alpha=0.05, giá trị F = 2.827 < F-value ~ 15 => bác bỏ giả thiết các quần thể cùng giá trị trung bình"
   ]
  },
  {
   "cell_type": "code",
   "execution_count": null,
   "metadata": {},
   "outputs": [],
   "source": []
  }
 ],
 "metadata": {
  "kernelspec": {
   "display_name": "Python 3",
   "language": "python",
   "name": "python3"
  },
  "language_info": {
   "codemirror_mode": {
    "name": "ipython",
    "version": 3
   },
   "file_extension": ".py",
   "mimetype": "text/x-python",
   "name": "python",
   "nbconvert_exporter": "python",
   "pygments_lexer": "ipython3",
   "version": "3.7.6"
  }
 },
 "nbformat": 4,
 "nbformat_minor": 4
}
